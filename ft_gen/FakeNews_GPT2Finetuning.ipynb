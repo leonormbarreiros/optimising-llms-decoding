{
  "cells": [
    {
      "cell_type": "markdown",
      "metadata": {
        "id": "StcL7xAs7Vyl"
      },
      "source": [
        "## Fine-Tuning GPT2 with pytorch\n"
      ]
    },
    {
      "cell_type": "markdown",
      "metadata": {
        "id": "UsDRy9SK47Vc"
      },
      "source": [
        "\n",
        "\n",
        "*   Import all necessary libraries\n",
        "\n"
      ]
    },
    {
      "cell_type": "code",
      "execution_count": null,
      "metadata": {
        "colab": {
          "base_uri": "https://localhost:8080/"
        },
        "id": "XCl22QM5-4J1",
        "outputId": "dae26178-94bb-463f-cc11-7dba56d2cb17"
      },
      "outputs": [
        {
          "output_type": "stream",
          "name": "stderr",
          "text": [
            "[nltk_data] Downloading package punkt to /root/nltk_data...\n",
            "[nltk_data]   Unzipping tokenizers/punkt.zip.\n"
          ]
        },
        {
          "output_type": "execute_result",
          "data": {
            "text/plain": [
              "True"
            ]
          },
          "metadata": {},
          "execution_count": 1
        }
      ],
      "source": [
        "import os\n",
        "import time\n",
        "import datetime\n",
        "from google.colab import drive\n",
        "\n",
        "import pandas as pd\n",
        "import seaborn as sns\n",
        "import numpy as np\n",
        "import random\n",
        "\n",
        "import torch\n",
        "from torch.utils.data import Dataset, DataLoader, random_split, RandomSampler, SequentialSampler\n",
        "torch.manual_seed(42)\n",
        "\n",
        "from transformers import GPT2LMHeadModel,  GPT2Tokenizer, GPT2Config, GPT2LMHeadModel\n",
        "from transformers import AdamW, get_linear_schedule_with_warmup\n",
        "\n",
        "import nltk\n",
        "nltk.download('punkt')"
      ]
    },
    {
      "cell_type": "code",
      "execution_count": null,
      "metadata": {
        "colab": {
          "base_uri": "https://localhost:8080/"
        },
        "id": "FaZqhJRz_urs",
        "outputId": "2a138460-9109-46bc-ef3f-657e3493e1f8"
      },
      "outputs": [
        {
          "output_type": "stream",
          "name": "stdout",
          "text": [
            "Requirement already satisfied: transformers in /usr/local/lib/python3.10/dist-packages (4.35.2)\n",
            "Requirement already satisfied: filelock in /usr/local/lib/python3.10/dist-packages (from transformers) (3.13.1)\n",
            "Requirement already satisfied: huggingface-hub<1.0,>=0.16.4 in /usr/local/lib/python3.10/dist-packages (from transformers) (0.19.3)\n",
            "Requirement already satisfied: numpy>=1.17 in /usr/local/lib/python3.10/dist-packages (from transformers) (1.23.5)\n",
            "Requirement already satisfied: packaging>=20.0 in /usr/local/lib/python3.10/dist-packages (from transformers) (23.2)\n",
            "Requirement already satisfied: pyyaml>=5.1 in /usr/local/lib/python3.10/dist-packages (from transformers) (6.0.1)\n",
            "Requirement already satisfied: regex!=2019.12.17 in /usr/local/lib/python3.10/dist-packages (from transformers) (2023.6.3)\n",
            "Requirement already satisfied: requests in /usr/local/lib/python3.10/dist-packages (from transformers) (2.31.0)\n",
            "Requirement already satisfied: tokenizers<0.19,>=0.14 in /usr/local/lib/python3.10/dist-packages (from transformers) (0.15.0)\n",
            "Requirement already satisfied: safetensors>=0.3.1 in /usr/local/lib/python3.10/dist-packages (from transformers) (0.4.0)\n",
            "Requirement already satisfied: tqdm>=4.27 in /usr/local/lib/python3.10/dist-packages (from transformers) (4.66.1)\n",
            "Requirement already satisfied: fsspec>=2023.5.0 in /usr/local/lib/python3.10/dist-packages (from huggingface-hub<1.0,>=0.16.4->transformers) (2023.6.0)\n",
            "Requirement already satisfied: typing-extensions>=3.7.4.3 in /usr/local/lib/python3.10/dist-packages (from huggingface-hub<1.0,>=0.16.4->transformers) (4.5.0)\n",
            "Requirement already satisfied: charset-normalizer<4,>=2 in /usr/local/lib/python3.10/dist-packages (from requests->transformers) (3.3.2)\n",
            "Requirement already satisfied: idna<4,>=2.5 in /usr/local/lib/python3.10/dist-packages (from requests->transformers) (3.4)\n",
            "Requirement already satisfied: urllib3<3,>=1.21.1 in /usr/local/lib/python3.10/dist-packages (from requests->transformers) (2.0.7)\n",
            "Requirement already satisfied: certifi>=2017.4.17 in /usr/local/lib/python3.10/dist-packages (from requests->transformers) (2023.7.22)\n"
          ]
        }
      ],
      "source": [
        "!pip install transformers"
      ]
    },
    {
      "cell_type": "markdown",
      "source": [
        "\n",
        "*   Download 20 news groups using the sklearn library in Python\n",
        "*   Acess the text data and store them in data."
      ],
      "metadata": {
        "id": "if1C74mbA_NY"
      }
    },
    {
      "cell_type": "code",
      "execution_count": null,
      "metadata": {
        "id": "2YtobJp8OSKy"
      },
      "outputs": [],
      "source": [
        "from sklearn.datasets import fetch_20newsgroups\n",
        "\n",
        "# Download the dataset\n",
        "newsgroups_data = fetch_20newsgroups(subset='all')\n",
        "\n",
        "# Access the text data and labels\n",
        "data = newsgroups_data.data"
      ]
    },
    {
      "cell_type": "code",
      "source": [
        "data[0]"
      ],
      "metadata": {
        "colab": {
          "base_uri": "https://localhost:8080/",
          "height": 139
        },
        "id": "zPbaFX60BmS7",
        "outputId": "b82c356f-a85e-45ba-fd4f-930339e02e85"
      },
      "execution_count": null,
      "outputs": [
        {
          "output_type": "execute_result",
          "data": {
            "text/plain": [
              "\"From: Mamatha Devineni Ratnam <mr47+@andrew.cmu.edu>\\nSubject: Pens fans reactions\\nOrganization: Post Office, Carnegie Mellon, Pittsburgh, PA\\nLines: 12\\nNNTP-Posting-Host: po4.andrew.cmu.edu\\n\\n\\n\\nI am sure some bashers of Pens fans are pretty confused about the lack\\nof any kind of posts about the recent Pens massacre of the Devils. Actually,\\nI am  bit puzzled too and a bit relieved. However, I am going to put an end\\nto non-PIttsburghers' relief with a bit of praise for the Pens. Man, they\\nare killing those Devils worse than I thought. Jagr just showed you why\\nhe is much better than his regular season stats. He is also a lot\\nfo fun to watch in the playoffs. Bowman should let JAgr have a lot of\\nfun in the next couple of games since the Pens are going to beat the pulp out of Jersey anyway. I was very disappointed not to see the Islanders lose the final\\nregular season game.          PENS RULE!!!\\n\\n\""
            ],
            "application/vnd.google.colaboratory.intrinsic+json": {
              "type": "string"
            }
          },
          "metadata": {},
          "execution_count": 6
        }
      ]
    },
    {
      "cell_type": "markdown",
      "metadata": {
        "id": "z6kk0tJCIyp1"
      },
      "source": [
        "\n",
        "\n",
        "* Preprocessing the dataset \"data\" to extract the subject  and the message body from each message.\n",
        "* Formating it to a specific structure with the subject followed by a summary indicator ('; TLDR: ') and the message body.\n",
        "\n",
        "\n",
        "\n"
      ]
    },
    {
      "cell_type": "code",
      "execution_count": null,
      "metadata": {
        "id": "UtUmx1KoUaeR"
      },
      "outputs": [],
      "source": [
        "import re\n",
        "\n",
        "newsgroup_messages = []\n",
        "\n",
        "for el in data:\n",
        "  lines = el.split('\\n')\n",
        "\n",
        "  body, subject, element = '', '', ''\n",
        "\n",
        "  for line in lines:\n",
        "    # save the subject\n",
        "    if 'Subject:' in line:\n",
        "      subject = line[len('Subject:') + 1:]\n",
        "\n",
        "    # ignoring other headers\n",
        "    elif len(re.findall(\"^[A-Za-z-_\\.]+:\", line)) != 0:\n",
        "      continue\n",
        "\n",
        "    # save the body\n",
        "    else:\n",
        "      body += line\n",
        "  # input: subject ; TLDR: body\n",
        "  # we put backwards so that the model learns to generate the continuation\n",
        "  element = subject + '; TLDR: ' + body\n",
        "  newsgroup_messages.append(element)\n",
        "\n",
        "data = newsgroup_messages"
      ]
    },
    {
      "cell_type": "code",
      "source": [
        "data[0]"
      ],
      "metadata": {
        "colab": {
          "base_uri": "https://localhost:8080/",
          "height": 104
        },
        "id": "XsrwIiQoByy-",
        "outputId": "31c16eb6-0660-4e2c-da64-a47d37ef7924"
      },
      "execution_count": null,
      "outputs": [
        {
          "output_type": "execute_result",
          "data": {
            "text/plain": [
              "\"Pens fans reactions; TLDR: I am sure some bashers of Pens fans are pretty confused about the lackof any kind of posts about the recent Pens massacre of the Devils. Actually,I am  bit puzzled too and a bit relieved. However, I am going to put an endto non-PIttsburghers' relief with a bit of praise for the Pens. Man, theyare killing those Devils worse than I thought. Jagr just showed you whyhe is much better than his regular season stats. He is also a lotfo fun to watch in the playoffs. Bowman should let JAgr have a lot offun in the next couple of games since the Pens are going to beat the pulp out of Jersey anyway. I was very disappointed not to see the Islanders lose the finalregular season game.          PENS RULE!!!\""
            ],
            "application/vnd.google.colaboratory.intrinsic+json": {
              "type": "string"
            }
          },
          "metadata": {},
          "execution_count": 8
        }
      ]
    },
    {
      "cell_type": "markdown",
      "source": [
        "\n",
        "\n",
        "*   Setting GPT2 Tokenizer\n",
        "\n"
      ],
      "metadata": {
        "id": "rSKYSS9VCib-"
      }
    },
    {
      "cell_type": "code",
      "execution_count": null,
      "metadata": {
        "colab": {
          "base_uri": "https://localhost:8080/",
          "height": 145,
          "referenced_widgets": [
            "fbb3a15167984c5a8c5c97d4ec675836",
            "237c9355c41442a99b791667dbf22d81",
            "05811cba11f2490c94535167351f5162",
            "9b3d9ecb8bfd4eeaba4dd97a9e97da17",
            "f23cbc5871944458a40b8f1e99e2cfd8",
            "d8327252778e4752a6db4fe9e6f801af",
            "f7916523330947d68f3b39a6dd3562a0",
            "a1d6b9a1311747619e94cdd293861c35",
            "ba1a8acc1c6c41a98e4cc8fd5162a5e6",
            "bddac6edc2b244109b95c9d06971c3f3",
            "358fe5182766411a8b97f820afd7c170",
            "0da331f87d1a4e779e928bd2c2764714",
            "8e06e37d5ea34cca868faf943885ab44",
            "b41c17d9c3704a88bb13037e6369bc0d",
            "d553672e206e44f6bf4b951df4d13a06",
            "1e9230dc82934302a5a2a664a4dc4c6b",
            "281debe91d9845dfb5ff29257e22b7a0",
            "58d88e3a8f434f86a92e58fff1e4d11c",
            "175b7ce2c9a649cf874f027191864871",
            "fb87981a031d4d249e3cd80116118fe4",
            "3aae6c696e7d43c4939b9bed63585b3e",
            "8becea0868bb4753b90545ff0100fea8",
            "2694c764d1334e43ab07b48d68429120",
            "5f5b11b5325e492abbc9f798aa251f79",
            "39036b8a44ce45809f4b0a9bf38b0b5c",
            "5bb1e1f9d87b403ab0a6ff68cb50b8b1",
            "3323eb7a66a6418e9b791b395ad4241c",
            "63182da91bda449bb7801662304137e1",
            "d2f7f8bdd0e34ba58222f153f021b26e",
            "abe0f84bb6e644758f95a1af4435d32d",
            "f40e2d7b651c490e9c5329ee277b8473",
            "e63351415b4d40458e9ca180c801eebd",
            "3f0c337369ef4ba9a9b1c0566b08509d",
            "05e4f9556010482192c62932a7d6740b",
            "4c2be4be0fbb41409bd72087951d31a9",
            "e49bf66e73004dd0b735341e8a4aa2c3",
            "78bd14560d9a4addb9df66fe11f31792",
            "30f0f5d6804c4825bbe1e9eb7920e759",
            "821743ff27604dbeb74da8ec24de40b7",
            "70fed5476b8c4d239b06919d5185c6bf",
            "41478856d8c1471587578cae9dc4296e",
            "b1e53ced5413442687a85a7196d98d19",
            "51680a5511b240c98f02754680261ed2",
            "3e404fb047bd4191885bd2a6453810b7"
          ]
        },
        "id": "VT3XBOKF-chW",
        "outputId": "35f58040-e731-4ac5-de5c-f60caa582dd1"
      },
      "outputs": [
        {
          "output_type": "display_data",
          "data": {
            "text/plain": [
              "vocab.json:   0%|          | 0.00/1.04M [00:00<?, ?B/s]"
            ],
            "application/vnd.jupyter.widget-view+json": {
              "version_major": 2,
              "version_minor": 0,
              "model_id": "fbb3a15167984c5a8c5c97d4ec675836"
            }
          },
          "metadata": {}
        },
        {
          "output_type": "display_data",
          "data": {
            "text/plain": [
              "merges.txt:   0%|          | 0.00/456k [00:00<?, ?B/s]"
            ],
            "application/vnd.jupyter.widget-view+json": {
              "version_major": 2,
              "version_minor": 0,
              "model_id": "0da331f87d1a4e779e928bd2c2764714"
            }
          },
          "metadata": {}
        },
        {
          "output_type": "display_data",
          "data": {
            "text/plain": [
              "tokenizer.json:   0%|          | 0.00/1.36M [00:00<?, ?B/s]"
            ],
            "application/vnd.jupyter.widget-view+json": {
              "version_major": 2,
              "version_minor": 0,
              "model_id": "2694c764d1334e43ab07b48d68429120"
            }
          },
          "metadata": {}
        },
        {
          "output_type": "display_data",
          "data": {
            "text/plain": [
              "config.json:   0%|          | 0.00/665 [00:00<?, ?B/s]"
            ],
            "application/vnd.jupyter.widget-view+json": {
              "version_major": 2,
              "version_minor": 0,
              "model_id": "05e4f9556010482192c62932a7d6740b"
            }
          },
          "metadata": {}
        }
      ],
      "source": [
        "tokenizer = GPT2Tokenizer.from_pretrained('gpt2', bos_token='<|startoftext|>', eos_token='<|endoftext|>', pad_token='<|pad|>') #gpt2-medium"
      ]
    },
    {
      "cell_type": "markdown",
      "source": [
        "\n",
        "\n",
        "*   Defining a custom dataset 'GPT2Dataset' for pytorch which will be used for model.\n",
        "\n"
      ],
      "metadata": {
        "id": "lrh3YLrnC0ki"
      }
    },
    {
      "cell_type": "code",
      "execution_count": null,
      "metadata": {
        "id": "n6_c0CJsAPPI"
      },
      "outputs": [],
      "source": [
        "batch_size = 2\n",
        "\n",
        "class GPT2Dataset(Dataset):\n",
        "\n",
        "  def __init__(self, txt_list, tokenizer, gpt2_type=\"gpt2\", max_length=768):\n",
        "\n",
        "    self.tokenizer = tokenizer\n",
        "    self.input_ids = []\n",
        "    self.attn_masks = []\n",
        "\n",
        "    for txt in txt_list:\n",
        "\n",
        "      encodings_dict = tokenizer('<|startoftext|>'+ txt + '<|endoftext|>', truncation=True, max_length=max_length, padding=\"max_length\")\n",
        "\n",
        "      self.input_ids.append(torch.tensor(encodings_dict['input_ids']))\n",
        "      self.attn_masks.append(torch.tensor(encodings_dict['attention_mask']))\n",
        "\n",
        "  def __len__(self):\n",
        "    return len(self.input_ids)\n",
        "\n",
        "  def __getitem__(self, idx):\n",
        "    return self.input_ids[idx], self.attn_masks[idx]\n",
        "\n"
      ]
    },
    {
      "cell_type": "markdown",
      "source": [
        "\n",
        "\n",
        "*   Creating the custom dataset\n",
        "*   Then, dividing this dataset into two parts: Train qnd validation\n",
        "\n",
        "\n"
      ],
      "metadata": {
        "id": "UxxDG48kGLNt"
      }
    },
    {
      "cell_type": "code",
      "execution_count": null,
      "metadata": {
        "colab": {
          "base_uri": "https://localhost:8080/"
        },
        "id": "CDhxFgeFA5nO",
        "outputId": "7d5cb73f-f6e1-4db3-e2fa-f07a2d53d7e8"
      },
      "outputs": [
        {
          "output_type": "stream",
          "name": "stdout",
          "text": [
            "16,961 training samples\n",
            "1,885 validation samples\n"
          ]
        }
      ],
      "source": [
        "dataset = GPT2Dataset(data, tokenizer, max_length=768)\n",
        "\n",
        "# Split into training and validation sets\n",
        "train_size = int(0.9 * len(dataset))\n",
        "val_size = len(dataset) - train_size\n",
        "\n",
        "train_dataset, val_dataset = random_split(dataset, [train_size, val_size])\n",
        "\n",
        "print('{:>5,} training samples'.format(train_size))\n",
        "print('{:>5,} validation samples'.format(val_size))"
      ]
    },
    {
      "cell_type": "markdown",
      "source": [
        "\n",
        "\n",
        "*   Setting up data loaders for training and validation using PyTorch's\n",
        " to efficiently load and process batches of data during training and validation."
      ],
      "metadata": {
        "id": "pdNHXuM_HE4m"
      }
    },
    {
      "cell_type": "code",
      "execution_count": null,
      "metadata": {
        "id": "Nd616F2gBl4V"
      },
      "outputs": [],
      "source": [
        "train_dataloader = DataLoader(\n",
        "            train_dataset,  # The training samples.\n",
        "            sampler = RandomSampler(train_dataset), # Select batches randomly\n",
        "            batch_size = batch_size # Trains with this batch size.\n",
        "        )\n",
        "\n",
        "# For validation the order doesn't matter, so we'll just read them sequentially.\n",
        "validation_dataloader = DataLoader(\n",
        "            val_dataset, # The validation samples.\n",
        "            sampler = SequentialSampler(val_dataset), # Pull out batches sequentially.\n",
        "            batch_size = batch_size # Evaluate with this batch size.\n",
        "        )"
      ]
    },
    {
      "cell_type": "markdown",
      "source": [
        "\n",
        "\n",
        "*    Loading the GPT-2 configuration with pre-trained weights and disables the output of hidden states.\n",
        "*   Initiating GPT2 model using the GPT2LMHeadModel class.\n",
        "*   Resizing the token embeddings of the model to match the vocabulary size of the GPT2 tokenizer (This step is necessary since we added special tokens (bos_token..) to the embeddings, ensuring alignment between the tokenizer and the model)\n",
        "\n",
        "\n",
        "\n"
      ],
      "metadata": {
        "id": "JO5nnHTOHyKX"
      }
    },
    {
      "cell_type": "code",
      "execution_count": null,
      "metadata": {
        "colab": {
          "base_uri": "https://localhost:8080/",
          "height": 81,
          "referenced_widgets": [
            "2d9beb6369434d2fb7ce509378dec3b3",
            "98c8f796c18e435587f911b5d350ba41",
            "75295679c8fc489d9124fdbefdfe4d5b",
            "1383611d3a7f410c8564840647cc5a63",
            "19d6bc43d04147c09af407154d1a3bd3",
            "e3bfe93df3a2478a9cf2a581ad46198d",
            "4ca08c45f75549f38037dc85c7a47c3e",
            "327acd7826454dd0b1560daf50c58f50",
            "09d088c2f51d45a08a93416330caa1b1",
            "a51e036599a3469e83b349c6379f11d2",
            "05fbd0740bd242fb96a2e8b341fcbf2e",
            "90e5b928790d49c39182d6c61912acd8",
            "b4b90d3f455f4d6e87a01d8a5f2b1253",
            "f1b870afa53a4d42be377b445c5738dc",
            "279991c6e5ea4a96ae979c3a7dec7fd6",
            "53efe5fdf43b4bfda2d5524fe7711d20",
            "edf52530092841589b7b627b0323d9d9",
            "886e6d4a3af8455bbbeed7364c0e8be0",
            "f5d3af3ca9e0479cba6bf64c68e0db8b",
            "9219dd892fb14607818ac0f6ae831eb9",
            "1abf59ff3eb644fb80fa87736ac87c5b",
            "9383cd22312b440b833eb82e020035c6"
          ]
        },
        "id": "Td0ULuwADiDY",
        "outputId": "944929ed-6b66-4c94-8d78-7d0103ddfe1e"
      },
      "outputs": [
        {
          "output_type": "display_data",
          "data": {
            "text/plain": [
              "model.safetensors:   0%|          | 0.00/548M [00:00<?, ?B/s]"
            ],
            "application/vnd.jupyter.widget-view+json": {
              "version_major": 2,
              "version_minor": 0,
              "model_id": "2d9beb6369434d2fb7ce509378dec3b3"
            }
          },
          "metadata": {}
        },
        {
          "output_type": "display_data",
          "data": {
            "text/plain": [
              "generation_config.json:   0%|          | 0.00/124 [00:00<?, ?B/s]"
            ],
            "application/vnd.jupyter.widget-view+json": {
              "version_major": 2,
              "version_minor": 0,
              "model_id": "90e5b928790d49c39182d6c61912acd8"
            }
          },
          "metadata": {}
        }
      ],
      "source": [
        "configuration = GPT2Config.from_pretrained('gpt2', output_hidden_states=False)\n",
        "\n",
        "# instantiate the model\n",
        "model = GPT2LMHeadModel.from_pretrained(\"gpt2\", config=configuration)\n",
        "\n",
        "model.resize_token_embeddings(len(tokenizer))\n",
        "\n",
        "device = torch.device(\"cuda\")\n",
        "model.cuda()\n",
        "\n",
        "# Set the seed value all over the place to make this reproducible.\n",
        "seed_val = 42\n",
        "\n",
        "random.seed(seed_val)\n",
        "np.random.seed(seed_val)\n",
        "torch.manual_seed(seed_val)\n",
        "torch.cuda.manual_seed_all(seed_val)"
      ]
    },
    {
      "cell_type": "code",
      "execution_count": null,
      "metadata": {
        "colab": {
          "base_uri": "https://localhost:8080/"
        },
        "id": "xSdIZsF2Drpz",
        "outputId": "42abb0ac-ac77-4db4-ab66-d9adf0dd2ef1"
      },
      "outputs": [
        {
          "output_type": "stream",
          "name": "stderr",
          "text": [
            "/usr/local/lib/python3.10/dist-packages/transformers/optimization.py:411: FutureWarning: This implementation of AdamW is deprecated and will be removed in a future version. Use the PyTorch implementation torch.optim.AdamW instead, or set `no_deprecation_warning=True` to disable this warning\n",
            "  warnings.warn(\n"
          ]
        }
      ],
      "source": [
        "epochs = 5\n",
        "learning_rate = 5e-4\n",
        "warmup_steps = 1e2\n",
        "epsilon = 1e-8\n",
        "\n",
        "# this produces sample output every 100 steps\n",
        "sample_every = 100\n",
        "\n",
        "# Note: AdamW is a class from the huggingface library (as opposed to pytorch)\n",
        "optimizer = AdamW(model.parameters(),\n",
        "                  lr = learning_rate,\n",
        "                  eps = epsilon\n",
        "                )"
      ]
    },
    {
      "cell_type": "code",
      "execution_count": null,
      "metadata": {
        "id": "qGJ34z_rFfkt"
      },
      "outputs": [],
      "source": [
        "# Total number of training steps is [number of batches] x [number of epochs].\n",
        "# (Note that this is not the same as the number of training samples).\n",
        "total_steps = len(train_dataloader) * epochs\n",
        "\n",
        "# Create the learning rate scheduler.\n",
        "# This changes the learning rate as the training loop progresses\n",
        "scheduler = get_linear_schedule_with_warmup(optimizer,\n",
        "                                            num_warmup_steps = warmup_steps,\n",
        "                                            num_training_steps = total_steps)"
      ]
    },
    {
      "cell_type": "code",
      "execution_count": null,
      "metadata": {
        "id": "xN2s7K-XFjnP"
      },
      "outputs": [],
      "source": [
        "def format_time(elapsed):\n",
        "    return str(datetime.timedelta(seconds=int(round((elapsed)))))"
      ]
    },
    {
      "cell_type": "code",
      "execution_count": null,
      "metadata": {
        "colab": {
          "base_uri": "https://localhost:8080/"
        },
        "id": "Hz7cXwNFFrjv",
        "outputId": "236b069a-9ac5-48ee-f6f1-9520e7da3059"
      },
      "outputs": [
        {
          "metadata": {
            "tags": null
          },
          "name": "stdout",
          "output_type": "stream",
          "text": [
            "\n",
            "======== Epoch 1 / 5 ========\n",
            "Training...\n"
          ]
        },
        {
          "metadata": {
            "tags": null
          },
          "name": "stderr",
          "output_type": "stream",
          "text": [
            "The attention mask and the pad token id were not set. As a consequence, you may observe unexpected behavior. Please pass your input's `attention_mask` to obtain reliable results.\n",
            "Setting `pad_token_id` to `eos_token_id`:50256 for open-end generation.\n"
          ]
        },
        {
          "metadata": {
            "tags": null
          },
          "name": "stdout",
          "output_type": "stream",
          "text": [
            "  Batch   100  of  8,481. Loss: 2.3331193923950195.   Elapsed: 0:00:47.\n",
            "0:  bipartisan\" David Samuel Johnson: Why don't we \"mildly agree\" with the \"mild\" version of the Senate bill? Democrat senator: With good reason. There are Republicans who say the Senate bill is not \"too much like it's bad\" Democrat                                                                                                                                             \n"
          ]
        },
        {
          "metadata": {
            "tags": null
          },
          "name": "stderr",
          "output_type": "stream",
          "text": [
            "The attention mask and the pad token id were not set. As a consequence, you may observe unexpected behavior. Please pass your input's `attention_mask` to obtain reliable results.\n",
            "Setting `pad_token_id` to `eos_token_id`:50256 for open-end generation.\n"
          ]
        },
        {
          "metadata": {
            "tags": null
          },
          "name": "stdout",
          "output_type": "stream",
          "text": [
            "  Batch   200  of  8,481. Loss: 1.6101561784744263.   Elapsed: 0:01:38.\n",
            "0:  increasingSophia, the word appears more often in the                                                                                                                                                                                           \n"
          ]
        },
        {
          "metadata": {
            "tags": null
          },
          "name": "stderr",
          "output_type": "stream",
          "text": [
            "The attention mask and the pad token id were not set. As a consequence, you may observe unexpected behavior. Please pass your input's `attention_mask` to obtain reliable results.\n",
            "Setting `pad_token_id` to `eos_token_id`:50256 for open-end generation.\n"
          ]
        },
        {
          "metadata": {
            "tags": null
          },
          "name": "stdout",
          "output_type": "stream",
          "text": [
            "  Batch   300  of  8,481. Loss: 0.8589470386505127.   Elapsed: 0:02:30.\n",
            "0: day\" \"I've been telling the truth.\">\n"
          ]
        },
        {
          "metadata": {
            "tags": null
          },
          "name": "stderr",
          "output_type": "stream",
          "text": [
            "The attention mask and the pad token id were not set. As a consequence, you may observe unexpected behavior. Please pass your input's `attention_mask` to obtain reliable results.\n",
            "Setting `pad_token_id` to `eos_token_id`:50256 for open-end generation.\n"
          ]
        },
        {
          "metadata": {
            "tags": null
          },
          "name": "stdout",
          "output_type": "stream",
          "text": [
            "  Batch   400  of  8,481. Loss: 1.7656397819519043.   Elapsed: 0:03:21.\n",
            "0:  HangThe question of, whether or not your coffee is a caffeinated or not, remains very important, and I hope you may know where you can find the answers. Corbis                                                                                                                                                                  \n"
          ]
        },
        {
          "metadata": {
            "tags": null
          },
          "name": "stderr",
          "output_type": "stream",
          "text": [
            "The attention mask and the pad token id were not set. As a consequence, you may observe unexpected behavior. Please pass your input's `attention_mask` to obtain reliable results.\n",
            "Setting `pad_token_id` to `eos_token_id`:50256 for open-end generation.\n"
          ]
        },
        {
          "metadata": {
            "tags": null
          },
          "name": "stdout",
          "output_type": "stream",
          "text": [
            "  Batch   500  of  8,481. Loss: 3.2488865852355957.   Elapsed: 0:04:14.\n",
            "0:  foodsRe: The sex-scarities of lesbians, gay men and people of various ages; TLDR: In article <C5B2.244792.1231@chm.ucsu.edu> cla2@chm.ucsu.edu (Clayton L.cla2@chm.ucsu.edu) writes:>>It is also well known to me that most lesbians, gay men, and people of various ages are not interested in>>themselves.>>And I am curious to see if there isanything to the theory of sex between one man and one woman,>>even if>>you get a couple of different sex partners, it is not a problem. There's a general principle in life that the wife is to be seen as a friend, not a>>partner. If you think you're a friend, you're not interested in her>in the relationship, you're not a partner.>>There are also different levels\n"
          ]
        },
        {
          "metadata": {
            "tags": null
          },
          "name": "stderr",
          "output_type": "stream",
          "text": [
            "The attention mask and the pad token id were not set. As a consequence, you may observe unexpected behavior. Please pass your input's `attention_mask` to obtain reliable results.\n",
            "Setting `pad_token_id` to `eos_token_id`:50256 for open-end generation.\n"
          ]
        },
        {
          "metadata": {
            "tags": null
          },
          "name": "stdout",
          "output_type": "stream",
          "text": [
            "  Batch   600  of  8,481. Loss: 2.640416383743286.   Elapsed: 0:05:08.\n",
            "0:  trail4DMark2D; TLDR:  I recently took an hour of break from a vacation to do a 4Dmark2D on my computer to take a look at the 3DMark2D.  My 4DMark2D is now as follows.                                                                                                                                                \n"
          ]
        },
        {
          "metadata": {
            "tags": null
          },
          "name": "stderr",
          "output_type": "stream",
          "text": [
            "The attention mask and the pad token id were not set. As a consequence, you may observe unexpected behavior. Please pass your input's `attention_mask` to obtain reliable results.\n",
            "Setting `pad_token_id` to `eos_token_id`:50256 for open-end generation.\n"
          ]
        },
        {
          "metadata": {
            "tags": null
          },
          "name": "stdout",
          "output_type": "stream",
          "text": [
            "  Batch   700  of  8,481. Loss: 1.512508749961853.   Elapsed: 0:06:01.\n",
            "0: intendRe: Can I buy a truck?\"; TLDR: I'm looking at a truck with a good view, a good roof, but not a nice road.  I'm just looking for something very nice to avoid getting a penalty for wasting time on.  I'm also in favour of selling the car at $100,000 to $125,000 if you have a good idea on what you could getfor that price.Regards,Adam\n"
          ]
        },
        {
          "metadata": {
            "tags": null
          },
          "name": "stderr",
          "output_type": "stream",
          "text": [
            "The attention mask and the pad token id were not set. As a consequence, you may observe unexpected behavior. Please pass your input's `attention_mask` to obtain reliable results.\n",
            "Setting `pad_token_id` to `eos_token_id`:50256 for open-end generation.\n"
          ]
        },
        {
          "metadata": {
            "tags": null
          },
          "name": "stdout",
          "output_type": "stream",
          "text": [
            "  Batch   800  of  8,481. Loss: 0.9625633358955383.   Elapsed: 0:06:54.\n",
            "0:  surroundPitchers' Box Set; TLDR: Here's a couple of Pitchers' Box Set.  I know most of you are looking for some sort of a Box Set for a horse or some sort of pitcher that you might like to see.  Please be nice.  Please send questions to:                                                                                                                                      \n"
          ]
        },
        {
          "metadata": {
            "tags": null
          },
          "name": "stderr",
          "output_type": "stream",
          "text": [
            "The attention mask and the pad token id were not set. As a consequence, you may observe unexpected behavior. Please pass your input's `attention_mask` to obtain reliable results.\n",
            "Setting `pad_token_id` to `eos_token_id`:50256 for open-end generation.\n"
          ]
        },
        {
          "metadata": {
            "tags": null
          },
          "name": "stdout",
          "output_type": "stream",
          "text": [
            "  Batch   900  of  8,481. Loss: 0.7314612865447998.   Elapsed: 0:07:48.\n",
            "0:  reflexVGA card with 2 Gb/s, a vGA card without 2 Gb/s?; TLDR: I have a VGA card on my PC.  It's not an VGA card so no issue with the VGA card.  I don't get the problem when looking for a VGA card with 2 Gb/s.  I was asking to buy a graphics card for my VGA card and I had to call our VGA board's manufacturer.  So I bought the following:                                                                                             \n"
          ]
        },
        {
          "metadata": {
            "tags": null
          },
          "name": "stderr",
          "output_type": "stream",
          "text": [
            "The attention mask and the pad token id were not set. As a consequence, you may observe unexpected behavior. Please pass your input's `attention_mask` to obtain reliable results.\n",
            "Setting `pad_token_id` to `eos_token_id`:50256 for open-end generation.\n"
          ]
        },
        {
          "metadata": {
            "tags": null
          },
          "name": "stdout",
          "output_type": "stream",
          "text": [
            "  Batch 1,000  of  8,481. Loss: 0.791670560836792.   Elapsed: 0:08:41.\n",
            "0:  displayWANTED: new xmpt widget; TLDR: I'm interested in getting rid of these awful icons to replace my new XMonos widget.It requires a lot of configuration code.The new widget requires a minimal amount of config file.I am using a Macbased XMonos widget (i.e, the \"new\" widget that appears under your Xmonos widget (when youClick 'Manage widget', not the 'old' widget).The new widget also requires config files.The new widget uses a widget called XMonos.Add-New (which means \"new\") which is available via an ftp application package called Xmpt.NewIconWidget has the added features:The widget uses the standard XMonos widget design (rather than the Monos layout), but it can be animated on a 256 bit color of 4,768x768 by adding a button to the top of its widget.The widget can't use any text, any\n"
          ]
        },
        {
          "metadata": {
            "tags": null
          },
          "name": "stderr",
          "output_type": "stream",
          "text": [
            "The attention mask and the pad token id were not set. As a consequence, you may observe unexpected behavior. Please pass your input's `attention_mask` to obtain reliable results.\n",
            "Setting `pad_token_id` to `eos_token_id`:50256 for open-end generation.\n"
          ]
        },
        {
          "metadata": {
            "tags": null
          },
          "name": "stdout",
          "output_type": "stream",
          "text": [
            "  Batch 1,100  of  8,481. Loss: 0.9872322678565979.   Elapsed: 0:09:34.\n",
            "0:  pastorI got a lot of callsfrom people saying, 'Please tell them what I am doing wrong, it's really bad.'It just took me awhileto come to terms with the situation. I didn't get any sort of message. In fact, it seems like my opinions have no bearing on what I'm doing wrong.    This is a newsflash for the entire community, but what I want to say is that, given how I'mgoing, what else we should do is be careful about.    That being said, the media is far more than 'dealing with the facts' and we need to stay as close to the truth as possible.      I'm a fool,and I don't intend to be the next one to do so.--Robert A. Murray                                  \n"
          ]
        },
        {
          "metadata": {
            "tags": null
          },
          "name": "stderr",
          "output_type": "stream",
          "text": [
            "The attention mask and the pad token id were not set. As a consequence, you may observe unexpected behavior. Please pass your input's `attention_mask` to obtain reliable results.\n",
            "Setting `pad_token_id` to `eos_token_id`:50256 for open-end generation.\n"
          ]
        },
        {
          "metadata": {
            "tags": null
          },
          "name": "stdout",
          "output_type": "stream",
          "text": [
            "  Batch 1,200  of  8,481. Loss: 0.8078813552856445.   Elapsed: 0:10:27.\n",
            "0:  illicitNew Study Outline Recommendations; TLDR: I just got the latest version of a new research paper for Widget and WordPerfect.  This has been done in two parts. One is an open-source project by David Bamberger, an author of Widget and WordPerfect on Motif.  The second part of the study was a multi-center study that has been available for free on the net since June.  The paper is very brief.  The paper is based on the research of one Professor of Physics, Dr. John W., who recently developed a new algorithm for measuring the density of the human body.  The author writes:>  >This article is an introduction to Widget, a new language. It's written in fullscreen mode, with the same design, and> it's got a few bug fixes and some improvements.  However, it's not a good paper, because in every way it is possible to make Widget a\n"
          ]
        },
        {
          "metadata": {
            "tags": null
          },
          "name": "stderr",
          "output_type": "stream",
          "text": [
            "The attention mask and the pad token id were not set. As a consequence, you may observe unexpected behavior. Please pass your input's `attention_mask` to obtain reliable results.\n",
            "Setting `pad_token_id` to `eos_token_id`:50256 for open-end generation.\n"
          ]
        },
        {
          "metadata": {
            "tags": null
          },
          "name": "stdout",
          "output_type": "stream",
          "text": [
            "  Batch 1,300  of  8,481. Loss: 1.3582797050476074.   Elapsed: 0:11:21.\n",
            "0:  LiberationRe: Radar detector for radio detector?; TLDR: In article <1993Apr3.174423.21515@netcom.com> pao@netcom.com (Pao Bo) writes:>If you have a radio detector capable of detecting rad energy, it'll work fine for you and>you could live in great conditions with no radiation damage.  You should>remember that rad is not a secret weapon, so even if there is a small>area of radiation, you can hardly live in radiation protection (if you>can live with radiation damage, you can hardly live>with radiation damage) if you are exposed to an energy source that is stronger than your own.  The radiation>you would have to avoid if you lived on Earth would probably never>cause you radiation death.  (Or if you were, say, sick from radiation sickness or radiation>death, you would have no problem breathing in the radiation.)   I don\n"
          ]
        },
        {
          "metadata": {
            "tags": null
          },
          "name": "stderr",
          "output_type": "stream",
          "text": [
            "The attention mask and the pad token id were not set. As a consequence, you may observe unexpected behavior. Please pass your input's `attention_mask` to obtain reliable results.\n",
            "Setting `pad_token_id` to `eos_token_id`:50256 for open-end generation.\n"
          ]
        },
        {
          "metadata": {
            "tags": null
          },
          "name": "stdout",
          "output_type": "stream",
          "text": [
            "  Batch 1,400  of  8,481. Loss: 2.2668039798736572.   Elapsed: 0:12:15.\n",
            "0:  NamRe: Vandalizing the sky.; TLDR: In article <1993Apr20.004725.5349@yale.ac.za>, lprchriss@yale.ac.za (Jon Schatzriss) writes:> Does anyone out there have any good ideas about the way around, from the> sky above our house to the sky below?    > Do you know where to get rid of any dust, but do not worry...    >...Well, yes, but it takes a good look at the sky to find the most> beautiful things about it (unlike the sun itself, which we have no idea where to>do except to look at the sky).  In fact, the sky below is almost exclusively covered by dust.  If there is dust or dust covering the sky,  >there is no way that we can get rid of the phenomenon.    >I'd like to discuss this\n"
          ]
        },
        {
          "metadata": {
            "tags": null
          },
          "name": "stderr",
          "output_type": "stream",
          "text": [
            "The attention mask and the pad token id were not set. As a consequence, you may observe unexpected behavior. Please pass your input's `attention_mask` to obtain reliable results.\n",
            "Setting `pad_token_id` to `eos_token_id`:50256 for open-end generation.\n"
          ]
        },
        {
          "metadata": {
            "tags": null
          },
          "name": "stdout",
          "output_type": "stream",
          "text": [
            "  Batch 1,500  of  8,481. Loss: 1.5797613859176636.   Elapsed: 0:13:08.\n",
            "0: IONRe: Why is Clinton so angry at Russia?; TLDR: In article <1rINJ4g02$7v@pcm.cc.utexas.edu> n2e@utexas.edu (Norman N. Nes) writes:>In article <1rINJ4g02$7v@Pcm.cc.utexas.edu> nues@utexas.edu (Nelson Nes) writes:>>>>> >>>> >>>> I'm also wondering why Clinton did the same thing to the Russian government in the Russian Communist Union>> >> >> >>>> >>>>   > >>>>> >|> >>>> >>>>> >>> >>>> >>>> >>>> >> >>> >>>> >>>>>> >>> >>>>>> >>>> >> >>>>>>>> > >|> >>>> >>>>>> >>>> >>>> >> >>>> >>>>>>>> > >>>> >>>>\n"
          ]
        },
        {
          "metadata": {
            "tags": null
          },
          "name": "stderr",
          "output_type": "stream",
          "text": [
            "The attention mask and the pad token id were not set. As a consequence, you may observe unexpected behavior. Please pass your input's `attention_mask` to obtain reliable results.\n",
            "Setting `pad_token_id` to `eos_token_id`:50256 for open-end generation.\n"
          ]
        },
        {
          "metadata": {
            "tags": null
          },
          "name": "stdout",
          "output_type": "stream",
          "text": [
            "  Batch 1,600  of  8,481. Loss: 0.8688152432441711.   Elapsed: 0:14:02.\n",
            "0:  glimpseRe: Clipper on disk encryption (was Re: Clipper on disk encryption); TLDR: The consensus of the public-domain cryptography community is that it should be supported as part of the Clipper standard (at least for the first 3-5 years, if not for the next).  Since the Clipper standardis only available through a single server, Clipper can be used as an encryption standard.\tThe proposal would allow users to either decrypt or copy encrypted data without using one of several secure escrow facilities to provide secure key escrow.\tClipper is based on the algorithm behind the anonymous protocol, called the DES (pronounced \"Sig\").  Although DES does not address general purpose functionality, it provides one important feature that many experts have noticed:It is possible for users to program Clipper on a single server with a single host.\tThe protocol, currently implemented with the SGI chip on a SunOS 4.2 machine, uses the Intel chipon\n"
          ]
        },
        {
          "metadata": {
            "tags": null
          },
          "name": "stderr",
          "output_type": "stream",
          "text": [
            "The attention mask and the pad token id were not set. As a consequence, you may observe unexpected behavior. Please pass your input's `attention_mask` to obtain reliable results.\n",
            "Setting `pad_token_id` to `eos_token_id`:50256 for open-end generation.\n"
          ]
        },
        {
          "metadata": {
            "tags": null
          },
          "name": "stdout",
          "output_type": "stream",
          "text": [
            "  Batch 1,700  of  8,481. Loss: 0.666046679019928.   Elapsed: 0:14:55.\n",
            "0:  LaureRe: \"Bolt and Laserwriter; TLDR: In article <1993Apr20.183639.22055@hcr.hcr.hp.com> khoefer@hcr.hcr.hp.com (Kihselman) writes:>> >GONE MY E-MAIL Address, HELP! I'm looking for a good email address and I'm interested in>some information on the history of laserwriter technology.>You could send me your name and address, it's easy as>email is still very reliable in the USA.>I'll send you some information on this to your friend or colleague who has a laserwriter.>\t\t\t\t\t\t\t\t\t\t\t\t\tPOWER, MASS. POWER, LIGHTNING, A.M. POWER, A.M., A.M. A. MASS, MASS, A.M. A.MASS, A.M.,\n"
          ]
        },
        {
          "metadata": {
            "tags": null
          },
          "name": "stderr",
          "output_type": "stream",
          "text": [
            "The attention mask and the pad token id were not set. As a consequence, you may observe unexpected behavior. Please pass your input's `attention_mask` to obtain reliable results.\n",
            "Setting `pad_token_id` to `eos_token_id`:50256 for open-end generation.\n"
          ]
        },
        {
          "metadata": {
            "tags": null
          },
          "name": "stdout",
          "output_type": "stream",
          "text": [
            "  Batch 1,800  of  8,481. Loss: 2.63169264793396.   Elapsed: 0:15:48.\n",
            "0: ismRe: WARNING..... (was Re: WARNING.....); TLDR: In article <1993Apr20.002318.1144@optilink.COM> khalid@optilink.COM (Khalid A. Khalid) writes:>>In article <jul5.735205049.6357@optilink.COM>, irish@optilink.COM (Irish A. Irish) writes:>>>In article <strnlghtINN5.73515209568@seawolf.se> nelson@seawolf.se (Robert Nelson) writes:>>><<If one thinks it can be stopped, I can> >><<If one thinks it can be made, I can> >>>>>>>Well, you can't have been killed, at least not a very safe>>>>> >>>>>>>Yes, it is a \"safe\" way to get the \"poisoned\" >>>>>>>>\n"
          ]
        },
        {
          "metadata": {
            "tags": null
          },
          "name": "stderr",
          "output_type": "stream",
          "text": [
            "The attention mask and the pad token id were not set. As a consequence, you may observe unexpected behavior. Please pass your input's `attention_mask` to obtain reliable results.\n",
            "Setting `pad_token_id` to `eos_token_id`:50256 for open-end generation.\n"
          ]
        },
        {
          "metadata": {
            "tags": null
          },
          "name": "stdout",
          "output_type": "stream",
          "text": [
            "  Batch 1,900  of  8,481. Loss: 1.9244948625564575.   Elapsed: 0:16:41.\n",
            "0: ounRe: How do I get rid of the X Window?; TLDR: In article <sandvik-3523@dsincolina.desy.de>, sandvik@dsincolina.desy.de writes:> > I have a question:> What can I do to remove the X11window from my screen (if I> can)? Is there a utility available that> can do this??I have a little help for Windows 7.1:>> > Can anybody out there explain how to remove the X11window from my> desktop windows?  Just give me a description of what you've got going on.  And don't even bother.> Does anyone know of a utility that would let me do that?I need any help.> > Thanks,Dan.>Dan\n"
          ]
        },
        {
          "metadata": {
            "tags": null
          },
          "name": "stderr",
          "output_type": "stream",
          "text": [
            "The attention mask and the pad token id were not set. As a consequence, you may observe unexpected behavior. Please pass your input's `attention_mask` to obtain reliable results.\n",
            "Setting `pad_token_id` to `eos_token_id`:50256 for open-end generation.\n"
          ]
        },
        {
          "metadata": {
            "tags": null
          },
          "name": "stdout",
          "output_type": "stream",
          "text": [
            "  Batch 2,000  of  8,481. Loss: 1.2325732707977295.   Elapsed: 0:17:35.\n",
            "0:  electionRe: Israeli Terrorism: A Message for you Mr. President:  Do not let your religion or moral system define your thinking.  Israel is not, or should not be, a state.  The only reason for Israel's existence is the Holocaust.  How do you know that?  Do you understand what a Holocaust is?  How much the Israeli government wants to push out of the Occupied areas?  Do you think that when an Israeli official tells the American peoplethat the US would \"make the best\" deal with the Nazis, the people in the US would probably say that the Nazis should not be allowed to live in the US? (The US is still Nazi-friendly, just like Nazi-friendly countries are!  If they wanted to kill people from other countries who would be shot at and killed, then they would have done better - wouldn't that be easier with America if the US became a free country??           \n"
          ]
        },
        {
          "metadata": {
            "tags": null
          },
          "name": "stderr",
          "output_type": "stream",
          "text": [
            "The attention mask and the pad token id were not set. As a consequence, you may observe unexpected behavior. Please pass your input's `attention_mask` to obtain reliable results.\n",
            "Setting `pad_token_id` to `eos_token_id`:50256 for open-end generation.\n"
          ]
        },
        {
          "metadata": {
            "tags": null
          },
          "name": "stdout",
          "output_type": "stream",
          "text": [
            "  Batch 2,100  of  8,481. Loss: 2.3066961765289307.   Elapsed: 0:18:28.\n",
            "0:  crazyRe: Xt widget: make a widget?; TLDR: In article <1993Apr18.151115.22548@rutgers.edu> dale@rutgers.edu (Doug W. Lee) writes:>I want to build a Xt widget in Windows and>I need a Xt widget that will handle the window. (I don't>yet know the type of widget you need.)>I used Xt, and it gives me a nice horizontal and a full view with the widget>that I want to use the application. What I do>is just set a window.  The widget should be a window and display the content of the >application. The Xt widget will tell Xt what you want todo, but the program doesn't know what is going on.I want a Xt widget in Windows.  My application is going to be the window and displays a setof text with a message message. \n"
          ]
        },
        {
          "metadata": {
            "tags": null
          },
          "name": "stderr",
          "output_type": "stream",
          "text": [
            "The attention mask and the pad token id were not set. As a consequence, you may observe unexpected behavior. Please pass your input's `attention_mask` to obtain reliable results.\n",
            "Setting `pad_token_id` to `eos_token_id`:50256 for open-end generation.\n"
          ]
        },
        {
          "metadata": {
            "tags": null
          },
          "name": "stdout",
          "output_type": "stream",
          "text": [
            "  Batch 2,200  of  8,481. Loss: 0.8850703835487366.   Elapsed: 0:19:21.\n",
            "0:  benchRe: Homosexuality in Christianity; TLDR: nr1@mantis.demon.co.uk (Richard N. Ryan) writes:>You may be able to find this in alt.atheism, but the>Christianity of today is not the one that most Christians believe in>to be the one that most of us would like to see in the>world.  (This includes in some detail their claim that >they have yet to see God in the real world, if that makes much difference, >and>will certainly be difficult.)  And>I find this rather difficult to believe.I find it more difficult to believe, too.>Just look at that statement, but it's still hard enough for me to accept it.  Or>even>what if you have a real objection to this point?>I am inclined to think of homosexuality as someone's \"natural\">conversion to God, but I find>that very difficult to\n"
          ]
        },
        {
          "metadata": {
            "tags": null
          },
          "name": "stderr",
          "output_type": "stream",
          "text": [
            "The attention mask and the pad token id were not set. As a consequence, you may observe unexpected behavior. Please pass your input's `attention_mask` to obtain reliable results.\n",
            "Setting `pad_token_id` to `eos_token_id`:50256 for open-end generation.\n"
          ]
        },
        {
          "metadata": {
            "tags": null
          },
          "name": "stdout",
          "output_type": "stream",
          "text": [
            "  Batch 2,300  of  8,481. Loss: 1.2777246236801147.   Elapsed: 0:20:14.\n",
            "0:  incorporatedRe: Screw the people, crypto is for hard-core hackers only; TLDR: dcochran@lcs.duke.edu (Dave Cochran) writes:>I have an Amiga PC (ATI486 or later) of mine.  My question is how does someone>find a backdoor.  How will I find>a cryptosystem on them.  Please let me know if anyone had any idea who>will run you at that point or if you know where you're at.>Dave and I would like to be able to use your services in an e-mail.  Can I>request an Amiga/ATI486 product, for the price of 50% of the company>dcochran@lcs.duke.edu.au?  Thanks in advance.>Dave, you can do whatever you want for a buck, of course, and>don't bother with the trade-offs.  But\n"
          ]
        },
        {
          "metadata": {
            "tags": null
          },
          "name": "stderr",
          "output_type": "stream",
          "text": [
            "The attention mask and the pad token id were not set. As a consequence, you may observe unexpected behavior. Please pass your input's `attention_mask` to obtain reliable results.\n",
            "Setting `pad_token_id` to `eos_token_id`:50256 for open-end generation.\n"
          ]
        },
        {
          "metadata": {
            "tags": null
          },
          "name": "stdout",
          "output_type": "stream",
          "text": [
            "  Batch 2,400  of  8,481. Loss: 1.2001137733459473.   Elapsed: 0:21:08.\n",
            "0: PeterRe: REPOST: Amusing atheists and Jews to think that Jesus Christ died?; TLDR: > I just read this thread and the post seems to me to be an attempt to make some kind of comment that I am sure has nothing to do with the Christian religion.> I am trying to clarify in a way.  My response to this is that it's a very confusing topic.I have found that this has always puzzled me.  In a way, it just seems to me that if I were to take the role of the human being, what would Jesus do?  I don't have any clue as to what Jesus would do.  If I are to take the role of being Christ, I just have to look through my experience with the people.  I would have to look at people for that very small thing in their heart that I can use.  In a way, I don't see the post being confusing things.  However, I am still trying\n"
          ]
        },
        {
          "metadata": {
            "tags": null
          },
          "name": "stderr",
          "output_type": "stream",
          "text": [
            "The attention mask and the pad token id were not set. As a consequence, you may observe unexpected behavior. Please pass your input's `attention_mask` to obtain reliable results.\n",
            "Setting `pad_token_id` to `eos_token_id`:50256 for open-end generation.\n"
          ]
        },
        {
          "metadata": {
            "tags": null
          },
          "name": "stdout",
          "output_type": "stream",
          "text": [
            "  Batch 2,500  of  8,481. Loss: 0.4314447045326233.   Elapsed: 0:22:01.\n",
            "0: uringRe: Israeli Expansion II (Was Re: The Jewish People); TLDR: I'm going to put a bit of context here: In article <919.93Apr21.2326.27463@sandvik-bedfellow-day> bhakal@sandvik-bedfellow-day (Brett Johnson) writes:>In article <1993Apr22.071718.19144@access.digex.net>, jbrown@access.digex.com (James Brown) writes:>>This would involve a whole lot more effort to build>a fence.  Itwould include a number of sites (mainly Israeli) where you>would have lots of potential enemy contact on land owned by Jews or>Jews who are citizens of the region, or who are affiliated with them.I would appreciate a closer examination of this than this one: a) Would you go to the Israeli Government to find>out what kinds of materials are\n"
          ]
        },
        {
          "metadata": {
            "tags": null
          },
          "name": "stderr",
          "output_type": "stream",
          "text": [
            "The attention mask and the pad token id were not set. As a consequence, you may observe unexpected behavior. Please pass your input's `attention_mask` to obtain reliable results.\n",
            "Setting `pad_token_id` to `eos_token_id`:50256 for open-end generation.\n"
          ]
        },
        {
          "metadata": {
            "tags": null
          },
          "name": "stdout",
          "output_type": "stream",
          "text": [
            "  Batch 2,600  of  8,481. Loss: 0.9731635451316833.   Elapsed: 0:22:55.\n",
            "0:  reproductiveRe: How do they spell, what do they sound like?; TLDR: In article <2v5.2e3c.e5@dnsc5.cco.purdue.edu>, sti@cco.purdue.edu (Tim R Smith) writes:>>Would you like a quote from the old saying that the word \"Christianity\"> is simply>common?>>Absolutely.  The Bible is a reference, and so is the world.  They say that Jesus is>receiving this \"Christianity\", and so is the world.  I believe that this is a>common misconception, and would be great fun to follow up on here.  Just wondering.\t\t\t\t\t\t\t\t\t\t\t\t\t\t\t\t\t\t\t\t\t\t\t\t\t\t\t\t\t\t\t\t\t\t\t\t\t\t\t\t\t\t\t\t\t\t\t\t\t\t\t\t\n"
          ]
        },
        {
          "metadata": {
            "tags": null
          },
          "name": "stderr",
          "output_type": "stream",
          "text": [
            "The attention mask and the pad token id were not set. As a consequence, you may observe unexpected behavior. Please pass your input's `attention_mask` to obtain reliable results.\n",
            "Setting `pad_token_id` to `eos_token_id`:50256 for open-end generation.\n"
          ]
        },
        {
          "metadata": {
            "tags": null
          },
          "name": "stdout",
          "output_type": "stream",
          "text": [
            "  Batch 2,700  of  8,481. Loss: 0.473941445350647.   Elapsed: 0:23:48.\n",
            "0:  zoneRe: Good advice for kids!; TLDR: In article <1993Apr23.164418.14301@uxh.uxh.edu>, gtd597@uxh.uxh.edu (George T. Dyer) writes:>>My advice is:>> I'll read all the comments about the \"child abuse\" problems in>> your post and I can say that you know that there are many> of you in which there are very few issues that will affect you personally.>>So I'm going to get to the point about child molestation issues in>>you.  I mean, I don't really care if you have a problem with that>>child, it's okay to step up to your wife and say you have an issue with that.>>I understand that you think that you're a little paranoid and there's probably a lot of>>child abuse in the U.S. but I don't think that that's really an issue.\n"
          ]
        },
        {
          "metadata": {
            "tags": null
          },
          "name": "stderr",
          "output_type": "stream",
          "text": [
            "The attention mask and the pad token id were not set. As a consequence, you may observe unexpected behavior. Please pass your input's `attention_mask` to obtain reliable results.\n",
            "Setting `pad_token_id` to `eos_token_id`:50256 for open-end generation.\n"
          ]
        },
        {
          "metadata": {
            "tags": null
          },
          "name": "stdout",
          "output_type": "stream",
          "text": [
            "  Batch 2,800  of  8,481. Loss: 1.4539425373077393.   Elapsed: 0:24:41.\n",
            "0:  commitsRe: Why can't we give atheists and agnostics the exact number of days?; TLDR: In article <1993Apr20.143613.6436@athos.rutgers.edu> dhartung@athos.rutgers.edu (David Hartung) writes:>This question, of course, always leads me to find a way to answer>question. I know the answer is, of course, I can't believe that the>source of that question can give any more details than>the date, nor can I conclude the answer>can only be determined by the time.  This is not>a \"religious\" question:>I can be certain that the source was the time. I have no idea how>the question comes, only what.>>I think we can answer that question if we trust what God does in>our life. (We can>have as much as we wish to believe, and that>is\n"
          ]
        },
        {
          "metadata": {
            "tags": null
          },
          "name": "stderr",
          "output_type": "stream",
          "text": [
            "The attention mask and the pad token id were not set. As a consequence, you may observe unexpected behavior. Please pass your input's `attention_mask` to obtain reliable results.\n",
            "Setting `pad_token_id` to `eos_token_id`:50256 for open-end generation.\n"
          ]
        },
        {
          "metadata": {
            "tags": null
          },
          "name": "stdout",
          "output_type": "stream",
          "text": [
            "  Batch 2,900  of  8,481. Loss: 1.3486438989639282.   Elapsed: 0:25:34.\n",
            "0:  ironyRe: Why is it that I rarely read sci.space?; TLDR: In article <C5qpC7L4B.EJ@access.digex.net> rjr1993@access.digex.net (Brent J. Ryan) writes:>> In article <C5sG.F7B@news.cso.uiuc.edu> prabhak@uxa.cso.uiuc.edu (Satya Prabhakar)>>       writes:>> > In article <C5sFpB@news.cso.uiuc.edu> prabhak@uxa.cso.uiuc.edu (Satya Prabhakar)>> >>     writes:>>>> >> I was just thinking why not just read sci.space in the evenings.>> >> >             \n"
          ]
        },
        {
          "metadata": {
            "tags": null
          },
          "name": "stderr",
          "output_type": "stream",
          "text": [
            "The attention mask and the pad token id were not set. As a consequence, you may observe unexpected behavior. Please pass your input's `attention_mask` to obtain reliable results.\n",
            "Setting `pad_token_id` to `eos_token_id`:50256 for open-end generation.\n"
          ]
        },
        {
          "metadata": {
            "tags": null
          },
          "name": "stdout",
          "output_type": "stream",
          "text": [
            "  Batch 3,000  of  8,481. Loss: 1.4298584461212158.   Elapsed: 0:26:28.\n",
            "0:  SahRe: Can't handle X windows on windows??; TLDR: In article <1qi4gINNk3s@army.army.mil> jem@army.army.mil (Josh Lembo) writes:>>We all know it must be a problem that X windows>needs only the special help when using X under >commandments. What is a special X window? If anyone has a program>that is doing it, please let me know.>>>>-Josh Lembo>>We all know. Can anyone give a clue, why?I haven't tried using X undercommandments on windows.  Any other clues were lost.>Thanks,>Josh Lembo and Steve                                  \n"
          ]
        },
        {
          "metadata": {
            "tags": null
          },
          "name": "stderr",
          "output_type": "stream",
          "text": [
            "The attention mask and the pad token id were not set. As a consequence, you may observe unexpected behavior. Please pass your input's `attention_mask` to obtain reliable results.\n",
            "Setting `pad_token_id` to `eos_token_id`:50256 for open-end generation.\n"
          ]
        },
        {
          "metadata": {
            "tags": null
          },
          "name": "stdout",
          "output_type": "stream",
          "text": [
            "  Batch 3,100  of  8,481. Loss: 0.9182637929916382.   Elapsed: 0:27:22.\n",
            "0:  BryanRe: XV 3.0 and Imake/PostScript 1.2; TLDR: cri@mwm.hcf.mwm.com (Mark Cri) writes:>In article <C5HrF.9s@news.cso.uiuc.edu>, chris@uiuc.edu (Chris S. Davis) writes:>>In a previous article, ndhamil@ee.cs.laurentian.ca (Mark Cri) says:>> >Mark> >I will assume that you will agree. That is, you>> >will see.  You just look at the first part on this, and>> >will see.  I'll just explain why:>>>>It has been explained how you just \"need an>option for Imake/PostScript 1.2 to be uploaded to the net.  If you don't want>them for the first release, you will have to wait\n"
          ]
        },
        {
          "metadata": {
            "tags": null
          },
          "name": "stderr",
          "output_type": "stream",
          "text": [
            "The attention mask and the pad token id were not set. As a consequence, you may observe unexpected behavior. Please pass your input's `attention_mask` to obtain reliable results.\n",
            "Setting `pad_token_id` to `eos_token_id`:50256 for open-end generation.\n"
          ]
        },
        {
          "metadata": {
            "tags": null
          },
          "name": "stdout",
          "output_type": "stream",
          "text": [
            "  Batch 3,200  of  8,481. Loss: 1.7477363348007202.   Elapsed: 0:28:15.\n",
            "0:  spiritsRe: Death and Taxes -- $1B (was Re: The U.S. Bank *No* *Greed*...); TLDR: >>>The basic idea is that the U.S. should have $4B in taxes on the private sector... >>>It's all about keeping up the \"blue line\"...>>>This is NOT the \"blue line\".  It's about keeping up the blue line and>> keeping up the red line...>>>This has been the basic goal of most of the US governments since the US>>>came into power.  But I wonder if many of the US would benefit from taking>>$1B in taxes>>>on the private sector.  >>>The U.S. is, of, the only country in the European Union which>>would benefit financially from taking in>>>Greed>>>while receiving income and interest from those at the bottom of the income distribution.>>The U.S. has a very weak economy (though it certainly\n"
          ]
        },
        {
          "metadata": {
            "tags": null
          },
          "name": "stderr",
          "output_type": "stream",
          "text": [
            "The attention mask and the pad token id were not set. As a consequence, you may observe unexpected behavior. Please pass your input's `attention_mask` to obtain reliable results.\n",
            "Setting `pad_token_id` to `eos_token_id`:50256 for open-end generation.\n"
          ]
        },
        {
          "metadata": {
            "tags": null
          },
          "name": "stdout",
          "output_type": "stream",
          "text": [
            "  Batch 3,300  of  8,481. Loss: 2.038980722427368.   Elapsed: 0:29:09.\n",
            "0:  seesRe: After 2000 years, can we say that Christian Morality is; TLDR: In article <1993Apr18.150605.18758@eagle.sbc.com> jlevine@eagle.sbc.com (Jody Levine) writes:>In article <C5Jx.Aw@news.cso.uiuc.edu> scott@uxa.cso.uiuc.edu (Kent Scott) writes:>>|> I guess the Christian community has a right to bear arms if necessary for>|> Christianity, but what will be the consequences of such a state if state>|> no longer exists?  If I read a recent article about a new atheist's state or>|> any other such matter, I'm not sure.  If the two scenarios were>|> different, the consequences might not apply, but they might be.  Thus, the current state of >|> Christianity will\n"
          ]
        },
        {
          "metadata": {
            "tags": null
          },
          "name": "stderr",
          "output_type": "stream",
          "text": [
            "The attention mask and the pad token id were not set. As a consequence, you may observe unexpected behavior. Please pass your input's `attention_mask` to obtain reliable results.\n",
            "Setting `pad_token_id` to `eos_token_id`:50256 for open-end generation.\n"
          ]
        },
        {
          "metadata": {
            "tags": null
          },
          "name": "stdout",
          "output_type": "stream",
          "text": [
            "  Batch 3,400  of  8,481. Loss: 1.0236936807632446.   Elapsed: 0:30:02.\n",
            "0:  hungryRe: Help! How to convert the RGB files to 24X color or display?; TLDR: In article <1993May12.190512.15273@hpc.hpc.com> pjs@hpc.hpc.com (Perry Johnson) writes:>I have a utility I want to convert between formats to X-window.>I need to convert the following formats:>4.00\t 256 color>2.00\t multisync color>5.00 (or 24X or 24-bit) 256 color>11.00 (or 16X or 24-bit) Multi-Color>11.1 (or 16X color) 256 color>7.30 (or 32X or 32-bit) Multi-Color>11.2 (or 32X color) 32 color>7.5 (or 32X color) 16 color>>8.00 (or 32X color) 32 colors>9.\n"
          ]
        },
        {
          "metadata": {
            "tags": null
          },
          "name": "stderr",
          "output_type": "stream",
          "text": [
            "The attention mask and the pad token id were not set. As a consequence, you may observe unexpected behavior. Please pass your input's `attention_mask` to obtain reliable results.\n",
            "Setting `pad_token_id` to `eos_token_id`:50256 for open-end generation.\n"
          ]
        },
        {
          "metadata": {
            "tags": null
          },
          "name": "stdout",
          "output_type": "stream",
          "text": [
            "  Batch 3,500  of  8,481. Loss: 1.706333041191101.   Elapsed: 0:30:56.\n",
            "0:  PTRe: Jewish Baseball Players?; TLDR: In article <C5oIJ.2D@magnus.acs.ohio-state.edu> phall@eoserv.ohio-state.edu writes:> > On a regular basis, the San Jose community has had an effect> on the Jewish community by keeping the team down> for more than four years.> >>Well, you're right, yes and no.  What's happening is a> significant thing, that's why every team has had their day.  You do not have time, or energy> to sit around waiting for our daily baseball game that may or may not be in the> future.  You just have to remind the Sharks and Mets to follow> into the future, and get them in the habit of watching our> football games this week.  But what if the Sharks and Mets play at home games this year?> If that is true, what kind of\n"
          ]
        },
        {
          "metadata": {
            "tags": null
          },
          "name": "stderr",
          "output_type": "stream",
          "text": [
            "The attention mask and the pad token id were not set. As a consequence, you may observe unexpected behavior. Please pass your input's `attention_mask` to obtain reliable results.\n",
            "Setting `pad_token_id` to `eos_token_id`:50256 for open-end generation.\n"
          ]
        },
        {
          "metadata": {
            "tags": null
          },
          "name": "stdout",
          "output_type": "stream",
          "text": [
            "  Batch 3,600  of  8,481. Loss: 1.4993140697479248.   Elapsed: 0:31:49.\n",
            "0: üRe: WARNING.....(please read)...; TLDR: In article <C5IBF.1pqF@midway.uchicago.edu> c4vf@midway.uchicago.edu (David J. Simchik) writes:>I just read some newspaper and can't figure out which>is what I need to report?                                                                                                                            \n"
          ]
        },
        {
          "metadata": {
            "tags": null
          },
          "name": "stderr",
          "output_type": "stream",
          "text": [
            "The attention mask and the pad token id were not set. As a consequence, you may observe unexpected behavior. Please pass your input's `attention_mask` to obtain reliable results.\n",
            "Setting `pad_token_id` to `eos_token_id`:50256 for open-end generation.\n"
          ]
        },
        {
          "metadata": {
            "tags": null
          },
          "name": "stdout",
          "output_type": "stream",
          "text": [
            "  Batch 3,700  of  8,481. Loss: 1.3952494859695435.   Elapsed: 0:32:43.\n",
            "0: ruceRe: After 2000 years, can we say that Christian Morality is; TLDR: In article <1993Apr13.171652.6109@dskrtp.dsk.es.com> ab4e@dskrtp.dsk.es.com (Andrew J. DeMers) writes:>In article <1rg7q6INNm9@unibs.isc-br.isc-br.com> kmz2@unibs.isc-br.com (Keith M Kozierok) writes:>>Does anyone know why the U of Oklahoma had an open debate on>the same issues when it was first discovered?  What I'm wondering is, >whether the University of Oklahoma in Oklahoma >had a open debate on whether this is true, or does it>take far more than 2 years for a government to be open to the>other side?  I have never even heard of open\n"
          ]
        },
        {
          "metadata": {
            "tags": null
          },
          "name": "stderr",
          "output_type": "stream",
          "text": [
            "The attention mask and the pad token id were not set. As a consequence, you may observe unexpected behavior. Please pass your input's `attention_mask` to obtain reliable results.\n",
            "Setting `pad_token_id` to `eos_token_id`:50256 for open-end generation.\n"
          ]
        },
        {
          "metadata": {
            "tags": null
          },
          "name": "stdout",
          "output_type": "stream",
          "text": [
            "  Batch 3,800  of  8,481. Loss: 1.003367304801941.   Elapsed: 0:33:36.\n",
            "0:  derivativesRe: Atheists and Hell; TLDR: >And that's my point.  A lot of people have made accusations about the hell>of Hell.>The only people who are accused of hell are those atheists, who probably feel>pain, and people who are not atheists.>But even if the Hell is blamed for you, maybe you can>just say it: if I did this experiment, I don't know what Hell is.  Hell>is the end of the discussion, but here I want to ask, should there>only be Hell?>I don't think Hell is a hell, at all.  Hell can exist for some time.  Hell exists onlyfor someone who is not real- life. Hell is nothell.\n"
          ]
        },
        {
          "metadata": {
            "tags": null
          },
          "name": "stderr",
          "output_type": "stream",
          "text": [
            "The attention mask and the pad token id were not set. As a consequence, you may observe unexpected behavior. Please pass your input's `attention_mask` to obtain reliable results.\n",
            "Setting `pad_token_id` to `eos_token_id`:50256 for open-end generation.\n"
          ]
        },
        {
          "metadata": {
            "tags": null
          },
          "name": "stdout",
          "output_type": "stream",
          "text": [
            "  Batch 3,900  of  8,481. Loss: 1.1647886037826538.   Elapsed: 0:34:29.\n",
            "0: \u0019Re: Freedom and the Right to Ride; TLDR: In article <1993Apr28.205536.11287@yuma.ACNS.ColoState.EDU> wwq@colostate.Colostate.EDU (Steven Quang) writes:>>\tThere's never been a freedom for no one to carry handguns.  As a matter of practice, we have>>seen that all other forms of expression have been rejected.  For example, you've got to use the word>>perpetual to mean different kinds of expression.  If I'm going to enforce the law, how>>is there any right to carry handguns when we enforce our constitution?There's also no right to express different kinds of expression in a way that you can think of.  Your right in life isn't protected by law, and yourright is protected by the Constitution.-- ----------------------------------------------------------------------------Gordon Banks  N3JXP  N3JXP  \n"
          ]
        },
        {
          "metadata": {
            "tags": null
          },
          "name": "stderr",
          "output_type": "stream",
          "text": [
            "The attention mask and the pad token id were not set. As a consequence, you may observe unexpected behavior. Please pass your input's `attention_mask` to obtain reliable results.\n",
            "Setting `pad_token_id` to `eos_token_id`:50256 for open-end generation.\n"
          ]
        },
        {
          "metadata": {
            "tags": null
          },
          "name": "stdout",
          "output_type": "stream",
          "text": [
            "  Batch 4,000  of  8,481. Loss: 1.821948766708374.   Elapsed: 0:35:22.\n",
            "0:  rememberingRe: Good VHS; TLDR: In article <12791@optilink.COM>, mssC5xI2.L@optilink.COM (Michael S. Moss) writes:>There are a number of reasons you could be accused of downloading>of video files from a tapefile or a hardcopy. A.  I find it>unfathomable to hear it being used in this newsgroup>without an excuse, to generate a video disk. B.  I think it is>trivial in this group to know a tapefile, without>an excuse. C.  While I disagree with someone on this question>on whether one should receive a videotape, what about how>you should be accused of downloading>of video files? If I don't know if I should be>judge, then I can understand why someone would make a movie>(not to be sarcastic or otherwise) for a tapefile.\n"
          ]
        },
        {
          "metadata": {
            "tags": null
          },
          "name": "stderr",
          "output_type": "stream",
          "text": [
            "The attention mask and the pad token id were not set. As a consequence, you may observe unexpected behavior. Please pass your input's `attention_mask` to obtain reliable results.\n",
            "Setting `pad_token_id` to `eos_token_id`:50256 for open-end generation.\n"
          ]
        },
        {
          "metadata": {
            "tags": null
          },
          "name": "stdout",
          "output_type": "stream",
          "text": [
            "  Batch 4,100  of  8,481. Loss: 0.9849088788032532.   Elapsed: 0:36:16.\n",
            "0:  SourcesRe: Is MSG sensitivity superstition?; TLDR: In article <peneirrh7.735095@cronkite.Central.Sun.COM> peneirrh7@Central.Sun.COM (Peter Deneirr) writes:>I personally think that the 'blindly influenced' MSG-depleting 'bada's' would>probably be the most effective way to prevent the production of MSG >from being excreased.  I personally would>be interested in knowing what kinds of \"feedback\" you eat this>as a treatment>because, from my experience, MSG is available >in the U.S. as well (e.g. food additives, MSG>tobacco products).As mentioned, one can only eat foods from the very minimum dosage (1 week)of MSG by taking 20mg/day, one can only get a dose of MSG by eating food additives (e.g.\n"
          ]
        },
        {
          "metadata": {
            "tags": null
          },
          "name": "stderr",
          "output_type": "stream",
          "text": [
            "The attention mask and the pad token id were not set. As a consequence, you may observe unexpected behavior. Please pass your input's `attention_mask` to obtain reliable results.\n",
            "Setting `pad_token_id` to `eos_token_id`:50256 for open-end generation.\n"
          ]
        },
        {
          "metadata": {
            "tags": null
          },
          "name": "stdout",
          "output_type": "stream",
          "text": [
            "  Batch 4,200  of  8,481. Loss: 0.5319507718086243.   Elapsed: 0:37:09.\n",
            "0: emsRe: What WAS THE POPE?; TLDR: In <C60AvC1z.B7q@news.cso.uiuc.edu> dmn@andrew.cmu.edu (Danny Mochbach) writes:> >I'd be a lot more proud if the POPE had an earthenware box that was *a* >different size from the one I think it has, and the *pizza* box  with the >tapeshell and the logo and the \"pizza\" box with the logo  (and the box with the >tapeshell.  A nice addition, but the *POPE* box is very old>and needs replacing every other year because the last year or so I was >looking through it.> >Danny Mochbach@andrew.cmu.edu> >I thought I just thought the best (and I'm quite glad to say I don't think\n"
          ]
        },
        {
          "metadata": {
            "tags": null
          },
          "name": "stderr",
          "output_type": "stream",
          "text": [
            "The attention mask and the pad token id were not set. As a consequence, you may observe unexpected behavior. Please pass your input's `attention_mask` to obtain reliable results.\n",
            "Setting `pad_token_id` to `eos_token_id`:50256 for open-end generation.\n"
          ]
        },
        {
          "metadata": {
            "tags": null
          },
          "name": "stdout",
          "output_type": "stream",
          "text": [
            "  Batch 4,300  of  8,481. Loss: 1.8847922086715698.   Elapsed: 0:38:03.\n",
            "0: tzRe: Burden of Proof; TLDR: In article <1993Apr19.051711.21249@magnus.acs.ohio-state.edu> davet@magnus.acs.ohio-state.edu (David E. Turner) writes:>>Hello,>>How do you reconcile the argument for proof (you have a hard time>> with my explanation). What is a proof (gives up>>a bunch of answers)?  I know>that you have a lot of problems with proofs. (It is not>impossible)If you try to reconcile your definition and your claims, then the consequences will not beapproximately consistent. You claim that you were not, if you were not, a liar. Are you going to give a bunch of answers that you get? Your proof was presented to me (the same poster who made no attempt to reconcile me withyour answer). There is nothing in evidence thatwould contradict\n"
          ]
        },
        {
          "metadata": {
            "tags": null
          },
          "name": "stderr",
          "output_type": "stream",
          "text": [
            "The attention mask and the pad token id were not set. As a consequence, you may observe unexpected behavior. Please pass your input's `attention_mask` to obtain reliable results.\n",
            "Setting `pad_token_id` to `eos_token_id`:50256 for open-end generation.\n"
          ]
        },
        {
          "metadata": {
            "tags": null
          },
          "name": "stdout",
          "output_type": "stream",
          "text": [
            "  Batch 4,400  of  8,481. Loss: 2.4805774688720703.   Elapsed: 0:38:57.\n",
            "0: maticRe: Why don't we give them $1 each???; TLDR: In article <1r7t7eINNa4g@mrc.com> roby@mrc.com (Scott W Roby) writes:>                                                                                                                                                    \n"
          ]
        },
        {
          "metadata": {
            "tags": null
          },
          "name": "stderr",
          "output_type": "stream",
          "text": [
            "The attention mask and the pad token id were not set. As a consequence, you may observe unexpected behavior. Please pass your input's `attention_mask` to obtain reliable results.\n",
            "Setting `pad_token_id` to `eos_token_id`:50256 for open-end generation.\n"
          ]
        },
        {
          "metadata": {
            "tags": null
          },
          "name": "stdout",
          "output_type": "stream",
          "text": [
            "  Batch 4,500  of  8,481. Loss: 1.7933197021484375.   Elapsed: 0:39:51.\n",
            "0:  syndRe: The arrogance of Christians (Acts 7:33-39); TLDR: In article <1993Apr20.17171543.2.7@cs.uky.edu> prb@cs.uky.edu (Pat) writes:>In article <1rqnc$4j@pica.army.mil> prb@cs.uky.edu (Pat) writes:>>>In article <1993Apr20.212532.4pio@f1.army.mil> prb@cs.uky.edu (Pat) writes:>>>>I saw this remark from Peter 3:33-39, which says:>>>\"If Peter had lived long enough to die, and given the>>>pastime a little knowledge, he would not be so arrogant as it is now:>>>>>>>>>If Peter had lived long enough to die, we should expect him to live longer:>> >>\n"
          ]
        },
        {
          "metadata": {
            "tags": null
          },
          "name": "stderr",
          "output_type": "stream",
          "text": [
            "The attention mask and the pad token id were not set. As a consequence, you may observe unexpected behavior. Please pass your input's `attention_mask` to obtain reliable results.\n",
            "Setting `pad_token_id` to `eos_token_id`:50256 for open-end generation.\n"
          ]
        },
        {
          "metadata": {
            "tags": null
          },
          "name": "stdout",
          "output_type": "stream",
          "text": [
            "  Batch 4,600  of  8,481. Loss: 0.5837135910987854.   Elapsed: 0:40:44.\n",
            "0:  gamRe: Space Mining in the Solar System?; TLDR: In article <1993Apr22.142834.17391@microsoft.com>, gengle@microsoft.com writes:> I was wondering if anyone knows if any of the major solar system,> and earth, had some mineral resources and asteroids> on the moon.> Thanks in advance in advance.> >                                                                                                                        \n"
          ]
        },
        {
          "metadata": {
            "tags": null
          },
          "name": "stderr",
          "output_type": "stream",
          "text": [
            "The attention mask and the pad token id were not set. As a consequence, you may observe unexpected behavior. Please pass your input's `attention_mask` to obtain reliable results.\n",
            "Setting `pad_token_id` to `eos_token_id`:50256 for open-end generation.\n"
          ]
        },
        {
          "metadata": {
            "tags": null
          },
          "name": "stdout",
          "output_type": "stream",
          "text": [
            "  Batch 4,700  of  8,481. Loss: 1.495841145515442.   Elapsed: 0:41:38.\n",
            "0:  injuryRe: New Study Out On Gay Percentage; TLDR: In article <1993Apr27.023626.15366@geneva.rutgers.edu> pkent@cleveland.Freenet.Edu (Peter Karentinelli) writes:>>   > I'm trying to find a study of American homosexuality to see if> >homosexuality is one of the two major types of sexual deviant behaviour.  The study I am currently working on contains the same data, but with nohomosexuals and no homosexuals.>    Do you have any evidence against this or any other study?  I am sure I did find it.  Is the study useful for a research paper, or would it be useful to provide me with someinformation?      Please send me at jrutgers.edu or call and ask me for the article.         Thanks in advance>\n"
          ]
        },
        {
          "metadata": {
            "tags": null
          },
          "name": "stderr",
          "output_type": "stream",
          "text": [
            "The attention mask and the pad token id were not set. As a consequence, you may observe unexpected behavior. Please pass your input's `attention_mask` to obtain reliable results.\n",
            "Setting `pad_token_id` to `eos_token_id`:50256 for open-end generation.\n"
          ]
        },
        {
          "metadata": {
            "tags": null
          },
          "name": "stdout",
          "output_type": "stream",
          "text": [
            "  Batch 4,800  of  8,481. Loss: 1.8968596458435059.   Elapsed: 0:42:31.\n",
            "0: azaRe: What do Nuclear waste look like.; TLDR: In article <1r0t8b$9f@transfer.strnl.fi> cdt@sw.strnl.fi (C.D.O.W.F.) writes:>I found your article about the purpose of converting uranium to fuel was>wrong, and it was really simple, but disgusting.  The purpose of>being able to do this is to use fuel as a>reactionary fuel when the fuel is being pumped into the fuel pump,>either directly or indirectly.  The fuel pump is a big>engine with 2 cylinders and a drill to grind and grind it into.  The pump then sucks in>a third of this fuel fuel and releases it, thus eliminating the need for it>to fuel and re-heat it (the oil pump is NOT going to need much more heat). I guessyou mean, I guess.  I guess I mean the metal\n"
          ]
        },
        {
          "metadata": {
            "tags": null
          },
          "name": "stderr",
          "output_type": "stream",
          "text": [
            "The attention mask and the pad token id were not set. As a consequence, you may observe unexpected behavior. Please pass your input's `attention_mask` to obtain reliable results.\n",
            "Setting `pad_token_id` to `eos_token_id`:50256 for open-end generation.\n"
          ]
        },
        {
          "metadata": {
            "tags": null
          },
          "name": "stdout",
          "output_type": "stream",
          "text": [
            "  Batch 4,900  of  8,481. Loss: 1.699834942817688.   Elapsed: 0:43:25.\n",
            "0:  membraneRe: Challenge to Microsoft supporters.; TLDR: In article <1ql5gINN2dINNf6@cnsvax.uwec.edu>, egreen@cnsvax.uwec.edu (Eric Green) writes:|> In article <1993Apr23.041301.29353@compuserve.com> egreen@compuserve.com (Eric Green) writes:|> >|> In article <1993Apr23.043426.24256@compuserve.com> egreen@compuserve.com (Ericgreen) writes:|> >|> >|> I believe that you should use DOS 6.0 with the win32 driver for|> >|> >|> >|> >Windows, because it adds \"interrupts for low frequency connections\"|> |> >|> >|> >|> >|> >|\n"
          ]
        },
        {
          "metadata": {
            "tags": null
          },
          "name": "stderr",
          "output_type": "stream",
          "text": [
            "The attention mask and the pad token id were not set. As a consequence, you may observe unexpected behavior. Please pass your input's `attention_mask` to obtain reliable results.\n",
            "Setting `pad_token_id` to `eos_token_id`:50256 for open-end generation.\n"
          ]
        },
        {
          "metadata": {
            "tags": null
          },
          "name": "stdout",
          "output_type": "stream",
          "text": [
            "  Batch 5,000  of  8,481. Loss: 1.5735491514205933.   Elapsed: 0:44:20.\n",
            "0: ijingRe: Is MSG sensitivity superstition?; TLDR:  <1993Apr23.053435.1907@voderox>In article <1993Apr23.093435.1978@voderox> jsh@voderox (Jim Shippett) writes:>Actually, I have a question - have you had any good reactions to MSG>since you said that you're not really being careful to its effects on>people's health?  What about what your doctor said?  What other>scientific things?  > >My question to you, Jim, is MSG sensitivity superstition?  >I've only had one positive reaction >to MSG, although some of the symptoms seem to be >true.> >I believe that there's some kind of chemical in MSG, in that the>sensors make it appear that you're antihistamine.  What I don't see is>what people actually eat...   When\n"
          ]
        },
        {
          "metadata": {
            "tags": null
          },
          "name": "stderr",
          "output_type": "stream",
          "text": [
            "The attention mask and the pad token id were not set. As a consequence, you may observe unexpected behavior. Please pass your input's `attention_mask` to obtain reliable results.\n",
            "Setting `pad_token_id` to `eos_token_id`:50256 for open-end generation.\n"
          ]
        },
        {
          "metadata": {
            "tags": null
          },
          "name": "stdout",
          "output_type": "stream",
          "text": [
            "  Batch 5,100  of  8,481. Loss: 0.9207554459571838.   Elapsed: 0:45:14.\n",
            "0:  castRe: Why does it appear to take longer for seizures to heal; TLDR: In article <C5qHJ5.2H@gap.caltech.edu> wls@cco.caltech.edu (W.L. Willis) writes:>>If all evidence indicates that seizures occur after the patient is>bmedically ill, then it must be that the duration of the seizure rate goes down.> >The same thing happens after chronic sinuses. The rate is the same. The number of seizures is the same. The number of seizures actually varies.  If the patient has any problems with seizures, then she could have a similar history.  She could have the same problems with other people.  As the patient has continued to grow, she is likely to develop seizures.> >A patient with chronic sinuses also has the chance of developing seizures. In fact,>the majority of the time she is going to suffer from seizures, she\n"
          ]
        },
        {
          "metadata": {
            "tags": null
          },
          "name": "stderr",
          "output_type": "stream",
          "text": [
            "The attention mask and the pad token id were not set. As a consequence, you may observe unexpected behavior. Please pass your input's `attention_mask` to obtain reliable results.\n",
            "Setting `pad_token_id` to `eos_token_id`:50256 for open-end generation.\n"
          ]
        },
        {
          "metadata": {
            "tags": null
          },
          "name": "stdout",
          "output_type": "stream",
          "text": [
            "  Batch 5,200  of  8,481. Loss: 1.0819904804229736.   Elapsed: 0:46:07.\n",
            "0:  purchRe: ATF BURNS DIVIDIAN RANCH - UPDATE; TLDR: In article <1993Apr20.1243.15574@Virginia.EDU> khan@Virginia.EDU (\"The Lawnmowerman\") writes: >In article <15771@hydra.gatech.EDU> jaeger@prism.gatech.EDU (Gregg Jaeger) writes: >In article <1993Apr19.225910.2116@Virginia.EDU> khan@Virginia.EDU (Gregg Jaeger) writes: > ># What we have here is the ATF Director's definition of the BD's> >>\"firearms.\" >> >The BD's were \"firearms\" in the compound during the siege that has been ># running for four years.  What criteria?>> >First, did the BD's have an \"arms\"?  Second, did they have>#   \n"
          ]
        },
        {
          "metadata": {
            "tags": null
          },
          "name": "stderr",
          "output_type": "stream",
          "text": [
            "The attention mask and the pad token id were not set. As a consequence, you may observe unexpected behavior. Please pass your input's `attention_mask` to obtain reliable results.\n",
            "Setting `pad_token_id` to `eos_token_id`:50256 for open-end generation.\n"
          ]
        },
        {
          "metadata": {
            "tags": null
          },
          "name": "stdout",
          "output_type": "stream",
          "text": [
            "  Batch 5,300  of  8,481. Loss: 1.0635335445404053.   Elapsed: 0:47:01.\n",
            "0:  shouldersRe: Is it good that Jesus died?; TLDR: [stuff deleted]>                                                                                                                                                                                     \n"
          ]
        },
        {
          "metadata": {
            "tags": null
          },
          "name": "stderr",
          "output_type": "stream",
          "text": [
            "The attention mask and the pad token id were not set. As a consequence, you may observe unexpected behavior. Please pass your input's `attention_mask` to obtain reliable results.\n",
            "Setting `pad_token_id` to `eos_token_id`:50256 for open-end generation.\n"
          ]
        },
        {
          "metadata": {
            "tags": null
          },
          "name": "stdout",
          "output_type": "stream",
          "text": [
            "  Batch 5,400  of  8,481. Loss: 1.1097474098205566.   Elapsed: 0:47:54.\n",
            "0:  builtRe: Why do atheists believe they are the only ones out?; TLDR: In article <1993Apr19.172211.2787@yfn.ysu.edu> behanna@yfn.ysu.edu (Bill Harley) writes:> In article <1993Apr17.162751.16306@nsmca.sgi.com> mcovingt@aisun3.aisun3.aisun3.aisun3.aisun3.ai> mcovingt@aisun3.ai> mcovingt@aisun3.ai> mcovingt@ai> mcovingt@ai> mcovingt@ai> covingt@ai> mcovingt@ai> mcovingt@ai> mcovingt@ai>  mcovingt@ai> mcovingt@ai> mcovingt@ai>            \n"
          ]
        },
        {
          "metadata": {
            "tags": null
          },
          "name": "stderr",
          "output_type": "stream",
          "text": [
            "The attention mask and the pad token id were not set. As a consequence, you may observe unexpected behavior. Please pass your input's `attention_mask` to obtain reliable results.\n",
            "Setting `pad_token_id` to `eos_token_id`:50256 for open-end generation.\n"
          ]
        },
        {
          "metadata": {
            "tags": null
          },
          "name": "stdout",
          "output_type": "stream",
          "text": [
            "  Batch 5,500  of  8,481. Loss: 0.9053130745887756.   Elapsed: 0:48:47.\n",
            "0:  openlyRe: UART?; TLDR: A friend of mine has had trouble with two-1/2-1 meters with an A5.7 meter one.  He has had to get several jobs, and he has been unable to work on his program.   What does UART do?The program can be very difficult to use. The problem is that the user is limitedto that application.The user has to pay attention to all the programming routines used in the application (which will get much better) to get the program to respond to the user and make the application respond.  The user has to keep it updated everytime it runs off.  The user just keeps it up.The program works as a user should it...I am looking for someone to help me in my question.---------------------------------------------------------------------------Gordon Lang                     | \"If we had a budget big enough for drugs\n"
          ]
        },
        {
          "metadata": {
            "tags": null
          },
          "name": "stderr",
          "output_type": "stream",
          "text": [
            "The attention mask and the pad token id were not set. As a consequence, you may observe unexpected behavior. Please pass your input's `attention_mask` to obtain reliable results.\n",
            "Setting `pad_token_id` to `eos_token_id`:50256 for open-end generation.\n"
          ]
        },
        {
          "metadata": {
            "tags": null
          },
          "name": "stdout",
          "output_type": "stream",
          "text": [
            "  Batch 5,600  of  8,481. Loss: 1.4348176717758179.   Elapsed: 0:49:41.\n",
            "0:  haltedRe: My Gun is like my American Express Card; TLDR: In <1993Apr15.153727.898@gunter.berkeley.edu>, jcmu5530@berkeley.edu (Mike McMuwe) writes:>|> Can anyone explain to me why it's a \"national Express Card\" slot for>the gun? Is there some reason behind this? I'm quite sure some>>|> could carry it. >>I am supposed to read this sort of document, but they can't >>give me my phone number.  What's your phone number?>>I never understand the reason for the card being slot for a gun, which>means it has to work.  If so, what?  It>is a quick and clean break...just like the old '93 CBR900S    '90 '93 Mustang.>|> And, while I am on it, what do you have to\n"
          ]
        },
        {
          "metadata": {
            "tags": null
          },
          "name": "stderr",
          "output_type": "stream",
          "text": [
            "The attention mask and the pad token id were not set. As a consequence, you may observe unexpected behavior. Please pass your input's `attention_mask` to obtain reliable results.\n",
            "Setting `pad_token_id` to `eos_token_id`:50256 for open-end generation.\n"
          ]
        },
        {
          "metadata": {
            "tags": null
          },
          "name": "stdout",
          "output_type": "stream",
          "text": [
            "  Batch 5,700  of  8,481. Loss: 0.2729721665382385.   Elapsed: 0:50:36.\n",
            "0:  NikRe: ATF BURNS DIVIDIAN RANCH! NO SURVIVORS!!!; TLDR: >\t\t>\t                                                                                                                                                                           \n"
          ]
        },
        {
          "metadata": {
            "tags": null
          },
          "name": "stderr",
          "output_type": "stream",
          "text": [
            "The attention mask and the pad token id were not set. As a consequence, you may observe unexpected behavior. Please pass your input's `attention_mask` to obtain reliable results.\n",
            "Setting `pad_token_id` to `eos_token_id`:50256 for open-end generation.\n"
          ]
        },
        {
          "metadata": {
            "tags": null
          },
          "name": "stdout",
          "output_type": "stream",
          "text": [
            "  Batch 5,800  of  8,481. Loss: 1.3695054054260254.   Elapsed: 0:51:30.\n",
            "0:  tinRe: The Big Bang; TLDR: In article <1993Apr12.130550.2898@mks.utexas.edu> julian@mks.utexas.edu (Julian Blaude) writes:>In article <1993Apr12.193728.29864@wisc-news.wisc.edu>, tj@wisc-news.wisc.edu (Tim Crary) writes:|> >|> >>> >> >|> >>> >|> >>> >>> >|> >>> >>> >>> >>> >|> >>> >>>\"You can't just throw out the \"wonderful\" >>> >|> >|> >|> >|> >|> >|> >|> >|> >|> >>>> >|> >>> >|> >|> >>> >>> >|> >|> >>\n"
          ]
        },
        {
          "output_type": "stream",
          "name": "stderr",
          "text": [
            "The attention mask and the pad token id were not set. As a consequence, you may observe unexpected behavior. Please pass your input's `attention_mask` to obtain reliable results.\n",
            "Setting `pad_token_id` to `eos_token_id`:50256 for open-end generation.\n"
          ]
        },
        {
          "output_type": "stream",
          "name": "stdout",
          "text": [
            "  Batch 5,900  of  8,481. Loss: 2.387117862701416.   Elapsed: 0:52:24.\n",
            "0:  clinicalRe: Is it OK to transmit encrypted messages on cellulars?; TLDR: In article <C5xq4uB4.C5F@ecs.comm.mot.com> mmm@ecs.comm.mot.com writes:>If you have a device that is being transmitted to a cellulars on a serial port, or>someone else, you can transmit the data by picking up a>pager and making sure that the cable is correctly recognized.  I suggest you have some good>guys that can help you (or at least you want to)>better than you do.                                                                      \n"
          ]
        },
        {
          "output_type": "stream",
          "name": "stderr",
          "text": [
            "The attention mask and the pad token id were not set. As a consequence, you may observe unexpected behavior. Please pass your input's `attention_mask` to obtain reliable results.\n",
            "Setting `pad_token_id` to `eos_token_id`:50256 for open-end generation.\n"
          ]
        },
        {
          "output_type": "stream",
          "name": "stdout",
          "text": [
            "  Batch 6,000  of  8,481. Loss: 1.8177272081375122.   Elapsed: 0:53:18.\n",
            "0: lectionsRe: ATF; TLDR: In article <1993Apr21.205046.2695@cs.umd.edu> ab4z@cs.umd.edu (Andrew A.) writes:> > It was amazing to listen in, watching, and watching the Davidian> > actions that are taken by the ATF officers and > the Davidians...>> This is also strange that so many of the BDs have committed such behavior in connection with the Davidian> > > murder of Davidian Davidian's children....> > BTW, why not condemn the Davidian's actions and their > > religious motivations?  The same goes for the Davidian> > > BDs.  Why did they keep their lives to a standstill, only to surrender to the Davidians??> > As I understand, it was hard to get over the Davidians and saythat David Koresh (a) thought, and (b) was responsible for\n"
          ]
        },
        {
          "output_type": "stream",
          "name": "stderr",
          "text": [
            "The attention mask and the pad token id were not set. As a consequence, you may observe unexpected behavior. Please pass your input's `attention_mask` to obtain reliable results.\n",
            "Setting `pad_token_id` to `eos_token_id`:50256 for open-end generation.\n"
          ]
        },
        {
          "output_type": "stream",
          "name": "stdout",
          "text": [
            "  Batch 6,100  of  8,481. Loss: 0.9479261040687561.   Elapsed: 0:54:11.\n",
            "0: elsRe: Vandalism; TLDR: In article <1993Apr16.215804.22459@wam.umd.edu> smith@wam.umd.edu (Steve Smith) writes:>In article <C6wqB.EZ0A@news.cso.uiuc.edu>, lancer@laude_lancer.cso.uiuc.edu (Stephen C. Lewis)>writes:>>In article <franjionC5zt3B.JH5@news.cso.uiuc.edu> franjion@sir-c-r-c-c-s-u-w-jets-w-s-w-w-i-w-w-p-w-w-l-s>I'm concerned that this is a waste of energy on>>the issue.         \n"
          ]
        },
        {
          "output_type": "stream",
          "name": "stderr",
          "text": [
            "The attention mask and the pad token id were not set. As a consequence, you may observe unexpected behavior. Please pass your input's `attention_mask` to obtain reliable results.\n",
            "Setting `pad_token_id` to `eos_token_id`:50256 for open-end generation.\n"
          ]
        },
        {
          "output_type": "stream",
          "name": "stdout",
          "text": [
            "  Batch 6,200  of  8,481. Loss: 1.442037582397461.   Elapsed: 0:55:05.\n",
            "0: labRe: Best PLAYER OF THE HAWKS!!!; TLDR: There are people out there that claim the best scorers of the year, but no one out there can claim that anyone can claim thatthis team should be ahead of the league average.  Granted, this doesn't mean it all depends on how the team plays.  But here goes:The best scoring is on whether the team has better record/hit rate than the average of those players, but there is the problem with the score.  This should be pointed out to each individual,and to the game leaders...-- Chris BeHanna\t(DoD #1066)  DoD #1066\t   DoD #1069  AMA CHAMPS: \"Weird Al\" Dixon, '86 V19 K75/V23 K75/V32 Sabre, '89 BMW R60/V6R80/BDCI '92 R80/V850/V\n"
          ]
        },
        {
          "output_type": "stream",
          "name": "stderr",
          "text": [
            "The attention mask and the pad token id were not set. As a consequence, you may observe unexpected behavior. Please pass your input's `attention_mask` to obtain reliable results.\n",
            "Setting `pad_token_id` to `eos_token_id`:50256 for open-end generation.\n"
          ]
        },
        {
          "output_type": "stream",
          "name": "stdout",
          "text": [
            "  Batch 6,300  of  8,481. Loss: 1.4723167419433594.   Elapsed: 0:55:59.\n",
            "0:  tripleRe: Yet more Rushdie [Re: ISLAMIC LAW]; TLDR: In article <C4t6r.Jz@saturn.wwc.edu> dcooper@saturn.wwc.edu (David Cooper) writes:>I'm sick of this Rushdie article!  He writes:>>                                                  >> >So, while Rushdie was making his own points about the Rushdie                                                                \n"
          ]
        },
        {
          "output_type": "stream",
          "name": "stderr",
          "text": [
            "The attention mask and the pad token id were not set. As a consequence, you may observe unexpected behavior. Please pass your input's `attention_mask` to obtain reliable results.\n",
            "Setting `pad_token_id` to `eos_token_id`:50256 for open-end generation.\n"
          ]
        },
        {
          "output_type": "stream",
          "name": "stdout",
          "text": [
            "  Batch 6,400  of  8,481. Loss: 2.358574867248535.   Elapsed: 0:56:53.\n",
            "0: 220Re: A Little Too Satanic...; TLDR: In article <May.19.02.11.49.1993.17375@athos.rutgers.edu>, prb@world.std.com (Pat) writes:>Does one follow the teachings of the scripture that some such as myself were told>to follow (I think not) on faith alone?  As with most>things, I agree with the latter.  I only tried not to.>pat>pat>pat>pat>I am not following blindly, as is often done, as I think>most people seem to be in Christ.  It is not>a requirement for me to follow blindly.  It is the requirement for>me to do so.  If I didn't follow blindly, I would never be >a Christian.  Even in Christ, I would be just as willing>to follow Him as I am.  If you follow blindly, however,\n"
          ]
        },
        {
          "output_type": "stream",
          "name": "stderr",
          "text": [
            "The attention mask and the pad token id were not set. As a consequence, you may observe unexpected behavior. Please pass your input's `attention_mask` to obtain reliable results.\n",
            "Setting `pad_token_id` to `eos_token_id`:50256 for open-end generation.\n"
          ]
        },
        {
          "output_type": "stream",
          "name": "stdout",
          "text": [
            "  Batch 6,500  of  8,481. Loss: 1.4595245122909546.   Elapsed: 0:57:47.\n",
            "0:  SeeRe: What is the best way to convert an unix program to a MAC compatible one???; TLDR: In article <C5xEo.NoF@austin.ibm.com> dwalt@austin.ibm.com (Dan Schaertel,,,,,,,,...) writes:>        >                                                                                                                          \n"
          ]
        },
        {
          "output_type": "stream",
          "name": "stderr",
          "text": [
            "The attention mask and the pad token id were not set. As a consequence, you may observe unexpected behavior. Please pass your input's `attention_mask` to obtain reliable results.\n",
            "Setting `pad_token_id` to `eos_token_id`:50256 for open-end generation.\n"
          ]
        },
        {
          "output_type": "stream",
          "name": "stdout",
          "text": [
            "  Batch 6,600  of  8,481. Loss: 1.6445467472076416.   Elapsed: 0:58:40.\n",
            "0: @@Re: The UsuiKids in Space; TLDR: In article <C5LxJq4.Gp@news.cso.uiuc.edu> amesha@uiuc.edu (Amesha O'Casey) writes:>\tJust a couple of weeks ago, an alien was killed in space.>\t  |Jody Foardman (jake@das.harvard.edu).   Foardman@habak.harvard.edu>\tI don't know the person whose name the FBI has now killed in space.  Any>\treason?  I don't know if any of this was related to the>\tdiscussion of how one can determine if the person was actually killed.  Does that give>\tthe right to be shot?  I'd have to trust the FBI and Justice>\tor if the FBI had destroyed the person.  Can you elaborate on this\n"
          ]
        },
        {
          "output_type": "stream",
          "name": "stderr",
          "text": [
            "The attention mask and the pad token id were not set. As a consequence, you may observe unexpected behavior. Please pass your input's `attention_mask` to obtain reliable results.\n",
            "Setting `pad_token_id` to `eos_token_id`:50256 for open-end generation.\n"
          ]
        },
        {
          "output_type": "stream",
          "name": "stdout",
          "text": [
            "  Batch 6,700  of  8,481. Loss: 2.0094175338745117.   Elapsed: 0:59:34.\n",
            "0:  hostRe: The arrogance of Christians; TLDR: \t<Apr.5.08.44.1993.28224@athos.rutgers.edu>In article <Apr.5.08.44.1993.28224@athos.rutgers.edu>, jmd@athena.cs.uga.edu writes:>\t<Apr.5.04.19.45.1993.28224@athos.rutgers.edu> >\t<Apr.5.02.37.31.1993.28220@athos.rutgers.edu>, jmd@athena.cs.uga.edu (Jody Levine) says:     >> >> > \tNot to mention I believe that some sort of \"objective> > >> > >> > [objective\" measure] would be a useful > >> > >> > >> > > > > > >> > >> >\n"
          ]
        },
        {
          "output_type": "stream",
          "name": "stderr",
          "text": [
            "The attention mask and the pad token id were not set. As a consequence, you may observe unexpected behavior. Please pass your input's `attention_mask` to obtain reliable results.\n",
            "Setting `pad_token_id` to `eos_token_id`:50256 for open-end generation.\n"
          ]
        },
        {
          "output_type": "stream",
          "name": "stdout",
          "text": [
            "  Batch 6,800  of  8,481. Loss: 1.1141985654830933.   Elapsed: 1:00:28.\n",
            "0: rolePOBstins for sale!; TLDR: Hello all,I've seen my OB do an OB's in order to get his OB done a day, but he is still in a state of affairs for about four weeks now. Anybody know about OBs for sale or can call her or me if you want to sell?Thanks in advance,Brian\n"
          ]
        },
        {
          "output_type": "stream",
          "name": "stderr",
          "text": [
            "The attention mask and the pad token id were not set. As a consequence, you may observe unexpected behavior. Please pass your input's `attention_mask` to obtain reliable results.\n",
            "Setting `pad_token_id` to `eos_token_id`:50256 for open-end generation.\n"
          ]
        },
        {
          "output_type": "stream",
          "name": "stdout",
          "text": [
            "  Batch 6,900  of  8,481. Loss: 1.4704481363296509.   Elapsed: 1:01:19.\n",
            "0: iacRe: Clipper considered harmful; TLDR: In article <CMM.Lqp@news.clipper.edu>, pharm@vcu.clipper.edu (Ron Franklin) writes...> > >>|> >|> I have a hard disk installed on my 286, 1MB of RAM, and a copy of>|> that is encrypted in an unreadable form.  The problem was that, >|> while unreadable the system was not corrupted, the system was corrupted.  I>|> tried the following scheme but failed again with no effect: it could not be >|> restored to 1MB.  Now, if the system is corrupted, >|> the system is corrupted, but not corrupted (unreadable, but the system>|> remains unreadable).  This causes almost all of the >|> I have ever tried.  This seems to me to be the problem in unreadable form.>|>\n"
          ]
        },
        {
          "output_type": "stream",
          "name": "stderr",
          "text": [
            "The attention mask and the pad token id were not set. As a consequence, you may observe unexpected behavior. Please pass your input's `attention_mask` to obtain reliable results.\n",
            "Setting `pad_token_id` to `eos_token_id`:50256 for open-end generation.\n"
          ]
        },
        {
          "output_type": "stream",
          "name": "stdout",
          "text": [
            "  Batch 7,000  of  8,481. Loss: 2.522235870361328.   Elapsed: 1:02:13.\n",
            "0:  LDRe: The arrogance of Christians; TLDR: In <1993Apr18.03326.1033@news.udel.edu>, jimf@news.udel.edu (Jim Frost) writes:>The problem of the arrogance is that it allows it to be>>overlooked by other Christians and thus fail to believe in God.  I do not find the>>objection of the objectification to God offensive, because I do not believe it>>was true.  My point is not to attempt to justify the argument, it is to present>>the evidence that one might infer from the evidence>that one might find to be inconsistent with god.  This is a>>dog at work on.  It is quite clear that a god does not appear to exist.  How>>would one justify such a theory?> >> >... >I was wondering if all it is is is that \"Beware\" of this theory.  Is it true\n"
          ]
        },
        {
          "output_type": "stream",
          "name": "stderr",
          "text": [
            "The attention mask and the pad token id were not set. As a consequence, you may observe unexpected behavior. Please pass your input's `attention_mask` to obtain reliable results.\n",
            "Setting `pad_token_id` to `eos_token_id`:50256 for open-end generation.\n"
          ]
        },
        {
          "output_type": "stream",
          "name": "stdout",
          "text": [
            "  Batch 7,100  of  8,481. Loss: 1.4650641679763794.   Elapsed: 1:03:06.\n",
            "0:  ListenRe: The worst manager?; TLDR: In article <1qe8m$9l@hls2.hlsc.hp.com> mangoe@hls2.hlsc.hp.com (Charley Wingate) writes:> In article <93113.124.946@almaden.ibm.com>, cbilchran@ibm.com (Carl Bilchran)> > > What's left would be Mike Jordan. If the Royals could afford a> better rotation, the Royals would be a hell of a few years old.> > > > > I guess this will be some relief to Jays fans (who are *very* impressed> > by their staff), I guess the Royals will still be usable> a team with a few veterans left.> > You'd be much better off starting him at third.> > > > > |> |> - Carl Ellison  \n"
          ]
        },
        {
          "output_type": "stream",
          "name": "stderr",
          "text": [
            "The attention mask and the pad token id were not set. As a consequence, you may observe unexpected behavior. Please pass your input's `attention_mask` to obtain reliable results.\n",
            "Setting `pad_token_id` to `eos_token_id`:50256 for open-end generation.\n"
          ]
        },
        {
          "output_type": "stream",
          "name": "stdout",
          "text": [
            "  Batch 7,200  of  8,481. Loss: 1.0570510625839233.   Elapsed: 1:03:59.\n",
            "0:  dyRe: Is it good that Jesus died?; TLDR: In article <Apr.10.01.03.46.1993.11125@athos.rutgers.edu> bgrubb@das.harvard.edu (Grubb Simpson) writes:>>   And there are some really good works of faith and power, but>   what is one of them? I don't think so. And the Bible>    does not deal with so many sins.  >>    Is Jesus only in some kind of spiritual state?>    The Bible states that every good thing can be saved by faith in a>    true sense, whereas you cannot imagine it.> So are you? Are you thinking of this book of works? I think not. The problem is not onthe assumption that everything that happens is in the mindof Christ himself. However, I suspect this is because we are the fools of\n"
          ]
        },
        {
          "output_type": "stream",
          "name": "stderr",
          "text": [
            "The attention mask and the pad token id were not set. As a consequence, you may observe unexpected behavior. Please pass your input's `attention_mask` to obtain reliable results.\n",
            "Setting `pad_token_id` to `eos_token_id`:50256 for open-end generation.\n"
          ]
        },
        {
          "output_type": "stream",
          "name": "stdout",
          "text": [
            "  Batch 7,300  of  8,481. Loss: 0.853693425655365.   Elapsed: 1:04:52.\n",
            "0:  DomesticRe: Who's next?  Mormons and Jews?; TLDR: In article <19APR1993245030@Dartmouth.EDU> ak296@Dartmouth.EDU (Alan Kulikauskas) writes:>In article <1993Apr21.165902.12178@midway.uchicago.edu> carlson@midway.uchicago.edu (Carlson Rowlands) writes:> In article <1993Apr21.163750.4168@midway.uchicago.edu> carlson@midway.uchicago.edu (Carlson Rowlands) writes:> >>I've said it before --  The only people who> >aren't going to this battle are blacks, > >Jews, and Buddhists.> > >>You don't mention Buddhism at all --> >>that's one-dimensional anti-semitism. This one-dimensional> >attack\n"
          ]
        },
        {
          "output_type": "stream",
          "name": "stderr",
          "text": [
            "The attention mask and the pad token id were not set. As a consequence, you may observe unexpected behavior. Please pass your input's `attention_mask` to obtain reliable results.\n",
            "Setting `pad_token_id` to `eos_token_id`:50256 for open-end generation.\n"
          ]
        },
        {
          "output_type": "stream",
          "name": "stdout",
          "text": [
            "  Batch 7,400  of  8,481. Loss: 1.6246427297592163.   Elapsed: 1:05:46.\n",
            "0:  beneficiariesRe: Jewish Baseball Players?; TLDR: \t<1993Apr22.014544.22224@news.cs.utah.edu>\t<1993Apr26.185426.15441@news.cs.utah.edu>>\t<1993Apr26.220614.15441@news.cs.utah.edu>\t<1993Apr22.103426.14456@news.cs.utah.edu>\t<1993Apr22.095428.14456@news.cs.utah.edu>\t<1993Apr22.150482.15441@news.cs.utah.edu>\t<1qj3j$$1f@usenet.INS.CWRU.Edu>\t<1q7k$1f@sorority.cc.utah.edu>\t<2q1f$2c@s\n"
          ]
        },
        {
          "output_type": "stream",
          "name": "stderr",
          "text": [
            "The attention mask and the pad token id were not set. As a consequence, you may observe unexpected behavior. Please pass your input's `attention_mask` to obtain reliable results.\n",
            "Setting `pad_token_id` to `eos_token_id`:50256 for open-end generation.\n"
          ]
        },
        {
          "output_type": "stream",
          "name": "stdout",
          "text": [
            "  Batch 7,500  of  8,481. Loss: 0.7636151313781738.   Elapsed: 1:06:39.\n",
            "0:  TitleRe: Jack Morris; TLDR: In article <C63n1B.Kz@wam.umd.edu> maulj@wam.umd.edu (Matt Thorne) writes:>The Dodgers should keep Morris around (which is where I live), as they want a team that can>defend up their best players and still have some players with them on the field>that need to be shut up during the game.  If Morris was there, it would seem most>important for the team to get out of the box and get out of the box.  If your team>doesn't want to get out of the box, let's see:                                                         \n"
          ]
        },
        {
          "output_type": "stream",
          "name": "stderr",
          "text": [
            "The attention mask and the pad token id were not set. As a consequence, you may observe unexpected behavior. Please pass your input's `attention_mask` to obtain reliable results.\n",
            "Setting `pad_token_id` to `eos_token_id`:50256 for open-end generation.\n"
          ]
        },
        {
          "output_type": "stream",
          "name": "stdout",
          "text": [
            "  Batch 7,600  of  8,481. Loss: 0.9606457948684692.   Elapsed: 1:07:32.\n",
            "0:  μNHL Team Goalie Stats; TLDR: \tI heard that Ron Fuhr (the Rangers) is a team player with the\tnHL title, and that he\tand the Rangers are a good goalie.  Would\tI see this as the team player.  Is\tthe Rangers better than the Expos?\tIs it a surprise?\tCan anyone say for sure\twho has played the previous season with\tthe Rangers?  Please post to the net.  Don't\t\ttake him on the draft\tlet alone the Hall of Fame\tI don't see where this season is but the Rangers are\tthe best team with the\tNHL title, so I won't send his\ttitle back to his address\tto the Rangers\tin any way.I don't like to mention \"NHL\" when it comesto the teams,  But I think I think that theNHL is an excellent team  (the Rangers won 5-\n"
          ]
        },
        {
          "output_type": "stream",
          "name": "stderr",
          "text": [
            "The attention mask and the pad token id were not set. As a consequence, you may observe unexpected behavior. Please pass your input's `attention_mask` to obtain reliable results.\n",
            "Setting `pad_token_id` to `eos_token_id`:50256 for open-end generation.\n"
          ]
        },
        {
          "output_type": "stream",
          "name": "stdout",
          "text": [
            "  Batch 7,700  of  8,481. Loss: 1.273640751838684.   Elapsed: 1:08:26.\n",
            "0:  sellingRe: Good Reasons to Wave at each other; TLDR: It's sort of the least we can do.  Basically, it's like an auction of some sort that is goingon it's own.For the first time it is legal to take your car in and out of the driver's seat(ie, etc...)for an extended ride.  The person driving the car at the end of its ride is on the passenger seatfor that extended ride,so it is a violation of the cop.  If the car is in passenger seat, I know that the cop is on the seat, and that's okay.  The cop must be.There's nothing that I think about to argue about with.  But I couldn't get you, so it's worth the $16.5 per ticket.I think you should go to court, or at least show the cops how it goes.If you are a cop with a cop who doesn't have any good, why is\n"
          ]
        },
        {
          "output_type": "stream",
          "name": "stderr",
          "text": [
            "The attention mask and the pad token id were not set. As a consequence, you may observe unexpected behavior. Please pass your input's `attention_mask` to obtain reliable results.\n",
            "Setting `pad_token_id` to `eos_token_id`:50256 for open-end generation.\n"
          ]
        },
        {
          "output_type": "stream",
          "name": "stdout",
          "text": [
            "  Batch 7,800  of  8,481. Loss: 0.5734215378761292.   Elapsed: 1:09:19.\n",
            "0:  migrantRe: Need Info on Circumcision; TLDR: In article <93106.122415F@news.cs.tufts.edu> fauen@usenkyou.cs.tufts.edu (Paul Fauen) writes:>(First of all, it has been me for a while...)>>>\t\t[soc.motss.motss.mot.com (Stephen J. Fauen) writes:>>>\t[soc.motss.mot.com (Stephen J. Fauen)]>>>\tIf the birth of any child is more important than my unborn child,>>>>it would be MUCH more likely to develop, raise, or be in good health if a baby is born by a>>birth mother, who is not necessarily a member of the parents.>>>>\tThe baby who is born by a natural occurence is usually in a very limited area.  There is>no way to determine the source of\n"
          ]
        },
        {
          "output_type": "stream",
          "name": "stderr",
          "text": [
            "The attention mask and the pad token id were not set. As a consequence, you may observe unexpected behavior. Please pass your input's `attention_mask` to obtain reliable results.\n",
            "Setting `pad_token_id` to `eos_token_id`:50256 for open-end generation.\n"
          ]
        },
        {
          "output_type": "stream",
          "name": "stdout",
          "text": [
            "  Batch 7,900  of  8,481. Loss: 0.4774555563926697.   Elapsed: 1:10:12.\n",
            "0: ivelyRe: Deuterocanonicals; TLDR: In article <May.14.02.28.31.1993.24288@athos.rutgers.edu> maynard@cae.wisc.edu (Roger Maynard) writes:>In article <May.12.15.44.1993.25289@athos.rutgers.edu>> dbd@cun.edu (David David Davis) writes:>>In article <May.13.02.25.1993.27536@athos.rutgers.edu>> dbd@cun.edu (David David Davis) writes:>> >> In article <May.14.02.33.1993.12114@athos.rutgers.edu>> >In article <May.13.02.48.1993.27441@athos.rutgers.edu> dbd@cun.edu (David David David\n"
          ]
        },
        {
          "output_type": "stream",
          "name": "stderr",
          "text": [
            "The attention mask and the pad token id were not set. As a consequence, you may observe unexpected behavior. Please pass your input's `attention_mask` to obtain reliable results.\n",
            "Setting `pad_token_id` to `eos_token_id`:50256 for open-end generation.\n"
          ]
        },
        {
          "output_type": "stream",
          "name": "stdout",
          "text": [
            "  Batch 8,000  of  8,481. Loss: 1.0354490280151367.   Elapsed: 1:11:05.\n",
            "0:  orderRe: New Study Out On Gay Percentage; TLDR: In article <C5GnF5r.4D3@dns1.NMSU.Edu> mike@nmsu.edu (Michael R. Mikes) writes:> In article <C5G4G.MwI@dns1.NMSU.Edu> jdstarr@nmsu.edu (James E. Starr) writes:>>>>  I'm not entirely sure what is the difference. I can't even>  date all the studies conducted on the effect of gay activity on our>                                                                    \n"
          ]
        },
        {
          "output_type": "stream",
          "name": "stderr",
          "text": [
            "The attention mask and the pad token id were not set. As a consequence, you may observe unexpected behavior. Please pass your input's `attention_mask` to obtain reliable results.\n",
            "Setting `pad_token_id` to `eos_token_id`:50256 for open-end generation.\n"
          ]
        },
        {
          "output_type": "stream",
          "name": "stdout",
          "text": [
            "  Batch 8,100  of  8,481. Loss: 1.4156286716461182.   Elapsed: 1:11:59.\n",
            "0:  VPNRe: Israel's Expansion II - how?; TLDR: In article <1993Apr5.094044.1@Virginia.EDU> mbeckman@Virginia.EDU (Michael Beckman) writes:>In article <C5K4yG.7n@murdoch.acc.Virginia.EDU> wf2@murdoch.acc.Virginia.EDU (\"George\" Cobb\" <mbeckman@Virginia.EDU> writes:>>There is no reason why God didn't create the world from scratch, it was>from the beginning of the world when God created him.  No one could have prevented him to become >the God and that he eventually became the architect of the world.  (To be taken literally or not to mean that all theworld is at that point)\tIf God created Israel, we wouldn't expect God to stay there.\t\t\t\t\t\t\t\t\t\t\t\n"
          ]
        },
        {
          "output_type": "stream",
          "name": "stderr",
          "text": [
            "The attention mask and the pad token id were not set. As a consequence, you may observe unexpected behavior. Please pass your input's `attention_mask` to obtain reliable results.\n",
            "Setting `pad_token_id` to `eos_token_id`:50256 for open-end generation.\n"
          ]
        },
        {
          "output_type": "stream",
          "name": "stdout",
          "text": [
            "  Batch 8,200  of  8,481. Loss: 1.173516869544983.   Elapsed: 1:12:52.\n",
            "0:  explanationRe: How can I change the name of my computer?; TLDR: It's just me, but I'm interested in changing the name of my computer.I have a Macintosh that I know of, but Ican't remember the name of the vendor.So who's going to make a change that would make me a little more aware of what the new name of this computer.My answer would be very much appreciated. \n"
          ]
        },
        {
          "output_type": "stream",
          "name": "stderr",
          "text": [
            "The attention mask and the pad token id were not set. As a consequence, you may observe unexpected behavior. Please pass your input's `attention_mask` to obtain reliable results.\n",
            "Setting `pad_token_id` to `eos_token_id`:50256 for open-end generation.\n"
          ]
        },
        {
          "output_type": "stream",
          "name": "stdout",
          "text": [
            "  Batch 8,300  of  8,481. Loss: 0.8726736903190613.   Elapsed: 1:13:45.\n",
            "0:  BachRe: Looking for Windows; TLDR: In article <1993Apr5.122837.16347@aurora.alaska.edu> bbskog@aurora.alaska.edu (Brian A. Sherwood) writes:>I have a very small sample set of Windows for a large>frame. I'm considering some graphics packages and would like to compile the>whithout the package. I was wondering what would come out of that package, but>certainly the source and source were on MS-based platforms, so>hardware is more appropriate.  I've tried the source from C.  The binaries are >also provided by Adobe and I think they'll also be >available via anonymous ftp from archive.northeastern.edu,>but there are no FTP sites that contains these available>(if any).  If you would like to contact one of these people and>post your application, email me via email (\n"
          ]
        },
        {
          "output_type": "stream",
          "name": "stderr",
          "text": [
            "The attention mask and the pad token id were not set. As a consequence, you may observe unexpected behavior. Please pass your input's `attention_mask` to obtain reliable results.\n",
            "Setting `pad_token_id` to `eos_token_id`:50256 for open-end generation.\n"
          ]
        },
        {
          "output_type": "stream",
          "name": "stdout",
          "text": [
            "  Batch 8,400  of  8,481. Loss: 1.9109408855438232.   Elapsed: 1:14:38.\n",
            "0:  folderRe: The 1994 Concours; TLDR: In article <1993Apr19.072844.19667@news.cs.dal.ca> jpk@fbi.saxc.dal.ca (Paul K. Pedersen) writes:>Does anybody know what the new>CBR900 will be? I've heard they're going for around $1100.   Also, >CBR900 doesn't have many seats.  The new CBR900?   A new CBR900???    (The CBR900, the new CBR900/CBR900RR, not the CB950)?    Or am I missing something??       I'd say that CBR900 is the next to \"better\" CBR900RR.  The CB900RR doesn't get as fast as an comparable CBR900RR for CBR900RR.  For a $600+ $800\n",
            "\n",
            "  Average training loss: 1.61\n",
            "  Training epoch took: 1:15:22\n",
            "\n",
            "Running Validation...\n",
            "  Validation Loss: 1.47\n",
            "  Validation took: 0:02:33\n",
            "\n",
            "======== Epoch 2 / 5 ========\n",
            "Training...\n"
          ]
        },
        {
          "output_type": "stream",
          "name": "stderr",
          "text": [
            "The attention mask and the pad token id were not set. As a consequence, you may observe unexpected behavior. Please pass your input's `attention_mask` to obtain reliable results.\n",
            "Setting `pad_token_id` to `eos_token_id`:50256 for open-end generation.\n"
          ]
        },
        {
          "output_type": "stream",
          "name": "stdout",
          "text": [
            "  Batch   100  of  8,481. Loss: 1.2122515439987183.   Elapsed: 0:00:51.\n",
            "0:  buildingRe: New planet/Kuiper object found?; TLDR: In article <1993Apr14.031521.1546@spdcc.spdcc.com> dzk@spdcc.spdcc.com (David R. Szkachner) writes:>Is there a new planet/Kuiper object in the>Kuiper Belt?>I think so.  I also think so.  I would suggest New Conecian type of thing for the Kuiper Belt(Kuiper Belt, I think.)  I think it is a good idea to try this model, since there islittle evidence that I think they have yet madeany significant progress in the design, or that they should spend any time now.  Is thereany good or bad thing to do about it?>Thanks>Mark--                    \n"
          ]
        },
        {
          "output_type": "stream",
          "name": "stderr",
          "text": [
            "The attention mask and the pad token id were not set. As a consequence, you may observe unexpected behavior. Please pass your input's `attention_mask` to obtain reliable results.\n",
            "Setting `pad_token_id` to `eos_token_id`:50256 for open-end generation.\n"
          ]
        },
        {
          "output_type": "stream",
          "name": "stdout",
          "text": [
            "  Batch   200  of  8,481. Loss: 0.5009322166442871.   Elapsed: 0:01:45.\n",
            "0:  BabylonRe: Vandalizing the sky.; TLDR: In <1r6j7$o7@access.digex.net>, prabhak@access.digex.com (Patabhak) writes:|> |> Here are my thoughts:|> |>  The opinions expressed are those of the user and not necessarily those of the user|>   the same or the same as those of CONVEX.|> |> I do not represent CONVEX.|> |> The views expressed in this posting are those of CONVEX and are those of the|> User|>                                      |> |> |> The opinions expressed are those of CONVEX and not CONVEX.|> |> These views are mine only and are those\n"
          ]
        },
        {
          "output_type": "stream",
          "name": "stderr",
          "text": [
            "The attention mask and the pad token id were not set. As a consequence, you may observe unexpected behavior. Please pass your input's `attention_mask` to obtain reliable results.\n",
            "Setting `pad_token_id` to `eos_token_id`:50256 for open-end generation.\n"
          ]
        },
        {
          "output_type": "stream",
          "name": "stdout",
          "text": [
            "  Batch   300  of  8,481. Loss: 0.9366577863693237.   Elapsed: 0:02:38.\n",
            "0: perialRe: XV 3.00 has escaped!; TLDR: In article <1993Apr17.184420.24304@news.stratus.com> vos.stratus.com (Vos) writes:>I have seen the same problem when I wrote Sunview.  We need a>newversion to convert it to Sunview 2.00. We are fixing something that fixes>some problem.  However, a problem occurs when copying the>components.tar.Z.  It only gives up the specififications of XV 3.00 as it's>components.tar.Z. We will try that in 'next Release.tar.Z'.>Vos is already out but I'm not giving up the specifements>so there is an update or something we can add.  Thanks. I have already done xv and Im looking at>it. As far as I know xv 3.00 is being reviewed\n"
          ]
        },
        {
          "output_type": "stream",
          "name": "stderr",
          "text": [
            "The attention mask and the pad token id were not set. As a consequence, you may observe unexpected behavior. Please pass your input's `attention_mask` to obtain reliable results.\n",
            "Setting `pad_token_id` to `eos_token_id`:50256 for open-end generation.\n"
          ]
        },
        {
          "output_type": "stream",
          "name": "stdout",
          "text": [
            "  Batch   400  of  8,481. Loss: 1.5655033588409424.   Elapsed: 0:03:32.\n",
            "0:  rentsRe: The OLYMPICS: UGL; TLDR: In article <1993Apr21.050047.21399@ericsson.se> els390r@se.iep.nl writes:>What was UGL the UGL? A \"UHL\" that everybody can call, with >some of the players from the NHL, that is. Also, how many >Serfans have ever known that?? Why? I hear people saying UGL (also called >the OLYMPICS... that is a good analogy>with the ULYMPICS) has been discussed in the past but >it has not been published in the OLYMPICS. I'm not positive, but >UGL is an old fashioned (unlike most of the current>UGL) team in Finland. I'm looking for any good references and I am >going to be posting some of these articles.I know from reading the OLYMPICS\n"
          ]
        },
        {
          "output_type": "stream",
          "name": "stderr",
          "text": [
            "The attention mask and the pad token id were not set. As a consequence, you may observe unexpected behavior. Please pass your input's `attention_mask` to obtain reliable results.\n",
            "Setting `pad_token_id` to `eos_token_id`:50256 for open-end generation.\n"
          ]
        },
        {
          "output_type": "stream",
          "name": "stdout",
          "text": [
            "  Batch   500  of  8,481. Loss: 1.5735276937484741.   Elapsed: 0:04:25.\n",
            "0:  RegRe: Gamma Ray Bursters. Where are they?; TLDR: In article <1993Apr15.160347.6605@sarah.sarah.sarah.sarah.sarah.sarah.nsc.nasa.gov> chry@dsinc.com (Ron Baalke) writes:>    The arguement that Gamma Ray bursters *are*   bursts is invalid since it is not a neutron star, and>    is *only* neutron stars, the only one in orbit around the sun.>Why is there some conflict between the proposed    \"class\">(Oortic Belt) and the isotropic Belt?>Well, maybe we can just draw a couple hundred or so in a couple hundred different>gasses?>-- >Ron Baalke         | baalke@dsinc.com  | baalke@ls\n"
          ]
        },
        {
          "output_type": "stream",
          "name": "stderr",
          "text": [
            "The attention mask and the pad token id were not set. As a consequence, you may observe unexpected behavior. Please pass your input's `attention_mask` to obtain reliable results.\n",
            "Setting `pad_token_id` to `eos_token_id`:50256 for open-end generation.\n"
          ]
        },
        {
          "output_type": "stream",
          "name": "stdout",
          "text": [
            "  Batch   600  of  8,481. Loss: 0.798878014087677.   Elapsed: 0:05:19.\n",
            "0: olasRe: Space Marketing would be wonderfull.; TLDR: In article <Apr.10.02.08.07.1993.27409@darkside.osrhe.uoknor.edu> kaldis@okcforum.osrhe.edu (Theodore A. Kaldis) writes:>Is Space Marketing a wonderfull idea?  What is it that so many small companies>advertise the inexpensive use of space?>Yes.  And what will the cost?  If you're doing it for $,000, it should be $50.  Space Marketing>is not just some huge \"invest\" that might be done.  I can't imagine any small companies would>advertise it for a small fraction of those who won't, and neither should space-failing>research.>-andy-- --------------------------------------------------------------------------Tom Gillman, University of Alabama, Huntsville, Huntsville, AL 35238-0156 \n"
          ]
        },
        {
          "output_type": "stream",
          "name": "stderr",
          "text": [
            "The attention mask and the pad token id were not set. As a consequence, you may observe unexpected behavior. Please pass your input's `attention_mask` to obtain reliable results.\n",
            "Setting `pad_token_id` to `eos_token_id`:50256 for open-end generation.\n"
          ]
        },
        {
          "output_type": "stream",
          "name": "stdout",
          "text": [
            "  Batch   700  of  8,481. Loss: 1.5493520498275757.   Elapsed: 0:06:12.\n",
            "0:  responsesRe: PGP Key escrow agencies (Was: Re: Corporate acceptance of the wiretap chip); TLDR: In article <r0efINNb9k@andrew.cmu.edu> lfoard@andrew.cmu.edu (Lawrence C. Foard) writes:>As part of that algorithm, I would amend the name of my>personal security device to DES. This is in>transition to another company name.  The same companies>named IDS will name their customers.  At this point, the>chip is being distributed by Intergraph and I>believe they are giving it to Intergraph.>My question is, do you know how to get an ID>from Intergraph?  I would>like to be able to use this same thing with different>things so that my business can be more secure, since>not all the companies will be using this right now.  If it>were\n"
          ]
        },
        {
          "output_type": "stream",
          "name": "stderr",
          "text": [
            "The attention mask and the pad token id were not set. As a consequence, you may observe unexpected behavior. Please pass your input's `attention_mask` to obtain reliable results.\n",
            "Setting `pad_token_id` to `eos_token_id`:50256 for open-end generation.\n"
          ]
        },
        {
          "output_type": "stream",
          "name": "stdout",
          "text": [
            "  Batch   800  of  8,481. Loss: 1.0994213819503784.   Elapsed: 0:07:06.\n",
            "0:  attendanceRe: A Message for you Mr. President: How to act; TLDR:  <kadieC5v8.Ktx@netcom.com> <1r2qc4n$a4l@senator-bedfellow.MIT.EDU> <9304242629U28037@uicvm.uic.edu> <115288@matt.ksun.ksun.edu> <sandvik-19049320042959@sandvik-kent.apple.com> <sandvik-1904932004112958@sandvik.apple.com> <sandvik-15049002357@sandvik-kent.apple.com> <sandvik-14049002359@sandvik.apple.com> <sandvik-14049002359@sandvik-kent.apple.com> <sandvik-20049202729\n"
          ]
        },
        {
          "output_type": "stream",
          "name": "stderr",
          "text": [
            "The attention mask and the pad token id were not set. As a consequence, you may observe unexpected behavior. Please pass your input's `attention_mask` to obtain reliable results.\n",
            "Setting `pad_token_id` to `eos_token_id`:50256 for open-end generation.\n"
          ]
        },
        {
          "output_type": "stream",
          "name": "stdout",
          "text": [
            "  Batch   900  of  8,481. Loss: 2.6665477752685547.   Elapsed: 0:08:00.\n",
            "0:  rigidRe: Israel's Expansion II; TLDR: In article <1qk26gINNl6q@senator-bedfellow.MIT.EDU> <1993Apr15.20105.26131@Virginia.EDU> writes:>> In article <C5v3u1w165w@unisys.CS.UNY.CA> amar> <1993Apr15.040548.15494@Virginia.EDU> <1993Apr15.2116127@Virginia.EDU> <1993Apr15.2116127@Virginia.EDU>  <1993Apr15.2117127@Virginia.EDU> >>>I was reading a new issue of sci.med.  In particular, on Jewish >>faith, there were some cases of Jewish proselytism among>>the general public.  In my opinion, Jewish proselytism is not a general >religion in the general\n"
          ]
        },
        {
          "output_type": "stream",
          "name": "stderr",
          "text": [
            "The attention mask and the pad token id were not set. As a consequence, you may observe unexpected behavior. Please pass your input's `attention_mask` to obtain reliable results.\n",
            "Setting `pad_token_id` to `eos_token_id`:50256 for open-end generation.\n"
          ]
        },
        {
          "output_type": "stream",
          "name": "stdout",
          "text": [
            "  Batch 1,000  of  8,481. Loss: 1.1574233770370483.   Elapsed: 0:08:53.\n",
            "0: groRe: Vandalizing the sky.; TLDR: > > The subject of this article was a nsmtp-related topic.  It has been a long time since itwas posted.  However, this article was a little skimmed and I am surprised> to see all the effort that has been taken to create a public outcry when> this article has been forwarded to the public.  How about a similar> statement in _PROGRAM_ in _\"SOME\" magazine?  Thanks.  How about a> post that has been published in this newsgroup a few days ago?> > I mean, what about a quote from a Christian writer in which he decribes the> \" pollution\" of a certain place on a billboard?  Isn't> it illegal to use such an advertisement in this way?  If> it isn't illegal, you are right, but I would expect that the people who> were at the time who wrote _PROGRAM\n"
          ]
        },
        {
          "output_type": "stream",
          "name": "stderr",
          "text": [
            "The attention mask and the pad token id were not set. As a consequence, you may observe unexpected behavior. Please pass your input's `attention_mask` to obtain reliable results.\n",
            "Setting `pad_token_id` to `eos_token_id`:50256 for open-end generation.\n"
          ]
        },
        {
          "output_type": "stream",
          "name": "stdout",
          "text": [
            "  Batch 1,100  of  8,481. Loss: 2.207693576812744.   Elapsed: 0:09:47.\n",
            "0:  GreRe: The Role of the National News Media in Inflaming Passions; TLDR: In article <1r6a4p$f1i@fido.asd.sgi.com> livesey@solntze.wpd.sgi.com (Jon Livesey) writes:>the net was created solely to generate fan interest. However, there are>>also other things as well, and when I look at the data I>s want to turn it over and see how a result of the actions taken by the>>media are to tell the truth.>jon.  If you think the media's role in this worldis something we could>really have our way about by doing something more visible to>our children.  I'm sure if we would make sure the>news media has been portrayed in some way by the same people who>are now turning it over to us.As a matter of fact, I think that many readers\n"
          ]
        },
        {
          "output_type": "stream",
          "name": "stderr",
          "text": [
            "The attention mask and the pad token id were not set. As a consequence, you may observe unexpected behavior. Please pass your input's `attention_mask` to obtain reliable results.\n",
            "Setting `pad_token_id` to `eos_token_id`:50256 for open-end generation.\n"
          ]
        },
        {
          "output_type": "stream",
          "name": "stdout",
          "text": [
            "  Batch 1,200  of  8,481. Loss: 1.0835959911346436.   Elapsed: 0:10:41.\n",
            "0: uraRe: New Study Out On Gay Percentage; TLDR: In article <15440@optilink.com> cramer@optilink.com (Clayton Cramer) writes:>In article <1993Apr23.144517.11181@ra.royalroads.ca>>brian@post.RoyalRoads.ca (Brian Ceccarelli 602/621-9615) writes:>>I think you have to be careful about this point. My>book talks about Kinsey showing male sex was very good.  But what it shows is that>homosexual men are dramatically more promiscuous than the generalmale population. I think>you have to say that since most people have been raised by a straight>man, they would have a hard time getting out of this dramatically.>But if you insist that \"homosexual men are dramatically more promiscuous than>homosexual men, then it is a good\n"
          ]
        },
        {
          "output_type": "stream",
          "name": "stderr",
          "text": [
            "The attention mask and the pad token id were not set. As a consequence, you may observe unexpected behavior. Please pass your input's `attention_mask` to obtain reliable results.\n",
            "Setting `pad_token_id` to `eos_token_id`:50256 for open-end generation.\n"
          ]
        },
        {
          "output_type": "stream",
          "name": "stdout",
          "text": [
            "  Batch 1,300  of  8,481. Loss: 0.5790368318557739.   Elapsed: 0:11:34.\n",
            "0:  2020CAD; TLDR: \t \t                                                                                                                                                                                             \n"
          ]
        },
        {
          "output_type": "stream",
          "name": "stderr",
          "text": [
            "The attention mask and the pad token id were not set. As a consequence, you may observe unexpected behavior. Please pass your input's `attention_mask` to obtain reliable results.\n",
            "Setting `pad_token_id` to `eos_token_id`:50256 for open-end generation.\n"
          ]
        },
        {
          "output_type": "stream",
          "name": "stdout",
          "text": [
            "  Batch 1,400  of  8,481. Loss: 1.8550188541412354.   Elapsed: 0:12:28.\n",
            "0:  chargingRe: Is it a good thing that Jesus died in Egypt?; TLDR: In article <15APR199306080037@hydra.gatech.EDU> gt@coding.cs.uga.edu (James T. Thomas) writes:>>A few years ago in Egypt, there appeared an Israeli soldier on board>the coast guard as a hostage for an attack on an Israeli plane, killing>the head of an Israeli soldier. This soldier was later caught in a>hijri-arabag in Lebanese territory. This soldier, a>retali, was released from Israeli custody, and handed>an indictment to prove that he was responsible for the>crime, and that there must have been an Israeli soldier on board>the coast guard, and that it was not a bad thing. He>also commanded the soldiers to escape from the Israeli border.He was later caught in abag, and given further orders, he was also\n"
          ]
        },
        {
          "output_type": "stream",
          "name": "stderr",
          "text": [
            "The attention mask and the pad token id were not set. As a consequence, you may observe unexpected behavior. Please pass your input's `attention_mask` to obtain reliable results.\n",
            "Setting `pad_token_id` to `eos_token_id`:50256 for open-end generation.\n"
          ]
        },
        {
          "output_type": "stream",
          "name": "stdout",
          "text": [
            "  Batch 1,500  of  8,481. Loss: 0.3654039204120636.   Elapsed: 0:13:22.\n",
            "0:  SarRe: New Duo Dock?; TLDR: In article <1993Apr26.175127.2574@alchemy.chem.utoronto.ca> kjenks@alchemy.chem.utoronto.ca (Kenneth J. Jenks) writes:>In article <1r74k7v$a2g@usenet.INS.CWRU.Edu> xlyx@Rosie.Edu (Anselock P. Yin) writes:>From: xlyx@Rosie.Edu (Anselock P. Yin)>>From: xlyx@Rosie.Edu (Anselock P. Yin)      >>From: xlyx@Rosie.Edu (Anselock P. Yin)    >>From: xlyx@Rosie.Edu (Anselock P. Yin)     >   \n"
          ]
        },
        {
          "output_type": "stream",
          "name": "stderr",
          "text": [
            "The attention mask and the pad token id were not set. As a consequence, you may observe unexpected behavior. Please pass your input's `attention_mask` to obtain reliable results.\n",
            "Setting `pad_token_id` to `eos_token_id`:50256 for open-end generation.\n"
          ]
        },
        {
          "output_type": "stream",
          "name": "stdout",
          "text": [
            "  Batch 1,600  of  8,481. Loss: 0.9454258680343628.   Elapsed: 0:14:15.\n",
            "0:  JasRe: How to disable mouse in Windows 3.1; TLDR: In article <1993Apr20.125330.12454@mintaka.lcs.mit.edu> kevin@lcs.mit.edu (Kevin Kevin) writes:>>>Yes.                                          ^^^^^>>                                           ^^^^^>>                                                 ^^^^^> \n"
          ]
        },
        {
          "output_type": "stream",
          "name": "stderr",
          "text": [
            "The attention mask and the pad token id were not set. As a consequence, you may observe unexpected behavior. Please pass your input's `attention_mask` to obtain reliable results.\n",
            "Setting `pad_token_id` to `eos_token_id`:50256 for open-end generation.\n"
          ]
        },
        {
          "output_type": "stream",
          "name": "stdout",
          "text": [
            "  Batch 1,700  of  8,481. Loss: 1.506615161895752.   Elapsed: 0:15:09.\n",
            "0:  permitRe: Europe vs. Muslim Bosnians; TLDR: In article <1r6ejk$j3@bony1.bony.com>, mau@bony1.bony.com (Mike Mau writes:|> In article <Apr.20.05.57.1993.28384@geneva.rutgers.edu> henrik@geneva.rutgers.edu (Hugo Guagliano) writes:|> |> In article <1993Apr.151854.12553@CSD-NewsHost.Stanford.EDU>, mau@bony1.bony.com (Mike Mau) writes:|> |> |> In article <May.12.03.45.42.1993.12@geneva.rutgers.edu> henrik@geneva.rutgers.edu (Mike Mau)\n"
          ]
        },
        {
          "output_type": "stream",
          "name": "stderr",
          "text": [
            "The attention mask and the pad token id were not set. As a consequence, you may observe unexpected behavior. Please pass your input's `attention_mask` to obtain reliable results.\n",
            "Setting `pad_token_id` to `eos_token_id`:50256 for open-end generation.\n"
          ]
        },
        {
          "output_type": "stream",
          "name": "stdout",
          "text": [
            "  Batch 1,800  of  8,481. Loss: 2.473853349685669.   Elapsed: 0:16:03.\n",
            "0:  AdministratorRe: After 2000 years, can we say that Christian Morality is; TLDR: On a related note, in article <Apr.14.02.39.58.1993.29755@athos.rutgers.edu> mwilson@eastman.UUCP (Mark Wilson) writes:>I am neither a Christian nor a Christian (or any other, at least in most>these parts of the world).But I do believe God is omniscient and all the way through it's natural (which is>more technically) and all the way through it's natural (or at least, it is a naturalone)                                                                 \n"
          ]
        },
        {
          "output_type": "stream",
          "name": "stderr",
          "text": [
            "The attention mask and the pad token id were not set. As a consequence, you may observe unexpected behavior. Please pass your input's `attention_mask` to obtain reliable results.\n",
            "Setting `pad_token_id` to `eos_token_id`:50256 for open-end generation.\n"
          ]
        },
        {
          "output_type": "stream",
          "name": "stdout",
          "text": [
            "  Batch 1,900  of  8,481. Loss: 1.4022990465164185.   Elapsed: 0:16:56.\n",
            "0:  EVENTSRe: Is it worse than a dark house, black walls and broken windows?; TLDR: In article <C5nH4.3t3@murdoch.acc.Virginia.EDU> dps@hopper.skidmore.Virginia.EDU (Dan Schaertel,,,) writes:>I have seen the evidence that windows are as green as their dark house. They are>quite common and well kept. (Except where you live, I think>your question has come up here for a long while now...)No, I don't believe that any reason for theWhiteHouse that was not so visible, has anything to do with the use of it, orthat a black or black (like, for example, the black market, but the same white guy will have a hard time buying a new pair of T-Bird SC300s).What is this!? This is how we deal with it.1/5.10/20\n"
          ]
        },
        {
          "output_type": "stream",
          "name": "stderr",
          "text": [
            "The attention mask and the pad token id were not set. As a consequence, you may observe unexpected behavior. Please pass your input's `attention_mask` to obtain reliable results.\n",
            "Setting `pad_token_id` to `eos_token_id`:50256 for open-end generation.\n"
          ]
        },
        {
          "output_type": "stream",
          "name": "stdout",
          "text": [
            "  Batch 2,000  of  8,481. Loss: 1.7046411037445068.   Elapsed: 0:17:50.\n",
            "0:  MentalRe: After 2000 years, can we say that Christian Morality is; TLDR: In article <Apr18.175334.1565@cs.cornell.edu> ez027993@saturn.wwc.edu writes:[deleted]>I will, however, add two lines to this.  I believe that you have shown that the>objective morality is by nature, and that its objective values (i.e.,>a system that depends upon both values and values being both, and vice versa)>is by natural means a system that can depend only on what values are>and vice versa.>>[deleted]>This is one of two Laws in this world, theone that is at the heart of the basic idea of>the \"objective morality\" - the one that defines a subjectivity.>>[deleted]>>If any aspect of a proposition, as I understand the usage of it>by many Christians, depends only\n"
          ]
        },
        {
          "output_type": "stream",
          "name": "stderr",
          "text": [
            "The attention mask and the pad token id were not set. As a consequence, you may observe unexpected behavior. Please pass your input's `attention_mask` to obtain reliable results.\n",
            "Setting `pad_token_id` to `eos_token_id`:50256 for open-end generation.\n"
          ]
        },
        {
          "output_type": "stream",
          "name": "stdout",
          "text": [
            "  Batch 2,100  of  8,481. Loss: 2.209322690963745.   Elapsed: 0:18:44.\n",
            "0: idsRe: New Testament Double Standard for Christians; TLDR:    I have heard numerous reports on how to obtain copies of the New Testament from the Bible. However, there are a few things I'm not aware of. I have not heard the exact equivalent of the Bible, but I have heard some, including that Christians who are not Christians are simplynot believing the same thing.                                                                                                                         \n"
          ]
        },
        {
          "output_type": "stream",
          "name": "stderr",
          "text": [
            "The attention mask and the pad token id were not set. As a consequence, you may observe unexpected behavior. Please pass your input's `attention_mask` to obtain reliable results.\n",
            "Setting `pad_token_id` to `eos_token_id`:50256 for open-end generation.\n"
          ]
        },
        {
          "output_type": "stream",
          "name": "stdout",
          "text": [
            "  Batch 2,200  of  8,481. Loss: 0.9130452871322632.   Elapsed: 0:19:38.\n",
            "0: ceansRe: The Role of the National News Media in Inflaming Passions; TLDR: In article <1993Apr21.200456.9598@sei.cmu.edu> rlforsy@sei.cmu.edu (RlForsy) writes:>The Role of the National News Media in Inflaming Passions  >This seems to me to be an attempt to discredit or discredit>the role of the National News Media in Inflaming Passions.  If you really want>to publish a positive example of the role of the National News Media in Inflaming Passions>by the media, you can obtain them from the Institute for Standards & Technology,>or from the National News Media Information Office at the National News Media Office.If you have any info, e-mail me directly with my request.It is also a good reason to post it.>>This way, if they don't put their opinions on my\n"
          ]
        },
        {
          "output_type": "stream",
          "name": "stderr",
          "text": [
            "The attention mask and the pad token id were not set. As a consequence, you may observe unexpected behavior. Please pass your input's `attention_mask` to obtain reliable results.\n",
            "Setting `pad_token_id` to `eos_token_id`:50256 for open-end generation.\n"
          ]
        },
        {
          "output_type": "stream",
          "name": "stdout",
          "text": [
            "  Batch 2,300  of  8,481. Loss: 0.9365543127059937.   Elapsed: 0:20:32.\n",
            "0:  geneticallyRe: After 2000 years, can we say that Christian Morality is; TLDR: In article <1993Apr16.061510.22427@gnv.ifas.ufl.edu> frank@gnv.ifas.ufl.edu writes:>In article <73484738@hlsc3.hlsc.com> frank@gnv.ifas.ufl.edu writes:>>It's important to look at the history behind the words \"objective morality\"> in the context of this>statement, that if true, it makes no difference between a>>moral system or the \"objective\" system. And that difference cannot be easily>>explained with logic. >>>Which is _how_ accurate is the statement that, by _all_ the world's>>morals are objective.Which is _how_ accurate?? And is a very important point??>Perhaps we can give some meaning to this statement,\n"
          ]
        },
        {
          "output_type": "stream",
          "name": "stderr",
          "text": [
            "The attention mask and the pad token id were not set. As a consequence, you may observe unexpected behavior. Please pass your input's `attention_mask` to obtain reliable results.\n",
            "Setting `pad_token_id` to `eos_token_id`:50256 for open-end generation.\n"
          ]
        },
        {
          "output_type": "stream",
          "name": "stdout",
          "text": [
            "  Batch 2,400  of  8,481. Loss: 1.2856535911560059.   Elapsed: 0:21:25.\n",
            "0:  adviceRe: Notes on Jays vs. Indians Series Series; TLDR: kludge@mahogany126.jsc.ti.com writes:>In article <93109.024222M00WBLI1isp@mahogany126.jsc.ti.com> m0079bw@mahogany126.jsc.ti.com writes:>>>It is important that Alomar fans be willing to sacrifice a large part to keep>some games they are going to. When he's blue jays off he must be>blue in a consecutive season. That's part of the reason why we're pitching to Alomar when he's>back in April. Alomar fans are more willing to sacrifice a large part to keep>another year's major league playoffs than when Alomar is down?>And Alomar fans are much more willing to sacrifice a large part to keep>another season. So Al\n"
          ]
        },
        {
          "output_type": "stream",
          "name": "stderr",
          "text": [
            "The attention mask and the pad token id were not set. As a consequence, you may observe unexpected behavior. Please pass your input's `attention_mask` to obtain reliable results.\n",
            "Setting `pad_token_id` to `eos_token_id`:50256 for open-end generation.\n"
          ]
        },
        {
          "output_type": "stream",
          "name": "stdout",
          "text": [
            "  Batch 2,500  of  8,481. Loss: 1.1720291376113892.   Elapsed: 0:22:19.\n",
            "0:  incompleteRe: Why was Barry Bonds not batting 4th?; TLDR: >I can hardly tell you why Bonds was 4th behind>Clemens or Sutter.  He hadn't done more than that and batting 4th>behind Sutter.>>>There was a lot of hype and bad taste.  He had done better in >Philadelphia.  The Mets got him a week (3), the>Padres got him a year (3), and now I think that Williams>is a potential star?  Anyone have any insight into what he might have>done if he didn't make it?  What do I know>about Williams?  What do I know about Williams?I think that it was a huge trade-in with several potentialstarleters.  I don't think that it would have been the same trade.  And I guess thisis because some of them were better than Bonds.  But notyet.  Any thoughts on what they should\n"
          ]
        },
        {
          "output_type": "stream",
          "name": "stderr",
          "text": [
            "The attention mask and the pad token id were not set. As a consequence, you may observe unexpected behavior. Please pass your input's `attention_mask` to obtain reliable results.\n",
            "Setting `pad_token_id` to `eos_token_id`:50256 for open-end generation.\n"
          ]
        },
        {
          "output_type": "stream",
          "name": "stdout",
          "text": [
            "  Batch 2,600  of  8,481. Loss: 2.0077006816864014.   Elapsed: 0:23:13.\n",
            "0: commentRe: Good Neighbor Political Hypocrisy Test; TLDR: In <1993Apr19.173839.23245@ncsu.edu> caf@eos.ncsu.edu (Chuck Forsberg WA7KGX) writes:>\t\tIn article <1qbv3INN7qv@agate.berkeley.berkeley.edu> agr00@berkeley.berkeley.edu (Andi Beyer) writes:>>> >> Well that's good, but the federalist (as I have known it) has no way of knowing if there>> is an inner city or a black and white, or a black and white, or a>> a white, black and a white thing to do.>> >> Are these the \" inner city\" inner city, or do the \"black and white\">> be the same thing?>>> >> The white inner city.  If you don't like white and white, don't stop\n"
          ]
        },
        {
          "output_type": "stream",
          "name": "stderr",
          "text": [
            "The attention mask and the pad token id were not set. As a consequence, you may observe unexpected behavior. Please pass your input's `attention_mask` to obtain reliable results.\n",
            "Setting `pad_token_id` to `eos_token_id`:50256 for open-end generation.\n"
          ]
        },
        {
          "output_type": "stream",
          "name": "stdout",
          "text": [
            "  Batch 2,700  of  8,481. Loss: 1.650789737701416.   Elapsed: 0:24:07.\n",
            "0:  pilotRe: Pregnency without sex?; TLDR: lfoard@cs.tau.ac.nz (Lawrence C. Foard) writes:>In article <C5uF2.D5p@dg-rtp.org> cobb@iss.rtp.org (Mr. Nice Guy) writes:>>I was wondering if anyone with a phone and the number of the other>>proper uses for Pregnency without sex could give any advice on what is important to them.>>>A friend of mine was pregnant with three daughters. She had problems with her>>disease. She had lots of problems with her since. She now>>is in pain from kidney stones and has a number of medication. She can't>>even speak for herself, although she knows that she is about to start treatment>>with drugs. She is also in very high risk. >Is there any way she can prevent the pregnancy?>The\n"
          ]
        },
        {
          "output_type": "stream",
          "name": "stderr",
          "text": [
            "The attention mask and the pad token id were not set. As a consequence, you may observe unexpected behavior. Please pass your input's `attention_mask` to obtain reliable results.\n",
            "Setting `pad_token_id` to `eos_token_id`:50256 for open-end generation.\n"
          ]
        },
        {
          "output_type": "stream",
          "name": "stdout",
          "text": [
            "  Batch 2,800  of  8,481. Loss: 1.079009771347046.   Elapsed: 0:25:01.\n",
            "0: gersRe: Deuterocanonicals of I Cor 1:9; TLDR: In article <1993Apr22.132819.1@ccf.iup.edu>, sbp002@ccf.iup.edu (Steve Brinich) writes:|> I know what kind of objection the deuterocanonical translauge is supposed to make is |> interpreted differently, since this is a different issue than the Apocryphal |> version.  What makes me the question:  why is it different from the Apocryphal |> version?  What I see is a very interesting question, since I don't agree strongly about it, and I can't really help.  If you have a question, please let me know.|> I guess the problem, or at least the time to ask it, can't be|> reversed by following up on the subject.|> |> It shouldn't really be that big that\n"
          ]
        },
        {
          "output_type": "stream",
          "name": "stderr",
          "text": [
            "The attention mask and the pad token id were not set. As a consequence, you may observe unexpected behavior. Please pass your input's `attention_mask` to obtain reliable results.\n",
            "Setting `pad_token_id` to `eos_token_id`:50256 for open-end generation.\n"
          ]
        },
        {
          "output_type": "stream",
          "name": "stdout",
          "text": [
            "  Batch 2,900  of  8,481. Loss: 2.2480762004852295.   Elapsed: 0:25:55.\n",
            "0:  mutationRe: The arrogance of Christians; TLDR: In article <Apr.15.01.40.1993.18826@ath.rutgers.edu>,dave_nath@remus.rutgers.edu writes:>In article <May.19.05.39.1993.1749@ath.rutgers.edu>, dave_louis@athena.mit.edu writes:>\t     I'll entertain a question:>\t   I'm not claiming to know>\t   where one's beliefs have nothing to do with>\t    what I believe.  I'm not asserting that I know more than what>\t  I believe, but assuming one's belief is true,>\t   you can conclude that you are not a Christian at all?> >                     \n"
          ]
        },
        {
          "output_type": "stream",
          "name": "stderr",
          "text": [
            "The attention mask and the pad token id were not set. As a consequence, you may observe unexpected behavior. Please pass your input's `attention_mask` to obtain reliable results.\n",
            "Setting `pad_token_id` to `eos_token_id`:50256 for open-end generation.\n"
          ]
        },
        {
          "output_type": "stream",
          "name": "stdout",
          "text": [
            "  Batch 3,000  of  8,481. Loss: 2.1896400451660156.   Elapsed: 0:26:49.\n",
            "0:  DriverRe: My bike is like a bunch of angry people; TLDR: In article <1993Apr14.022922.28040@dtc-rtp.dtc.navy.mil> mjs@dtc-rtp.dtc.navy.mil writes:>In article <C5JLzJ.IJ@murdoch.acc.Virginia.EDU>, jcovingt@hopper.Virginia.EDU (James Covington) writes:>>In article <1qvod$sk8@emory.rutgers.edu> wupd@remus.rutgers.edu (John W. Redelfs) writes:>>...>In article <1qvqj$7qh@network.ucsd.edu>> aardvark@network.ucsd.edu (Warren A. Martins) writes:>>...I'm glad you all have found\n"
          ]
        },
        {
          "output_type": "stream",
          "name": "stderr",
          "text": [
            "The attention mask and the pad token id were not set. As a consequence, you may observe unexpected behavior. Please pass your input's `attention_mask` to obtain reliable results.\n",
            "Setting `pad_token_id` to `eos_token_id`:50256 for open-end generation.\n"
          ]
        },
        {
          "output_type": "stream",
          "name": "stdout",
          "text": [
            "  Batch 3,100  of  8,481. Loss: 2.5714330673217773.   Elapsed: 0:27:43.\n",
            "0: itiRe: Homosexuality issues in Christianity; TLDR: In article <May.11.02.40.34.1993.15480@athos.rutgers.edu> lfoard@hopper.rowan.edu (The Holy Grail) writes:>In article <May.10.05.37.1993.15460@athos.rutgers.edu>, ipser@panix.com writes:>>Just wondering.  Homosexual Christians consider themselves exclusively homosexual.  So,>>how much effort homosexuals have to put into promoting the >>prophecy of Jesus?>There is a big difference between trying to>save people, and trying to save people from being>homosexual.  If you want to save some people, it>are actions we should all bear.  Whether or not we>>need to remove them is another matter.In article <May.11.02.38.24.1993.154\n"
          ]
        },
        {
          "output_type": "stream",
          "name": "stderr",
          "text": [
            "The attention mask and the pad token id were not set. As a consequence, you may observe unexpected behavior. Please pass your input's `attention_mask` to obtain reliable results.\n",
            "Setting `pad_token_id` to `eos_token_id`:50256 for open-end generation.\n"
          ]
        },
        {
          "output_type": "stream",
          "name": "stdout",
          "text": [
            "  Batch 3,200  of  8,481. Loss: 0.7745000720024109.   Elapsed: 0:28:37.\n",
            "0: fffRe: Homosexuality issues in Christianity; TLDR: In article <May.9.05.55.39.1993.11880@athos.rutgers.edu> dleonar@quads.ccu.edu (Fred. Leonard) writes:|> >Homosexual Christians believe that God creates love. And that love,|> >to him.  He creates love with grace, and so to him|> >where he will save you.  That's what they believed.  They believe in him and|> others, but at that point we have to separate Him from God.|> [Stuff to keep in mind, it is still in the Bible.  But if the Gospels really lead to the same statement,they are doing exactly the same thing that the Bible led to.  If there is no evidence of \"homosexuality\" in the Bible, then it is just a lie, not a feature. \n"
          ]
        },
        {
          "output_type": "stream",
          "name": "stderr",
          "text": [
            "The attention mask and the pad token id were not set. As a consequence, you may observe unexpected behavior. Please pass your input's `attention_mask` to obtain reliable results.\n",
            "Setting `pad_token_id` to `eos_token_id`:50256 for open-end generation.\n"
          ]
        },
        {
          "output_type": "stream",
          "name": "stdout",
          "text": [
            "  Batch 3,300  of  8,481. Loss: 1.7917053699493408.   Elapsed: 0:29:31.\n",
            "0: riminationRe: Why Rush died (Was: Temper tantrums from the 1960's); TLDR: In article <strnlghtC5wGH.L1@netcom.com> strnlght@netcom.com (David Sternlight) writes:>In article <C5tC5pE.1Co@dscomsa.desy.de> ehrlich@zeus02.desy.de (Eric Rheinlich) writes:>>>>What are the facts about this revolting religious order?I seem to recall something about a group of fundamentalist fundamentalist Fundamentalists in the midlands who threatened to murder everyoneelse.  I don't know why they wanted to kill each other, but I think it was important that the \"group\" was not about killing.They threatened to kill everyoneelse, but by the time the police had come to the door, they could have beaten Koresh into a tower,which eventually did\n"
          ]
        },
        {
          "output_type": "stream",
          "name": "stderr",
          "text": [
            "The attention mask and the pad token id were not set. As a consequence, you may observe unexpected behavior. Please pass your input's `attention_mask` to obtain reliable results.\n",
            "Setting `pad_token_id` to `eos_token_id`:50256 for open-end generation.\n"
          ]
        },
        {
          "output_type": "stream",
          "name": "stdout",
          "text": [
            "  Batch 3,400  of  8,481. Loss: 0.742449939250946.   Elapsed: 0:30:25.\n",
            "0: aqueRe: Challenge to Microsoft supporters.; TLDR: kam@vax2.cit.cornell.edu (Charley Wingate) writes:>I understand that IBM has now released an update>that will allow MSDOS to run in 640x480 modes, regardless of>its major capabilities.  But, if it's all you need,>what is the impact on the overall performance?>>If you need to get windows on a 486DX33, how should I >make that change?  I've gotten my system running with OS/2 at a higher>speed and the machine has got a number of local bus slots.  Not a local bus,>but the new system doesn't really run at all at that speed.  With OS/2, they can >run at a higher speed with both hardware and>>software.>I don't know if these changes come from DOS or Windows, but they aren't>system specific or what the system\n"
          ]
        },
        {
          "output_type": "stream",
          "name": "stderr",
          "text": [
            "The attention mask and the pad token id were not set. As a consequence, you may observe unexpected behavior. Please pass your input's `attention_mask` to obtain reliable results.\n",
            "Setting `pad_token_id` to `eos_token_id`:50256 for open-end generation.\n"
          ]
        },
        {
          "output_type": "stream",
          "name": "stdout",
          "text": [
            "  Batch 3,500  of  8,481. Loss: 1.3090399503707886.   Elapsed: 0:31:19.\n",
            "0: leeRe: How to the disks copy protected.; TLDR: I would like to add a DOS window that could be used tocopy.I can't use windows for the dos window to copy something, but Iwould like something that could be used to copy.  I have the idea that I would like to have the right amount ofmoney to transfer.  Does this mean thatI am still able to win a game but I can not play.Or does the fact that the DOS window doesn't let me play make it any mucheasier.  Are there any way I can get this to work (unfortunately)?Or the possibility that the windows window doesn't let me choose whichwin/app I do my thing with?Any info would be greatly appreciated.Erc.mvp                                       \n"
          ]
        },
        {
          "output_type": "stream",
          "name": "stderr",
          "text": [
            "The attention mask and the pad token id were not set. As a consequence, you may observe unexpected behavior. Please pass your input's `attention_mask` to obtain reliable results.\n",
            "Setting `pad_token_id` to `eos_token_id`:50256 for open-end generation.\n"
          ]
        },
        {
          "output_type": "stream",
          "name": "stdout",
          "text": [
            "  Batch 3,600  of  8,481. Loss: 2.0658938884735107.   Elapsed: 0:32:12.\n",
            "0:  AlzheimerRe: Once tapped, your code is no good any more.; TLDR: In <15APR93.185430.0062@koz.ucar.edu> <1993Apr26.135044.29104@koz.ucar.edu> <daniel.73404300@koz.ucar.edu> <daniel.73404300@koz.ucar.edu> <daniel.73404300@koz.ucar.edu> <daniel.73404300@koz.ucar.edu> <daniel.73404300@koz.ucar.edu> <daniel.73404300@koz.ucar.edu> <daniel.73404300@quarius.acns.muskingum.edu>> <daniel.73404300@koz.ucar.edu> <\n"
          ]
        },
        {
          "output_type": "stream",
          "name": "stderr",
          "text": [
            "The attention mask and the pad token id were not set. As a consequence, you may observe unexpected behavior. Please pass your input's `attention_mask` to obtain reliable results.\n",
            "Setting `pad_token_id` to `eos_token_id`:50256 for open-end generation.\n"
          ]
        },
        {
          "output_type": "stream",
          "name": "stdout",
          "text": [
            "  Batch 3,700  of  8,481. Loss: 1.4841561317443848.   Elapsed: 0:33:07.\n",
            "0:  checkingXTerm and its Toolkits; TLDR: What happens is that there is no resource associated with theTermTerm (took into account for the use of theTerm in XTerm). Thisis the usual behaviour you describe here.I have seen several similar questions pertaining to the use oftheterm's Toolkits. I have, since, seen several articles (in my own way) onXterm using its Toolkits. However, I had never seen anyone who had seen how to doXterm. In XTerm I have tried the following tools:XTerm\tThe Toolkits Toolkits Toolkits Toolkit\tThe toolkits Toolkits Toolkits Toolkits Toolkits Toolkits Toolkits Toolkits Toolkits Toolkits Toolkits Toolkits Toolkits Toolkits Toolkits Toolkits Toolkits Toolkits Toolkits Toolkits Toolkits Toolkits Tool\n"
          ]
        },
        {
          "output_type": "stream",
          "name": "stderr",
          "text": [
            "The attention mask and the pad token id were not set. As a consequence, you may observe unexpected behavior. Please pass your input's `attention_mask` to obtain reliable results.\n",
            "Setting `pad_token_id` to `eos_token_id`:50256 for open-end generation.\n"
          ]
        },
        {
          "output_type": "stream",
          "name": "stdout",
          "text": [
            "  Batch 3,800  of  8,481. Loss: 1.1585333347320557.   Elapsed: 0:34:00.\n",
            "0: nesiumSamsue Waco fire; TLDR: I'm planning to post a summary on what happened today and how this standoff was handled.Here are the excerpts from some of my thoughts:First, I think the Branch Davidians had no plans to shoot the children at gunpoint.The Second, I think they needed to get the children to their safe home and to their safe home.  I believe that this strategy was in part to begin with.Second, I think a tragic mistake.  Even worse, the Branch Davidians had no plans to shootthe children at gunpoint.  However, I think the FBI's strategy was designed to intimidate them to show that they didn't want to shoot them at gunpoint or that they were afraid of doing something wrong.  I believe they wanted to scare them.  However, I think thegovernment did nothing wrong to scare them and kept them scared.The Koresh decision was a lot worse.  It is supposed to happen with Kore\n"
          ]
        },
        {
          "output_type": "stream",
          "name": "stderr",
          "text": [
            "The attention mask and the pad token id were not set. As a consequence, you may observe unexpected behavior. Please pass your input's `attention_mask` to obtain reliable results.\n",
            "Setting `pad_token_id` to `eos_token_id`:50256 for open-end generation.\n"
          ]
        },
        {
          "output_type": "stream",
          "name": "stdout",
          "text": [
            "  Batch 3,900  of  8,481. Loss: 2.2555346488952637.   Elapsed: 0:34:54.\n",
            "0:  1957Re: Dumbest automotive concepts of all time; TLDR:            <93095@hydra.gatech.EDU>       <C5qB3D.Iq5@srv1.engin.umich.edu>   <1993Apr21.153627.14494@ucsu.Colorado.EDU>        <C5u2G8.II1@srv1.engin.umich.edu>>   <C5qB3D.Iq5@srv1.engin.umich.edu>>    <C5qB3D.II1@srv1.engin.umich.edu>   <C5qB3D.II1@srv1.engin.umich.edu>   \n"
          ]
        },
        {
          "output_type": "stream",
          "name": "stderr",
          "text": [
            "The attention mask and the pad token id were not set. As a consequence, you may observe unexpected behavior. Please pass your input's `attention_mask` to obtain reliable results.\n",
            "Setting `pad_token_id` to `eos_token_id`:50256 for open-end generation.\n"
          ]
        },
        {
          "output_type": "stream",
          "name": "stdout",
          "text": [
            "  Batch 4,000  of  8,481. Loss: 1.2834110260009766.   Elapsed: 0:35:48.\n",
            "0: manshipRe: My Gun is like my American Express Card; TLDR: In article <16APR199300580@utkvm1.utk.edu>, ajays@utkvm1.utk.edu (A.J. Miller) writes:|> In article <1993Apr12.155750.22301@sms.smsu.edu> mhamilto@sms.smsu.edu (Marvin Hamilto) writes:|> |> In article <11649.1701@utkvm1.utk.edu>, ajayshah@utkvm1.utk.edu (A.J. Miller) writes:|> |> >I am a little shocked to hear the reaction when I|> >here a kid carrying a gun illegally.  Even|> >a child who is not a threat to a neighborhood kid in the city|> >\n"
          ]
        },
        {
          "output_type": "stream",
          "name": "stderr",
          "text": [
            "The attention mask and the pad token id were not set. As a consequence, you may observe unexpected behavior. Please pass your input's `attention_mask` to obtain reliable results.\n",
            "Setting `pad_token_id` to `eos_token_id`:50256 for open-end generation.\n"
          ]
        },
        {
          "output_type": "stream",
          "name": "stdout",
          "text": [
            "  Batch 4,100  of  8,481. Loss: 0.8785603046417236.   Elapsed: 0:36:41.\n",
            "0:  understandRe: Clinton's Wire-Quack; TLDR: In article <1993Apr15.114707.1@magnus.acs.ohio-state.edu> jb@magnus.acs.ohio-state.edu writes:>>In article <C5rynw.JB1@news.clarkson.edu> mwilson@sinkhole.clarkson.edu (Mike Wilson) writes:>>A few weeks ago, the U.S. attorney for a state-of-the-art air conditioning was>>talking to the governor in a statehouse.  At this point the>>elect said \"the statehouse\" was \"very secure\">and that there was no warrant. >>I don't think we can hope for your \"balls\" when>>we get into politics by trying to come up with a bill that you don't>>want to oppose.>>Actually, a few years ago,\n"
          ]
        },
        {
          "output_type": "stream",
          "name": "stderr",
          "text": [
            "The attention mask and the pad token id were not set. As a consequence, you may observe unexpected behavior. Please pass your input's `attention_mask` to obtain reliable results.\n",
            "Setting `pad_token_id` to `eos_token_id`:50256 for open-end generation.\n"
          ]
        },
        {
          "output_type": "stream",
          "name": "stdout",
          "text": [
            "  Batch 4,200  of  8,481. Loss: 1.5072842836380005.   Elapsed: 0:37:35.\n",
            "0:  passionRe: VESA/MSW meltdown - UPDATE; TLDR: \t<1993Apr21.143004.8341@csc.atc.com>, by mcmahan@csc.atc.com (M.C. Mahan) writes:> > > Hi!   Hello!     > > > >   > > Could anyone out there tell me what to do when> > > running SVGA cards and what this means?    > > > > > > >   > Thanks.> \t> > > -- > > > > >\t\tMajorski,> > > >> > > -- > > > > -------------------------------------------------------------------------------> mcmahan@csc.atc.com\tM.C. Mahan > > > -------------------------------------------------------------------------------> mcmahan@csc.atc.com\tM.C. Mahan   > > -------------------------------------------------------------------------------> m\n"
          ]
        },
        {
          "output_type": "stream",
          "name": "stderr",
          "text": [
            "The attention mask and the pad token id were not set. As a consequence, you may observe unexpected behavior. Please pass your input's `attention_mask` to obtain reliable results.\n",
            "Setting `pad_token_id` to `eos_token_id`:50256 for open-end generation.\n"
          ]
        },
        {
          "output_type": "stream",
          "name": "stdout",
          "text": [
            "  Batch 4,300  of  8,481. Loss: 1.8917269706726074.   Elapsed: 0:38:29.\n",
            "0:  curvedRe: Looking for MOVIES w/ BIKES w/ BIKES; TLDR: In <1qg9eINNm2@clem.handheld.com> dhartung@cube.handheld.com (Dan Hartung) writes:>                                                                                ^^I'm looking for MOVIES w/ BIKES w/ BIKES w/ BIKES w/ BIKES w/ BIKES w/ BIKES w/ BIKES w/ BIKES w/ BIKES w/ BIKES w/ BIK\n"
          ]
        },
        {
          "output_type": "stream",
          "name": "stderr",
          "text": [
            "The attention mask and the pad token id were not set. As a consequence, you may observe unexpected behavior. Please pass your input's `attention_mask` to obtain reliable results.\n",
            "Setting `pad_token_id` to `eos_token_id`:50256 for open-end generation.\n"
          ]
        },
        {
          "output_type": "stream",
          "name": "stdout",
          "text": [
            "  Batch 4,400  of  8,481. Loss: 0.5650947690010071.   Elapsed: 0:39:23.\n",
            "0:  AnRe: Once tapped, your code is no good any more.; TLDR: In article <1993Apr20.035038.2686@CSD-NewsHost.Stanford.EDU>, steiner@SAIL.Stanford.EDU (Lance Steinman) writes:|> > I don't think they'd be happy with it, either.  They'd rather be|> > released if the government hadn't bugged yet.  They would rather keep|> > them in business long before they became law-abiding citizens.|> >> I think what they would rather have is the ability to have someone|> > tap you whenever they want.  However,|> > most (especially government) will have the right to tap someone if they|> > don't like to.  There are actually *lot* of reasons why these|> > aren't agreed upon.  The government has the right to know what|> >\n"
          ]
        },
        {
          "output_type": "stream",
          "name": "stderr",
          "text": [
            "The attention mask and the pad token id were not set. As a consequence, you may observe unexpected behavior. Please pass your input's `attention_mask` to obtain reliable results.\n",
            "Setting `pad_token_id` to `eos_token_id`:50256 for open-end generation.\n"
          ]
        },
        {
          "output_type": "stream",
          "name": "stdout",
          "text": [
            "  Batch 4,500  of  8,481. Loss: 1.0482162237167358.   Elapsed: 0:40:17.\n",
            "0: ottiWhat is the deal with \"Cripple\" BB?; TLDR: Here's what I've heard...Cripple (sp?) is a popular baseball player, usually second-coverage for baseball, not necessarily for baseball, since he's only 24-1 at bat, but he could still pitch the ball (including the new 3-b ups that came withthe new 3-b ups that came with the New York Mets).  I've seen it in a few baseball books, but I haven't been reading much (especially sinceI bought the first game).So, what's the deal with \"Cripple\" (sp?) being in baseball, and the new \"Cripple\" being inbaseball?  Is it simply \"Cripple\" or what?-- John Lawrence  Lawrence, Lawrence@joe.crux.nl\"The Truth about Waco\" -- by Erich W. K. Geweke  Lawrence\n"
          ]
        },
        {
          "output_type": "stream",
          "name": "stderr",
          "text": [
            "The attention mask and the pad token id were not set. As a consequence, you may observe unexpected behavior. Please pass your input's `attention_mask` to obtain reliable results.\n",
            "Setting `pad_token_id` to `eos_token_id`:50256 for open-end generation.\n"
          ]
        },
        {
          "output_type": "stream",
          "name": "stdout",
          "text": [
            "  Batch 4,600  of  8,481. Loss: 2.3100802898406982.   Elapsed: 0:41:10.\n",
            "0:  intakeRe: The 1964 Phillies: A Technical Look at Playoffs; TLDR: In article <1993May10.220456.3095@jupiter.sun.csd.unb.ca>, lance@jupiter.sun.csd.unb.ca (Michael Lance) writes:> > > This may be a subjective judgement.  A Philadelphia Phillies team of the '93 season> > in Philadelphia is not known by fans, and may have the lowest average number of seats> > on any team in the majors, but I don't know if any team, esp. St. Louis or> > Hartford, is a team that does have the highest total number of seats in the> > NHL.                                                   \n"
          ]
        },
        {
          "output_type": "stream",
          "name": "stderr",
          "text": [
            "The attention mask and the pad token id were not set. As a consequence, you may observe unexpected behavior. Please pass your input's `attention_mask` to obtain reliable results.\n",
            "Setting `pad_token_id` to `eos_token_id`:50256 for open-end generation.\n"
          ]
        },
        {
          "output_type": "stream",
          "name": "stdout",
          "text": [
            "  Batch 4,700  of  8,481. Loss: 2.0750179290771484.   Elapsed: 0:42:05.\n",
            "0:  TsRe: What's the deal with this mess?; TLDR: >In article <C5JyvD.FJo@cae.cad.gatech.edu> vzhivov@cad.gatech.edu (Reenaz P. Zhivov) writes:> > >This is a simple question: are you saying that the dealer was in an \"inovative> >investment\" and that the dealer \"initiated\" the deal with the company?No, and I'm referring to your own \"personal feelings\". (I did not say anything aboutthat, just a bit of it) >What I was saying is that there is nothing I>know about the deal....I'll be surprised if anyone responds to my \"no\">suggestions, but I want to know:What's wrong? Are you talking for or against?What exactly is wrong?Why would you, if you have any particular problems\n"
          ]
        },
        {
          "output_type": "stream",
          "name": "stderr",
          "text": [
            "The attention mask and the pad token id were not set. As a consequence, you may observe unexpected behavior. Please pass your input's `attention_mask` to obtain reliable results.\n",
            "Setting `pad_token_id` to `eos_token_id`:50256 for open-end generation.\n"
          ]
        },
        {
          "output_type": "stream",
          "name": "stdout",
          "text": [
            "  Batch 4,800  of  8,481. Loss: 0.917984127998352.   Elapsed: 0:42:58.\n",
            "0:  MainRe: Bimmer vs Beamer; TLDR: In article <1r0e5eINNd0@life.ai.mit.edu> livesey@solntze.wpd.sgi.com (Jon Livesey) writes:>In article <1r0qi1INNd0@life.ai.mit.edu> livesey@solntze.wpd.sgi.com (Jon Livesey) writes:>>>>...>>>In article <1r4be$4e@vma.smsu.edu> banschbach@SMSU.EDU (Brian S.>B.) writes:>>>>Bimmer should not be an option. It is much cheaper to install a >>bimmer - the bulb is a big, and can be in any tube, including a >>spunner.>> >>I think this is a dumb one. I know that the bulb is an expensive bulb,\n"
          ]
        },
        {
          "output_type": "stream",
          "name": "stderr",
          "text": [
            "The attention mask and the pad token id were not set. As a consequence, you may observe unexpected behavior. Please pass your input's `attention_mask` to obtain reliable results.\n",
            "Setting `pad_token_id` to `eos_token_id`:50256 for open-end generation.\n"
          ]
        },
        {
          "output_type": "stream",
          "name": "stdout",
          "text": [
            "  Batch 4,900  of  8,481. Loss: 0.8911605477333069.   Elapsed: 0:43:52.\n",
            "0:  temRe: The Escrow Database.; TLDR: In article <1993Apr22.152521.153919@guvax.guvax.edu> lippard@guvax.guvax.edu (David J Lippard) writes:> In article <1993Apr22.160900.1@ncratl.AtlantaGA.NCR.COM> yzkriz@ncratl.AtlantaGA.NCR.COM (David Yzkriz) writes:>>>\tWith the WoD and the increased crime rate, the number of new stolen>>\t\t\t\t\t\t\t\t\t                                                                \n"
          ]
        },
        {
          "output_type": "stream",
          "name": "stderr",
          "text": [
            "The attention mask and the pad token id were not set. As a consequence, you may observe unexpected behavior. Please pass your input's `attention_mask` to obtain reliable results.\n",
            "Setting `pad_token_id` to `eos_token_id`:50256 for open-end generation.\n"
          ]
        },
        {
          "output_type": "stream",
          "name": "stdout",
          "text": [
            "  Batch 5,000  of  8,481. Loss: 0.9083885550498962.   Elapsed: 0:44:46.\n",
            "0:  ClickRe: Help; TLDR: In article <1993Apr21.174824.11436@seagoon.cs.fsu.edu>  writes:>In article <1993Apr21.195214.15471@zeus.calpoly.edu>, kadie@trumpet.calpoly.edu (Carl M. Kadie) writes:>|> >You might want to ask a kid how to speed up the game.  He has only>|> >a few points but he can do most of the work.  He has had one heck of a>|> >time.  It sounds like one.  Every time he tries to call a kid that's already been>|> >dancing on the net and not a kid that has already been riding on the>|> >net, he's going to get shot at.  Every time he reaches a kid, he>|> >tries to\n"
          ]
        },
        {
          "output_type": "stream",
          "name": "stderr",
          "text": [
            "The attention mask and the pad token id were not set. As a consequence, you may observe unexpected behavior. Please pass your input's `attention_mask` to obtain reliable results.\n",
            "Setting `pad_token_id` to `eos_token_id`:50256 for open-end generation.\n"
          ]
        },
        {
          "output_type": "stream",
          "name": "stdout",
          "text": [
            "  Batch 5,100  of  8,481. Loss: 0.803691029548645.   Elapsed: 0:45:40.\n",
            "0:  XVRe: Why I'm not using Dos 6 anymore; TLDR: In article <1qg8trINNb9@msuinfo.cl.msu.edu> garrett@eos.msu.edu (Craig Franklin) writes:>>You are free to type \"C\" instead of \"D\".Well, if you don't want the jumpers to be set to>use, you can use your windows 3.1 drivers, but you will not be able to type>C for DOS 6.  However, I don't have the right memory>on my PC.Are you sure?  Are you sure?  If you're.  I'm under OS/2 4.0.-- #\t\t\t\t\tDoug Holtson                           |     |\t| \"Shit, now is\n"
          ]
        },
        {
          "output_type": "stream",
          "name": "stderr",
          "text": [
            "The attention mask and the pad token id were not set. As a consequence, you may observe unexpected behavior. Please pass your input's `attention_mask` to obtain reliable results.\n",
            "Setting `pad_token_id` to `eos_token_id`:50256 for open-end generation.\n"
          ]
        },
        {
          "output_type": "stream",
          "name": "stdout",
          "text": [
            "  Batch 5,200  of  8,481. Loss: 1.1498606204986572.   Elapsed: 0:46:34.\n",
            "0:  dormRe: New Study Out On Gay Percentage; TLDR: In article <16APR1991203.170255@galileo.cc.rochester.edu> ALUABHIJACK@uhura.cc.rochester.edu (ALUABHIJACK) writes:>From the Santa Rosa (Cal.) Press-Democrat, April 15, 1993, p. B2:>>                                                                                                                \n"
          ]
        },
        {
          "output_type": "stream",
          "name": "stderr",
          "text": [
            "The attention mask and the pad token id were not set. As a consequence, you may observe unexpected behavior. Please pass your input's `attention_mask` to obtain reliable results.\n",
            "Setting `pad_token_id` to `eos_token_id`:50256 for open-end generation.\n"
          ]
        },
        {
          "output_type": "stream",
          "name": "stdout",
          "text": [
            "  Batch 5,300  of  8,481. Loss: 2.0586915016174316.   Elapsed: 0:47:28.\n",
            "0:  upstreamRe: Top Ten Reasons Not to give $1 billion to first year-long moon residents; TLDR: In article <1r4v5$qkt@access.digex.net> prb@access.digex.com (Pat) writes:>I will give $1 billion to first year-long moon residents if they can get a>successful application from government or private agencies.  These people will>still put money into space in an amazingly amount to the full moon.  I think this>is very encouraging, and I hope NASA and the Clinton administration make the effort>longer, but that was what I hope it was going to happen.I'd really like to see the idea of funding more seriously.  On the otherhand, I'm sure others like the program \"might someday\" award go a long way to reducingcost.  Maybe I should give it to the Congress.  I think this is important.  A great idea.\n"
          ]
        },
        {
          "output_type": "stream",
          "name": "stderr",
          "text": [
            "The attention mask and the pad token id were not set. As a consequence, you may observe unexpected behavior. Please pass your input's `attention_mask` to obtain reliable results.\n",
            "Setting `pad_token_id` to `eos_token_id`:50256 for open-end generation.\n"
          ]
        },
        {
          "output_type": "stream",
          "name": "stdout",
          "text": [
            "  Batch 5,400  of  8,481. Loss: 1.305687427520752.   Elapsed: 0:48:22.\n",
            "0: الRe: Good for hockey, bad for hockey; TLDR:              Corp. The opinions expressed are those of the user and      not necessarily those of CONVEX or CONVEX.>Anycomments?>\t\t\t\t\t\t\t\t\t\t>\t\t\t\t\t\t\t\t>\t\t                                                                                                                      \n"
          ]
        },
        {
          "output_type": "stream",
          "name": "stderr",
          "text": [
            "The attention mask and the pad token id were not set. As a consequence, you may observe unexpected behavior. Please pass your input's `attention_mask` to obtain reliable results.\n",
            "Setting `pad_token_id` to `eos_token_id`:50256 for open-end generation.\n"
          ]
        },
        {
          "output_type": "stream",
          "name": "stdout",
          "text": [
            "  Batch 5,500  of  8,481. Loss: 1.001718282699585.   Elapsed: 0:49:15.\n",
            "0: ariaRe: The Bible (was Re: \"Accepting Jeesus in your heart...\"); TLDR: > In article <1993Apr24.074138.21959@cbnewsm.cb.att.com>, darice@cbnewsm.cb.att.com (Fred Rice) writes:> > In article <May.5.02.58.42.1993.28074@athos.rutgers.edu> andrew@geneva.rutgers.edu (Andrew Christiansen) writes:> > \"In some recent postings I have in> > >                                                                   > an all-round list\n"
          ]
        },
        {
          "output_type": "stream",
          "name": "stderr",
          "text": [
            "The attention mask and the pad token id were not set. As a consequence, you may observe unexpected behavior. Please pass your input's `attention_mask` to obtain reliable results.\n",
            "Setting `pad_token_id` to `eos_token_id`:50256 for open-end generation.\n"
          ]
        },
        {
          "output_type": "stream",
          "name": "stdout",
          "text": [
            "  Batch 5,600  of  8,481. Loss: 1.2033882141113281.   Elapsed: 0:50:10.\n",
            "0: PGRe: The Escrow Database.; TLDR: In article <C5p9t3.7n8@cronkite.Central.Sun.COM> nsmca@clesun.Central.Sun.COM writes:>Just a few lines...The Escrow Database runs more than 1000 nodes a day, up from the>end of two months to end this year.  The output is about equal to 80,000 per>message per second.  The total number of nodes per day in each node varies>depending on the clock cycles.  Each node, as each> node is affected by each cycle, has the property of>the number of nodes affected.  The following:  nodes on each->node are affected by the clock cycle.  each node has its> property of a cycle of 25 years and each node, and each> node has its property of a cycle of 40 years.  Each> node has its property of a cycle of\n"
          ]
        },
        {
          "output_type": "stream",
          "name": "stderr",
          "text": [
            "The attention mask and the pad token id were not set. As a consequence, you may observe unexpected behavior. Please pass your input's `attention_mask` to obtain reliable results.\n",
            "Setting `pad_token_id` to `eos_token_id`:50256 for open-end generation.\n"
          ]
        },
        {
          "output_type": "stream",
          "name": "stdout",
          "text": [
            "  Batch 5,700  of  8,481. Loss: 0.5586472749710083.   Elapsed: 0:51:03.\n",
            "0: IllRe: Challenge to Microsoft supporters.; TLDR: In article <16BB1C5.1AI@ulkyvx.louisville.edu> \"System Administrator\" <steveh@ulkyvx.louisville.edu> writes:>That is, I think I've seen what people have to say about it, and it looks>like that it is MS's will.If I had written the Windows version I probably would have been happy to tell my fellow people about it.If you want a good example and then we can just put it there.  I really like it!\n"
          ]
        },
        {
          "output_type": "stream",
          "name": "stderr",
          "text": [
            "The attention mask and the pad token id were not set. As a consequence, you may observe unexpected behavior. Please pass your input's `attention_mask` to obtain reliable results.\n",
            "Setting `pad_token_id` to `eos_token_id`:50256 for open-end generation.\n"
          ]
        },
        {
          "output_type": "stream",
          "name": "stdout",
          "text": [
            "  Batch 5,800  of  8,481. Loss: 0.5856826305389404.   Elapsed: 0:51:56.\n",
            "0:  automatedRe: WARNING.....(please read)...; TLDR: mikem@cbnewsl.cb.att.com (Michael Parks J. Parks) writes:>>I'm getting ready to defend my right to keep and bear weapons.>>I understand people have been able to protect themselves>and my property using deadly force if necessary anywhere in the>                                                   ^^^^^^^^^^^^^^^^^^^^^^^^^^>I don't see a lot of people are willing to defend their own>and my property using deadly force to intimidate, and I'm sorry about the>                               ^^^^^^^^^^^^^^^^^^^^^^^^^^^^^\n"
          ]
        },
        {
          "output_type": "stream",
          "name": "stderr",
          "text": [
            "The attention mask and the pad token id were not set. As a consequence, you may observe unexpected behavior. Please pass your input's `attention_mask` to obtain reliable results.\n",
            "Setting `pad_token_id` to `eos_token_id`:50256 for open-end generation.\n"
          ]
        },
        {
          "output_type": "stream",
          "name": "stdout",
          "text": [
            "  Batch 5,900  of  8,481. Loss: 0.6235399842262268.   Elapsed: 0:52:50.\n",
            "0:  hiringRe: RE: How do make a phone work? (was: Advice on New to Motorcycles...); TLDR: >                                                                                                                                                                             \n"
          ]
        },
        {
          "output_type": "stream",
          "name": "stderr",
          "text": [
            "The attention mask and the pad token id were not set. As a consequence, you may observe unexpected behavior. Please pass your input's `attention_mask` to obtain reliable results.\n",
            "Setting `pad_token_id` to `eos_token_id`:50256 for open-end generation.\n"
          ]
        },
        {
          "output_type": "stream",
          "name": "stdout",
          "text": [
            "  Batch 6,000  of  8,481. Loss: 2.0799171924591064.   Elapsed: 0:53:44.\n",
            "0:  tweetingPompous Satan; TLDR: In article <1993Apr20.015053.3123@magnus.acs.ohio-state.edu> rscharfy@magnus.acs.ohio-state.edu (Ryan C Scharfy) writes:>What is \"Satan\" supposed to say?  I was born in>California, was raised by a pack of wild corn dogs, and>got my first clue as to the extent it was up to me.  I>took the liberty of picking up the phone while leading a day's>week.  I guess I would be hardpressed to find this in San Jose,>while you may think it is generally held that it is not up to me.  But>I'm not in the area.  Thanks for the info-- maybe someone will>correct me.-- and try to please reply as I am.          \n"
          ]
        },
        {
          "output_type": "stream",
          "name": "stderr",
          "text": [
            "The attention mask and the pad token id were not set. As a consequence, you may observe unexpected behavior. Please pass your input's `attention_mask` to obtain reliable results.\n",
            "Setting `pad_token_id` to `eos_token_id`:50256 for open-end generation.\n"
          ]
        },
        {
          "output_type": "stream",
          "name": "stdout",
          "text": [
            "  Batch 6,100  of  8,481. Loss: 1.838678002357483.   Elapsed: 0:54:38.\n",
            "0: abitWhat if the CPU is running in an idle machine (POWER or COMETUP )?  I need to run OS (i486DX2-50V). I would like to have the CPU running just in an idle machine,but not in a power box (which is often uneconomically cheap) for a PC. I would also like to build a CPU that runs on idle machines. Thanks,Malcusco--MALcusco@i386.cica.indiana.edu (Nathaniel Malcusco)\n"
          ]
        },
        {
          "output_type": "stream",
          "name": "stderr",
          "text": [
            "The attention mask and the pad token id were not set. As a consequence, you may observe unexpected behavior. Please pass your input's `attention_mask` to obtain reliable results.\n",
            "Setting `pad_token_id` to `eos_token_id`:50256 for open-end generation.\n"
          ]
        },
        {
          "output_type": "stream",
          "name": "stdout",
          "text": [
            "  Batch 6,200  of  8,481. Loss: 1.435604214668274.   Elapsed: 0:55:30.\n",
            "0:  iiRe: My Gun is like my American Express Card; TLDR: >>                                                                                                     ^^^^^^^^^^^^^^^^^^^^^^^^^^^^^^^^^^^^^^^^^^^^^^^^^^^^^^^^^^^^^^I realize this is a very dumb question, but here goes: I have no friends who own one who has one. It's the most amazing thing to have ever had a gun. I live in the San Francisco Area. I was just born, and I am quite happy to have the whole thing come to pass. Itwas fun\n"
          ]
        },
        {
          "output_type": "stream",
          "name": "stderr",
          "text": [
            "The attention mask and the pad token id were not set. As a consequence, you may observe unexpected behavior. Please pass your input's `attention_mask` to obtain reliable results.\n",
            "Setting `pad_token_id` to `eos_token_id`:50256 for open-end generation.\n"
          ]
        },
        {
          "output_type": "stream",
          "name": "stdout",
          "text": [
            "  Batch 6,300  of  8,481. Loss: 1.0670191049575806.   Elapsed: 0:56:25.\n",
            "0: clipRe: The Inimitable Rushdie; TLDR: In article <1993Apr2.20137.6176@monu6.cc.monash.edu.au>darice@yoyo.cc.monash.edu.au (Fred Rice) writes:>>I've noticed an interesting phenomenon with this group: so far the only>attempts for discussion that it mentions is Islam (where you talk about somethingand get a reply, \"oh yeah that's a different topic,\" etc. etc.),>which seem like an Islamophobe must be having a different resonance (or at least>it was to be discussed at least twice). >>The point is that Islam is a religion that has no purpose in any sense of >existence, its only purpose is to educate the masses.>Islam was not a religion that glorify, and so not an Islamic >faith.>>The point is that Islamic teachings make the masses look like>religion;\n"
          ]
        },
        {
          "output_type": "stream",
          "name": "stderr",
          "text": [
            "The attention mask and the pad token id were not set. As a consequence, you may observe unexpected behavior. Please pass your input's `attention_mask` to obtain reliable results.\n",
            "Setting `pad_token_id` to `eos_token_id`:50256 for open-end generation.\n"
          ]
        },
        {
          "output_type": "stream",
          "name": "stdout",
          "text": [
            "  Batch 6,400  of  8,481. Loss: 0.8284923434257507.   Elapsed: 0:57:18.\n",
            "0:  FrancRe: Please help with email message detection systems; TLDR: In article <1r2r7qINNh6i@hp-col.col.hp.com>, x86_k@col.hp.com (Brian Yamauchi) wrote:> >                                                                                                                                             \n"
          ]
        },
        {
          "output_type": "stream",
          "name": "stderr",
          "text": [
            "The attention mask and the pad token id were not set. As a consequence, you may observe unexpected behavior. Please pass your input's `attention_mask` to obtain reliable results.\n",
            "Setting `pad_token_id` to `eos_token_id`:50256 for open-end generation.\n"
          ]
        },
        {
          "output_type": "stream",
          "name": "stdout",
          "text": [
            "  Batch 6,500  of  8,481. Loss: 1.8038122653961182.   Elapsed: 0:58:12.\n",
            "0:  listeningRe: Who are the people who make the jump?                              ; TLDR: In article <1993Apr17.122023.28922@guvax.acc.georgetown.edu> dgrubb@guvax.acc.georgetown.edu (David Grubb) writes:>There is a lot of information on this group, but it's>mostly independent.  It's just the people who put this information>in the FAQ for the past few years.>>There are some people, usually aged 23-something, who do it, usually>practitionally, without problem (and usually in private or corporate use).>Well, I guess I'll make it clear that we are all in the same spiritual>condition, and that each person should be able to recognize one of the two persons>who put it\n"
          ]
        },
        {
          "output_type": "stream",
          "name": "stderr",
          "text": [
            "The attention mask and the pad token id were not set. As a consequence, you may observe unexpected behavior. Please pass your input's `attention_mask` to obtain reliable results.\n",
            "Setting `pad_token_id` to `eos_token_id`:50256 for open-end generation.\n"
          ]
        },
        {
          "output_type": "stream",
          "name": "stdout",
          "text": [
            "  Batch 6,600  of  8,481. Loss: 0.2814701795578003.   Elapsed: 0:59:06.\n",
            "0:  EURe: Clipper considered harmful [Restated and amplified]; TLDR: jfb@debra.dgbt.doc.ca (John F Carr) writes:>Actually, I find it rather difficult to believe in Clipper, since Clipper>wouldn't have any prohibition against it.>>As far as we know, only the US government has any prohibition>>against it.  So much for the protection>of citizens, unless otherwise stated.I think that if they would have restrictions on citizenswho wanted strong cryptography (like some governments have), then what laws would have the US have to impose on foreign governments for?  There are a number of laws that, while banning Clipper phones for citizens of the US might not make any sense.  There is also some provision for police to go about implementingthe concept of wiretap, and some such, but there is only one provision that does not limit police's abilities.  Ithink this is a very good idea,\n"
          ]
        },
        {
          "output_type": "stream",
          "name": "stderr",
          "text": [
            "The attention mask and the pad token id were not set. As a consequence, you may observe unexpected behavior. Please pass your input's `attention_mask` to obtain reliable results.\n",
            "Setting `pad_token_id` to `eos_token_id`:50256 for open-end generation.\n"
          ]
        },
        {
          "output_type": "stream",
          "name": "stdout",
          "text": [
            "  Batch 6,700  of  8,481. Loss: 1.4680604934692383.   Elapsed: 1:00:00.\n",
            "0:  incredibleRe: Burden of Proof; TLDR: In article <C5u8GJ.J9H@news.udel.edu> roby@chopin.udel.edu (Scott W Roby) writes:>That's an argument that I haven't checked this FAQ, but I have evidence>that it exists.  The burden of proof rests upon the individual.  The burden ofevidence lies with the individual, and the burden ofevidence lies with the individual.>>Here is the burden of proof:  Burden of Proof:  If Burden of Proof is >  Burden of Proof.  I do not think Burden of Proof is a burden of proof.  It's onlya burden of proof that the person who disprove it is in need of a proof, or in need of it,and, you get a false positive sign.                  \n"
          ]
        },
        {
          "output_type": "stream",
          "name": "stderr",
          "text": [
            "The attention mask and the pad token id were not set. As a consequence, you may observe unexpected behavior. Please pass your input's `attention_mask` to obtain reliable results.\n",
            "Setting `pad_token_id` to `eos_token_id`:50256 for open-end generation.\n"
          ]
        },
        {
          "output_type": "stream",
          "name": "stdout",
          "text": [
            "  Batch 6,800  of  8,481. Loss: 1.612662672996521.   Elapsed: 1:00:53.\n",
            "0:  TYRe: Why do people become atheists?; TLDR: In article <May.11.02.38.20.1993.27556@athos.rutgers.edu> dbernard@athena.mit.edu (David Bernstein) writes:>In <May.7.00.05.16.1993.28071@athos.rutgers.edu> gsmith@argon.gas.organpipe.uug.arizona.edu (Greg Smith) writes:> >           It's an excellent question.  If you were>          immature after reading the FAQ, please try to>            be more serious.  I see it, you know, and you>          don't have any better motivation to learn about atheists.  That is,\n"
          ]
        },
        {
          "output_type": "stream",
          "name": "stderr",
          "text": [
            "The attention mask and the pad token id were not set. As a consequence, you may observe unexpected behavior. Please pass your input's `attention_mask` to obtain reliable results.\n",
            "Setting `pad_token_id` to `eos_token_id`:50256 for open-end generation.\n"
          ]
        },
        {
          "output_type": "stream",
          "name": "stdout",
          "text": [
            "  Batch 6,900  of  8,481. Loss: 2.903674840927124.   Elapsed: 1:01:47.\n",
            "0:  230Re: Question about hell; TLDR: In article <May.9.02.39.13.1993.29375@athos.rutgers.edu>,Mayne@nextsrv (Mayne) writes:|> In article <May.11.02.36.56.1993.15996@athos.rutgers.edu>,Mayne@sage.cc.brandeis.edu (Mayne) writes:|> |> >|> The Bible has a message of repentance, Christ's turn to take away|> >|> our sin and we come to the cross.  Whether that means in Christ|> >|> >|> >|> >The message goes something to this that we are left with a new moral order|> >in order to repent.|> |> >|> I do agree with this, but I'm looking for the exact opposite. I am interested in your\n"
          ]
        },
        {
          "output_type": "stream",
          "name": "stderr",
          "text": [
            "The attention mask and the pad token id were not set. As a consequence, you may observe unexpected behavior. Please pass your input's `attention_mask` to obtain reliable results.\n",
            "Setting `pad_token_id` to `eos_token_id`:50256 for open-end generation.\n"
          ]
        },
        {
          "output_type": "stream",
          "name": "stdout",
          "text": [
            "  Batch 7,000  of  8,481. Loss: 1.7292659282684326.   Elapsed: 1:02:41.\n",
            "0:  TigersRe: Is MSG sensitivity superstition?; TLDR: In article <1993Apr20.002839.25892@mnemosyne.cs.du.edu> dyer@nyx.cs.du.edu (John Dorfman) writes:>In article <1993Apr19.13404045.16059@dmu.edu>, dil.admin@mitre.org (Dave Laudicina) writes:> > > >  I don't know, I just don't know. I've been following this thread> for a while now and seeing posts of people who have not> eaten certain foods because it's MSG sensitivity superstition?> >  If so, where did it get from?> > >   Does MSG sensitivity superstition exist?> Is there such a thing as MSG sensitivity?There is MSG sensitivity superstition. A person who has eaten a certain foods and the effects are apparent. When you\n"
          ]
        },
        {
          "output_type": "stream",
          "name": "stderr",
          "text": [
            "The attention mask and the pad token id were not set. As a consequence, you may observe unexpected behavior. Please pass your input's `attention_mask` to obtain reliable results.\n",
            "Setting `pad_token_id` to `eos_token_id`:50256 for open-end generation.\n"
          ]
        },
        {
          "output_type": "stream",
          "name": "stdout",
          "text": [
            "  Batch 7,100  of  8,481. Loss: 1.1676806211471558.   Elapsed: 1:03:35.\n",
            "0: CDRe: Israeli Terrorism; TLDR: In article <24APR1993155327@utkvx.utk.edu> cpr@igc.apc.org writes:   In article <1r47m3INNc8r@snoopy.cis.ufl.edu>, kon@cis.ufl.edu (Konopin)    writes...      >    >        In article <1r5e5hINN5m5@snoopy.cis.ufl.edu>                                                                 \n"
          ]
        },
        {
          "output_type": "stream",
          "name": "stderr",
          "text": [
            "The attention mask and the pad token id were not set. As a consequence, you may observe unexpected behavior. Please pass your input's `attention_mask` to obtain reliable results.\n",
            "Setting `pad_token_id` to `eos_token_id`:50256 for open-end generation.\n"
          ]
        },
        {
          "output_type": "stream",
          "name": "stdout",
          "text": [
            "  Batch 7,200  of  8,481. Loss: 0.9820511341094971.   Elapsed: 1:04:28.\n",
            "0:  unbelievableRe: Yet more Rushdie [Re: ISLAMIC LAW]; TLDR: \t<16BB9C.BC0C@UTKVM1.UTK.EDU>In article <16BB9C.BC0C@UTKVM1.UTK.EDU>, abi@cc.utk.edu (Andi Beyer) writes: \tIn article <16BB9C.BC0C@UTKVM1.UTK.EDU> abi@cc.utk.edu (Andi Beyer) writes:   >In article <16BB9C.BC0C@UTKVM1.UTK.EDU>, abi@cc.utk.edu (Andi Beyer) writes:    > >> >>Andi, how can you be sure that, when someone like you say, you don't   >know anything about Islam,\n"
          ]
        },
        {
          "output_type": "stream",
          "name": "stderr",
          "text": [
            "The attention mask and the pad token id were not set. As a consequence, you may observe unexpected behavior. Please pass your input's `attention_mask` to obtain reliable results.\n",
            "Setting `pad_token_id` to `eos_token_id`:50256 for open-end generation.\n"
          ]
        },
        {
          "output_type": "stream",
          "name": "stdout",
          "text": [
            "  Batch 7,300  of  8,481. Loss: 0.9025256633758545.   Elapsed: 1:05:22.\n",
            "0: RobertRe: <Political Atheists?; TLDR: In article <1993Apr19.160635.6575@midway.uchicago.edu> scott@quads.uchicago.edu (Scott Kennedy) writes:>   >                                                                                                                                                  \n"
          ]
        },
        {
          "output_type": "stream",
          "name": "stderr",
          "text": [
            "The attention mask and the pad token id were not set. As a consequence, you may observe unexpected behavior. Please pass your input's `attention_mask` to obtain reliable results.\n",
            "Setting `pad_token_id` to `eos_token_id`:50256 for open-end generation.\n"
          ]
        },
        {
          "output_type": "stream",
          "name": "stdout",
          "text": [
            "  Batch 7,400  of  8,481. Loss: 1.0683279037475586.   Elapsed: 1:06:16.\n",
            "0:  ContactRe: Why do people become atheists?; TLDR: >I understand that most of us (and others alike) accept a \"God\" in>a form that does not follow the teachings of the scriptures (Romans 3.8.20). But>many have claimed that this is only God who has given us our names, and>then used this name for us. There is an interesting parallel, however, in Christianity. The name for the \"God\"is sometimes used loosely by Christians, to obscure rather than obscure messages, because people who accept aGod that it explicitly contradicts scripture are wrong and/or are doing what they were told by Christ. This is why the word \"God\" does appear here. I believe thatGod was NOT given to us by our original sin,and rather by our direct experience of it (i.e. He was not given to us,in His \"real existence\" as we had become, and thus sinned from a \"real\n"
          ]
        },
        {
          "output_type": "stream",
          "name": "stderr",
          "text": [
            "The attention mask and the pad token id were not set. As a consequence, you may observe unexpected behavior. Please pass your input's `attention_mask` to obtain reliable results.\n",
            "Setting `pad_token_id` to `eos_token_id`:50256 for open-end generation.\n"
          ]
        },
        {
          "output_type": "stream",
          "name": "stdout",
          "text": [
            "  Batch 7,500  of  8,481. Loss: 2.658590078353882.   Elapsed: 1:07:10.\n",
            "0:  fountainRe: Changing oil by self.; TLDR: The following is my first posting on this thread:1.  Don't start this message with \"do it yourself\"2.  Point me in the direction of what you want to knowI'll summarise each item.I'd appreciate any comments.Please, feel free to e-mail me if you need to.The first time I posted a message, I saw no response.  I have a different methodof changing it that uses a electric drill to remove the cap andthen turn around.  Using a electric drill, these will do the trick(as long as you clean it).The next time you try this, the first time I used electric drill, I couldnt change the oil.  No way, I could not do it.  I'm not certain when I'll say the same again in a new oil pan.What does a change oil look like?  The change is almost as simple,if not much\n"
          ]
        },
        {
          "output_type": "stream",
          "name": "stderr",
          "text": [
            "The attention mask and the pad token id were not set. As a consequence, you may observe unexpected behavior. Please pass your input's `attention_mask` to obtain reliable results.\n",
            "Setting `pad_token_id` to `eos_token_id`:50256 for open-end generation.\n"
          ]
        },
        {
          "output_type": "stream",
          "name": "stdout",
          "text": [
            "  Batch 7,600  of  8,481. Loss: 0.9135947227478027.   Elapsed: 1:08:04.\n",
            "0:  clashRe: The Inimitable Rushdie; TLDR: In article <1ql7pqo$g3b@cat.cis.umn.edu>, das7@cats.cis.umn.edu (Dumran Mohammed) writes:> I have a few books about Islamic history,> none of which claim to claim to claim to have anything to> do with anything. I have done research into the Irgun,> Islamic movements and any secular influence> there, but am still trying to find out if there is a particular> Irgun group there, perhaps in the US.The Islamic movements claim to be Islamic, there are many Islamic movements that are involved in the blowing of the air.Some of the most prominent Islamic movements consider the Irgun as the most famous Christian group. I asked them to explain this idea without explaining how a Christian is supposed to believe in God, without any explanations. The answer was to \"It's a small area\n"
          ]
        },
        {
          "output_type": "stream",
          "name": "stderr",
          "text": [
            "The attention mask and the pad token id were not set. As a consequence, you may observe unexpected behavior. Please pass your input's `attention_mask` to obtain reliable results.\n",
            "Setting `pad_token_id` to `eos_token_id`:50256 for open-end generation.\n"
          ]
        },
        {
          "output_type": "stream",
          "name": "stdout",
          "text": [
            "  Batch 7,700  of  8,481. Loss: 1.4154043197631836.   Elapsed: 1:08:57.\n",
            "0:  commodRe: After 2000 years, can we say that Christian Morality is; TLDR: In article <1993Apr17.142523.28099@alchemy.chem.utoronto.ca>, golchowy@alchemy.chem.utoronto.ca (Gerald Olchowy) writes:  >In article <1r8s9$8o@access.digex.net>, frank@access.digex.com (Frank O'Dwyer)  >|> In article <1993Apr20.001322.10154@genesis.MCS.COM>, bh437292@genesis.MCS.COM (Brian R. Bultman) writes:   >|> >|> >|> >|>   If you read your post carefully, you have the impression  >|> >|> that your post makes no claims about anything _other_ than  >\n"
          ]
        },
        {
          "output_type": "stream",
          "name": "stderr",
          "text": [
            "The attention mask and the pad token id were not set. As a consequence, you may observe unexpected behavior. Please pass your input's `attention_mask` to obtain reliable results.\n",
            "Setting `pad_token_id` to `eos_token_id`:50256 for open-end generation.\n"
          ]
        },
        {
          "output_type": "stream",
          "name": "stdout",
          "text": [
            "  Batch 7,800  of  8,481. Loss: 3.2727243900299072.   Elapsed: 1:09:51.\n",
            "0:  algorithmRe: HELP: GRASP; TLDR: The last sentence said \"gr\" not the \"g\" not \"b\". Since the words \"B\" and \"b\" are both written about the two different ways ofwriting, what is the \"b\" of \"B\" and \"B\", then why does not the word \"B\" simply mean \"b\". If, however, the meaning of \"b\" comes out as 'B\", how did I find that an 'B' would be more correct than a 'B'? If it all meant \"B\" then there would be little differencein the meaning of 'B' 'b'. How does one know that the word 'B' 'B' simply means either a spelling error or something else that is more plainly visible to the beholder than anything else? I'll let this pass as a simple example:                    \n"
          ]
        },
        {
          "output_type": "stream",
          "name": "stderr",
          "text": [
            "The attention mask and the pad token id were not set. As a consequence, you may observe unexpected behavior. Please pass your input's `attention_mask` to obtain reliable results.\n",
            "Setting `pad_token_id` to `eos_token_id`:50256 for open-end generation.\n"
          ]
        },
        {
          "output_type": "stream",
          "name": "stdout",
          "text": [
            "  Batch 7,900  of  8,481. Loss: 0.9979438781738281.   Elapsed: 1:10:45.\n",
            "0:  accurateRe: Is Rushdie fatwa?; TLDR: \t<1993Apr13.120901.28139@sol.de>\t<C5sq8.HqJ@unix.portal.com>In article <C5sq8.HqJ@unix.portal.com> pfoster@shell.portal.com (Mark Foster) writes:>I am not sure whether this is a serious case of terrorism or not,but from the Rushdie>point of view, it is a serious case of terrorism and not a >real war.>>I think that you're right, but I believe that this is not the>kind of place you think Rushdie has been writing for years or>years. >Rushdie was just responding when he wrote some book dealing with the burning of>the religious people, not about the fatwa. But he claimed that he had no such claim and>it\n"
          ]
        },
        {
          "output_type": "stream",
          "name": "stderr",
          "text": [
            "The attention mask and the pad token id were not set. As a consequence, you may observe unexpected behavior. Please pass your input's `attention_mask` to obtain reliable results.\n",
            "Setting `pad_token_id` to `eos_token_id`:50256 for open-end generation.\n"
          ]
        },
        {
          "output_type": "stream",
          "name": "stdout",
          "text": [
            "  Batch 8,000  of  8,481. Loss: 1.6363404989242554.   Elapsed: 1:11:39.\n",
            "0: adoRe: Europe vs. Muslim Bosnians; TLDR: In article <1993Apr6.044224.21213@bnr.ca>, paj@bnr.ca (Paul Jonesian) writes:|> In article <C5I5y.8DE@news.cis.umn.edu> darice@giga.cs.umn.edu (Fred Rice) writes:|> >In article <C4IvB5.8DJ@news.cso.uiuc.edu>, cobb@alexia.lis.uiuc.edu (Mike Cobb) writes:|> >|> In article <C4sqx1.Bt8@cs.cmu.edu>, stssdxb@cs.cmu.edu (Das Omran) writes:|> |> >|> In article <1993Apr19.015819.28252@bnr.\n"
          ]
        },
        {
          "output_type": "stream",
          "name": "stderr",
          "text": [
            "The attention mask and the pad token id were not set. As a consequence, you may observe unexpected behavior. Please pass your input's `attention_mask` to obtain reliable results.\n",
            "Setting `pad_token_id` to `eos_token_id`:50256 for open-end generation.\n"
          ]
        },
        {
          "output_type": "stream",
          "name": "stdout",
          "text": [
            "  Batch 8,100  of  8,481. Loss: 1.2016198635101318.   Elapsed: 1:12:33.\n",
            "0:  regulateRe: YOU WILL ALL GO TO HELL!!!; TLDR: In article <1993Apr27.0643005.1@hpcvaac.cv.hp.com> gtoal@hpcvaac.cv.hp.com (Glenn Toal) writes:>[deleted]>>So, your newsgroup has been taken over by the government.>How would you like this discussion? If you don't think that it was intended, you>are wrong.  As far as I know, no one is going to have civil rights.  Your sweeping>generalizations are irrelevant to your cause, but the rest of us will simply>happen to be the ones who are not.  There are exceptions, of course, that>might not be so obvious to you and I; but that doesn't mean that it is not a>seperate situation.  >>Greg to your effect, my newsgroup is under total control. \n"
          ]
        },
        {
          "output_type": "stream",
          "name": "stderr",
          "text": [
            "The attention mask and the pad token id were not set. As a consequence, you may observe unexpected behavior. Please pass your input's `attention_mask` to obtain reliable results.\n",
            "Setting `pad_token_id` to `eos_token_id`:50256 for open-end generation.\n"
          ]
        },
        {
          "output_type": "stream",
          "name": "stdout",
          "text": [
            "  Batch 8,200  of  8,481. Loss: 1.8162850141525269.   Elapsed: 1:13:27.\n",
            "0: ewayRe: Why not concentrate on child molesters?; TLDR: In <1993Apr15.161353.15347@clarinet.com> tfarrell@clarinet.com (Thomas Farrell) writes:>From: tfarrell@clarinet.com>Date: Wed, 21 Apr 1993 19:02:34 GMT>>    \"The problem with the U.S. is the fact that our children are more>>     developed, and therefore more capable than the child>>    of producing, as shown by the Department of Education>>    (EDPA) report,\" and the fact that their children are not \"better\" with their>>    parents. >>     \"Compared to the U.S. Center for Pediatrics, I would not approve>>    such views as these.  If we go back to the original>    viewpoint, we are in the\n"
          ]
        },
        {
          "output_type": "stream",
          "name": "stderr",
          "text": [
            "The attention mask and the pad token id were not set. As a consequence, you may observe unexpected behavior. Please pass your input's `attention_mask` to obtain reliable results.\n",
            "Setting `pad_token_id` to `eos_token_id`:50256 for open-end generation.\n"
          ]
        },
        {
          "output_type": "stream",
          "name": "stdout",
          "text": [
            "  Batch 8,300  of  8,481. Loss: 2.1912050247192383.   Elapsed: 1:14:21.\n",
            "0: itteeRe: HBP? BB? BIG? BIG? BIG? BIG? BIG? BIG? BIG? BIG? BIG? BIG!                                                                                                                                                                            \n"
          ]
        },
        {
          "output_type": "stream",
          "name": "stderr",
          "text": [
            "The attention mask and the pad token id were not set. As a consequence, you may observe unexpected behavior. Please pass your input's `attention_mask` to obtain reliable results.\n",
            "Setting `pad_token_id` to `eos_token_id`:50256 for open-end generation.\n"
          ]
        },
        {
          "output_type": "stream",
          "name": "stdout",
          "text": [
            "  Batch 8,400  of  8,481. Loss: 2.1106536388397217.   Elapsed: 1:15:14.\n",
            "0:  JackieRe: V4 V6 V8 V12 Vx?; TLDR: In article <1993Apr21.194146.8063@ucsu.Colorado.EDU> nicholas@spot.Colorado.EDU (Nicholas Nichols) writes:>In article <1993Apr21.194645.4511@ucsu.Colorado.EDU> nicholas@spot.Colorado.EDU (Nicholas Nichols) writes:>>>>>>A nice design, easy toput a lot better, has been discussed.>>>>\t\tThe original design is an Econ Depeche Mode with a balance station mounted on it.>It's called an Econ. This design has several flaws and has been used>to design older models for over 200 years.>You can always avoid the problem of the cranking station which provides>the easiest way to deal with.  When trying to build the old Corvettes the first>time, it\n",
            "\n",
            "  Average training loss: 1.33\n",
            "  Training epoch took: 1:15:58\n",
            "\n",
            "Running Validation...\n",
            "  Validation Loss: 1.34\n",
            "  Validation took: 0:02:33\n",
            "\n",
            "======== Epoch 3 / 5 ========\n",
            "Training...\n"
          ]
        },
        {
          "output_type": "stream",
          "name": "stderr",
          "text": [
            "The attention mask and the pad token id were not set. As a consequence, you may observe unexpected behavior. Please pass your input's `attention_mask` to obtain reliable results.\n",
            "Setting `pad_token_id` to `eos_token_id`:50256 for open-end generation.\n"
          ]
        },
        {
          "output_type": "stream",
          "name": "stdout",
          "text": [
            "  Batch   100  of  8,481. Loss: 1.578574776649475.   Elapsed: 0:00:51.\n",
            "0: HeRe: Israeli Terrorism; TLDR: dsh@igc.apc.org (Danny Phornprapha) writes:>Is it \"Israeli Terrorism\"? If so, what is the nature of the acts of>Israel in the first half of Intifada?>>How about something like this? Do you think the Israeli press is a reliable source>for reliable reports? If the IDF's border coverage were reliable, I can only imagine>the bias of Israeli reporting.>Is it realistic for us to assume that Israeli reporting of Israeli events>will show reliable reports, or will it show that the IDF is not? I can>assume that the IDF is biased, but I can't>trust that. What about other Arab-Americans? Israel can not be>a reliable source of reliable reports. Is it acceptable to assume that>Israel is biased? And its propaganda, inc.'yot reliable reports?>Is it legitimate for Israeli journalists to be objective\n"
          ]
        },
        {
          "output_type": "stream",
          "name": "stderr",
          "text": [
            "The attention mask and the pad token id were not set. As a consequence, you may observe unexpected behavior. Please pass your input's `attention_mask` to obtain reliable results.\n",
            "Setting `pad_token_id` to `eos_token_id`:50256 for open-end generation.\n"
          ]
        },
        {
          "output_type": "stream",
          "name": "stdout",
          "text": [
            "  Batch   200  of  8,481. Loss: 0.5614628791809082.   Elapsed: 0:01:46.\n",
            "0:  wiredM-TNG mailing list; TLDR: Looking for a mailing list of Mac and Windows mailing lists.-r--                                                                                                                                                                               \n"
          ]
        },
        {
          "output_type": "stream",
          "name": "stderr",
          "text": [
            "The attention mask and the pad token id were not set. As a consequence, you may observe unexpected behavior. Please pass your input's `attention_mask` to obtain reliable results.\n",
            "Setting `pad_token_id` to `eos_token_id`:50256 for open-end generation.\n"
          ]
        },
        {
          "output_type": "stream",
          "name": "stdout",
          "text": [
            "  Batch   300  of  8,481. Loss: 1.0333576202392578.   Elapsed: 0:02:40.\n",
            "0:  frequRe: The 1994 Mustang; TLDR: In article <ltg2.73575393982@fenway.UUCP> smorris@donald.aix.kingston.ibm.com (Steven A. Morris) writes:>Is there anybody in the market to replace the \"GT\" engine>with a slightly used one? I'd sure like to hear it!>--> -------------------------------------------------------------------------> | I hate quotations. Not even facts. They are just opinions.> | And don't tell me which cars you'd like to live on during the>                          ^^^^^^^^^^^^^^^^^^^^^^^>|                                              \n"
          ]
        },
        {
          "output_type": "stream",
          "name": "stderr",
          "text": [
            "The attention mask and the pad token id were not set. As a consequence, you may observe unexpected behavior. Please pass your input's `attention_mask` to obtain reliable results.\n",
            "Setting `pad_token_id` to `eos_token_id`:50256 for open-end generation.\n"
          ]
        },
        {
          "output_type": "stream",
          "name": "stdout",
          "text": [
            "  Batch   400  of  8,481. Loss: 2.6646409034729004.   Elapsed: 0:03:33.\n",
            "0:  viewsRe: The 1994 Mustang; TLDR: In article <1993Apr19.165923.27467@ole.cdac.com>, mike@cdac.com (Mike Lotto) writes:> > I'm looking for recommendations for the best new car - a 93 Ford Probe GT> with roll-over headlights, power windows, power windows, power mirrors,> suspension (4.8 L v8, 6.7 L v7, 6.7 L v8, 6.7 L v6).> > Thanks,> > Mike LottoI've got my head up a bit...> I've got a 92 Probe GT, with roll-over headlights, power windows, power mirrors, andPower mirrors.  I think they should get rid of the seats.... I've seen 4-wheel Vette 4's at the local Ford dealer in CT (where it's located) with their names on the back.  I think Ford has a\n"
          ]
        },
        {
          "output_type": "stream",
          "name": "stderr",
          "text": [
            "The attention mask and the pad token id were not set. As a consequence, you may observe unexpected behavior. Please pass your input's `attention_mask` to obtain reliable results.\n",
            "Setting `pad_token_id` to `eos_token_id`:50256 for open-end generation.\n"
          ]
        },
        {
          "output_type": "stream",
          "name": "stdout",
          "text": [
            "  Batch   500  of  8,481. Loss: 0.7209073901176453.   Elapsed: 0:04:28.\n",
            "0:  StrategyRe: The Inimitable Rushdie; TLDR:  <amat.1485.73488076@yuma.ACNS.ColoState.EDU>>In <1993Apr23.140558.13946@bnr.ca> jaeger@bnr.ca (Gregg Jaeger) writes: >>I like the way you have been'reporter' of British \"liberal\">ism. It gets to the heart of all my >religions. There have been some who argue against>Rushdie because they want to convince people in the same way he>writes in a book. So I don't see why they are in any position>where the Rushdie situation hasn't cropped up.You have been accused of a rather severe case of the typical Rushdiecase.  Yours, James Kiefer\n"
          ]
        },
        {
          "output_type": "stream",
          "name": "stderr",
          "text": [
            "The attention mask and the pad token id were not set. As a consequence, you may observe unexpected behavior. Please pass your input's `attention_mask` to obtain reliable results.\n",
            "Setting `pad_token_id` to `eos_token_id`:50256 for open-end generation.\n"
          ]
        },
        {
          "output_type": "stream",
          "name": "stdout",
          "text": [
            "  Batch   600  of  8,481. Loss: 1.690355658531189.   Elapsed: 0:05:21.\n",
            "0:  radioRe: The doctrine of Original Sin; TLDR: In article <Apr.10.05.31.19.1993.14381@athos.rutgers.edu>, gfeygin@gothamcity.jsc.nasa.gov writes:> > In article <May.10.05.31.19.1993.14381@athos.rutgers.edu> > > In article <May.7.01.54.08.1993.28079@athos.rutgers.edu> > > Kent Sandvik (kd12+@andrew.cmu.edu) writes:> >> I wouldn't call that doctrine.  But I do see that> >> it is also very arrogant to draw \"there were no Jews> >> before Adam sinned.  Origen wrote of this problem a long> >> time ago and spoke of his problem very well.> >> > The problem with\n"
          ]
        },
        {
          "output_type": "stream",
          "name": "stderr",
          "text": [
            "The attention mask and the pad token id were not set. As a consequence, you may observe unexpected behavior. Please pass your input's `attention_mask` to obtain reliable results.\n",
            "Setting `pad_token_id` to `eos_token_id`:50256 for open-end generation.\n"
          ]
        },
        {
          "output_type": "stream",
          "name": "stdout",
          "text": [
            "  Batch   700  of  8,481. Loss: 2.5822062492370605.   Elapsed: 0:06:15.\n",
            "0: oultRe: Countersteering_FAQ please post; TLDR: In article <1qgi2iINNn4j@mongoose.msfc.nasa.gov> mongoose@mongoose.msfc.nasa.gov (Mike McAngus) writes:>The FAQ is posted to a news group for those who do not normally read>this group.  This is mainly for people who do not normally read the>news or alt.gulf.  I have seen articles written about this a bit recently.  I got>a posting from a friend about a year ago on a bike, and he was really impressed with it's features>he had on the road (as opposed to something that looked bad on the paint,>or something the paint had just bad corners :-)|>and I decided to post the summary>here.  [Some new articles are in the FAQ here, and will probably>probably follow the\n"
          ]
        },
        {
          "output_type": "stream",
          "name": "stderr",
          "text": [
            "The attention mask and the pad token id were not set. As a consequence, you may observe unexpected behavior. Please pass your input's `attention_mask` to obtain reliable results.\n",
            "Setting `pad_token_id` to `eos_token_id`:50256 for open-end generation.\n"
          ]
        },
        {
          "output_type": "stream",
          "name": "stdout",
          "text": [
            "  Batch   800  of  8,481. Loss: 1.5388234853744507.   Elapsed: 0:07:09.\n",
            "0:  ReinRe: Israel's Expansion II; TLDR: \t<C5tKI2.1z@news.iastate.edu>In article <C5tKI2.1z@news.iastate.edu> eshneken@iastate.edu (Edward A Shnekendorf) writes:>I can't believe this comparison.  I consider the>excellent, if not the slightest, proof, that the>existance of the Arabs, some of whom were>also involved, to be a better bargaining strategy.  My>friend who was once one who had been living in Israel>for 10 years, now has decided that the only way to go>for his $7000 OED's worth (in his kill file) is to trade for the>Israeli government's \"Libertarian\" party, rather than to live in the>Arab country.  So the government has been very successful in persuading>\n"
          ]
        },
        {
          "output_type": "stream",
          "name": "stderr",
          "text": [
            "The attention mask and the pad token id were not set. As a consequence, you may observe unexpected behavior. Please pass your input's `attention_mask` to obtain reliable results.\n",
            "Setting `pad_token_id` to `eos_token_id`:50256 for open-end generation.\n"
          ]
        },
        {
          "output_type": "stream",
          "name": "stdout",
          "text": [
            "  Batch   900  of  8,481. Loss: 0.834499180316925.   Elapsed: 0:08:03.\n",
            "0:  procRE-POSTED; TLDR: Here is the latest of the RE-POSTED list (Rational Image Processing):                                                                                                                                                                              \n"
          ]
        },
        {
          "output_type": "stream",
          "name": "stderr",
          "text": [
            "The attention mask and the pad token id were not set. As a consequence, you may observe unexpected behavior. Please pass your input's `attention_mask` to obtain reliable results.\n",
            "Setting `pad_token_id` to `eos_token_id`:50256 for open-end generation.\n"
          ]
        },
        {
          "output_type": "stream",
          "name": "stdout",
          "text": [
            "  Batch 1,000  of  8,481. Loss: 1.2777323722839355.   Elapsed: 0:08:56.\n",
            "0:  abusesRe: ATF BURNS DIVIDIAN RANCH! NO SURVIVORS!!!; TLDR: mfrhein@nyx.cs.du.edu (Michael Frederick Rhein) writes:>I can't believe that anyone actually believes that the BD's burned>themselves to death rather than just burn them to death???  Possibly>this is why the BD's did the fire themselves, which is exactly what>motivated the fire.>They set off the fires and then set out to obtain an excuse to fire on>them.  Even if the BD's were to have started the fire, it would have>been better if they had actually suffered a bad fate.But then, as the news reports indicate, it seems that the fire started intentionallyand started at several different places.  Attempts were made bypeople inside toperate.The building and surrounding area have been at least as heavy as possiblefor hours.  Attempts were made\n"
          ]
        },
        {
          "output_type": "stream",
          "name": "stderr",
          "text": [
            "The attention mask and the pad token id were not set. As a consequence, you may observe unexpected behavior. Please pass your input's `attention_mask` to obtain reliable results.\n",
            "Setting `pad_token_id` to `eos_token_id`:50256 for open-end generation.\n"
          ]
        },
        {
          "output_type": "stream",
          "name": "stdout",
          "text": [
            "  Batch 1,100  of  8,481. Loss: 0.8145942687988281.   Elapsed: 0:09:50.\n",
            "0:  waRe: Vandalizing the sky.; TLDR: > In article <C6I1y.4x1@news.cis.umn.edu> callison@alexia.lis.uiuc.edu (James P. Callison) writes:>In article <1993Apr16.001352.17448@news.cis.umn.edu>, callison@alexia.lis.uiuc.edu (James P. Callison) writes:>|> In article <1993Apr17.020540.2605@news.cis.umn.edu> callison@alexia.lis.uiuc.edu (James P. Callison) writes:>|> >|> >|> >In article <C6FJsG.4H3@news.cis.umn.edu> callison@alexia.lis.uiuc.edu (James P. Callison) writes\n"
          ]
        },
        {
          "output_type": "stream",
          "name": "stderr",
          "text": [
            "The attention mask and the pad token id were not set. As a consequence, you may observe unexpected behavior. Please pass your input's `attention_mask` to obtain reliable results.\n",
            "Setting `pad_token_id` to `eos_token_id`:50256 for open-end generation.\n"
          ]
        },
        {
          "output_type": "stream",
          "name": "stdout",
          "text": [
            "  Batch 1,200  of  8,481. Loss: 1.7068090438842773.   Elapsed: 0:10:44.\n",
            "0: lectedRe: DID HE REALLY RISE???; TLDR: In article <Apr.5.00.36.56.1993.15437@geneva.rutgers.edu>, tasallot@hplsla01.enet.dec.com (Timothy Tasalloti) writes:|>    And we have no reasonable evidence that Paul knew of no sin except|>                                                                                                                 \n"
          ]
        },
        {
          "output_type": "stream",
          "name": "stderr",
          "text": [
            "The attention mask and the pad token id were not set. As a consequence, you may observe unexpected behavior. Please pass your input's `attention_mask` to obtain reliable results.\n",
            "Setting `pad_token_id` to `eos_token_id`:50256 for open-end generation.\n"
          ]
        },
        {
          "output_type": "stream",
          "name": "stdout",
          "text": [
            "  Batch 1,300  of  8,481. Loss: 1.9251166582107544.   Elapsed: 0:11:38.\n",
            "0:  templeRe: Top Ten Reasons Not to Aid Russians; TLDR: In article <1993Apr13.024426.24198@news.columbia.edu> tbrentj@bissda.crd.ge.com (Timothy J Brent) writes:>>Well, it may look like one of the Ten Commandments to you, but the>Commandments may have more things to do with the Ten Commandments than you think.>I think we are all quite familiar with Joseph St. Helens, who wrote about \"drafts\" to his troops in 1939. I remember reading somethinghe said about the draft, and he made reference to how it was intended to be used to the Russian Army. >And what I think the following passages are noteworthy. I think he is making a pretty good deal ofmistranslation here:                        \n"
          ]
        },
        {
          "output_type": "stream",
          "name": "stderr",
          "text": [
            "The attention mask and the pad token id were not set. As a consequence, you may observe unexpected behavior. Please pass your input's `attention_mask` to obtain reliable results.\n",
            "Setting `pad_token_id` to `eos_token_id`:50256 for open-end generation.\n"
          ]
        },
        {
          "output_type": "stream",
          "name": "stdout",
          "text": [
            "  Batch 1,400  of  8,481. Loss: 0.4318070709705353.   Elapsed: 0:12:31.\n",
            "0:  lodRe: Monitors - should they be kept on 24 hours a day???; TLDR: In article <1qh1lINNo9g@skcla.monsanto.com>, ak296@skcla.monsanto.com (Martin Janzen) says:>In article <C4sKCL.FC7@noose.ecn.purdue.edu> russotto@noose.ecn.purdue.edu (Matthew T. Russotto) writes:>>I'm considering a new set of desktop machines (the \"24 hours a day\")>>for use as my workstation.  They'll be 40% or 50% (and 30% or 50% or 50% or 50% or 50% or 50% more) and>20% or 40% or 50% or 50% (and 60% or 100% or 80% or 60% or 100% or more)>>monitor and software for\n"
          ]
        },
        {
          "output_type": "stream",
          "name": "stderr",
          "text": [
            "The attention mask and the pad token id were not set. As a consequence, you may observe unexpected behavior. Please pass your input's `attention_mask` to obtain reliable results.\n",
            "Setting `pad_token_id` to `eos_token_id`:50256 for open-end generation.\n"
          ]
        },
        {
          "output_type": "stream",
          "name": "stdout",
          "text": [
            "  Batch 1,500  of  8,481. Loss: 2.949632167816162.   Elapsed: 0:13:25.\n",
            "0:  RioRe: HBP? BB? BIG-CAT? BIG-CAT?; TLDR: In article <1r1g4c5INNsrj@gap.caltech.edu> kelley@cad.sahs.edu (Keithley) writes:>In article <C5uv3n.7HL@news.cso.uiuc.edu> tedward@cso.uiuc.edu (Edward [Ted] Fischer) writes:> >>In the context of the big three, I would give the big three a much>different time.  At least not in the context of>baseball.  What I meant was, you can't walk.  And you>can walk, too.  And I'm just not sure about the exact>situations.\tMy understanding, though, is that the big three play into a>big deal.  At bat, your hit will get to many different\n"
          ]
        },
        {
          "output_type": "stream",
          "name": "stderr",
          "text": [
            "The attention mask and the pad token id were not set. As a consequence, you may observe unexpected behavior. Please pass your input's `attention_mask` to obtain reliable results.\n",
            "Setting `pad_token_id` to `eos_token_id`:50256 for open-end generation.\n"
          ]
        },
        {
          "output_type": "stream",
          "name": "stdout",
          "text": [
            "  Batch 1,600  of  8,481. Loss: 1.0593334436416626.   Elapsed: 0:14:19.\n",
            "0:  PenceRe: Once tapped, your code is no good any more.; TLDR: In article <1993Apr20.083734.11353@cs.cmu.edu> kubey@cs.cmu.edu (Kenneth Kubey) writes:>>Now, it appears to me that the \"Clipper\" chip has been on the market for a while>now, but the real question is whether its successor will be in production at any price>after a lot of development costs.  The market price of that chip is>supposed to increase with the increased development costs of the chips, but not much>much.>>A number of things.  First, we need a government monopoly so we>need a monopoly on the availability of secure crypto, and second, we need>strong crypto that protects both privacy and government privacy.  When government>has taken this up their blam, so it is hardly surprising that a>monopoly would exist in this\n"
          ]
        },
        {
          "output_type": "stream",
          "name": "stderr",
          "text": [
            "The attention mask and the pad token id were not set. As a consequence, you may observe unexpected behavior. Please pass your input's `attention_mask` to obtain reliable results.\n",
            "Setting `pad_token_id` to `eos_token_id`:50256 for open-end generation.\n"
          ]
        },
        {
          "output_type": "stream",
          "name": "stdout",
          "text": [
            "  Batch 1,700  of  8,481. Loss: 1.360308289527893.   Elapsed: 0:15:13.\n",
            "0:  StevenRe: Secret algorithm [Re: Clipper Chip and crypto key-escrow]; TLDR: In article <1r3d4v$mj9@usenet.INS.CWRU.Edu> bh437292@cleveland.Freenet.Edu (Brian Harvey) writes:> > \tIt will be interesting to see if the Clinton administration and the National> > \tescrow organizations will be allowed to spy on the people who call them, > > and tell them what they're doing?> > > \tG.> > \t\tG....> > \tWhat would you do, Mr President?> > \tHow about an algorithm, Mr. President?> I was referring to the President and his people.  I suspect he might also> have a wiretap order.  If this were the case, I believe that it would be a> worse crime (than just forcing the government\n"
          ]
        },
        {
          "output_type": "stream",
          "name": "stderr",
          "text": [
            "The attention mask and the pad token id were not set. As a consequence, you may observe unexpected behavior. Please pass your input's `attention_mask` to obtain reliable results.\n",
            "Setting `pad_token_id` to `eos_token_id`:50256 for open-end generation.\n"
          ]
        },
        {
          "output_type": "stream",
          "name": "stdout",
          "text": [
            "  Batch 1,800  of  8,481. Loss: 2.2348122596740723.   Elapsed: 0:16:07.\n",
            "0:  discourseRe: After 2000 years, can we say that Christian Morality is oxymoron; TLDR: In article <1qmf5INNa14@gap.caltech.edu>, kelley@sigma.kpc.com (Keith Allanley) writes:> >>In article <1qg0vINNhj2@gap.caltech.edu> kelley@sigma.kpc.com (Keith Allanley) writes:> >In article <1qg0qINNhj2@gap.caltech.edu> kelley@sigma.kpc.com (Keith Allanley) writes:> >>In article <1qg0vINNhj2@gap.caltech.edu>, kelley@sigma.kpc.com (Keith Allanley) writes:> >>And to summarize, given that objective values are oxymoron, how> >>\n"
          ]
        },
        {
          "output_type": "stream",
          "name": "stderr",
          "text": [
            "The attention mask and the pad token id were not set. As a consequence, you may observe unexpected behavior. Please pass your input's `attention_mask` to obtain reliable results.\n",
            "Setting `pad_token_id` to `eos_token_id`:50256 for open-end generation.\n"
          ]
        },
        {
          "output_type": "stream",
          "name": "stdout",
          "text": [
            "  Batch 1,900  of  8,481. Loss: 1.62808358669281.   Elapsed: 0:17:00.\n",
            "0:  accessoryRe: Help; TLDR: In article <1993Apr17.232812.1590@geneva.rutgers.edu> car377@phoenix.rutgers.edu (charles.rutgers.edu) writes:>From: car377@phoenix.rutgers.edu (charles.rutgers.edu)>Date: Sat, 17 Apr 1993 20:43:26 -0400>>  I have a 1989 Ford Taurus GL and I just bought it and am very impressed by its>art quality.  I am particularly impressed with its power.  It is smooth and>painfully built.>You are also impressed with its styling.  A few years ago, I bought my 1993 Taurus GL.>I thought that the performance was quite disappointing.  It had the >new, improved engine, new engine.  The only problem I found>after upgrading to the GT was the transmission\n"
          ]
        },
        {
          "output_type": "stream",
          "name": "stderr",
          "text": [
            "The attention mask and the pad token id were not set. As a consequence, you may observe unexpected behavior. Please pass your input's `attention_mask` to obtain reliable results.\n",
            "Setting `pad_token_id` to `eos_token_id`:50256 for open-end generation.\n"
          ]
        },
        {
          "output_type": "stream",
          "name": "stdout",
          "text": [
            "  Batch 2,000  of  8,481. Loss: 0.3760441243648529.   Elapsed: 0:17:54.\n",
            "0: ulRe: Bikes vs. Horses (was Re: insect impacts f; TLDR: In article <1993Apr23.211819.6087@news.cs.brandeis.edu>, mzd@cs.brandeis.edu (Marc Davis) writes:> In article <C5uv7q.G4B@bony1.bony.com>, jake@bony1.bony.com (Jake Livni) writes:> > > In article <1993Apr23.213519.6087@news.cs.brandeis.edu>, mjs@netcom.com (Mike Sixsmith) writes:> > > mmoss@cs.uiuc.edu (Matthew Tamm - CIT Research) writes:> >> > In article <931193831@hydra.gatech.EDU>, gt6584a@prism.gatech.EDU\n"
          ]
        },
        {
          "output_type": "stream",
          "name": "stderr",
          "text": [
            "The attention mask and the pad token id were not set. As a consequence, you may observe unexpected behavior. Please pass your input's `attention_mask` to obtain reliable results.\n",
            "Setting `pad_token_id` to `eos_token_id`:50256 for open-end generation.\n"
          ]
        },
        {
          "output_type": "stream",
          "name": "stdout",
          "text": [
            "  Batch 2,100  of  8,481. Loss: 0.748112142086029.   Elapsed: 0:18:48.\n",
            "0:  slidingRe: \"Fake\" Mary; TLDR:  <lots of stuff about how I've seen the \"baked\" Mary that appeared to me recently, but I'm still in my question whetheranyone knows where I can find it.  I'm assuming that the \"fab\"Mary appeared to me from a straight up windowin some small part because it looked like she was trying to stay up, but at leastit seemed like the same as the Mary that was mentioned.I think that the \"fab\"Mary was a little known woman, but I'm not certain if this proves she washer from the same sex as the one with Jesus.Also I don't think that I know where to find her.  Could it have been some sort of magic spellingsomewhere (like the tomb of a woman who was betrothed about Jesus) or some other such beast?\t\t\t\tJames Scott\n"
          ]
        },
        {
          "output_type": "stream",
          "name": "stderr",
          "text": [
            "The attention mask and the pad token id were not set. As a consequence, you may observe unexpected behavior. Please pass your input's `attention_mask` to obtain reliable results.\n",
            "Setting `pad_token_id` to `eos_token_id`:50256 for open-end generation.\n"
          ]
        },
        {
          "output_type": "stream",
          "name": "stdout",
          "text": [
            "  Batch 2,200  of  8,481. Loss: 1.4548563957214355.   Elapsed: 0:19:42.\n",
            "0:  DellRe: Aftermarket A/C units; TLDR: In <115894@bu.edu> jlinder@buphy.bu.edu (John R. Linder) writes:>I'd be unhappy if I had to do this.  What would happen if I had to>do a whole 32K line of drive-by shootings into a parking space of 15>th floor parking.>Did you notice I did the same?  What would happen if I had to do it all>in the 1st place to the second floor by myself?  >Did you notice that I did not see anyone screw up the window?>I noticed this just a while ago when I was a kid at work.>I don't like the way we walk around with a 357 Magnumand a 357 Magnum and a 357 Magnum.  Notonlythat, but it seemed kinda sharp and made a good fire!I haven't noticed a person screwing up the window\n"
          ]
        },
        {
          "output_type": "stream",
          "name": "stderr",
          "text": [
            "The attention mask and the pad token id were not set. As a consequence, you may observe unexpected behavior. Please pass your input's `attention_mask` to obtain reliable results.\n",
            "Setting `pad_token_id` to `eos_token_id`:50256 for open-end generation.\n"
          ]
        },
        {
          "output_type": "stream",
          "name": "stdout",
          "text": [
            "  Batch 2,300  of  8,481. Loss: 1.0655325651168823.   Elapsed: 0:20:36.\n",
            "0: iusRe: Once tapped, your code is no good any more.; TLDR: In article <1qn3nINN6s@dns1.NMSU.Edu> amolitor@nmsu.edu (Andrew Molitor) writes:>Note that measures to protect yourself from>: potential adversaries are being mass-produced by the Clinton administration.>What happened in Waco was nothing but a wholesale slaughter of the civil>liberry, the FBI, the IRS.  It was simply too damn easy.>As a private citizen, the right to an armed assault by the feds againsta religious order isn't always a \"right\".  This is the differencebetween a religious order, a religious order, etc.  The concept of civil protectionas a necessary part of the constitution is anachro->nism, whereby the government has the power to suppress opposition and>destroy their freedom.  The laws of other countries have a court-like\n"
          ]
        },
        {
          "output_type": "stream",
          "name": "stderr",
          "text": [
            "The attention mask and the pad token id were not set. As a consequence, you may observe unexpected behavior. Please pass your input's `attention_mask` to obtain reliable results.\n",
            "Setting `pad_token_id` to `eos_token_id`:50256 for open-end generation.\n"
          ]
        },
        {
          "output_type": "stream",
          "name": "stdout",
          "text": [
            "  Batch 2,400  of  8,481. Loss: 0.97173672914505.   Elapsed: 0:21:30.\n",
            "0: sidedRe: The Qur'an and all; TLDR: In article <Apr.22.09.58.1993.14391@athos.rutgers.edu> car377@salomon.budd-lake.nj.us (charles.nancsher) writes:>Well, I've got the Qur'an and all, and my questions have been>raised in an effort to either be as honest as possible or>to understand, as much as possible, as possible.>Now, I understand it.  But, as far as I can tell, you haven't>got it now, and so if I can't do my job, and you don't have the money>to do it, I can't do it any better.>I understand what the original poster said, that you have to payfor whatever you pay to do.  But, what do you need topay topurchase a copy of the Qur'\n"
          ]
        },
        {
          "output_type": "stream",
          "name": "stderr",
          "text": [
            "The attention mask and the pad token id were not set. As a consequence, you may observe unexpected behavior. Please pass your input's `attention_mask` to obtain reliable results.\n",
            "Setting `pad_token_id` to `eos_token_id`:50256 for open-end generation.\n"
          ]
        },
        {
          "output_type": "stream",
          "name": "stdout",
          "text": [
            "  Batch 2,500  of  8,481. Loss: 0.93343186378479.   Elapsed: 0:22:24.\n",
            "0:  WPRe: \"Cruel\" (was Re: <Political Atheists?); TLDR: In article <1qi3l0$a5q@cc.tut.fi>, keith@cc.tut.fi (Keith Allan Schneider) writes:>In article <1qi3l0$79k@gap.caltech.edu>, keith@cco.caltech.edu (Keith Allan Schneider) writes:>>Critisism is too easy. What solutions do people have that  would have been>>better than what theists had been doing for the last century?>>>>This certainly describes the dilemma of the method.  How one defines>>the right of a free man to worship any god, and>>is one of the most fundamentalists I've ever met.>>You can't just dismiss him as being a tyrant, and yet another demagogue,>that tries to impose your religion on others.  By your own definitions,>you\n"
          ]
        },
        {
          "output_type": "stream",
          "name": "stderr",
          "text": [
            "The attention mask and the pad token id were not set. As a consequence, you may observe unexpected behavior. Please pass your input's `attention_mask` to obtain reliable results.\n",
            "Setting `pad_token_id` to `eos_token_id`:50256 for open-end generation.\n"
          ]
        },
        {
          "output_type": "stream",
          "name": "stdout",
          "text": [
            "  Batch 2,600  of  8,481. Loss: 0.6092298626899719.   Elapsed: 0:23:17.\n",
            "0:  exertRe: How to act in front of traffic jerks; TLDR: In article <93108.AA084DE88@QUCDN.QueensU.CA>, <mdennie.7355628949@QUCDN.QueensU.CA> writes:>>Now lets look at this:  What are the responsibilities people should do in front>of traffic jerks when not backing up behind them?>>When I see people backing up behind me and I'm in a goodposition to do it,>usually just ahead of me because I know I can do it right behind me.>This, of course, is a red herring. If you're not in a position to do anything>better, then do it because your vision doesn't exist or don't need>it (i.e. you don't see or interact with anyone at all)>Why not just get the heck out of the driveway?keith\n"
          ]
        },
        {
          "output_type": "stream",
          "name": "stderr",
          "text": [
            "The attention mask and the pad token id were not set. As a consequence, you may observe unexpected behavior. Please pass your input's `attention_mask` to obtain reliable results.\n",
            "Setting `pad_token_id` to `eos_token_id`:50256 for open-end generation.\n"
          ]
        },
        {
          "output_type": "stream",
          "name": "stdout",
          "text": [
            "  Batch 2,700  of  8,481. Loss: 1.070914387702942.   Elapsed: 0:24:12.\n",
            "0: inianRe: HELP for Kidney Stones..............; TLDR: A friend of mine suggested giving the \"Transplant\" to our neurologist for surgery.  A friendof mine tells me that she has a kidney stone, and this is the only way she can get it off of the machine.  She said this is the wrong way to get it off, but I am wondering if anyone is the right one to tell us about it.  Thanks!***************************************************************************** Steve Shapiro                                                                                                      \n"
          ]
        },
        {
          "output_type": "stream",
          "name": "stderr",
          "text": [
            "The attention mask and the pad token id were not set. As a consequence, you may observe unexpected behavior. Please pass your input's `attention_mask` to obtain reliable results.\n",
            "Setting `pad_token_id` to `eos_token_id`:50256 for open-end generation.\n"
          ]
        },
        {
          "output_type": "stream",
          "name": "stdout",
          "text": [
            "  Batch 2,800  of  8,481. Loss: 1.9368904829025269.   Elapsed: 0:25:05.\n",
            "0:  electricityRe: Is MSG sensitivity superstition?; TLDR: In article <1pk6pINN6v5@sdf.lonestar.org>, mpoly@sdf.lonestar.org (Michael Poly) writes:> In article <1993Apr15.130340.1@vmsb.is.morgan.com> watson@vmsb.is.morgan.com (Billatson) writes:> >>I saw an interesting notion in the medical dictionary. It seems MSG is supposed to> >>be \"natural\" in the sense that it is added at a certain amount. You mention \"natural\" in> >>certain amounts.  That you find mentioning \"natural\" in the sense that it isadded> >>by certain amounts.  That it isn't \"natural\" in the sense that it isn't> >>added at a certain amount.  That MSG, in fact, is added by> >>\n"
          ]
        },
        {
          "output_type": "stream",
          "name": "stderr",
          "text": [
            "The attention mask and the pad token id were not set. As a consequence, you may observe unexpected behavior. Please pass your input's `attention_mask` to obtain reliable results.\n",
            "Setting `pad_token_id` to `eos_token_id`:50256 for open-end generation.\n"
          ]
        },
        {
          "output_type": "stream",
          "name": "stdout",
          "text": [
            "  Batch 2,900  of  8,481. Loss: 1.3082258701324463.   Elapsed: 0:25:59.\n",
            "0:  AviationRe: Is MSG sensitivity superstition?; TLDR: In article <1qb7l5vINNipm@clem.handheld.com>, jmd@cube.handheld.com (Jim DeArras) writes:> In article <1993Apr15.220456.1@vms.ocom.okstate.edu> goy@vms.ocom.okstate.edu (Red Herring) writes:> >> > My father is concerned about Chinese food but I don't know how to tell the>> >              whether he has MSG added to the diet.> >> >> > I know about Chinese food but don't know about the exact amount of MSG> > > he takes.> > > > > We eat Chinese food all the time, but we just can't keep the MSG > from making a person ill.> > > > > > > We can\n"
          ]
        },
        {
          "output_type": "stream",
          "name": "stderr",
          "text": [
            "The attention mask and the pad token id were not set. As a consequence, you may observe unexpected behavior. Please pass your input's `attention_mask` to obtain reliable results.\n",
            "Setting `pad_token_id` to `eos_token_id`:50256 for open-end generation.\n"
          ]
        },
        {
          "output_type": "stream",
          "name": "stdout",
          "text": [
            "  Batch 3,000  of  8,481. Loss: 2.1233620643615723.   Elapsed: 0:26:53.\n",
            "0:  encodingRe: A question about 120VAC outlet wiring..; TLDR: In article <1993Apr10.204850.11670@research.nj.nec.com> nhmas@research.nj.nec.com (Mark I. Mahoney) writes:>Can someone tell me if it is safe to operate an A&C outlet on>a 120VAC outlet?  I am interested in comments on the effectiveness of an outlet>with the power cut off and what additional requirements can I expect to see in designing it?I don't have the time to type in correctly.  Perhaps someone would liketo tell me what I should expect to see.>Also, what additional requirements can I expect to see on an outlet that doesn't>have as much current as a 120V/DC outlet?  In the cases where I live, the breaker is used>for an insulated ground.If there is a DC jack on the breaker, you\n"
          ]
        },
        {
          "output_type": "stream",
          "name": "stderr",
          "text": [
            "The attention mask and the pad token id were not set. As a consequence, you may observe unexpected behavior. Please pass your input's `attention_mask` to obtain reliable results.\n",
            "Setting `pad_token_id` to `eos_token_id`:50256 for open-end generation.\n"
          ]
        },
        {
          "output_type": "stream",
          "name": "stdout",
          "text": [
            "  Batch 3,100  of  8,481. Loss: 0.6749269366264343.   Elapsed: 0:27:47.\n",
            "0: fitRe: New Study Out On Gay Percentage; TLDR: In article <1993Apr15.161844.25131@romulus.rutgers.edu> kaldis@romulus.rutgers.edu (Theodore A. Kaldis) writes:>In article <15427@optilink.COM> cramer@optilink.COM (Clayton Cramer) writes:>>>For one, I can only comment on the ethnic composition of the group.  A>>>straight person who is exclusively gay and who is more likely to be heterosexual than gay>>>is obviously being treated by a lot of people as heterosexual.>>>>                                                              \n"
          ]
        },
        {
          "output_type": "stream",
          "name": "stderr",
          "text": [
            "The attention mask and the pad token id were not set. As a consequence, you may observe unexpected behavior. Please pass your input's `attention_mask` to obtain reliable results.\n",
            "Setting `pad_token_id` to `eos_token_id`:50256 for open-end generation.\n"
          ]
        },
        {
          "output_type": "stream",
          "name": "stdout",
          "text": [
            "  Batch 3,200  of  8,481. Loss: 1.0170588493347168.   Elapsed: 0:28:41.\n",
            "0:  wifeRe: Waco dates - are these coincidental?; TLDR: In article <116500@bu.edu>, kane@buphy.bu.edu (Hot Young Star) writes:|> kane@stargl.enet.dec.com (Hot Young Star) writes:|> >>So, you are claiming that I predict that the \"death\" of a 2nd-rate black|> >>pobbon, would not have occured if there had been no armed>>pobter.  >>I think you would agree on that.  You never know what to base a claim on.  If anyone has|> seen, read *this* thread, and *then* read *this* thread.|>  The 2nd-rate blackpobbon is one of the reasons why the white majority|> lost.   If they allowed a few black people to march in front of the|> home,\n"
          ]
        },
        {
          "output_type": "stream",
          "name": "stderr",
          "text": [
            "The attention mask and the pad token id were not set. As a consequence, you may observe unexpected behavior. Please pass your input's `attention_mask` to obtain reliable results.\n",
            "Setting `pad_token_id` to `eos_token_id`:50256 for open-end generation.\n"
          ]
        },
        {
          "output_type": "stream",
          "name": "stdout",
          "text": [
            "  Batch 3,300  of  8,481. Loss: 2.5012714862823486.   Elapsed: 0:29:35.\n",
            "0: ileyRe: BATF/FBI Murders Almost Everyone in Waco Today! 4/19; TLDR: In article <20APR199301460499@zeus.calpoly.edu> dhartung@chinet.chi.il.us (Dan Hartung) writes:>>And if he had lived in a nice, free state of affairs he could>have surrendered immediately.  Texas law enforcement officials have repeatedly>stated that they believed the Davidians had stolen a gun and that the BATF>had used CS, Texas and K-16's as the \"hostages\" for \"bargaining\".  Texas law enforcement>also stated that they didn't have warrants to search>the property, and that they did, when they did, find the \"compound\">which they used.  Texas law enforcement officials also stated>that they did, and when they obtained the keys, they used>the ATF/FBI/ATF \"tru\n"
          ]
        },
        {
          "output_type": "stream",
          "name": "stderr",
          "text": [
            "The attention mask and the pad token id were not set. As a consequence, you may observe unexpected behavior. Please pass your input's `attention_mask` to obtain reliable results.\n",
            "Setting `pad_token_id` to `eos_token_id`:50256 for open-end generation.\n"
          ]
        },
        {
          "output_type": "stream",
          "name": "stdout",
          "text": [
            "  Batch 3,400  of  8,481. Loss: 1.0192135572433472.   Elapsed: 0:30:29.\n",
            "0: stageRe: Waco dates - are these coincidental?; TLDR: In article <Apr.16.23.07.55.1993.1579@geneva.rutgers.edu> db7n+@andrew.cmu.edu (D. Andrew Byler) writes:>In article <9304141618.155629.29304@geneva.rutgers.edu> wpw@ferret.ocunix.on.ca (Stephen L. Wade) writes:>>>>Anybody know why the two presidents had the claptrap about>>>\"so long as there were drugs out of America,\" they wouldn't be starting>>the fires in Waco.>>>>If this is true, then how about this weekend?>This is not really so bad.  But as I said above, it is tragic.>And if so, why weren't there some attempts>of the public to escape\n"
          ]
        },
        {
          "output_type": "stream",
          "name": "stderr",
          "text": [
            "The attention mask and the pad token id were not set. As a consequence, you may observe unexpected behavior. Please pass your input's `attention_mask` to obtain reliable results.\n",
            "Setting `pad_token_id` to `eos_token_id`:50256 for open-end generation.\n"
          ]
        },
        {
          "output_type": "stream",
          "name": "stdout",
          "text": [
            "  Batch 3,500  of  8,481. Loss: 2.434190273284912.   Elapsed: 0:31:23.\n",
            "0: hatRe: Clipper considered harmful; TLDR: In article <1r6p0$d0d@usenet.INS.CWRU.Edu>, holland@CS.CWRU.Edu (Harry Holland) writes:> In article <2l9r6$g7w@transfer.stratus.com> cdt@sw.stratus.com (C. D. Tavares) writes:> > >In article <1r1jk0$d4a@usenet.INS.CWRU.Edu>, holland@CS.CWRU.Edu (Harry Holland) writes:> >> I have concerns regarding the use of superencryption to > >> allow people to exchange legal keys, including> >> the government's official secrets.> > > How can the government stop such attempts by amateurs to> >> \"trim\" through a court-ordered release\n"
          ]
        },
        {
          "output_type": "stream",
          "name": "stderr",
          "text": [
            "The attention mask and the pad token id were not set. As a consequence, you may observe unexpected behavior. Please pass your input's `attention_mask` to obtain reliable results.\n",
            "Setting `pad_token_id` to `eos_token_id`:50256 for open-end generation.\n"
          ]
        },
        {
          "output_type": "stream",
          "name": "stdout",
          "text": [
            "  Batch 3,600  of  8,481. Loss: 2.048163414001465.   Elapsed: 0:32:17.\n",
            "0: RichNeed help with printer manager; TLDR: The printer manager on my Laserwriter Printer II has a problem.  When I print a long list of small fonts by clicking on the rightside of the document dialog box, it refuses to print to the printer.  I have tried severaldifferent printer manager actions but the problem is there are two fonts stuck in the main applicationwindow under the printer manager.The first problem is the printer's ability to print to the specified printer by clicking on therightside of the document.  However, the print manager does not see this problem and if I try to select the rightside of the document dialog box, it does not print in the rightside of the document dialog box.The other problem is the serial number of the print manager that I want to print on.  I tried the PPI and tried using the reset commandbut the print manager didn't understand this behaviour.If anyone has any suggestions or fixes/better solutions to this problem,\n"
          ]
        },
        {
          "output_type": "stream",
          "name": "stderr",
          "text": [
            "The attention mask and the pad token id were not set. As a consequence, you may observe unexpected behavior. Please pass your input's `attention_mask` to obtain reliable results.\n",
            "Setting `pad_token_id` to `eos_token_id`:50256 for open-end generation.\n"
          ]
        },
        {
          "output_type": "stream",
          "name": "stdout",
          "text": [
            "  Batch 3,700  of  8,481. Loss: 0.5721067190170288.   Elapsed: 0:33:11.\n",
            "0: �Re: My Gun is like my American Express Card; TLDR: In article <1r3q9INNc42@usenet.INS.CWRU.Edu>, gun%cspara@CS.ColoState.EDU (Scott W. Para) writes:> In article <1993Apr13.232224.1311@CS.ColoState.EDU>, gun%cspara@CS.ColoState.EDU (Scott W. Para) writes:>> I don't know whether anyone knows whether or not it is true that you did not use> the> gun in the first place.  It seems clear that you used the gun> and it is not as legal as the US.  If so, please tell me where I can get a gun, in which area, and how that should be.  > But please tell me what is legal and what isn't?>> I have\n"
          ]
        },
        {
          "output_type": "stream",
          "name": "stderr",
          "text": [
            "The attention mask and the pad token id were not set. As a consequence, you may observe unexpected behavior. Please pass your input's `attention_mask` to obtain reliable results.\n",
            "Setting `pad_token_id` to `eos_token_id`:50256 for open-end generation.\n"
          ]
        },
        {
          "output_type": "stream",
          "name": "stdout",
          "text": [
            "  Batch 3,800  of  8,481. Loss: 1.0812848806381226.   Elapsed: 0:34:04.\n",
            "0:  pretendingRe: The arrogance of Christians; TLDR: In article <Apr.10.05.33.31.1993.14385@athos.rutgers.edu> mdw33310@uxa.cso.uiuc.edu (Michael D. Walker) writes:>In article <Apr.10.05.32.25.1993.14385@athos.rutgers.edu> mdw33310@uxa.cso.uiuc.edu (Michael D. Walker) writes:>|In article <May.11.02.36.16.1993.15385@athos.rutgers.edu> >|frank@Ingres.COM (Frank O'Dwyer) writes:>|>In article <Apr.13.00.34.1993.29790@athos.rutgers.edu> >|randy@Ingres.COM (Randy\n"
          ]
        },
        {
          "output_type": "stream",
          "name": "stderr",
          "text": [
            "The attention mask and the pad token id were not set. As a consequence, you may observe unexpected behavior. Please pass your input's `attention_mask` to obtain reliable results.\n",
            "Setting `pad_token_id` to `eos_token_id`:50256 for open-end generation.\n"
          ]
        },
        {
          "output_type": "stream",
          "name": "stdout",
          "text": [
            "  Batch 3,900  of  8,481. Loss: 1.478416919708252.   Elapsed: 0:34:59.\n",
            "0:  PCBRe: Where did the hacker ethic go?; TLDR: In article <1993Apr17.170001.16982@pam.umd.edu> sjk87@brunel.ac.uk writes:>So who is it that invents hackers & spooks?? The hacker ethic,>or lack thereof, is an intellectual and technical perusal. That is why I like>the idea of hackers & spooks.  In the long run, we will stay mostly computer>users & spooks, and we will also remain computer users and>programmers.         ^^^^^^^^^^^^^^^^^^^^^^^^^^^^^^^^^^^^^^^^^^^^^^^^^^^^^^^^^^^^^^^^^^^^^^^^^^^^^^^^^^^^^^^^^^^^^^^^^^^^^^^^^^^^^^^^^^^^^^^^^^^^^^^^^^^^^^^^^^^^^^^^^^^^^^^^^^^^^^^^^^^^^^^^^^^^^^^^^^^^^^^^^^^^^^^^^^^^^^^^^^^^^^^^^^^^^^^^^^^^^^^^^^^^^^^^^^^^^^^^^^^^^^^^^^^^^^^^^^^^^^^^^^^^^\n"
          ]
        },
        {
          "output_type": "stream",
          "name": "stderr",
          "text": [
            "The attention mask and the pad token id were not set. As a consequence, you may observe unexpected behavior. Please pass your input's `attention_mask` to obtain reliable results.\n",
            "Setting `pad_token_id` to `eos_token_id`:50256 for open-end generation.\n"
          ]
        },
        {
          "output_type": "stream",
          "name": "stdout",
          "text": [
            "  Batch 4,000  of  8,481. Loss: 0.6903076171875.   Elapsed: 0:35:53.\n",
            "0:  retrospectRe: Vandalizing the sky.; TLDR: In article <C5p6Kv.KyF@news.cso.uiuc.edu> kadie@ux4.cso.uiuc.edu (Carl M. Kadie) writes:>What, you are the official keeper of the C.S. Lewis & Co.?  I >believe your statement was taken to be totally irrational, and contrary>to the spirit you are trying to convey.Well, your statement was only taken as a complete statement, not toa scientific statement.  In fact, not only will the \"atheistic\"views of my post be held as an immature and not adpetite attempt of the sort that's being considered scientificand not of scientific fact.I admit to stating the above statement without some evidence tothe contrary (which leads me to believe you are a scientificperson, but I'm not as well up on the subject.)  However,\n"
          ]
        },
        {
          "output_type": "stream",
          "name": "stderr",
          "text": [
            "The attention mask and the pad token id were not set. As a consequence, you may observe unexpected behavior. Please pass your input's `attention_mask` to obtain reliable results.\n",
            "Setting `pad_token_id` to `eos_token_id`:50256 for open-end generation.\n"
          ]
        },
        {
          "output_type": "stream",
          "name": "stdout",
          "text": [
            "  Batch 4,100  of  8,481. Loss: 2.08430814743042.   Elapsed: 0:36:46.\n",
            "0:  plainRe: \"Proper gun control?\" What is proper gun control? (was Re: My Gun is like my American Express Card); TLDR: In article <1qko9o$p2p@transfer.stratus.com> cdt@sw.stratus.com(C. D. Tavares) writes:>In article <C5vI0z.Dw@magpie.linknet.com> manes@magpie.linknet.com (Steve Manes) writes:>>In article <C5v1K7o.Ds3@magpie.linknet.com> manes@magpie.linknet.com (Steve Manes) writes:>>>I know there are some criminals who would have died without the proper>>>gun laws... but that is not the issue.>This is one of the points of gun control: how does the gun>\"properly\" affect each of us, so\n"
          ]
        },
        {
          "output_type": "stream",
          "name": "stderr",
          "text": [
            "The attention mask and the pad token id were not set. As a consequence, you may observe unexpected behavior. Please pass your input's `attention_mask` to obtain reliable results.\n",
            "Setting `pad_token_id` to `eos_token_id`:50256 for open-end generation.\n"
          ]
        },
        {
          "output_type": "stream",
          "name": "stdout",
          "text": [
            "  Batch 4,200  of  8,481. Loss: 0.9817816615104675.   Elapsed: 0:37:40.\n",
            "0:  disclosedRe: Where did the hacker ethic go?; TLDR: On a related topic, I think it is appropriate to point out where one is wrong and one iscorrect and one is correct and one should not be punished.If I say I was wrong, I think you're a false one.I didn't think I was wrong in this thread.In a posting I read a long time ago, on gaining some respect, that peoplewere saying that they understood that they were getting their money outof what they were doing so that they could make money. I don't think we are seeing this discussion as ifit is somehow wrong.In article <1rhgv$9mg@sunb.ocs.mq.edu.au> scott@ocs.mq.edu.au writes:>To those who have fallen behind in the hacker ethic, there is a>TJU.           \n"
          ]
        },
        {
          "output_type": "stream",
          "name": "stderr",
          "text": [
            "The attention mask and the pad token id were not set. As a consequence, you may observe unexpected behavior. Please pass your input's `attention_mask` to obtain reliable results.\n",
            "Setting `pad_token_id` to `eos_token_id`:50256 for open-end generation.\n"
          ]
        },
        {
          "output_type": "stream",
          "name": "stdout",
          "text": [
            "  Batch 4,300  of  8,481. Loss: 0.6052690744400024.   Elapsed: 0:38:34.\n",
            "0:  beverageVandalizing the sky.; TLDR: [ Article crossposted from t.o.c.iastate.edu.au (James P. Austin) ]Okay, so a few people were flaming the wackos of the BritishGovernment.  These guys aren't wackos either.  Should they decide what the heck isthis?[... ]I just wanted to let everyone know that Space Marketing isbeing violated.And, yes... I guess I just wanted to point out the obvious, that youand the rest of the country have nothing to do withthis, even if it looks to work.  If it is just sucha nice sight, then there is no reason I can think of, asopposedly as a night sky being a big enough touse to get people to buy all the publicity they wanted.  Ifyou like, say, advertising to your local Star Tribute newspaper newspaper, or toany other Star Tribute newspaper, then that is\n"
          ]
        },
        {
          "output_type": "stream",
          "name": "stderr",
          "text": [
            "The attention mask and the pad token id were not set. As a consequence, you may observe unexpected behavior. Please pass your input's `attention_mask` to obtain reliable results.\n",
            "Setting `pad_token_id` to `eos_token_id`:50256 for open-end generation.\n"
          ]
        },
        {
          "output_type": "stream",
          "name": "stdout",
          "text": [
            "  Batch 4,400  of  8,481. Loss: 0.5538065433502197.   Elapsed: 0:39:28.\n",
            "0:  (\"Re: Too fast); TLDR: In article <1sf4gINNn9o@usenet.INS.CWRU.Edu>, jimb@CS.CWRU.Edu (jimb@CS.CMU.EDU) wrote:> In article <1993Apr12.105637.5990@magnus.acs.ohio-state.edu>, > bferrell@magnus.acs.ohio-state.edu (Brett Ferrell) writes:> > >> Well, officially it's the runners who don't even have a name.  > > Then again, isn't it just me, who is it that invents those names?  > > I'll probably be there this weekend at the Colorado Rockies.                                \n"
          ]
        },
        {
          "output_type": "stream",
          "name": "stderr",
          "text": [
            "The attention mask and the pad token id were not set. As a consequence, you may observe unexpected behavior. Please pass your input's `attention_mask` to obtain reliable results.\n",
            "Setting `pad_token_id` to `eos_token_id`:50256 for open-end generation.\n"
          ]
        },
        {
          "output_type": "stream",
          "name": "stdout",
          "text": [
            "  Batch 4,500  of  8,481. Loss: 1.1883264780044556.   Elapsed: 0:40:22.\n",
            "0:  foundingWanted: New Study Out On Gay Percentage; TLDR: \tof Denver for the Denver community.  The University has neither\tcontrol over nor responsibility for the opinions of users.In article <15378@optilink.COM> cramer@optilink.COM (Clayton Cramer) writes:|In article <C5t759s.BL2@ulowell.ulowell.edu> jrutledg@cs.ulowell.edu (John Lawrence Rutledge) writes:|> |> Clayton E. Cramer {uunet,pyramid}!optilink!cramer  My opinions, all mine!|> |> |> Let's make some serious errors about how the media works in this group.|> |> (a) I assume that you are referring to the Janus Report, not the Newsweek|> |> Report.|>|> (b) It is generally true\n"
          ]
        },
        {
          "output_type": "stream",
          "name": "stderr",
          "text": [
            "The attention mask and the pad token id were not set. As a consequence, you may observe unexpected behavior. Please pass your input's `attention_mask` to obtain reliable results.\n",
            "Setting `pad_token_id` to `eos_token_id`:50256 for open-end generation.\n"
          ]
        },
        {
          "output_type": "stream",
          "name": "stdout",
          "text": [
            "  Batch 4,600  of  8,481. Loss: 0.7022757530212402.   Elapsed: 0:41:16.\n",
            "0:  filesystemRe: ATF BURNS DIVIDIAN RANCH! NO SURVIVORS!!!; TLDR: In article <1993Apr23.163603.11395@gnv.ifas.ufl.edu> jrm@gnv.ifas.ufl.edu writes:>In article <C5rusq.M6M@news.cso.uiuc.edu>, irvine@uxh.cso.uiuc.edu (Brent Irvine) writes:>>In article <C5rusq.M6M@news.cso.uiuc.edu>, irvine@uxh.cso.uiuc.edu (Brent Irvine) writes:>>gsh7w@zip.ece.cmu.edu (Doug Holtsinger) writes:>>|> In article <C5rusq.M6M@news.cso.uiuc.edu>, irvine\n"
          ]
        },
        {
          "output_type": "stream",
          "name": "stderr",
          "text": [
            "The attention mask and the pad token id were not set. As a consequence, you may observe unexpected behavior. Please pass your input's `attention_mask` to obtain reliable results.\n",
            "Setting `pad_token_id` to `eos_token_id`:50256 for open-end generation.\n"
          ]
        },
        {
          "output_type": "stream",
          "name": "stdout",
          "text": [
            "  Batch 4,700  of  8,481. Loss: 0.5300770401954651.   Elapsed: 0:42:10.\n",
            "0:  normalA Momentus Jumemoller; TLDR: If someone wants a message and is really new to this group I would appreciate it, too.I am having a problem with my system on a Mac LC. I can onlyorder things with the mouse when I am on the keyboard. My system can not remember to \"lock\"the keypresses and everything but it is fine. I have a Maxtor 1442A keyboard and a LaserWriter LQ10 LaserWriter LQ10, which can switch betweeneverything I am using (not sure what mac keyboardis working for).Any ideas on what is going on and I should know any help. Thanks.-- ----------------------------------------------------------------------------Gordon Banks  N3JXP        | \"Skepticism is the chastity of the intellect, andgeb@cadre.dsl.pitt.edu   |  it is shameful to surrender it too soon.\" ----------------------------------------------------------------------------\n"
          ]
        },
        {
          "output_type": "stream",
          "name": "stderr",
          "text": [
            "The attention mask and the pad token id were not set. As a consequence, you may observe unexpected behavior. Please pass your input's `attention_mask` to obtain reliable results.\n",
            "Setting `pad_token_id` to `eos_token_id`:50256 for open-end generation.\n"
          ]
        },
        {
          "output_type": "stream",
          "name": "stdout",
          "text": [
            "  Batch 4,800  of  8,481. Loss: 1.7753345966339111.   Elapsed: 0:43:04.\n",
            "0:  MartialRe: A Message for you Mr. President: How do you know what happened?; TLDR: In a previous article, rdc8@cunixf.cc.columbia.edu (Robert D Castro) says:>>In the first assault after the tragedy, there were>no \"legal\" bullets being fired.  The 'criminal'>was obviously firing \"non-lethal\" tear gas.  The 'criminal' was>not in control of the area around him.  Besides that there were>quite a few of the 'criminal' cases where you are able to>see the difference between firing an>explosive at a moving vehicle with a proximity to your home,>and getting shot?  The criminal is perfectly free to kill or>use lethal force with a semi-auto.  Unless you have a criminal record whosense you do not have?  Why do youassume the victim was shot in the head by an '\n"
          ]
        },
        {
          "output_type": "stream",
          "name": "stderr",
          "text": [
            "The attention mask and the pad token id were not set. As a consequence, you may observe unexpected behavior. Please pass your input's `attention_mask` to obtain reliable results.\n",
            "Setting `pad_token_id` to `eos_token_id`:50256 for open-end generation.\n"
          ]
        },
        {
          "output_type": "stream",
          "name": "stdout",
          "text": [
            "  Batch 4,900  of  8,481. Loss: 1.3864322900772095.   Elapsed: 0:43:58.\n",
            "0: HumanXS50 -> XSL (Was: Re: XSL or xnx); TLDR: I wrote:> | US:> |> |> The US RISC System is the result of the efforts of the US Government and its  > U.S. government, to extend its appeal to international standards. > |> It is the product of government, International Relations, international trade and                                                                                                                 \n"
          ]
        },
        {
          "output_type": "stream",
          "name": "stderr",
          "text": [
            "The attention mask and the pad token id were not set. As a consequence, you may observe unexpected behavior. Please pass your input's `attention_mask` to obtain reliable results.\n",
            "Setting `pad_token_id` to `eos_token_id`:50256 for open-end generation.\n"
          ]
        },
        {
          "output_type": "stream",
          "name": "stdout",
          "text": [
            "  Batch 5,000  of  8,481. Loss: 1.777306079864502.   Elapsed: 0:44:52.\n",
            "0:  discountDaily Verse; TLDR: And some of you will not return with this kind of messengers. Ifyou do so, then perhaps God will not return. Ifwe do okay, then there's no problem with us, but when we kill someone we ceaseto exist. If you kill, then it is you who is to perish. Even if you are killed, and there's no reason for this, then there's no problem. What's needed is to keep someone around who is dead (assuming they don't become friends) and then,when the news comes around, there's no reason why we shouldn't get rid of the messengers. If you want to seduce us, then you don't needto seduce us. You should know how dangerous it is to seduce people with a sedative andsub sedative. If it's to seduce us with a sedative and sub sedative, then youshould know how dangerous it is to seduce people with a\n"
          ]
        },
        {
          "output_type": "stream",
          "name": "stderr",
          "text": [
            "The attention mask and the pad token id were not set. As a consequence, you may observe unexpected behavior. Please pass your input's `attention_mask` to obtain reliable results.\n",
            "Setting `pad_token_id` to `eos_token_id`:50256 for open-end generation.\n"
          ]
        },
        {
          "output_type": "stream",
          "name": "stdout",
          "text": [
            "  Batch 5,100  of  8,481. Loss: 0.4498431384563446.   Elapsed: 0:45:46.\n",
            "0:  frontierRe: The Old Key Registration Idea...; TLDR: In article <1r3ef5$d0o@access.digex.net> prb@access.digex.net (Pat) writes:>I'm not sure how secure your key is, but it certainly beats the current>standard in a field of confusion.        You might have noticed, perhaps :-)>Pat\t\"The 80 key ain'thin' goin' and you're nothin' going to buy now.\"> --Arthur Dent>Disclaimer:  If you believe that this stuff is commercially available,>OR cdt@rocket.sw.stratus.com         write today for a free sample magizine!>--                                      \n"
          ]
        },
        {
          "output_type": "stream",
          "name": "stderr",
          "text": [
            "The attention mask and the pad token id were not set. As a consequence, you may observe unexpected behavior. Please pass your input's `attention_mask` to obtain reliable results.\n",
            "Setting `pad_token_id` to `eos_token_id`:50256 for open-end generation.\n"
          ]
        },
        {
          "output_type": "stream",
          "name": "stdout",
          "text": [
            "  Batch 5,200  of  8,481. Loss: 0.48648229241371155.   Elapsed: 0:46:39.\n",
            "0:  atmosphericRe: Amusing atheists and agnostics; TLDR: In article <Apr.13.00.55.57.1993.14388@athos.rutgers.edu> Fil.Sapienza@med.umich.edu (Fil Sapienza) writes:>Why is it such a strange practice to mix atheists and agnostics?  I have>been working on this and i've read that there are some people who are>afraid to speak up because of atheism. >Well, some of the atheist agnosticists were quite annoying, but that hardly matches the agnosticist's behavior. I don't see how one is necessarily dangerous.I see it as strange. I don't see how one can argue that atheism causes people to be very bad. Ithappens all those atheists to be bad. You could have a huge smile on your face, but I think you got itfrom your book I think. I don\n"
          ]
        },
        {
          "output_type": "stream",
          "name": "stderr",
          "text": [
            "The attention mask and the pad token id were not set. As a consequence, you may observe unexpected behavior. Please pass your input's `attention_mask` to obtain reliable results.\n",
            "Setting `pad_token_id` to `eos_token_id`:50256 for open-end generation.\n"
          ]
        },
        {
          "output_type": "stream",
          "name": "stdout",
          "text": [
            "  Batch 5,300  of  8,481. Loss: 0.995779275894165.   Elapsed: 0:47:33.\n",
            "0:  foundingRe: The doctrine of Original Sin; TLDR: In article <May.11.02.31.10.1993.14453@athos.rutgers.edu> kennejs@a.cs.wisc.edu (KENNEDY JAMES SCOT) writes:>In article <May.8.01.26.31.1993.14375@athos.rutgers.edu> rmitch@argon.gas.organpipe.uug.arizona.edu (Ross Mitchell) writes:>>>  I don't know what causes the person who is accused of committing>>   a crime to be guilty of committing the crime, but the person convicted of committing the>>   crime is innocent until proven guilty.>Well, if the person who is accused is guilty (in this case), you'd also be guilty until proven> guilty, i.e., asphyxia (a burned hotter response from an\n"
          ]
        },
        {
          "output_type": "stream",
          "name": "stderr",
          "text": [
            "The attention mask and the pad token id were not set. As a consequence, you may observe unexpected behavior. Please pass your input's `attention_mask` to obtain reliable results.\n",
            "Setting `pad_token_id` to `eos_token_id`:50256 for open-end generation.\n"
          ]
        },
        {
          "output_type": "stream",
          "name": "stdout",
          "text": [
            "  Batch 5,400  of  8,481. Loss: 1.2726631164550781.   Elapsed: 0:48:27.\n",
            "0:  medievalRe: Good Neighbor Political Hypocrisy Test; TLDR: In article <1pklvd$dlu@sixgun.East.Sun.COM> egreen@east.sun.com writes:>>In article <stevethC5tH5v.DL1@netcom.com> steveth@netcom.com (Steve Thomas) wri>tes:>>>In article <stevethC5z5t.DL1@netcom.com>, steveth@netcom.com (Steve Thomas) wri>tes:>>>>>napalm, then let the wood stove inside ignite it.>>I thought the wood stove was being ignited by some sort of>>sort of electrical device (bought from CompuTrac, Inc.). The>susects that were being used were found.  You can also find it>>if you look up the article in theApril 13, 1993 issue of W\n"
          ]
        },
        {
          "output_type": "stream",
          "name": "stderr",
          "text": [
            "The attention mask and the pad token id were not set. As a consequence, you may observe unexpected behavior. Please pass your input's `attention_mask` to obtain reliable results.\n",
            "Setting `pad_token_id` to `eos_token_id`:50256 for open-end generation.\n"
          ]
        },
        {
          "output_type": "stream",
          "name": "stdout",
          "text": [
            "  Batch 5,500  of  8,481. Loss: 1.0950119495391846.   Elapsed: 0:49:21.\n",
            "0:  channelRe: Vandalizing the sky.; TLDR: In article <C63rE4.2Jn@news.cso.uiuc.edu> gfk39017@uxa.cso.uiuc.edu (George F. Krumins) writes:>If we had a budget big enough to devote to space, we sure would>have done something.  But we don't.>You live in the backyard of Bill Clinton, a self appointed>politician/Author of the New York City Party.  I strongly urge you to show your>great respect, and consider moving that wealth into the>federal government.  This alone is the wate of the other 58% of the>people. >\tOh gee, George, you're a jerk.  That's why the liberals are beating up>David Koresh, the NRA, SAF, SAF, SAF et al. in Waco.  I think that\n"
          ]
        },
        {
          "output_type": "stream",
          "name": "stderr",
          "text": [
            "The attention mask and the pad token id were not set. As a consequence, you may observe unexpected behavior. Please pass your input's `attention_mask` to obtain reliable results.\n",
            "Setting `pad_token_id` to `eos_token_id`:50256 for open-end generation.\n"
          ]
        },
        {
          "output_type": "stream",
          "name": "stdout",
          "text": [
            "  Batch 5,600  of  8,481. Loss: 1.1630498170852661.   Elapsed: 0:50:14.\n",
            "0:  viewsThe doctrine of Original Sin; TLDR: I have recently become convinced that people who distort the Biblein the name of Bible-toting (someone who is a Bible- taker or perhaps just Imaginitive to such extreme a view)should be called by their peers.  This was the case when a group of people whowind the Bible- taker in the name of Bible- taker (a commonplace for which Christians, fromwhat I have seen, are aware that there is a God).  This is a greatdifference because they are so small and small and notimportant as to make a difference for them, so it might notmatter to them, because their own confusion may eventually result totheir own confusion.  It doesn't take much effort.  I find it hard to believe for a fact that the original, whodread it, was not written by God, so it should be judged by his or his peers.  I think we might get\n"
          ]
        },
        {
          "output_type": "stream",
          "name": "stderr",
          "text": [
            "The attention mask and the pad token id were not set. As a consequence, you may observe unexpected behavior. Please pass your input's `attention_mask` to obtain reliable results.\n",
            "Setting `pad_token_id` to `eos_token_id`:50256 for open-end generation.\n"
          ]
        },
        {
          "output_type": "stream",
          "name": "stdout",
          "text": [
            "  Batch 5,700  of  8,481. Loss: 0.6310784220695496.   Elapsed: 0:51:08.\n",
            "0:  revolutionaryRe: Jack Morris; TLDR: In article <C5pI2.4I4@news.claremont.edu> rsilver@pitt.edu (Richard Silver) writes:>In article <1qf4b3$6hd@news.claremont.edu>, sgoldstei@news.claremont.edu (Steve Goldberg) writes:>>In article <93104.192711.1v3f@ramsey.cs.laurentian.ca> maynard@ramsey.cs.laurentian.ca writes:>>>   >>My vote goes to Jack Morris. He has had a lot of flash scoring games.>>>>   >>    >>  He's still finding ways to cause injury to himself.>>>>   >>      >>  He's still finding ways to get himself back on base.>>>>   >>    >> \n"
          ]
        },
        {
          "output_type": "stream",
          "name": "stderr",
          "text": [
            "The attention mask and the pad token id were not set. As a consequence, you may observe unexpected behavior. Please pass your input's `attention_mask` to obtain reliable results.\n",
            "Setting `pad_token_id` to `eos_token_id`:50256 for open-end generation.\n"
          ]
        },
        {
          "output_type": "stream",
          "name": "stdout",
          "text": [
            "  Batch 5,800  of  8,481. Loss: 1.0053902864456177.   Elapsed: 0:52:02.\n",
            "0:  interactingRe: Countersteering_FAQ please post; TLDR: > In article <C5qtJu.F3a@news.cso.uiuc.edu> gsu0033@uxa.cso.uiuc.edu (Mr. Grinch) writes:>>In article <C5L0D.F1D@news.cso.uiuc.edu> gsu0033@uxa.cso.uiuc.edu (Mr. Grinch) writes:>>>Is it legal for me to take a bike with an empty spot on the handlebars?>>A clear plastic covering on the handlebars helps!>>>>I've never had to do that, though!  The only place I've known to do it is on the>handlebars, which aren't anywhere near as heavy as a tire on the right.> > \tI think this applies to most people.  I've seen a few righth\n"
          ]
        },
        {
          "output_type": "stream",
          "name": "stderr",
          "text": [
            "The attention mask and the pad token id were not set. As a consequence, you may observe unexpected behavior. Please pass your input's `attention_mask` to obtain reliable results.\n",
            "Setting `pad_token_id` to `eos_token_id`:50256 for open-end generation.\n"
          ]
        },
        {
          "output_type": "stream",
          "name": "stdout",
          "text": [
            "  Batch 5,900  of  8,481. Loss: 0.2596936821937561.   Elapsed: 0:52:56.\n",
            "0:  subscRe: The Dayton Gun \"Buy Back\" (Re: Boston Gun Buy Back); TLDR: I am still waiting for your response to my original post which is:>It is my understanding that the Dayton Gun Buy Back is a bunch of junk toys, that>is not really surprising since Dayton, Ohio ( OH ) is one of the >places in our state that have some of the most liberal, anti-gun >agenda on the books (although I live in Dayton OH ). Since that I would guess there is a tiny fringe in thegun-issue. However, since Dayton has had several shootings, Iwould expect an interesting article, like this one. My impression of the gun-buyback movement is to fund the purchasing of guns to fight crimes. The NRAand the NRA are involved in this \"gun buyback\". Since I oppose the NRA, I wouldprefer them to fund the NRA because they have no money to fund. As an aside, how well do\n"
          ]
        },
        {
          "output_type": "stream",
          "name": "stderr",
          "text": [
            "The attention mask and the pad token id were not set. As a consequence, you may observe unexpected behavior. Please pass your input's `attention_mask` to obtain reliable results.\n",
            "Setting `pad_token_id` to `eos_token_id`:50256 for open-end generation.\n"
          ]
        },
        {
          "output_type": "stream",
          "name": "stdout",
          "text": [
            "  Batch 6,000  of  8,481. Loss: 2.053537368774414.   Elapsed: 0:53:49.\n",
            "0:  remainderRe: The Escrow Database.; TLDR: In article <1r3sb3$htr@access.digex.net>, prb@access.digex.com (Pat) writes:>> If, of course, they get warrants from a court, and you think they>> got that, then what?\tI thought the judge had a very bad idea. As far as Ican see the Court can only hold court actions. However, it can't be that much betterthan relying on an escrow database for a court case.\n"
          ]
        },
        {
          "output_type": "stream",
          "name": "stderr",
          "text": [
            "The attention mask and the pad token id were not set. As a consequence, you may observe unexpected behavior. Please pass your input's `attention_mask` to obtain reliable results.\n",
            "Setting `pad_token_id` to `eos_token_id`:50256 for open-end generation.\n"
          ]
        },
        {
          "output_type": "stream",
          "name": "stdout",
          "text": [
            "  Batch 6,100  of  8,481. Loss: 0.4827948212623596.   Elapsed: 0:54:43.\n",
            "0: SayWANTED:                                                                                                                                                                                                   \n"
          ]
        },
        {
          "output_type": "stream",
          "name": "stderr",
          "text": [
            "The attention mask and the pad token id were not set. As a consequence, you may observe unexpected behavior. Please pass your input's `attention_mask` to obtain reliable results.\n",
            "Setting `pad_token_id` to `eos_token_id`:50256 for open-end generation.\n"
          ]
        },
        {
          "output_type": "stream",
          "name": "stdout",
          "text": [
            "  Batch 6,200  of  8,481. Loss: 0.24892932176589966.   Elapsed: 0:55:37.\n",
            "0:  jarRe: Clipper considered harmful; TLDR:  <1993Apr24.161113.25015@wam.umd.edu>In article <1993Apr24.161113.25015@wam.umd.edu> kadzik@wam.umd.edu (Kenneth Kadzik) writes:>>>In article <1993Apr16.215502.17062@natasha.portal.com> bob@natasha.portal.com (Bob Cain) writes:>>>I think you'll have a hard time telling me about this.  It would>>be helpful to know how to properly guard that fact.>I hope you don't mind if they use this method of encrypting your>private key.>>>If the government decided to use this approach, they certainly wouldn't have a>good reason to do it, right?  Maybe a better way to think>about it would be something more convincing\n"
          ]
        },
        {
          "output_type": "stream",
          "name": "stderr",
          "text": [
            "The attention mask and the pad token id were not set. As a consequence, you may observe unexpected behavior. Please pass your input's `attention_mask` to obtain reliable results.\n",
            "Setting `pad_token_id` to `eos_token_id`:50256 for open-end generation.\n"
          ]
        },
        {
          "output_type": "stream",
          "name": "stdout",
          "text": [
            "  Batch 6,300  of  8,481. Loss: 1.210303783416748.   Elapsed: 0:56:30.\n",
            "0: 4WANTED: Postscript graphics package; TLDR: This package will have to do with PostScript graphics editors and printers.--                                                                                                                                                                             \n"
          ]
        },
        {
          "output_type": "stream",
          "name": "stderr",
          "text": [
            "The attention mask and the pad token id were not set. As a consequence, you may observe unexpected behavior. Please pass your input's `attention_mask` to obtain reliable results.\n",
            "Setting `pad_token_id` to `eos_token_id`:50256 for open-end generation.\n"
          ]
        },
        {
          "output_type": "stream",
          "name": "stdout",
          "text": [
            "  Batch 6,400  of  8,481. Loss: 0.9724852442741394.   Elapsed: 0:57:25.\n",
            "0:  JeffreyRe: Braves Update!!; TLDR: In article <93108.170031APR1993194893@2chorionic.UUCP> APR1993194893@2chorionic.UUCP (Paul Valeri) writes:>>>It is interesting, in that moment, to see Bip Roberts and Hernandez>finally make an out, the umpire calls the strike a strike.>>Not only that, the bmw guys are very much in the process of>implementing a new rule!  Just because a strike is called>a strike does not mean that the baseball team is going to call the> strike a strike, even though an out is called the same> time!>Oh, so you still can't see Bip Roberts and Hernandez calling the strike a strike?  Why call the strike a strike?>A strike call is a call to the umpire, as that is, by>an appeal to the first\n"
          ]
        },
        {
          "output_type": "stream",
          "name": "stderr",
          "text": [
            "The attention mask and the pad token id were not set. As a consequence, you may observe unexpected behavior. Please pass your input's `attention_mask` to obtain reliable results.\n",
            "Setting `pad_token_id` to `eos_token_id`:50256 for open-end generation.\n"
          ]
        },
        {
          "output_type": "stream",
          "name": "stdout",
          "text": [
            "  Batch 6,500  of  8,481. Loss: 0.9248997569084167.   Elapsed: 0:58:18.\n",
            "0:  corruptRe: New planet/Kuiper object found?; TLDR: I was wondering if anyone knows where I could find an object or missionsto put in extra solar system orbits. I am looking for a planet/Kuiper belt object to do the job. Any references are welcome.Thanks,Jeff.\n"
          ]
        },
        {
          "output_type": "stream",
          "name": "stderr",
          "text": [
            "The attention mask and the pad token id were not set. As a consequence, you may observe unexpected behavior. Please pass your input's `attention_mask` to obtain reliable results.\n",
            "Setting `pad_token_id` to `eos_token_id`:50256 for open-end generation.\n"
          ]
        },
        {
          "output_type": "stream",
          "name": "stdout",
          "text": [
            "  Batch 6,600  of  8,481. Loss: 0.5203263163566589.   Elapsed: 0:59:11.\n",
            "0:  mistakenRe: HELP with Kidney Stones..............; TLDR: In article <sjcop4.7375440@ceti.cs.unc.edu> shearson@aisun3.ai.uga.edu (Brad Hernlem) writes:>>>>As I understand medical treatments for hyperumbney stones, there is definitely>>some obstruction, but it is not impossible (at least not>exhausted) to get enough blood.  The stones need to be reattached with>the proper drainage technique - the pain is comparable to that of childbirth>>(I've seen pictures of my 13 year old daughter being carted off from her>thin in an effort to prevent pain), but the pain was comparable>to that of childbirth (both pain and childbirth).  That is, she was born with>small stones that had been repaired by a doctor who used this method, in the>hospital where the pain was comparable to that of childbirth, so\n"
          ]
        },
        {
          "output_type": "stream",
          "name": "stderr",
          "text": [
            "The attention mask and the pad token id were not set. As a consequence, you may observe unexpected behavior. Please pass your input's `attention_mask` to obtain reliable results.\n",
            "Setting `pad_token_id` to `eos_token_id`:50256 for open-end generation.\n"
          ]
        },
        {
          "output_type": "stream",
          "name": "stdout",
          "text": [
            "  Batch 6,700  of  8,481. Loss: 0.792735755443573.   Elapsed: 1:00:04.\n",
            "0:  becRe: Waco Investigation Paranoia; TLDR: In article <93108.025853U28037@uicvm.uic.edu> Jason Kratz                       writes:>I'm not going to back this up, Jason, but is there a mass suicide>out somewhere in Indiana that I know of that is a major enough problem?>I don't see one place in Indiana that actually used CS gas, but there is>a possibility that the fires started accidentally, as the press was not moving.There is one place I know of that used CS gas (but a lot less so than CSgas and it was easier to \"stay in\" :-))>>Now I'm not saying that the press was not doing what it was to get up>>and go out, just that the BD's did get out of there.>>Jason>>-- >>\n"
          ]
        },
        {
          "output_type": "stream",
          "name": "stderr",
          "text": [
            "The attention mask and the pad token id were not set. As a consequence, you may observe unexpected behavior. Please pass your input's `attention_mask` to obtain reliable results.\n",
            "Setting `pad_token_id` to `eos_token_id`:50256 for open-end generation.\n"
          ]
        },
        {
          "output_type": "stream",
          "name": "stdout",
          "text": [
            "  Batch 6,800  of  8,481. Loss: 1.1275690793991089.   Elapsed: 1:00:58.\n",
            "0: MyRe: Burden of Proof; TLDR: In article <1qh3pqINNdlu@dns1.NMSU.Edu> mancus@nerma.nerma.edu (Keith Mancus) writes:>In article <C5J5r.GME@cbnewse.cb.att.com> dans@cbnewse.cb.att.com (Dan S. Hughes) writes:>>I'm not sure about this but I have always thought that>>evidence for a proposition is proof which was passed on to>>the inductive conclusion.  That is, if a>>person were to assert the existence of a truth which was passed on to>>the next inductive conclusion they would have no way of knowing>>if there is a truth in the first place, which might mean that the>>person would be able to prove that the proposition>>that the proposition is true is true is not even possible\n"
          ]
        },
        {
          "output_type": "stream",
          "name": "stderr",
          "text": [
            "The attention mask and the pad token id were not set. As a consequence, you may observe unexpected behavior. Please pass your input's `attention_mask` to obtain reliable results.\n",
            "Setting `pad_token_id` to `eos_token_id`:50256 for open-end generation.\n"
          ]
        },
        {
          "output_type": "stream",
          "name": "stdout",
          "text": [
            "  Batch 6,900  of  8,481. Loss: 0.5936207175254822.   Elapsed: 1:01:52.\n",
            "0:  FORe: Why is Barry Bonds not batting 4th?; TLDR: In article <1993Apr22.142819.26131@Princeton.EDU>, roger@thor.Princeton.EDU (Roger Lustig) writes...|> >   A reasonable person would not be in the position to argue about this, except to|> > argue about whether it is legitimate to Bonds.|> |> |> Why don't you guys always leave behind the field, catch up and make your rebuttal!|> Not if you don't like to hit. A run scored is just as important as a run prevented (barring|> the ball). Let's make it more complicated. When you don't count on one guy driving|> home to start the game, and then the game won't be over.I think you do.  I think you miss the point.  If Barry is doing some defensive stuff, then yes he\n"
          ]
        },
        {
          "output_type": "stream",
          "name": "stderr",
          "text": [
            "The attention mask and the pad token id were not set. As a consequence, you may observe unexpected behavior. Please pass your input's `attention_mask` to obtain reliable results.\n",
            "Setting `pad_token_id` to `eos_token_id`:50256 for open-end generation.\n"
          ]
        },
        {
          "output_type": "stream",
          "name": "stdout",
          "text": [
            "  Batch 7,000  of  8,481. Loss: 0.383973091840744.   Elapsed: 1:02:46.\n",
            "0: qqaHow is a Loopback connector made?; TLDR:         I'm making a loopback connector (in this case a parallel) for my                                                                                                                                                                   \n"
          ]
        },
        {
          "output_type": "stream",
          "name": "stderr",
          "text": [
            "The attention mask and the pad token id were not set. As a consequence, you may observe unexpected behavior. Please pass your input's `attention_mask` to obtain reliable results.\n",
            "Setting `pad_token_id` to `eos_token_id`:50256 for open-end generation.\n"
          ]
        },
        {
          "output_type": "stream",
          "name": "stdout",
          "text": [
            "  Batch 7,100  of  8,481. Loss: 1.5124340057373047.   Elapsed: 1:03:40.\n",
            "0:  206Re: WACO burning; TLDR: In article <C5MuIy.Ku9@news.cso.uiuc.edu>, eshneken@uxa.cso.uiuc.edu (Edward A Shnekendorf) writes...>What the hell happened to the BDs when they turned off lanterns, heaters,>and of course there were propane and armored flame throwers.>If there is anything wrong with this, I apologize.>>I had hoped that there were no lanterns or thermal florries.>>I had hoped that there were no such 'problems'>with such scenes.  Instead I set out to find a way to get away>>from the FBI and get some objective action going in.>>You know, I've read plenty of stuff about the Waco deaths (including>my own, I assume).  And I didn't even bring up the question of the \"nature\"of\n"
          ]
        },
        {
          "output_type": "stream",
          "name": "stderr",
          "text": [
            "The attention mask and the pad token id were not set. As a consequence, you may observe unexpected behavior. Please pass your input's `attention_mask` to obtain reliable results.\n",
            "Setting `pad_token_id` to `eos_token_id`:50256 for open-end generation.\n"
          ]
        },
        {
          "output_type": "stream",
          "name": "stdout",
          "text": [
            "  Batch 7,200  of  8,481. Loss: 1.4630645513534546.   Elapsed: 1:04:33.\n",
            "0: SimpleRe: Help building xt intrinsics on RISC?; TLDR: In article <1993Apr22.115347.1@cs.umd.edu> finnegan@cs.umd.edu writes:>Has anybody built xt a intrinsics library for OS/2? I need to>find some way to get rid of the Xt intrinsics problem.Please reply via email -- I haven't seen this group.  Thanks.-- Michael Robinson                                                                                                     \n"
          ]
        },
        {
          "output_type": "stream",
          "name": "stderr",
          "text": [
            "The attention mask and the pad token id were not set. As a consequence, you may observe unexpected behavior. Please pass your input's `attention_mask` to obtain reliable results.\n",
            "Setting `pad_token_id` to `eos_token_id`:50256 for open-end generation.\n"
          ]
        },
        {
          "output_type": "stream",
          "name": "stdout",
          "text": [
            "  Batch 7,300  of  8,481. Loss: 0.5938207507133484.   Elapsed: 1:05:27.\n",
            "0:  HurRe: After 2000 years, can we say that Christian Morality is; TLDR: In article <1qhrpeINN3l5@life.ai.mit.edu> qazi@ai.mit.edu (Zauberer) writes:>In article <C5y1H.4t1@news.cso.uiuc.edu>, cobb@alexia.lis.uiuc.edu (Mike Cobb) writes:>>In article <1qhrpeINN3l5@life.ai.mit.edu> qazi@ai.mit.edu (Zauberer)>>(n) wrote:>>(a) In article <1qhrpeINN3l5@life.ai.mit.edu> cobb@alexia.lis.uiuc.edu (Mike>Orioles) writes:>>>In article <1993Apr24.064804.17482\n"
          ]
        },
        {
          "output_type": "stream",
          "name": "stderr",
          "text": [
            "The attention mask and the pad token id were not set. As a consequence, you may observe unexpected behavior. Please pass your input's `attention_mask` to obtain reliable results.\n",
            "Setting `pad_token_id` to `eos_token_id`:50256 for open-end generation.\n"
          ]
        },
        {
          "output_type": "stream",
          "name": "stdout",
          "text": [
            "  Batch 7,400  of  8,481. Loss: 0.5327702164649963.   Elapsed: 1:06:21.\n",
            "0:  murdRe: TIGER STACK FOR SALE; TLDR:                                                                                                                                                                                         \n"
          ]
        },
        {
          "output_type": "stream",
          "name": "stderr",
          "text": [
            "The attention mask and the pad token id were not set. As a consequence, you may observe unexpected behavior. Please pass your input's `attention_mask` to obtain reliable results.\n",
            "Setting `pad_token_id` to `eos_token_id`:50256 for open-end generation.\n"
          ]
        },
        {
          "output_type": "stream",
          "name": "stdout",
          "text": [
            "  Batch 7,500  of  8,481. Loss: 1.5830016136169434.   Elapsed: 1:07:15.\n",
            "0: 60Re: The state of justice; TLDR: I didn't believe that any of the federal judges was going to be retuneingtheir records of personal attacks. If they were going to, say, say, \"You don't have acurve\"they should challenge you. The only chance to convict them is if you show that they've tried to convict youof any charges they can prove. So the state of justice is going to try to find you guilty, but you're going tofind out that's just a way to convict a jury. If they found you guilty,they'll try for more. And the point they're making when they've tried toconvince you is the state's first that's going to find you guilty. I'd guess you would have some troubleconvanting an innocent person if they found you guilty of assault; how many times have we made thevictim convictions against you?              \n"
          ]
        },
        {
          "output_type": "stream",
          "name": "stderr",
          "text": [
            "The attention mask and the pad token id were not set. As a consequence, you may observe unexpected behavior. Please pass your input's `attention_mask` to obtain reliable results.\n",
            "Setting `pad_token_id` to `eos_token_id`:50256 for open-end generation.\n"
          ]
        },
        {
          "output_type": "stream",
          "name": "stdout",
          "text": [
            "  Batch 7,600  of  8,481. Loss: 1.3442188501358032.   Elapsed: 1:08:08.\n",
            "0:  asksRe: Too Many Europeans in NHL; TLDR: In article <1993Apr21.083043.11604@pasteur.Berkeley.EDU> gajarsky@cory.Berkeley.EDU (Vladimir Jarsky) writes:>In article <C5u1z.Bq4@odin.corp.sgi.com> dohle@sgi.com (Wayne Kulikauskas) writes:>>>Andreychuk?  He's been traded to Quebec and now...he's been>>tied, too.>>Ditto in his junior career... he was drafted by the Vancouver>>Canucks last year, and then traded to New>>York in 1989...hey, he's 24 now.  That's the price of a move...>and nobody can overpay you to move.  You don't have to protect me, you do.  You can get themout of your\n"
          ]
        },
        {
          "output_type": "stream",
          "name": "stderr",
          "text": [
            "The attention mask and the pad token id were not set. As a consequence, you may observe unexpected behavior. Please pass your input's `attention_mask` to obtain reliable results.\n",
            "Setting `pad_token_id` to `eos_token_id`:50256 for open-end generation.\n"
          ]
        },
        {
          "output_type": "stream",
          "name": "stdout",
          "text": [
            "  Batch 7,700  of  8,481. Loss: 0.5158964991569519.   Elapsed: 1:09:03.\n",
            "0: 399Re: The arrogance of Christians; TLDR: In article <Apr.7.00.38.07.1993.12804@athos.rutgers.edu> kevin@carina.unm.edu (Kevin Vanhorn) writes:> >      Some people don't believe in superstars.  Some do.  I don't claim> >that superstars are here to promote their beliefs.  I would assert that it would> >be nice if some sort of higher power were to arise.  There would be> >no need for a higher Power.  But some people do not believe that.  There is a> >no-one who believes in a god, even a representative for their beliefs.> > >      Some people don't believe that theists are here to \"prove\" that> >we believe that they are here to \"prove\" that God exists.> >\n"
          ]
        },
        {
          "output_type": "stream",
          "name": "stderr",
          "text": [
            "The attention mask and the pad token id were not set. As a consequence, you may observe unexpected behavior. Please pass your input's `attention_mask` to obtain reliable results.\n",
            "Setting `pad_token_id` to `eos_token_id`:50256 for open-end generation.\n"
          ]
        },
        {
          "output_type": "stream",
          "name": "stdout",
          "text": [
            "  Batch 7,800  of  8,481. Loss: 0.8990214467048645.   Elapsed: 1:09:56.\n",
            "0:  SunniRe: ATF BURNS DIVIDIAN RANCH! NO SURVIVORS!!!; TLDR: In article <C5rpoJ.M35@news.cso.uiuc.edu> irvine@uxh.cso.uiuc.edu (Brent Irvine) writes:>In article <C5rusq.M15A@news.cso.uiuc.edu>, jhesse@uxh.cso.uiuc.edu (JEK Haines) writes:>>> > In <13APR1993095121446@utarlg.uta.edu> b645zaw@utarlg.uta.edu (stephen) writes:>> > I don't know why they started the fire. There are several possible explanations,>> >> particularly the use of armored flame throwers. (Obviously flame throwers are more>> > efficient than flame throwers, but why not\n"
          ]
        },
        {
          "output_type": "stream",
          "name": "stderr",
          "text": [
            "The attention mask and the pad token id were not set. As a consequence, you may observe unexpected behavior. Please pass your input's `attention_mask` to obtain reliable results.\n",
            "Setting `pad_token_id` to `eos_token_id`:50256 for open-end generation.\n"
          ]
        },
        {
          "output_type": "stream",
          "name": "stdout",
          "text": [
            "  Batch 7,900  of  8,481. Loss: 0.6257279515266418.   Elapsed: 1:10:50.\n",
            "0:  requestRe: Is car saftey important?; TLDR: In article <vzhivov.7346685@cassun0.mq.ca.boeing.com>, vzhivov@cassun1.mq.ca.boeing.com (Vladimir Zhivov) writes:> In article <1993Apr21.232328.28997@bnr.ca> rsilver@bnr.ca (Richard Silver) writes:> >In article <13555@pitt.UUCP> geb@cs.pitt.edu (Gordon Banks) writes:> >>In article <1993Apr21.154438.2689@bnr.ca>                                            \n"
          ]
        },
        {
          "output_type": "stream",
          "name": "stderr",
          "text": [
            "The attention mask and the pad token id were not set. As a consequence, you may observe unexpected behavior. Please pass your input's `attention_mask` to obtain reliable results.\n",
            "Setting `pad_token_id` to `eos_token_id`:50256 for open-end generation.\n"
          ]
        },
        {
          "output_type": "stream",
          "name": "stdout",
          "text": [
            "  Batch 8,000  of  8,481. Loss: 1.7388265132904053.   Elapsed: 1:11:44.\n",
            "0:  ChinaRe: Once tapped, your code is no good any more.; TLDR: \tof Denver for the Denver community.  The University has neither\tcontrol over nor responsibility for the opinions of users.In article <1993Apr23.222658.11318@magnus.acs.ohio-state.edu> lvc@magnus.acs.ohio-state.edu (Larry Cipriani) writes:>As a private citizen, I would just like to point out that the chip>details in this posting are not in the hands of the >government.  Rather they are in the hands of the governed.I think it would be nice if a system of such details are mentioned in the next message.--Bruce Watson -   Bellcore - Toronto, Ontario, Canada~~~~~~~~~~~~~~~~~~~~~~~~~~~~~~~~~~~~~~~~~~~~~~~~~~~~~~~~~~~~~~~~~~~~~~~~~~~~~                          \n"
          ]
        },
        {
          "output_type": "stream",
          "name": "stderr",
          "text": [
            "The attention mask and the pad token id were not set. As a consequence, you may observe unexpected behavior. Please pass your input's `attention_mask` to obtain reliable results.\n",
            "Setting `pad_token_id` to `eos_token_id`:50256 for open-end generation.\n"
          ]
        },
        {
          "output_type": "stream",
          "name": "stdout",
          "text": [
            "  Batch 8,100  of  8,481. Loss: 0.7865766286849976.   Elapsed: 1:12:37.\n",
            "0: \"></Re: Israel's Expansion II; TLDR: In article <1qvg9$7c2@usenet.INS.CWRU.Edu> aap@ces.cwru.edu (Alberto Adolfo Pinkas) writes:>In article <1993Apr27.002256.21907@Virginia.EDU> ab4z@Virginia.EDU (\"Andi Beyer\") writes:>>In article <1993Apr27.002256.21907@Virginia.EDU> ab4z@Virginia.EDU (\"Andi Beyer\") writes:>> \tI don't know if you can supply a reference to the article you>don't want, but it is in a very short article.  I am not going to>do much digging up, and the articles you have presented are>interesting.>That is correct.  The author writes,>>\t\"The Palestinians are an occupier\n"
          ]
        },
        {
          "output_type": "stream",
          "name": "stderr",
          "text": [
            "The attention mask and the pad token id were not set. As a consequence, you may observe unexpected behavior. Please pass your input's `attention_mask` to obtain reliable results.\n",
            "Setting `pad_token_id` to `eos_token_id`:50256 for open-end generation.\n"
          ]
        },
        {
          "output_type": "stream",
          "name": "stdout",
          "text": [
            "  Batch 8,200  of  8,481. Loss: 1.0776102542877197.   Elapsed: 1:13:31.\n",
            "0:  midstRe: Space Shuttle Programmits 1140 (was Budget Astronaut); TLDR: shouf@elroy.jpl.nasa.gov (Mary Shouf) writes:>In article <1993Apr29.062441.21908@space.cs.rochester.edu> stgprao@math.rochester.edu (Richard Ottolini) writes:>>         The following press release from the White House>>                                                                   ^^^^^^>>                              \n"
          ]
        },
        {
          "output_type": "stream",
          "name": "stderr",
          "text": [
            "The attention mask and the pad token id were not set. As a consequence, you may observe unexpected behavior. Please pass your input's `attention_mask` to obtain reliable results.\n",
            "Setting `pad_token_id` to `eos_token_id`:50256 for open-end generation.\n"
          ]
        },
        {
          "output_type": "stream",
          "name": "stdout",
          "text": [
            "  Batch 8,300  of  8,481. Loss: 0.6846250891685486.   Elapsed: 1:14:25.\n",
            "0:  ConstitutionalRe: Challenge to Microsoft supporters.; TLDR: In article <C5oGD7.877@uceng.uc.edu>, alee@uceng.uc.edu (Nengle Su) writes:|> >>|> >>|> >>Nah, I love it if we could implement some really neat stuff (like|> >>|> >>|> >>|> >|> >>|> >>|> >>|> >>|> >>|> >>|> >>|> >>|> >>|> >>|> >>|> >>|> >>|> >>|> >>That would be a really dumb idea, isn't it?>>Really, if we want to we need more people, especially NOW,>and>whereas DOS 6.0 didn't implement that much...>|> >>>|> >>|> >>The point is that you cannot create protected executables.|> >>|> >>Nah,\n"
          ]
        },
        {
          "output_type": "stream",
          "name": "stderr",
          "text": [
            "The attention mask and the pad token id were not set. As a consequence, you may observe unexpected behavior. Please pass your input's `attention_mask` to obtain reliable results.\n",
            "Setting `pad_token_id` to `eos_token_id`:50256 for open-end generation.\n"
          ]
        },
        {
          "output_type": "stream",
          "name": "stdout",
          "text": [
            "  Batch 8,400  of  8,481. Loss: 1.3701196908950806.   Elapsed: 1:15:18.\n",
            "0: vironRe: Questions about insurance companies (esp. Geico); TLDR: In article <4BDBAE7D.2BC1A@cms.cms.uchicago.edu> db7n+@cms.uchicago.edu (David B. Williams) writes:>Hi, everybody,>   I'm considering switching to Geico insurance.>   I'm considering switching to Geico insurance, but have heard that>   it's not covered by the federal or local>    plan, and I'd like to get more information about the avail>    of such coverage.  Is there a pricing advantage in switching to Geico>     or do I have to worry about?>\t\t\t\t\t\tGreetings,>\t\t\t\t\t\t\t\t\tRobert>\t\t\t\t\tgeico@cs.uiuc.edu\t\t\t\t\t\t\t    \n",
            "\n",
            "  Average training loss: 1.09\n",
            "  Training epoch took: 1:16:02\n",
            "\n",
            "Running Validation...\n",
            "  Validation Loss: 1.28\n",
            "  Validation took: 0:02:33\n",
            "\n",
            "======== Epoch 4 / 5 ========\n",
            "Training...\n"
          ]
        },
        {
          "output_type": "stream",
          "name": "stderr",
          "text": [
            "The attention mask and the pad token id were not set. As a consequence, you may observe unexpected behavior. Please pass your input's `attention_mask` to obtain reliable results.\n",
            "Setting `pad_token_id` to `eos_token_id`:50256 for open-end generation.\n"
          ]
        },
        {
          "output_type": "stream",
          "name": "stdout",
          "text": [
            "  Batch   100  of  8,481. Loss: 1.9967094659805298.   Elapsed: 0:00:52.\n",
            "0:  bloRe: Space Marketing -- Boycott; TLDR: In article <1993Apr14.034626.13653@vax.oxford.ac.uk>, djk@vax.oxford.ac.uk (Dale J. Kay) writes:>|> >|> >|>   In a previous article jbh55289@aurora.alaska.edu >|> () writes:>|> >|> >|> >Space ad was introduced in the US in the sixties with the >|> >|> >|> >|> >|> >|> >|> >|> Why?  Because there were so many people in the world that >|> >|> >|> >|> >|> they could do the same thing WITHOUT A HOPE OF SINGLE GOING>|> >|> >|> >|> (barring the space program\n"
          ]
        },
        {
          "output_type": "stream",
          "name": "stderr",
          "text": [
            "The attention mask and the pad token id were not set. As a consequence, you may observe unexpected behavior. Please pass your input's `attention_mask` to obtain reliable results.\n",
            "Setting `pad_token_id` to `eos_token_id`:50256 for open-end generation.\n"
          ]
        },
        {
          "output_type": "stream",
          "name": "stdout",
          "text": [
            "  Batch   200  of  8,481. Loss: 0.345666766166687.   Elapsed: 0:01:45.\n",
            "0:  ChileRe: Europe vs. Muslim Bosnians; TLDR: In article <C6x27D.6xD@news.cis.umn.edu> prabhak@giga.cs.umn.edu (Satya Prabhakar) writes:> > I'd like to see your opinions on this (especially post in this newsgroup) before> > flame wars start, before those \"retiks\"> > start.\tYeah.  You see, there was a great debate last night between the two countries \tand the other (Bulgarians for those of us who\tare \t\t\t\t\t\tjust not ready to let us know that we *did* make\t\t\t\t\t\t\texcuses for the carnage.\tIt was easy to blame the West for the whole of Europe \t\t\t\t\tfor the horrors in our own name.\t\t\t\t\t\t-Mohammed\tWell,\n"
          ]
        },
        {
          "output_type": "stream",
          "name": "stderr",
          "text": [
            "The attention mask and the pad token id were not set. As a consequence, you may observe unexpected behavior. Please pass your input's `attention_mask` to obtain reliable results.\n",
            "Setting `pad_token_id` to `eos_token_id`:50256 for open-end generation.\n"
          ]
        },
        {
          "output_type": "stream",
          "name": "stdout",
          "text": [
            "  Batch   300  of  8,481. Loss: 1.1118502616882324.   Elapsed: 0:02:39.\n",
            "0: KnRe: <Political Atheists?; TLDR: livesey@solntze.wpd.sgi.com (Jon Livesey) writes:[1][0] Alan, what are these?  I don't know the answer, but I expect>\"human\" beings to think that way.  Would you rather have an evolved \"primitive\" species with multiple,but independent, members \"fitness\" the same thing?>jon.  As an alternative to \"perfectness\" perhaps you should include abox ofthat and save each other.  With all of your argument about which one ismost likely, then I would rather have an evolved \"fitness\" who does notthink you are correct, as long as we were able.  I'd rather have your argument beeminent than it beeminated and flamish a few times.jon.\n"
          ]
        },
        {
          "output_type": "stream",
          "name": "stderr",
          "text": [
            "The attention mask and the pad token id were not set. As a consequence, you may observe unexpected behavior. Please pass your input's `attention_mask` to obtain reliable results.\n",
            "Setting `pad_token_id` to `eos_token_id`:50256 for open-end generation.\n"
          ]
        },
        {
          "output_type": "stream",
          "name": "stdout",
          "text": [
            "  Batch   400  of  8,481. Loss: 1.148912787437439.   Elapsed: 0:03:33.\n",
            "0: yanRe: The arrogance of Christians; TLDR: cctr114@cantua.canterbury.ac.nz (Bill Rea) writes:>In article 288,178@athos.rutgers.edu, alaa@saturn.wwc.edu (ALaa Patterson) writes:>>But if I am an atheist, and am a Christian, and if I am wrong, why should>>I be the only one who would take a stand based on my religion, and not on>>his/her belief in absolutes?  It sounds like a waffle boy>>to me.  BTW, if the majority of christians think that their god is>absolute, and that His/her divinity is absolute, and>thus hold that belief in absolutes is absolute, then there must>be a group of people in my church to look upon.\tThe problem with saying the Holy Spirit of Truth is that every personhas\n"
          ]
        },
        {
          "output_type": "stream",
          "name": "stderr",
          "text": [
            "The attention mask and the pad token id were not set. As a consequence, you may observe unexpected behavior. Please pass your input's `attention_mask` to obtain reliable results.\n",
            "Setting `pad_token_id` to `eos_token_id`:50256 for open-end generation.\n"
          ]
        },
        {
          "output_type": "stream",
          "name": "stdout",
          "text": [
            "  Batch   500  of  8,481. Loss: 0.8245657086372375.   Elapsed: 0:04:27.\n",
            "0:  exercRe: Need advice for riding with someone on pillion; TLDR: dhartung@chinet.chi.il.us (Dan Hartung) writes:>\tI'm about to embark on a couple of really bizarre science>vehicles.  I'm trying to be as flexible as possible regarding>the personal responsibility I give my passengers.  What kind of advice should I give>in conjunction with my doctor's (and my husband's) advice?>>\tFirst of all, I'm not going to tell you to ride pillion without your>belts while you're on my bike.  My advice is:  Take the >pillion out for a spin and turn left, then go out and do the spin>up as you would.  If your friend doesn't mind the pillion hanging,>don't hold your weight too much, or at least not get her off the>pillion.  When you're new to this, make sure\n"
          ]
        },
        {
          "output_type": "stream",
          "name": "stderr",
          "text": [
            "The attention mask and the pad token id were not set. As a consequence, you may observe unexpected behavior. Please pass your input's `attention_mask` to obtain reliable results.\n",
            "Setting `pad_token_id` to `eos_token_id`:50256 for open-end generation.\n"
          ]
        },
        {
          "output_type": "stream",
          "name": "stdout",
          "text": [
            "  Batch   600  of  8,481. Loss: 1.5659754276275635.   Elapsed: 0:05:20.\n",
            "0:  mystRe: Is it good that Jesus died?; TLDR:    (1 Cor 5.16): \"The Lord and Savior therefore make him perish, like any other death, as the Lord dies for His blood, and the Lord removes a portion of it to the Kingdom of Heaven.\"(Colossians 4.21-27).                                                                                                                                 \n"
          ]
        },
        {
          "output_type": "stream",
          "name": "stderr",
          "text": [
            "The attention mask and the pad token id were not set. As a consequence, you may observe unexpected behavior. Please pass your input's `attention_mask` to obtain reliable results.\n",
            "Setting `pad_token_id` to `eos_token_id`:50256 for open-end generation.\n"
          ]
        },
        {
          "output_type": "stream",
          "name": "stdout",
          "text": [
            "  Batch   700  of  8,481. Loss: 0.5875769257545471.   Elapsed: 0:06:14.\n",
            "0:  puzzRe: What is going on?...; TLDR: In article <C5L69u.7Ht@dscomsa.desy.de> hallam@zeus02.desy.de (Phill Hallam-Baker) writes:>>Now, how is there going on, Phill? Well, actually here is a clue.  Most of them are>considered to be \"conspiracy nuts\" by a number of people.  Therefore, by>calling them (you know, the \"Davidians\") a \"Christian\" would be a reasonable>disbelief for most people, and I don't think most people would take it>at face value.  (I've seen plenty of discussion on t.p.g. about the word>\"religion\", even though I haven't actually seen it referred to by>people as Christians.)  Also, since I have no direct knowledge of any>Christian religion at this university (\n"
          ]
        },
        {
          "output_type": "stream",
          "name": "stderr",
          "text": [
            "The attention mask and the pad token id were not set. As a consequence, you may observe unexpected behavior. Please pass your input's `attention_mask` to obtain reliable results.\n",
            "Setting `pad_token_id` to `eos_token_id`:50256 for open-end generation.\n"
          ]
        },
        {
          "output_type": "stream",
          "name": "stdout",
          "text": [
            "  Batch   800  of  8,481. Loss: 1.168124794960022.   Elapsed: 0:07:08.\n",
            "0:  moralityRe: What to do with old 256k SIMMs?; TLDR: In article <C5puH.Eu0@zoo.toronto.edu>, henry@zoo.toronto.edu (Henry Spencer) writes:> In article <1993Apr22.143811.2273@lmpsbbs.comm.mot.com> dougb@comm.mot.com (Doug Bank) writes:> |> \t\t\tI have a bunch of MPR-II 256k SIMMs that I want to use> |> with my Quadra 800.  They are:>> |> \t1.50>> |> \t\t2.50>> |> \t\t3.50>> > |> \t\t\t\t3.50>> > |> \t\t\t\t(Please avoid the above error)> |> \t\t\t\tDoug Bank> |> Yes\n"
          ]
        },
        {
          "output_type": "stream",
          "name": "stderr",
          "text": [
            "The attention mask and the pad token id were not set. As a consequence, you may observe unexpected behavior. Please pass your input's `attention_mask` to obtain reliable results.\n",
            "Setting `pad_token_id` to `eos_token_id`:50256 for open-end generation.\n"
          ]
        },
        {
          "output_type": "stream",
          "name": "stdout",
          "text": [
            "  Batch   900  of  8,481. Loss: 0.6146100759506226.   Elapsed: 0:08:02.\n",
            "0: ania Re: ATF BURNS DIVIDIAN RANCH! NO SURVIVORS!!!; TLDR:  > In article <93109.173018DLMQM.C445585@uvm.edu> <DLMQM.C445585@uvm.edu> <1993Apr27.173603.24270@CSD-NewsHost.Stanford.EDU> >In article <1993Apr27.173603.24270@CSD-NewsHost.Stanford.EDU> nlu@Xenon.Stanford.EDU (Nelson Lu) writes:> >nlu@Xenon.Stanford.EDU (Nelson Lu) writes:> > >nlu@Xenon.Stanford.EDU (Nelson Lu) writes:> >> >nlu@Xenon.Stanford.EDU (Nelson Lu) writes:> >>> >\n"
          ]
        },
        {
          "output_type": "stream",
          "name": "stderr",
          "text": [
            "The attention mask and the pad token id were not set. As a consequence, you may observe unexpected behavior. Please pass your input's `attention_mask` to obtain reliable results.\n",
            "Setting `pad_token_id` to `eos_token_id`:50256 for open-end generation.\n"
          ]
        },
        {
          "output_type": "stream",
          "name": "stdout",
          "text": [
            "  Batch 1,000  of  8,481. Loss: 1.3004424571990967.   Elapsed: 0:08:56.\n",
            "0:  assignedRe: A KIND and LOVING God!!; TLDR: In article <May.12.04.29.1993.14388@athos.rutgers.edu> kcochran@nyx.cs.du.edu writes:>In article <May.9.05.31.1993.15377@athos.rutgers.edu> jayne@mmalt.guild.org writes:>>>>This is not a new idea.  The discussion here on the net about>>the pros and cons of staying in the flesh is>>controversial.>>Well, I am not a lawyer and I have no idea of the net, but I have seen>>the postings by some (most?) Christians stating that they have >>>no need for living in the flesh.>>I think it would be nice if some (most?) Christians who were>>not lying about it would make a good>>faith.>>I will agree with your position --\n"
          ]
        },
        {
          "output_type": "stream",
          "name": "stderr",
          "text": [
            "The attention mask and the pad token id were not set. As a consequence, you may observe unexpected behavior. Please pass your input's `attention_mask` to obtain reliable results.\n",
            "Setting `pad_token_id` to `eos_token_id`:50256 for open-end generation.\n"
          ]
        },
        {
          "output_type": "stream",
          "name": "stdout",
          "text": [
            "  Batch 1,100  of  8,481. Loss: 0.7990931272506714.   Elapsed: 0:09:49.\n",
            "0:  sometimeRe: A Kinder, Gentler BMW Mailing List; TLDR: \tof Denver for the Denver community.  The University has neither\tcontrol over nor responsibility for the content of this mailing list.In article <C6x27n.M15@news.cso.uiuc.edu> bferrell@uxa.cso.uiuc.edu (Brett Ferrell) writes:>There's no way a newbie could buy a new BMW from a mail-list!  Go>ask the sales people, and they'll tell you that a mail-list>is already established.>This could be a new addition to the list, but I don't know the specifics,I've seen several posts about this already, one in the bmwnews group, and one in rec.motorcycles, two in rec.motorcycles' group.  Since they are new,you'll find they don't use it much\n"
          ]
        },
        {
          "output_type": "stream",
          "name": "stderr",
          "text": [
            "The attention mask and the pad token id were not set. As a consequence, you may observe unexpected behavior. Please pass your input's `attention_mask` to obtain reliable results.\n",
            "Setting `pad_token_id` to `eos_token_id`:50256 for open-end generation.\n"
          ]
        },
        {
          "output_type": "stream",
          "name": "stdout",
          "text": [
            "  Batch 1,200  of  8,481. Loss: 0.7105942368507385.   Elapsed: 0:10:43.\n",
            "0: ewitnessRe: My Gun is like my American Express Card; TLDR: In article <CMM.0.90.2.735315429.thomasp@holonet.net>, Thomas Parsli <thomasp@ifi.uio.no> writes:>In article <1993Apr16.050240.26273@jupiter.csd.unb.ca> j979@jupiter.csd.unb.ca (FULLER  M) writes:>|> If the police dont come with their standard of proof, what can they do>|> of carrying concealed? When they come with their standard of proof>|> that the gun is in fact used in crime? When the police come>|> with their standard of proof (of which the prosecution is guilty),>|> what can they do to prove that the gun is in fact used>|> in crime? Can they still prove that they\n"
          ]
        },
        {
          "output_type": "stream",
          "name": "stderr",
          "text": [
            "The attention mask and the pad token id were not set. As a consequence, you may observe unexpected behavior. Please pass your input's `attention_mask` to obtain reliable results.\n",
            "Setting `pad_token_id` to `eos_token_id`:50256 for open-end generation.\n"
          ]
        },
        {
          "output_type": "stream",
          "name": "stdout",
          "text": [
            "  Batch 1,300  of  8,481. Loss: 1.5882843732833862.   Elapsed: 0:11:38.\n",
            "0:  coordinationHELP: Accelerators for SE-ST3; TLDR: Hi...I am working with SE-ST 3D accelerators.  I have used them all>over the past 5 years, but recently I had to get rid of them.  Can anyone point me to >a vendor that sells them.  Preferably some old accelerators, but>they are worthless.I can see why they don't - I don't really know much about them because Ihave no real programming experience with it.Anyway, what I am getting at is a new accelerator card.It uses 1 MB of DRAM and 1 MB of VRAM.  I can get 15MHzof DRAM with this card using a SCSI Manager, but I can get 2.4 MBof VRAM with this card, and this can get me 15MHz of DRAM withonly 16 MB of VRAM.Anybody out there know a vendor for these accelerators?The DRAM\n"
          ]
        },
        {
          "output_type": "stream",
          "name": "stderr",
          "text": [
            "The attention mask and the pad token id were not set. As a consequence, you may observe unexpected behavior. Please pass your input's `attention_mask` to obtain reliable results.\n",
            "Setting `pad_token_id` to `eos_token_id`:50256 for open-end generation.\n"
          ]
        },
        {
          "output_type": "stream",
          "name": "stdout",
          "text": [
            "  Batch 1,400  of  8,481. Loss: 1.2271982431411743.   Elapsed: 0:12:32.\n",
            "0: bageRe: A question about 120VAC outlet wiring..; TLDR: In article <C5y12G.5Fo@constellation.ecn.uoknor.edu> callison@uokmax.ecn.uoknor.edu (James P. Callison) writes:>>I need a little advice on outlet wiring..  I have one on and>have had lots of experience with the little buad wire that goes>in the outlet box and is used for the power supply.  The wire feeding>the system is 12/2, WITHOUT the 5 wire feeding the other>two outlet boxes.  I know that the outlets are big and loose and should be>sold with the system at 12V to save money, but what do I do?  Should I turn it off>to use it for the breaker box?  How should I turn it on to be turned on? >I think that the 10V supply is a\n"
          ]
        },
        {
          "output_type": "stream",
          "name": "stderr",
          "text": [
            "The attention mask and the pad token id were not set. As a consequence, you may observe unexpected behavior. Please pass your input's `attention_mask` to obtain reliable results.\n",
            "Setting `pad_token_id` to `eos_token_id`:50256 for open-end generation.\n"
          ]
        },
        {
          "output_type": "stream",
          "name": "stdout",
          "text": [
            "  Batch 1,500  of  8,481. Loss: 0.3916129469871521.   Elapsed: 0:13:25.\n",
            "0:  moRe: ATF BURNS DIVIDIAN RANCH! NO SURVIVORS!!!; TLDR: In article <1r2ec0$4lj@bigboote.WPI.EDU> mfrhein@wpi.WPI.EDU (Michael Frederick Rhein) writes:>In article <1r19tp$dpa@bigboote.WPI.EDU>, mfrhein@wpi.WPI.EDU (Michael Frederick Rhein) writes:>> It will be interesting to see if the wood stove inside keeps doing>> any good.  I don't know for sure if the stove will ever be used on.  But>> it will be.>   You're welcome.  If it continues to go up, please explain what the>   wood stove inside does.  How is it that someone would keep the>   stove from going up?  And\n"
          ]
        },
        {
          "output_type": "stream",
          "name": "stderr",
          "text": [
            "The attention mask and the pad token id were not set. As a consequence, you may observe unexpected behavior. Please pass your input's `attention_mask` to obtain reliable results.\n",
            "Setting `pad_token_id` to `eos_token_id`:50256 for open-end generation.\n"
          ]
        },
        {
          "output_type": "stream",
          "name": "stdout",
          "text": [
            "  Batch 1,600  of  8,481. Loss: 1.1720714569091797.   Elapsed: 0:14:19.\n",
            "0:  1965Re: Death Penalty / Gulf War (long); TLDR: In article <1qnfik$kl8@transfer.stratus.com>, cdt@sw.stratus.com (C. D. Tavares) writes:|> |> |> >This is stupid.  Only after 40 years of war has a|> >bloody liberal agenda.  That's all.|> |> I have, it is still bad.  Yet.  [...]|> [...]|> |> The problem is the killing people, not the war itself.  It is|> the continued refusal of US forces to fight Iran's|> war with chemical weapons.  What has happened to four world wars|> combined?  The invasion of Kuwait?  The refusal of|> Iran to send in personnel?  The war taking place on|> the other side?|> This is like the situation with Cambodia.  Vietnamese take|>\n"
          ]
        },
        {
          "output_type": "stream",
          "name": "stderr",
          "text": [
            "The attention mask and the pad token id were not set. As a consequence, you may observe unexpected behavior. Please pass your input's `attention_mask` to obtain reliable results.\n",
            "Setting `pad_token_id` to `eos_token_id`:50256 for open-end generation.\n"
          ]
        },
        {
          "output_type": "stream",
          "name": "stdout",
          "text": [
            "  Batch 1,700  of  8,481. Loss: 0.9058772921562195.   Elapsed: 0:15:13.\n",
            "0: BusinessRe: HST Servicing Mission Scheduled for 11 Days; TLDR: In article <1993Apr23.223903.29198@mksol.dseg.ti.com> mccall@mksol.dseg.ti.com (fred j mccall 575-3539) writes:>>This morning, while astronauts were working on the STS-61B, the command loss control>went south, making it inaccessible to Earth for the past four months.>When the reentry vehicle arrived at the gate, Mike Lawson, the>USDA technical staff confirmed that it had landed safely>during the space-walking sequence.>Two weeks later, the shuttle was inaccessible to the earth for months.>When the next shuttle landing was scheduled to arrive at the >pad, Mike Lawson, the USDA tech staff confirmed that it did not >have undetermined command loss control. >This is a long-lived problem\n"
          ]
        },
        {
          "output_type": "stream",
          "name": "stderr",
          "text": [
            "The attention mask and the pad token id were not set. As a consequence, you may observe unexpected behavior. Please pass your input's `attention_mask` to obtain reliable results.\n",
            "Setting `pad_token_id` to `eos_token_id`:50256 for open-end generation.\n"
          ]
        },
        {
          "output_type": "stream",
          "name": "stdout",
          "text": [
            "  Batch 1,800  of  8,481. Loss: 0.6245778203010559.   Elapsed: 0:16:07.\n",
            "0: CryptRe: Hottentot Software for sale cheap; TLDR: In article <1r17e7$6t6@msusinfo.cl.msus.edu>, alanchem@egr.msus.edu (Alexander Alanchem) wrote:> In <1993Apr16.181940.11660@infodev.cam.ac.uk> kcochran@screw.cam.ac.uk (Keith \"Justified And Ancient\" Cochran) writes:> >I'm posting this for a friend to benefit from a network> >connection. If you have any questions about the employment benefits and> >management of the Iodak Software Company, please contact me.> > Thanks,> > -Alan> > You've probably been following this thread long enough.  Yes,> my employer (in this case Compuserve) is responsible for my postings, so your> job may well have been secured\n"
          ]
        },
        {
          "output_type": "stream",
          "name": "stderr",
          "text": [
            "The attention mask and the pad token id were not set. As a consequence, you may observe unexpected behavior. Please pass your input's `attention_mask` to obtain reliable results.\n",
            "Setting `pad_token_id` to `eos_token_id`:50256 for open-end generation.\n"
          ]
        },
        {
          "output_type": "stream",
          "name": "stdout",
          "text": [
            "  Batch 1,900  of  8,481. Loss: 0.5894179940223694.   Elapsed: 0:17:01.\n",
            "0: maleRe: A Kinder, Gentler BMW Mailing List; TLDR: Here is the list.  Keep in mind that this is for the beginner.  I think it was moreabout \"old-school\" users and that a lot of new users just couldn'tfind that list in their mail-list.  I think it was a *huge* list, but hey guys!I have seen people ask me about an obsolete list in my mupporm posts, but have I known someone whooriginated it?  I have just started reading mikes, and I have gottena lot of mail-list questions (still a few that I haven't answered!).  I am not sure which ones I should look at, butI am interested in any and all mail-list questions.  I would also liketo know if anyone knew of newer lists to keep in mind that mikes are notas popular as older/merle bikes, and that they are much easier to get\n"
          ]
        },
        {
          "output_type": "stream",
          "name": "stderr",
          "text": [
            "The attention mask and the pad token id were not set. As a consequence, you may observe unexpected behavior. Please pass your input's `attention_mask` to obtain reliable results.\n",
            "Setting `pad_token_id` to `eos_token_id`:50256 for open-end generation.\n"
          ]
        },
        {
          "output_type": "stream",
          "name": "stdout",
          "text": [
            "  Batch 2,000  of  8,481. Loss: 1.3871643543243408.   Elapsed: 0:17:55.\n",
            "0: jaRe: Europe vs. Muslim Bosnians; TLDR: In article <C62nH4.7xA@mentor.cc.purdue.edu> louray@gesko.cc.purdue.edu (Michael Panayiotakis) writes:> >In article <1sreod$mrs@armory.centerline.com> josip@bony1.bony.com (Josip Loncaric) writes:>>>>Actually, that strife in Yugoslavia goes back a long way. Bosinan Muslims,>>in collaboration with the Nazis, did to Serbians after the first world>war what Serbs are doing to Muslims now. Now we don't have much>or no dialogue with them now.>>>>If you want to discuss this in depth, I suggest that you take a course of>discourse called \"Open-Your-Face\".  Actually, this course is meant as an>\n"
          ]
        },
        {
          "output_type": "stream",
          "name": "stderr",
          "text": [
            "The attention mask and the pad token id were not set. As a consequence, you may observe unexpected behavior. Please pass your input's `attention_mask` to obtain reliable results.\n",
            "Setting `pad_token_id` to `eos_token_id`:50256 for open-end generation.\n"
          ]
        },
        {
          "output_type": "stream",
          "name": "stdout",
          "text": [
            "  Batch 2,100  of  8,481. Loss: 0.6887906789779663.   Elapsed: 0:18:49.\n",
            "0: 189Re: Waco Burnout; TLDR: In article <1993Apr20.204450.23861@zeus.calpoly.edu> chorley@zeus.calpoly.edu (Craig Stanley) writes:>In article <visser.737732456@convex.convex.com>, visser@convex.com (Lance Visser) writes:>#Do we really see a pattern of governments using tear gas and hope>#the government continues to use them with cover in this>#matter?># >>>Are you claiming that the FBI used sub lethal force, rather than>#laut or full-scale fire power?  How about>#the use of tear gas in Waco?>The police are using tear gas, it is legal here and it is illegal here.  All you>claim is that the government used sub lethal force.  All you\n"
          ]
        },
        {
          "output_type": "stream",
          "name": "stderr",
          "text": [
            "The attention mask and the pad token id were not set. As a consequence, you may observe unexpected behavior. Please pass your input's `attention_mask` to obtain reliable results.\n",
            "Setting `pad_token_id` to `eos_token_id`:50256 for open-end generation.\n"
          ]
        },
        {
          "output_type": "stream",
          "name": "stdout",
          "text": [
            "  Batch 2,200  of  8,481. Loss: 0.8082237839698792.   Elapsed: 0:19:42.\n",
            "0: corRe: New Study Out On Gay Percentage; TLDR: In article <15427@optilink.COM> cramer@optilink.COM (Clayton Cramer) writes:>In article <15427@optilink.COM> cramer@optilink.COM (Clayton Cramer) writes:>>In article <15427@optilink.COM>, cramer@optilink.COM (Clayton Cramer) writes:>># #Actually, the median number of sexual partners for all men 20-39 was 7.3.>># #This means that about half of the men 20-39 had engaged in homosexual sex>># #(Don't try to find out number of sexual partners for all men, you'll be>># #out by more than 3.3 if you look at the table I have just >># #tried.  Remember that it is impossible for a study like this\n"
          ]
        },
        {
          "output_type": "stream",
          "name": "stderr",
          "text": [
            "The attention mask and the pad token id were not set. As a consequence, you may observe unexpected behavior. Please pass your input's `attention_mask` to obtain reliable results.\n",
            "Setting `pad_token_id` to `eos_token_id`:50256 for open-end generation.\n"
          ]
        },
        {
          "output_type": "stream",
          "name": "stdout",
          "text": [
            "  Batch 2,300  of  8,481. Loss: 1.3077205419540405.   Elapsed: 0:20:37.\n",
            "0:  JerryRe: Looking for X windows on a PC; TLDR: >\tIf you know of any product using Xwindows, please tell me.  This is>a DOS based application.\tYou'll probably be happy to use whatever package your wife desires, if you agree.  As far as compatibility, I can't come into it any other way.  You'll have to have the source and patch from your server.--=-=-=-=-=-=-=-=-=-=-=-=-=-=-=-=-=-=-=-=-=-=-=-=-=-=-=-=-=-=-=-=Dick Schimmel\t\t|         schimm@physics.uncwil.edu\t\t| \"We didn't just create the world of tomorrow\t|                              |\t\t\t\t\t\t\t\t-Nihilism\n"
          ]
        },
        {
          "output_type": "stream",
          "name": "stderr",
          "text": [
            "The attention mask and the pad token id were not set. As a consequence, you may observe unexpected behavior. Please pass your input's `attention_mask` to obtain reliable results.\n",
            "Setting `pad_token_id` to `eos_token_id`:50256 for open-end generation.\n"
          ]
        },
        {
          "output_type": "stream",
          "name": "stdout",
          "text": [
            "  Batch 2,400  of  8,481. Loss: 0.5926278233528137.   Elapsed: 0:21:30.\n",
            "0:  uraniumRe: Top Ten Excuses for Slick Willie's Record-Setting Disapproval Rati; TLDR: In article <1r0pf9$2s8@transfer.stratus.com> cdt@sw.stratus.com (C. D. Tavares) writes:>In article <1993Apr22.145214.27139@nuscc.nus.sg>, >doug@nuscc.nus.sg (Doug Roberts) writes...>|>Path: dscomsa!dxcern!uunet!olivetti!xetronix!haven!ucet!haven!hpscitet!claremont.edu!csn!uunet!olivetti!advocacy.com!nuscc!doug>|>From: douglas.fox@world.std.com (Doug Roberts)>|>Newsgroups: alt\n"
          ]
        },
        {
          "output_type": "stream",
          "name": "stderr",
          "text": [
            "The attention mask and the pad token id were not set. As a consequence, you may observe unexpected behavior. Please pass your input's `attention_mask` to obtain reliable results.\n",
            "Setting `pad_token_id` to `eos_token_id`:50256 for open-end generation.\n"
          ]
        },
        {
          "output_type": "stream",
          "name": "stdout",
          "text": [
            "  Batch 2,500  of  8,481. Loss: 0.9820358753204346.   Elapsed: 0:22:24.\n",
            "0:  ironyRe: HELP: Re: HELP for Kidney Stones..............; TLDR: In article <1993Apr15.113625.26258@cnsvax.uwec.edu>, nyeda@cnsvax.uwec.edu (David Nye) writes:> In article <1993Apr15.131958.3072@cnsvax.uwec.edu>, nyeda@cnsvax.uwec.edu (David Nye) writes:> > In article <1993Apr15.131958.3072@cnsvax.uwec.edu> nyeda@cnsvax.uwec.edu (David Nye) writes:> > > >> My girlfriend is in pain from kidney stones.  She says that they are> > > > not moving because she has an operation.  She says that because she> > has had them\n"
          ]
        },
        {
          "output_type": "stream",
          "name": "stderr",
          "text": [
            "The attention mask and the pad token id were not set. As a consequence, you may observe unexpected behavior. Please pass your input's `attention_mask` to obtain reliable results.\n",
            "Setting `pad_token_id` to `eos_token_id`:50256 for open-end generation.\n"
          ]
        },
        {
          "output_type": "stream",
          "name": "stdout",
          "text": [
            "  Batch 2,600  of  8,481. Loss: 0.9620333313941956.   Elapsed: 0:23:18.\n",
            "0: ″Re: Limiting Govt (was Re: Employment (was Re: Why not concentrate...); TLDR: In article <1993Apr17.010240.22480@isc-br.isc-br.com> steveh@thor.isc-br.com (Steve Hendricks) writes:>In article <1993Apr15.015716.16897@isc-br.isc-br.com> steveh@thor.isc-br.com (Steve Hendricks) writes:>>It seems that there are a number of government fascist organizations, both>   ^^^^^^^^^^^^^^^^^^^^^^^^^^^^^^^^^^^^    and > ^^^^^^^^^^^^^^^^> >>stereotypes of Hitler, Gers, Katch, and Reichsfuehrer (or somebody like that).    ^^^^^^^^^^^^    >And you know how many people we draw to conclusions based on a personal>ch\n"
          ]
        },
        {
          "output_type": "stream",
          "name": "stderr",
          "text": [
            "The attention mask and the pad token id were not set. As a consequence, you may observe unexpected behavior. Please pass your input's `attention_mask` to obtain reliable results.\n",
            "Setting `pad_token_id` to `eos_token_id`:50256 for open-end generation.\n"
          ]
        },
        {
          "output_type": "stream",
          "name": "stdout",
          "text": [
            "  Batch 2,700  of  8,481. Loss: 0.6324292421340942.   Elapsed: 0:24:12.\n",
            "0:  AWRe: Is itproper net etiquette to advertise a company's junk mail list?; TLDR: In <1993Apr5.180626.17227@magnus.acs.ohio-state.edu> kenyon@magnus.acs.ohio-state.edu (Kenyonyon L. Denning) writes:>In article <116564@bu.edu> uni@acs.bu.edu (Shannon A. Uni) writes:>> >> In article <1993Apr7.132819.1075@mnemosyne.cs.du.edu>                                              ^^^^>> >> >>Shannon,>> >> >> >It is my impression that net etiquette does not allow\n"
          ]
        },
        {
          "output_type": "stream",
          "name": "stderr",
          "text": [
            "The attention mask and the pad token id were not set. As a consequence, you may observe unexpected behavior. Please pass your input's `attention_mask` to obtain reliable results.\n",
            "Setting `pad_token_id` to `eos_token_id`:50256 for open-end generation.\n"
          ]
        },
        {
          "output_type": "stream",
          "name": "stdout",
          "text": [
            "  Batch 2,800  of  8,481. Loss: 0.82237708568573.   Elapsed: 0:25:06.\n",
            "0:  RenewRe: \"Accepting Jeesus in your heart...\"; TLDR: In article <May.9.05.38.16.1993.28397@athos.rutgers.edu>,mccullou@snake2.cs.wisc.edu (Mark McCullough) writes:|> In article <May.7.01.58.48.1993.16988@athos.rutgers.edu> |> gsu0033@uxa.ecn.bgu.edu (Eric Molas) writes:|> >In article <May.6.01.58.48.1993.27456@athos.rutgers.edu> gsu0033@uxa.ecn.bgu.edu (Eric Molas) writes:|> >|> >|> >|> >I've heard that the majority of the \"experts\" don't make an |\n"
          ]
        },
        {
          "output_type": "stream",
          "name": "stderr",
          "text": [
            "The attention mask and the pad token id were not set. As a consequence, you may observe unexpected behavior. Please pass your input's `attention_mask` to obtain reliable results.\n",
            "Setting `pad_token_id` to `eos_token_id`:50256 for open-end generation.\n"
          ]
        },
        {
          "output_type": "stream",
          "name": "stdout",
          "text": [
            "  Batch 2,900  of  8,481. Loss: 1.167510747909546.   Elapsed: 0:26:00.\n",
            "0: GPRe: Is MSG sensitivity superstition?; TLDR: In article <1qi3eo$2j2@agate.berkeley.edu> carl@crchh574.NoSubdomain.NoDomain (Carl J Lydick) writes:>Just wondering.  I have heard that MSG (monosodium glutamate) sensitivity superstition is>ever present in some people. Is there any relation between these two?Is there any relation between MSG sensitivity and the profile of foods?(I read somewhere that Chinese restaurants make the samosodium glutamate more bitter than the tartarass in some foods because it's more acidic.  If this is true, it would be better for methanol than is the Chinese Malaysian fried food.---Glenn Rensse\n"
          ]
        },
        {
          "output_type": "stream",
          "name": "stderr",
          "text": [
            "The attention mask and the pad token id were not set. As a consequence, you may observe unexpected behavior. Please pass your input's `attention_mask` to obtain reliable results.\n",
            "Setting `pad_token_id` to `eos_token_id`:50256 for open-end generation.\n"
          ]
        },
        {
          "output_type": "stream",
          "name": "stdout",
          "text": [
            "  Batch 3,000  of  8,481. Loss: 1.6065653562545776.   Elapsed: 0:26:53.\n",
            "0: uvRe: Can Radio Freq. Be Used To Measure Distance; TLDR: In article <1qksv7$a1j@kuhub.cc.ukans.edu> aew@kuhub.cc.ukans.edu writes:>[...]>\tIf you take a meter with an accuracy of 300 km/sec, how>do you determine if a given object is in Earth orbit or not?>\tIt's called the XOR, or OOR.> >\tYou could use some sort of judgement call, like, \"Well, we did just this for some, erm, >to give you an idea of the order of magnitude for.\">\tWhat kind of a person would take, for an objective value, the object>in orbit or the point that you want to measure it?> >\tWould you take any normal human-ratatosk or even a semi-mythic-etectorical>me\n"
          ]
        },
        {
          "output_type": "stream",
          "name": "stderr",
          "text": [
            "The attention mask and the pad token id were not set. As a consequence, you may observe unexpected behavior. Please pass your input's `attention_mask` to obtain reliable results.\n",
            "Setting `pad_token_id` to `eos_token_id`:50256 for open-end generation.\n"
          ]
        },
        {
          "output_type": "stream",
          "name": "stdout",
          "text": [
            "  Batch 3,100  of  8,481. Loss: 0.4231237471103668.   Elapsed: 0:27:47.\n",
            "0:  OhRe: What to put in Centris 650 Internal Bay?; TLDR: In article <1qmqkINNqa3@calvin.NYU.EDU> alee@calvin.NYU.EDU (Warren Lee) writes:>I have internal Bay, and am looking into buying a Quadra 900.  Which is better?>>I'm thinking of a Targa+ but I don't have any money for it yet.  What does>>the net think?>>I'm assuming that this is internal.  What are the specs?>>I'd also be interested in any advice/recommendations/warnings/etc.>>Which is better - should I buy a different internal bay?>>Thanks in advance>>Warren Lee>lee@calvin.NYU.EDUYou'd never know it from the price list that comes withthe system, but I'd guess I could be wrong.  There is no reason for\n"
          ]
        },
        {
          "output_type": "stream",
          "name": "stderr",
          "text": [
            "The attention mask and the pad token id were not set. As a consequence, you may observe unexpected behavior. Please pass your input's `attention_mask` to obtain reliable results.\n",
            "Setting `pad_token_id` to `eos_token_id`:50256 for open-end generation.\n"
          ]
        },
        {
          "output_type": "stream",
          "name": "stdout",
          "text": [
            "  Batch 3,200  of  8,481. Loss: 0.5244176983833313.   Elapsed: 0:28:41.\n",
            "0:  CarlRe: The arrogance of Christians; TLDR: In article <Apr.14.03.21.40.1993.28379@athos.rutgers.edu> kcochran@nyx.cs.du.edu (Keith \"Justified And Ancient\" Cochran) writes:>It is reasonable to believe that a Christian, when challenged with authority >and personal moral standards, would fall short of landing a flame at a >chop in a someone's name and/or making other statements >(e.g., 'I am a Christian' is not defined as \"I am >a Christian' but my morals are my own).\">>This is a common misconception. It is not a belief that one is a Christian. It is a belief that one isa Christian.>The issue is not whether one is a Christian or not. It is whether one isa>Christian or not. To me it is the belief that one is true under\n"
          ]
        },
        {
          "output_type": "stream",
          "name": "stderr",
          "text": [
            "The attention mask and the pad token id were not set. As a consequence, you may observe unexpected behavior. Please pass your input's `attention_mask` to obtain reliable results.\n",
            "Setting `pad_token_id` to `eos_token_id`:50256 for open-end generation.\n"
          ]
        },
        {
          "output_type": "stream",
          "name": "stdout",
          "text": [
            "  Batch 3,300  of  8,481. Loss: 0.44248339533805847.   Elapsed: 0:29:35.\n",
            "0:  liesRe: Jewish Baseball Players?; TLDR: In article <90399@blue.cis.pitt.edu> dtate+@pitt.edu (David M. Tate) writes:>In article <8994@blue.cis.pitt.edu> dtate+@pitt.edu (David M. Tate) writes:>>Just wondering.  A friend and I were talking the other day, and>>we were (for some reason) trying to come up with names of Jewish>>baseball players, past and present.  We weren't able to come up>>with much, except for Sandy Koufax, (somebody) Stankowitz, and>>maybe John Lowenstein.  Can anyone come up with any more.  I know>>it sounds pretty lame to be racking our brains over this, but>>humor us.  Thanks for your help.>>(I do not own a Jewish radio station\n"
          ]
        },
        {
          "output_type": "stream",
          "name": "stderr",
          "text": [
            "The attention mask and the pad token id were not set. As a consequence, you may observe unexpected behavior. Please pass your input's `attention_mask` to obtain reliable results.\n",
            "Setting `pad_token_id` to `eos_token_id`:50256 for open-end generation.\n"
          ]
        },
        {
          "output_type": "stream",
          "name": "stdout",
          "text": [
            "  Batch 3,400  of  8,481. Loss: 0.6048662066459656.   Elapsed: 0:30:29.\n",
            "0:  typeRe: Once upon a time...; TLDR: :               Corp. The opinions expressed are those of the user and           not necessarily those of CONVEX.In article <1993Apr19.073437.17449@news.u.washington.edu> nagel.spr@washington.edu writes::     I'd like to once again reiterate that GOD BELIEVES IN: GOD.    To learn this God is to know that He has revealed the:      Son in Heaven and that He will give of His Son, and He will give of :      Himself.                                         \n"
          ]
        },
        {
          "output_type": "stream",
          "name": "stderr",
          "text": [
            "The attention mask and the pad token id were not set. As a consequence, you may observe unexpected behavior. Please pass your input's `attention_mask` to obtain reliable results.\n",
            "Setting `pad_token_id` to `eos_token_id`:50256 for open-end generation.\n"
          ]
        },
        {
          "output_type": "stream",
          "name": "stdout",
          "text": [
            "  Batch 3,500  of  8,481. Loss: 1.948405146598816.   Elapsed: 0:31:23.\n",
            "0:  ViceRe: The Dayton Gun \"Buy Back\" (Re: Boston Gun Buy Back); TLDR: In article <C5r5Ey.Kvp@murdoch.acc.Virginia.EDU> jmh@hopper.Virginia.EDU (Jeffrey Hoffmeister) writes:>In article <1993Apr19.204853.1629@gnv.ifas.ufl.edu> jrm@gnv.ifas.ufl.edu writes:>[stuff deleted]>>If gun control are an *option* in New York state, I would>argue that it is not a \"real option\".>What is the difference between an \"expeditioned\" gun and a \"real\" gun?I live in Chicago and have never heard of any \"pro-gun\" or \"crisis gun\" discussion being held such by any of the pro-gun types and they usually say \"Gun Control is\n"
          ]
        },
        {
          "output_type": "stream",
          "name": "stderr",
          "text": [
            "The attention mask and the pad token id were not set. As a consequence, you may observe unexpected behavior. Please pass your input's `attention_mask` to obtain reliable results.\n",
            "Setting `pad_token_id` to `eos_token_id`:50256 for open-end generation.\n"
          ]
        },
        {
          "output_type": "stream",
          "name": "stdout",
          "text": [
            "  Batch 3,600  of  8,481. Loss: 0.4586762487888336.   Elapsed: 0:32:17.\n",
            "0: versRe: VLB bus master problem?; TLDR: In article <9304181611.AA26789@vmcms.csuohio.edu> da228@vmcms.csuohio.edu writes:>I'm considering getting an ISA bus master/slave system, but this has>been a pain when trying to get a SCSI controller card to work on>a VLB. Does anyone have any suggestions for problems I'm not>having with my ISA system yet? Also, has anyone gotten>anything into this mess? Thanks, I'm only trying to install one of the new>bios.>Da228@vmcms.csuohio.eduI've tried the R5 VLB bios, the ISA bus master and slavecontroller. My solution is to geta 486DX2/66 tower with a 2MB DRAM cache and have a 33MHzIDE controller card.The problem is that you\n"
          ]
        },
        {
          "output_type": "stream",
          "name": "stderr",
          "text": [
            "The attention mask and the pad token id were not set. As a consequence, you may observe unexpected behavior. Please pass your input's `attention_mask` to obtain reliable results.\n",
            "Setting `pad_token_id` to `eos_token_id`:50256 for open-end generation.\n"
          ]
        },
        {
          "output_type": "stream",
          "name": "stdout",
          "text": [
            "  Batch 3,700  of  8,481. Loss: 1.2415679693222046.   Elapsed: 0:33:11.\n",
            "0:  starkRe: IDE vs SCSI; TLDR: In article <C5L4rB.C3K@csie.nctu.edu.tw> ardie@garnet.acns.nctu.edu.tw (Ardie P. Marin) writes:>In article <C5L8sD.8oC@csie.nctu.edu.tw> ardie@garnet.acns.nctu.edu.tw (Ardie P. Marin) writes:>>>As part of the responsible announcement, AT&T is>again reporting that it will support the purchase and>use of SCSI-1 2.0 and 2.1, respectively. I believe this statement is >purely an \"isclaim\" from AT&T.  This was posted two weeks ago and it >is very true that the Mac and other vendors are not allowed>to make as much money as\n"
          ]
        },
        {
          "output_type": "stream",
          "name": "stderr",
          "text": [
            "The attention mask and the pad token id were not set. As a consequence, you may observe unexpected behavior. Please pass your input's `attention_mask` to obtain reliable results.\n",
            "Setting `pad_token_id` to `eos_token_id`:50256 for open-end generation.\n"
          ]
        },
        {
          "output_type": "stream",
          "name": "stdout",
          "text": [
            "  Batch 3,800  of  8,481. Loss: 0.702002227306366.   Elapsed: 0:34:04.\n",
            "0:  smartphonesRe: What WAS the immaculate conception?; TLDR: In article <May.13.02.36.1993.27198@athos.rutgers.edu> seanna@bnr.ca (Seanna (S.M.) Watson) writes:>A few days ago I read an article by the feminist newspaper>that mentioned the \"Joseph We\" article.  It referred to Joseph as the>first American born figure to be born>without a cause.  The argument goes something like this: Joe was given a>basket, and if that was the case, Joe was born without>a cause.Joe was given a very small number of medical gifts from the abort as he is, wellas many of the gifts as possible.  This provides Joe a great insightinto the world the world.  For example, he was tested in a laboratory.  After many metabolic tests he developed a newsservant, but he was kept\n"
          ]
        },
        {
          "output_type": "stream",
          "name": "stderr",
          "text": [
            "The attention mask and the pad token id were not set. As a consequence, you may observe unexpected behavior. Please pass your input's `attention_mask` to obtain reliable results.\n",
            "Setting `pad_token_id` to `eos_token_id`:50256 for open-end generation.\n"
          ]
        },
        {
          "output_type": "stream",
          "name": "stdout",
          "text": [
            "  Batch 3,900  of  8,481. Loss: 0.5213296413421631.   Elapsed: 0:34:59.\n",
            "0:  hotelRe: Too Many Europeans in NHL; TLDR: In article <1993Apr20.182038.6647@alchemy.chem.utoronto.ca>, golchowy@alchemy.chem.utoronto.ca (Gerald Olchowy) writes:|> > Sorry, I didn't get that far.  Here in the U.S.  we have 22,500 players from the|> > 1,000 to 2,000 that are not US citizens.  If I remember right, this is true.|> > GeraldNot!  I find it hard to believe that a European expansion teams aren't representative.  They certainly aren't, and they probably weren't, European or American, either.  The presence of an American team, especially one from Germany, is irrelevant.  I can't speak for the former, but I can speak for the latter.  The American team was never moved!!!-- S. Al\n"
          ]
        },
        {
          "output_type": "stream",
          "name": "stderr",
          "text": [
            "The attention mask and the pad token id were not set. As a consequence, you may observe unexpected behavior. Please pass your input's `attention_mask` to obtain reliable results.\n",
            "Setting `pad_token_id` to `eos_token_id`:50256 for open-end generation.\n"
          ]
        },
        {
          "output_type": "stream",
          "name": "stdout",
          "text": [
            "  Batch 4,000  of  8,481. Loss: 1.0886234045028687.   Elapsed: 0:35:52.\n",
            "0:  unhappyBubBLE PURPOSE SOURCE FILE; TLDR: Hi.I need a BUBBLE PURPOSE SOURCE FILE for a graphics package that will generatea 32-bit color-grasp animation file that will include a special texture mapping program.  This file will allow me to usethe special features of a color mapping program or simply the normal surface for the smooth animation in my graphics program.I would like this file to be of a reasonable quality.Thanks very much for your time and money.\n"
          ]
        },
        {
          "output_type": "stream",
          "name": "stderr",
          "text": [
            "The attention mask and the pad token id were not set. As a consequence, you may observe unexpected behavior. Please pass your input's `attention_mask` to obtain reliable results.\n",
            "Setting `pad_token_id` to `eos_token_id`:50256 for open-end generation.\n"
          ]
        },
        {
          "output_type": "stream",
          "name": "stdout",
          "text": [
            "  Batch 4,100  of  8,481. Loss: 0.9967831373214722.   Elapsed: 0:36:45.\n",
            "0: fastRe: Help with ultra-long timing; TLDR: In article <1993Apr14.183436.1189@waikato.ac.nz> rrn@waikato.ac.nz (Rob R. Novitskey) writes:>I've built a little project using a Dance-CAD algorithm>called \"Chain-Bernoulli Box.\"  The first I pulled it off was the>time a second, and the second version was 2.5 years old.  I've>got that thing running, and I could use some ideas.>Well, it's not a huge project; I'd be happy to summarize what I'd>read to see it if I got it right.  Let me say that I'm working on it now for >$10 k, and I just want to hear from you on the net and/or post your responces to the net>or give your views on it.>Rob Nov\n"
          ]
        },
        {
          "output_type": "stream",
          "name": "stderr",
          "text": [
            "The attention mask and the pad token id were not set. As a consequence, you may observe unexpected behavior. Please pass your input's `attention_mask` to obtain reliable results.\n",
            "Setting `pad_token_id` to `eos_token_id`:50256 for open-end generation.\n"
          ]
        },
        {
          "output_type": "stream",
          "name": "stdout",
          "text": [
            "  Batch 4,200  of  8,481. Loss: 0.4625586271286011.   Elapsed: 0:37:39.\n",
            "0: �Re: Help on installing a 3d-batteriesystem under NCSA; TLDR: I did a little research with a company (I'mBulgarian) on this.. They had a product called the 3d-batteriesystems. I called their tech support, and they told methat there are some instructions and instructions for installing them.. They mentioned that some third partycompanies are installing thissystem. The company called NCSA and they didn't have the instructionsfor installing it.. Does anyone have any information on installingor installing this system??? Is it possible?? I need info on how to make this system work.Thanks,Pat\n"
          ]
        },
        {
          "output_type": "stream",
          "name": "stderr",
          "text": [
            "The attention mask and the pad token id were not set. As a consequence, you may observe unexpected behavior. Please pass your input's `attention_mask` to obtain reliable results.\n",
            "Setting `pad_token_id` to `eos_token_id`:50256 for open-end generation.\n"
          ]
        },
        {
          "output_type": "stream",
          "name": "stdout",
          "text": [
            "  Batch 4,300  of  8,481. Loss: 0.7989031672477722.   Elapsed: 0:38:32.\n",
            "0: 35Re: A WRENCH in the works?; TLDR: In article <1993Apr18.225550.11181@news.acns.nwu.edu> klf@casbah.acns.nwu.edu (Tim Gardner) writes:>    > > >    I saw on the TV this morning that Mike Francesa was the> > head coach of the A's when he wasn't hired to the> > A's.  Can anyone who's heard of Mike Francesa actually be> > responsible for this?> >    This was in relation to the hiring of Tom Mees, a football> hired by the A's.>> >    Can anybody tell me if Mike Francesa was a head coach at A's?> > I know of at least one coach who was hired by the A's before he> was hired to the A's, and one that he hired long before his hiring>\n"
          ]
        },
        {
          "output_type": "stream",
          "name": "stderr",
          "text": [
            "The attention mask and the pad token id were not set. As a consequence, you may observe unexpected behavior. Please pass your input's `attention_mask` to obtain reliable results.\n",
            "Setting `pad_token_id` to `eos_token_id`:50256 for open-end generation.\n"
          ]
        },
        {
          "output_type": "stream",
          "name": "stdout",
          "text": [
            "  Batch 4,400  of  8,481. Loss: 0.5930837988853455.   Elapsed: 0:39:26.\n",
            "0: 275Re: Israeli Terrorism; TLDR: From article <1993Apr22.204831.24368@Virginia.EDU>, by ab4z@Virginia.EDU (\"Andi Beyer\") writes:|> It has always amazed me how stupid people are stupid when they make |> Israeli politics work.  For example, the Arabs have never elected, and|> never even tried to state their name.  What gives Isreal the right to exist?  Seems|> stupid to me, isn't it?I consider Isreal to be stupid enough to make Israeli politics work at themuch as the Arab National Committee.That's why the Arab governments have been using the population for favors by theUS, and they have used the population to push for a return of the land to the state.  They have tried this byforce for the past 40 years or so, and are now trying to use itfor purposes other than what they feel like (\"occupied control\").\n"
          ]
        },
        {
          "output_type": "stream",
          "name": "stderr",
          "text": [
            "The attention mask and the pad token id were not set. As a consequence, you may observe unexpected behavior. Please pass your input's `attention_mask` to obtain reliable results.\n",
            "Setting `pad_token_id` to `eos_token_id`:50256 for open-end generation.\n"
          ]
        },
        {
          "output_type": "stream",
          "name": "stdout",
          "text": [
            "  Batch 4,500  of  8,481. Loss: 0.8557122349739075.   Elapsed: 0:40:19.\n",
            "0:  masksRe: How I got saved?; TLDR: >I saw a post about some old v.s. men having to use some of>their own software to save their own harddisk when they decided that windows>is their only option.  Well, here it is, I saw this a while ago and>I tried to post here a couple of messages, only to be gotten back.  It turned out>that the only people who have had to be saved by installing it were the ones who had to>get the new harddisk from the harddrive company.  So, is this true?  Are the people who saved the harddrive companies the only ones that were saved by the v.s.?>Any help in this matter would be greatly appreciated.  >Thanks a million.Please reply by email to this account.  Thanks in advance.>>Tom Noring>TIM, University of Minnesota>Department of Metallurgy/Cell Biology>----------------------------------------------------------------------------- \n"
          ]
        },
        {
          "output_type": "stream",
          "name": "stderr",
          "text": [
            "The attention mask and the pad token id were not set. As a consequence, you may observe unexpected behavior. Please pass your input's `attention_mask` to obtain reliable results.\n",
            "Setting `pad_token_id` to `eos_token_id`:50256 for open-end generation.\n"
          ]
        },
        {
          "output_type": "stream",
          "name": "stdout",
          "text": [
            "  Batch 4,600  of  8,481. Loss: 0.21851347386837006.   Elapsed: 0:41:13.\n",
            "0: posRe: Clipper Crap; TLDR: In article <1993Apr18.181224.27892@silverton.berkeley.edu>, denning@silverton.berkeley.edu(Denning Engle) writes:|>In article <1993Apr18.160622.29390@clarinet.com>, brad@clarinet.com(Brad Templeton) writes:|>|>|>|>If the Clinton Clipper chip is so very good, and so very very easy to|>break, then why does it take six months or more to develop a|>one step...|>|>|>In general, it has not been demonstrated to be very secure at|>least for personal use. Indeed, if it turns out to be a big-|>time (to be accurate) chip, then the *possible*|>implementation of a one step encryption scheme is a\n"
          ]
        },
        {
          "output_type": "stream",
          "name": "stderr",
          "text": [
            "The attention mask and the pad token id were not set. As a consequence, you may observe unexpected behavior. Please pass your input's `attention_mask` to obtain reliable results.\n",
            "Setting `pad_token_id` to `eos_token_id`:50256 for open-end generation.\n"
          ]
        },
        {
          "output_type": "stream",
          "name": "stdout",
          "text": [
            "  Batch 4,700  of  8,481. Loss: 1.123801350593567.   Elapsed: 0:42:07.\n",
            "0:  LinkRe: Need advice for riding with someone on pillion; TLDR: In article <C5t05K.J4r@tripos.com>, pbd@tripos.com (Peter D. Barwick) writes:|> In article <Apr.12.04.13.31.1993.14556@athos.rutgers.edu>, jb@tripos.com (Jenny Berg) writes:|> |> >   I need some advice on having someone ride pillion with me on my 750 Ninja.|> |> [ Article crossposted from rec.motorcycles ]|> |> > If she's in err hair, stay away from her until she    |> >                                         ^^^^^^^^^^^^^\n"
          ]
        },
        {
          "output_type": "stream",
          "name": "stderr",
          "text": [
            "The attention mask and the pad token id were not set. As a consequence, you may observe unexpected behavior. Please pass your input's `attention_mask` to obtain reliable results.\n",
            "Setting `pad_token_id` to `eos_token_id`:50256 for open-end generation.\n"
          ]
        },
        {
          "output_type": "stream",
          "name": "stdout",
          "text": [
            "  Batch 4,800  of  8,481. Loss: 0.772047758102417.   Elapsed: 0:43:01.\n",
            "0:  addressRe: Challenge to Microsoft supporters.; TLDR: In article <C5y8w9.K6M@cs.cmu.edu> ken@cs.cmu.edu (Ken Miller) writes:>In article <C5JoBH.5p3@sun-sw.uucp> gary@bby.uucp (Gary Coffman) writes:>>>Not necessarily.  There are a number of factors that can affect how a product>>is running.  You need to take into consideration the>>basis of your decisions and what factors influence the final>>design of the product.>-- >You mean, \"the number of factors that can influence how a product is running.\"  A>design that runs across several major software packages is just as likely to affect>who purchases it.I agree, but I think you missed the point.  The major software packages>on Unix are X11, NeWS,\n"
          ]
        },
        {
          "output_type": "stream",
          "name": "stderr",
          "text": [
            "The attention mask and the pad token id were not set. As a consequence, you may observe unexpected behavior. Please pass your input's `attention_mask` to obtain reliable results.\n",
            "Setting `pad_token_id` to `eos_token_id`:50256 for open-end generation.\n"
          ]
        },
        {
          "output_type": "stream",
          "name": "stdout",
          "text": [
            "  Batch 4,900  of  8,481. Loss: 0.7295853495597839.   Elapsed: 0:43:55.\n",
            "0:  empoweredRe: Vandalizing the sky.; TLDR:  <1pvun$rmq@access.digex.net> <1993Apr27.130824.26203@galileo.ifa.hawaii.edu>In article <1993Apr27.130824.26203@galileo.ifa.hawaii.edu>, nicho@vnet.IBM.COM (Nicho Youngblood) writes:>|>    I was suggesting that a mile-long inflatable structure>|>    might be an _ant enough undertaking to draw attention to the>|>    effects of spaceflight on the general public, but that's _not_ such an undertaking>|>    to try to change.      The space walking laws were written in _Space_Congress_, a magazine based on the idea that,unlike the current President Carter, never could\n"
          ]
        },
        {
          "output_type": "stream",
          "name": "stderr",
          "text": [
            "The attention mask and the pad token id were not set. As a consequence, you may observe unexpected behavior. Please pass your input's `attention_mask` to obtain reliable results.\n",
            "Setting `pad_token_id` to `eos_token_id`:50256 for open-end generation.\n"
          ]
        },
        {
          "output_type": "stream",
          "name": "stdout",
          "text": [
            "  Batch 5,000  of  8,481. Loss: 1.2113122940063477.   Elapsed: 0:44:48.\n",
            "0: ganRe: Why not give $1 billion to first year-long moon residents?; TLDR: In article <C5zLru.A3C@zoo.toronto.edu> henry@zoo.toronto.edu (Henry Spencer) writes:>In article <1993Apr20.033013.25141@bmerh85.bnr.ca> thomasr@bnr.ca writes:>>In article <C5L0y.7z8@zoo.toronto.edu> henry@zoo.toronto.edu (Henry Spencer) writes:>>>   And $1G might be just as realistic as a small $1G prize for>>the first 100 to 1,000 people.  For the lucky 1,000 people who lucky>>enough to make it all the way, it could be worth the trouble.>>>The prize isn't big enough to warrent developing new technologies\n"
          ]
        },
        {
          "output_type": "stream",
          "name": "stderr",
          "text": [
            "The attention mask and the pad token id were not set. As a consequence, you may observe unexpected behavior. Please pass your input's `attention_mask` to obtain reliable results.\n",
            "Setting `pad_token_id` to `eos_token_id`:50256 for open-end generation.\n"
          ]
        },
        {
          "output_type": "stream",
          "name": "stdout",
          "text": [
            "  Batch 5,100  of  8,481. Loss: 0.8265219330787659.   Elapsed: 0:45:42.\n",
            "0: ryceRe: WACO burning; TLDR: In article <1993Apr20.192503.8660@kronos.arc.nasa.gov>, aaronc@nasa.kronos.arc.nasa.gov (Aaron Bryce Cardenas) writes:> In article <1qk2l4$5a2@menudo.uh.edu> Mark 'Man' DeWeese@Elroy.UH.EDU (Deon E. Stoufflet) writes:> > > >In article <C5sIKK.M2M@news.udel.edu> roby@chopin.udel.edu (Scott W Roby) writes:> >>>>>>>>>In article <C5rynw.Iz8@news.udel.edu> roby@chopin.udel.edu (Scott W Roby) writes:> >>>>\n"
          ]
        },
        {
          "output_type": "stream",
          "name": "stderr",
          "text": [
            "The attention mask and the pad token id were not set. As a consequence, you may observe unexpected behavior. Please pass your input's `attention_mask` to obtain reliable results.\n",
            "Setting `pad_token_id` to `eos_token_id`:50256 for open-end generation.\n"
          ]
        },
        {
          "output_type": "stream",
          "name": "stdout",
          "text": [
            "  Batch 5,200  of  8,481. Loss: 0.45362168550491333.   Elapsed: 0:46:37.\n",
            "0:  legislativeRe: Once tapped, your code is no good any more.; TLDR: In article <strnlghtC5JoBH.Hx@netcom.com> strnlght@netcom.com (David Sternlight) writes:>In article <1r74aINNfce@dns1.NMSU.Edu> amolitor@nmsu.edu (Andrew Molitor) writes:>>...   As someone who has watched the closely watched>work of one of the big two (IMHO) experts in this field, I can assure you>that the most aggressive and most open-minded people I have seen have>not had their heads up their ass in the sand any more.  More than>a few months ago when I was an intern.  At one time we were talking about>extending the war on drugs.  [...]I think the NSA and the President (I'll type in\n"
          ]
        },
        {
          "output_type": "stream",
          "name": "stderr",
          "text": [
            "The attention mask and the pad token id were not set. As a consequence, you may observe unexpected behavior. Please pass your input's `attention_mask` to obtain reliable results.\n",
            "Setting `pad_token_id` to `eos_token_id`:50256 for open-end generation.\n"
          ]
        },
        {
          "output_type": "stream",
          "name": "stdout",
          "text": [
            "  Batch 5,300  of  8,481. Loss: 0.9452233910560608.   Elapsed: 0:47:30.\n",
            "0:  volRe: Jack Morris; TLDR: In article <1993Apr17.164020.11181@newshub.ariel.yorku.ca> cs902043@ariel.yorku.ca (SHAWN LUDDINGTON) writes:>In article <1993Apr16.174854.1@tesla.njit.edu> drm6640@tesla.njit.edu> >(David Robert Morris) writes:>>In article <1993Apr15.024222.11181@newshub.ariel.yorku.ca>, cs902043@ariel.yorku.ca>>(SHAWN LUDDINGTON) writes:>>>>} >In article <C5qGM3.DL8@news.rich.bnr.ca>, brad@crchh7a9.NoSubdomain.NoDomain (Bradford Kellner) writes\n"
          ]
        },
        {
          "output_type": "stream",
          "name": "stderr",
          "text": [
            "The attention mask and the pad token id were not set. As a consequence, you may observe unexpected behavior. Please pass your input's `attention_mask` to obtain reliable results.\n",
            "Setting `pad_token_id` to `eos_token_id`:50256 for open-end generation.\n"
          ]
        },
        {
          "output_type": "stream",
          "name": "stdout",
          "text": [
            "  Batch 5,400  of  8,481. Loss: 0.4939526617527008.   Elapsed: 0:48:24.\n",
            "0: hranRe: Bases loaded walk gives Reds win in 12; TLDR: Dave DeMers (dtm@cs.cornell.edu) wrote:: >: A long, long rant about Ron Gant incident, but it's worth noting that: >\tGant was hit a total of 5 times in a 9 IP and his career high in stolen bases: >was.274.  Gant is.272 with a career.280, and.280 with a career.240.  So,: >: Gant wasn't just lucky.  Lucky for him.I've never seen Gant at all.  That's all pretty common.  He was lucky with the plateand the base hit behind him.  He had more career stolen bases (6)than any other single player in history.  And of course, you are almost correct whenyou say he had a.280 career high in stolen bases.  So Gant *is* lucky,\n"
          ]
        },
        {
          "output_type": "stream",
          "name": "stderr",
          "text": [
            "The attention mask and the pad token id were not set. As a consequence, you may observe unexpected behavior. Please pass your input's `attention_mask` to obtain reliable results.\n",
            "Setting `pad_token_id` to `eos_token_id`:50256 for open-end generation.\n"
          ]
        },
        {
          "output_type": "stream",
          "name": "stdout",
          "text": [
            "  Batch 5,500  of  8,481. Loss: 0.7356225252151489.   Elapsed: 0:49:18.\n",
            "0:  teachersRe: Gun Control (was Re: We're Mad as Hell at the TV News); TLDR: From article <C4wKBp.Dvo@magpie.linknet.com> by mancus@magpie.linknet.com (Steve Mancus):>We have a nation of rich and poor.  The two main problems:>1) We don't have any education to match our income streams,   2) we don't have any money to throwaround.  >The two primary problems:>(1) There is no recovery from the deficit.  The deficit keeps>    increasing,   but there is no way to make a comparative study    >   of the deficit with regard to debt.  It simply can't>    make the difference.The National Institute for Social Research (Ninst), a student body of researchers,University of Chicago, Illinois.  \"We have to make our money\n"
          ]
        },
        {
          "output_type": "stream",
          "name": "stderr",
          "text": [
            "The attention mask and the pad token id were not set. As a consequence, you may observe unexpected behavior. Please pass your input's `attention_mask` to obtain reliable results.\n",
            "Setting `pad_token_id` to `eos_token_id`:50256 for open-end generation.\n"
          ]
        },
        {
          "output_type": "stream",
          "name": "stdout",
          "text": [
            "  Batch 5,600  of  8,481. Loss: 0.867429792881012.   Elapsed: 0:50:12.\n",
            "0: TopRe: My Gun is like my American Express Card; TLDR: In article <93104.132331U28037@uicvm.uic.edu> Jason Kratz <U28037@uicvm.uic.edu> writes:>What seems so right is that U28037 is an average citizen in this country who>would like to own a handgun.  What gives?  The only thing I see that U28037>is a person who would rather live in a place where there are more criminals>than guns.  This is interesting.  If I hear that sort of thing all the time, I>would really like to know what it means.> >    Jason>A fine.22 worth of points, but.22 worth of points.--------------------------------------------------------------------------------------------------------------------Gordon Banks  N3JXP    | \"Skepticism is the chastity of the intellect, andgeb@cadre\n"
          ]
        },
        {
          "output_type": "stream",
          "name": "stderr",
          "text": [
            "The attention mask and the pad token id were not set. As a consequence, you may observe unexpected behavior. Please pass your input's `attention_mask` to obtain reliable results.\n",
            "Setting `pad_token_id` to `eos_token_id`:50256 for open-end generation.\n"
          ]
        },
        {
          "output_type": "stream",
          "name": "stdout",
          "text": [
            "  Batch 5,700  of  8,481. Loss: 1.7276601791381836.   Elapsed: 0:51:06.\n",
            "0:  policingRe: Where to get high quality graphics??; TLDR: jnielsen@vma.cc.nd.edu (John F Nielsen) writes:> > Hi there, can anybody out there tell me where to obtain high-level graphics > ( preferably.FLI or.GA) graphics??  The list is endless.  Thanks...>  Thanks,  Joe Nielsen> jnielsen@vma.cc.nd.eduMany high-level \"VESA graphics\" packages exist.  Some ofthem are shareware, others are sold as PD code, etc.  I've read,disinfo, and a few will recommend VisiCalc (which in general isn't shareware) andExposure (also shareware).\tIt's about like a Unix/X based \"VESA Graphics Toolkit\".  It's prettymuch the same thing as X11R5 and X11R4.  All you need for a vieweris a\n"
          ]
        },
        {
          "output_type": "stream",
          "name": "stderr",
          "text": [
            "The attention mask and the pad token id were not set. As a consequence, you may observe unexpected behavior. Please pass your input's `attention_mask` to obtain reliable results.\n",
            "Setting `pad_token_id` to `eos_token_id`:50256 for open-end generation.\n"
          ]
        },
        {
          "output_type": "stream",
          "name": "stdout",
          "text": [
            "  Batch 5,800  of  8,481. Loss: 2.0656936168670654.   Elapsed: 0:52:00.\n",
            "0:  chartsRe: Space Manuevering Tug (was HST servicing mission_); TLDR: In article <1993Apr21.223043.4286@stsci.edu> hathaway@stsci.edu writes:>In article <C5086A.ApJ@news.cso.uiuc.edu> jbh55289@uxa.cso.uiuc.edu (Josh Hopkins) writes:>>>But, I have to admit that in absolutely no way do any of this could have>>>been accomplished without the use of the shuttle.  I certainly can't think of any>plan that successfully attempted this feat without the Shuttle>switching to the HST.>How can you without using a shuttle to do this? That is, use>a \"space walkthrough\" command?  This is obviously the ONLY solution,  except for theadditional discovery of a new propulsionsystem.  Sure you have to do this.\n"
          ]
        },
        {
          "output_type": "stream",
          "name": "stderr",
          "text": [
            "The attention mask and the pad token id were not set. As a consequence, you may observe unexpected behavior. Please pass your input's `attention_mask` to obtain reliable results.\n",
            "Setting `pad_token_id` to `eos_token_id`:50256 for open-end generation.\n"
          ]
        },
        {
          "output_type": "stream",
          "name": "stdout",
          "text": [
            "  Batch 5,900  of  8,481. Loss: 1.3801891803741455.   Elapsed: 0:52:54.\n",
            "0:  blocksRe: Xlib for MS-Win?; TLDR: In article <1qlgv1$fep@horus.ap.mchp.sni.de>, frank@D012S658.uucp (Frank O'Dwyer) writes:|> >Does anybody know of any good FTP sites which do|> >Xlib for MS-Win?|> >We are using BC++ 4.1.1, and I would like to be able to compile some|> of the library's executables for MS-Win.  I'm using Motif 1.2 and|> 3.1.  Please respond via E-mail.|> |> >Thanks in advance,|>                          Frank|> |> I know of a few that already exist, but are there any available for\n"
          ]
        },
        {
          "output_type": "stream",
          "name": "stderr",
          "text": [
            "The attention mask and the pad token id were not set. As a consequence, you may observe unexpected behavior. Please pass your input's `attention_mask` to obtain reliable results.\n",
            "Setting `pad_token_id` to `eos_token_id`:50256 for open-end generation.\n"
          ]
        },
        {
          "output_type": "stream",
          "name": "stdout",
          "text": [
            "  Batch 6,000  of  8,481. Loss: 0.7614039182662964.   Elapsed: 0:53:48.\n",
            "0:  variantsCUB fever.; TLDR: \tCUB fever. I am having a real bad fever, it's on me, \tand I have a doctor right next to me who says that\tI should get an endocrinologist.\tI think it must be some sort of nerve disorder because\tthe body cannot seem to generate enough oxygen to cause\tthese symptoms. Any information would be appreciated.\tThanks,\tAlice\n"
          ]
        },
        {
          "output_type": "stream",
          "name": "stderr",
          "text": [
            "The attention mask and the pad token id were not set. As a consequence, you may observe unexpected behavior. Please pass your input's `attention_mask` to obtain reliable results.\n",
            "Setting `pad_token_id` to `eos_token_id`:50256 for open-end generation.\n"
          ]
        },
        {
          "output_type": "stream",
          "name": "stdout",
          "text": [
            "  Batch 6,100  of  8,481. Loss: 0.19329392910003662.   Elapsed: 0:54:40.\n",
            "0:  fanRe: How does it use an X-windows screen? (question); TLDR: In article <1993Apr26.134625.1204@news.columbia.edu>, bradw@columbia.edu (Brad W. Gladu) writes:|> |> I have a question to ask some of the netters.|> |> What are the advantages of using an X-windows screen?  For|> example, window will become a bitmap in hardware, which|> will allow it to take a look at your graphic, and take a default look|> (i.e., your entire screen).  I want it to be an|> X window, which is a multi-coloured window with only selectable|> visual.  The user interface to the X Window (which includes the|> mouse) remains the same, but I have to admit that some of our users|> who cannot seem to\n"
          ]
        },
        {
          "output_type": "stream",
          "name": "stderr",
          "text": [
            "The attention mask and the pad token id were not set. As a consequence, you may observe unexpected behavior. Please pass your input's `attention_mask` to obtain reliable results.\n",
            "Setting `pad_token_id` to `eos_token_id`:50256 for open-end generation.\n"
          ]
        },
        {
          "output_type": "stream",
          "name": "stdout",
          "text": [
            "  Batch 6,200  of  8,481. Loss: 0.5784355998039246.   Elapsed: 0:55:34.\n",
            "0:  FIRRe: Why is my mouse so JUMPY?  (MS MOUSE); TLDR: In article <1993Apr17.162230.1469@liris.tew.kuleuven.ac.be> eeee1@liris.tew.kuleuven.ac.be (Andrei Chichak) writes:>Ludwig LaStrange (dlStrange@physics.berkeley.edu) wrote:>: I have a Microsoft Serial Mouse and am using mouse.com 8.00 (was using 8.20 >>I think, but switched to 8.00 to see if it was any better).  Vertical motion >>is nice and smooth, but horizontal motion is so bad I sometimes can't click >>on something because my mouse jumps around.  I can be moving the mouse to >>the right with relatively uniform motion and the mouse will move smoothly >>for a bit, then jump to the right,\n"
          ]
        },
        {
          "output_type": "stream",
          "name": "stderr",
          "text": [
            "The attention mask and the pad token id were not set. As a consequence, you may observe unexpected behavior. Please pass your input's `attention_mask` to obtain reliable results.\n",
            "Setting `pad_token_id` to `eos_token_id`:50256 for open-end generation.\n"
          ]
        },
        {
          "output_type": "stream",
          "name": "stdout",
          "text": [
            "  Batch 6,300  of  8,481. Loss: 0.7425248026847839.   Elapsed: 0:56:28.\n",
            "0: cticaRe: text of White House announcement and Q&As on clipper chip encryption; TLDR: \t<1qfr7$k5i@transfer.stratus.com>\t<C5yLn7.BtD@cs.cmu.edu>In article <C5yLn7.BtD@cs.cmu.edu>, brad@clarinet.com (Brad Templeton) says:   In article <strnlghtC5u4y.M5F@netcom.com> strnlght@netcom.com (David Sternlight) writes:   >In article <C5u4H1.BtD@cs.cmu.edu> brad@clarinet.com (Brad Templeton) writes:   >>>In article <C5u4H1.BtD@cs.cmu.edu> br\n"
          ]
        },
        {
          "output_type": "stream",
          "name": "stderr",
          "text": [
            "The attention mask and the pad token id were not set. As a consequence, you may observe unexpected behavior. Please pass your input's `attention_mask` to obtain reliable results.\n",
            "Setting `pad_token_id` to `eos_token_id`:50256 for open-end generation.\n"
          ]
        },
        {
          "output_type": "stream",
          "name": "stdout",
          "text": [
            "  Batch 6,400  of  8,481. Loss: 1.4431813955307007.   Elapsed: 0:57:21.\n",
            "0: SmallRe: What's it with Cats and Dogs???!?!; TLDR: I don't think it is at all unreasonable to ask why a dog such as a great dane must have a good deal of controllercon the brain, let alone be an asshole on the road when it can'tput up a lot of road space. I'd much rather ride the bike in a strait or two, than to piss offadyspace.>...a)  Many of the newer models (like the m-v-series or>the A-Z-series) had Companion dogs, including the ones on the back of the truck. They>often took their sweet time saving the dog, although it was quite easy to get rid of>such a dog.  b)  Because they were popular, it wasn't as>difficult as spraying a hose under a car or a truck or any other>sort of 'dane'.  c)  Because\n"
          ]
        },
        {
          "output_type": "stream",
          "name": "stderr",
          "text": [
            "The attention mask and the pad token id were not set. As a consequence, you may observe unexpected behavior. Please pass your input's `attention_mask` to obtain reliable results.\n",
            "Setting `pad_token_id` to `eos_token_id`:50256 for open-end generation.\n"
          ]
        },
        {
          "output_type": "stream",
          "name": "stdout",
          "text": [
            "  Batch 6,500  of  8,481. Loss: 0.7699211835861206.   Elapsed: 0:58:15.\n",
            "0:  composRe: Vandalizing the sky.; TLDR: In article <C65v2.L7C@research.canon.oz.au> enzo@research.canon.oz.au (Enzo Liguori) writes:> In article <C65v2.JFq@research.canon.oz.au> enzo@research.canon.oz.au (Enzo Liguori) writes:>>>>From SPACE.VU: enzo@research.canon.oz.au (Enzo Liguori)  >   In article <C65v2.L7C@research.canon.oz.au>, enzo@research.canon.oz.au (Enzo Liguori) writes:>>>>I think that this should go on long enough, and I think that you'd better start looking up>>something like this in a political journal (something like National Enzo's), or\n"
          ]
        },
        {
          "output_type": "stream",
          "name": "stderr",
          "text": [
            "The attention mask and the pad token id were not set. As a consequence, you may observe unexpected behavior. Please pass your input's `attention_mask` to obtain reliable results.\n",
            "Setting `pad_token_id` to `eos_token_id`:50256 for open-end generation.\n"
          ]
        },
        {
          "output_type": "stream",
          "name": "stdout",
          "text": [
            "  Batch 6,600  of  8,481. Loss: 0.4825427234172821.   Elapsed: 0:59:09.\n",
            "0:  bayWANTED: A pin-outs for PS/2 486/33 IBM; TLDR: Wanted:    a card for a PS/2 486/33 IBM. (The motherboard is 3.5\" and has a DB5 connector.)If you have any information or information regarding the offerplease contact me by e-mail.                                                                                                                               \n"
          ]
        },
        {
          "output_type": "stream",
          "name": "stderr",
          "text": [
            "The attention mask and the pad token id were not set. As a consequence, you may observe unexpected behavior. Please pass your input's `attention_mask` to obtain reliable results.\n",
            "Setting `pad_token_id` to `eos_token_id`:50256 for open-end generation.\n"
          ]
        },
        {
          "output_type": "stream",
          "name": "stdout",
          "text": [
            "  Batch 6,700  of  8,481. Loss: 0.41648849844932556.   Elapsed: 1:00:03.\n",
            "0:  GTRe: XView slider wanted; TLDR: In article <1993Apr21.042457.13273@waikato.ac.nz>, n2ib@waikato.ac.nz (GEO-MARCUARYN MARYN) writes:> Hi,> > I'm looking for a program that implements a window manager so that> you can specify if positions are to be used for the xview application.> \tThe problem I have is that in XView slider, you can specify> \ta position and time range for the window manager but then you can set> \tthe xconfigure option to get a window number, which makes no difference> \tas to the depth or position of the window being used.  You are> \tobviously using sliders like do's and such but I'm not sure that this is> \ta decent alternative.>> > > I also have a program that controls\n"
          ]
        },
        {
          "output_type": "stream",
          "name": "stderr",
          "text": [
            "The attention mask and the pad token id were not set. As a consequence, you may observe unexpected behavior. Please pass your input's `attention_mask` to obtain reliable results.\n",
            "Setting `pad_token_id` to `eos_token_id`:50256 for open-end generation.\n"
          ]
        },
        {
          "output_type": "stream",
          "name": "stdout",
          "text": [
            "  Batch 6,800  of  8,481. Loss: 0.3068765699863434.   Elapsed: 1:00:57.\n",
            "0:  pinnedRe: Jewish Baseball Players?; TLDR: In article <May.9.05.07.07.1993.6663@alleg.edu> dzk@romulus.maths.ucla.edu (Sam Zbiciak) writes:>>Awhile back, Rusty Staub was a batting coach at the Oakland A's. He>was a 10th strikeout hitter and eventually got a hit with runners on base. >He also got a run when he was 5-5 for a walk. He struggled last year. >Staub is one of the best outfielders in baseball. He struck out a few run (didn't see much difference>with other players) in a single game and hit them two home runs when they were>on base. >Anyway, Gary's solution basically worked with him. >He just didn't do much fielding, and won't get many runs as>well. The next year he looked terrible on\n"
          ]
        },
        {
          "output_type": "stream",
          "name": "stderr",
          "text": [
            "The attention mask and the pad token id were not set. As a consequence, you may observe unexpected behavior. Please pass your input's `attention_mask` to obtain reliable results.\n",
            "Setting `pad_token_id` to `eos_token_id`:50256 for open-end generation.\n"
          ]
        },
        {
          "output_type": "stream",
          "name": "stdout",
          "text": [
            "  Batch 6,900  of  8,481. Loss: 0.4152073264122009.   Elapsed: 1:01:51.\n",
            "0:  triumphXTerm Placed Printer; TLDR: I have several XTerm Placed printer adapters. I use them with some X software, but I'm going to sell them since I don't have the time to buy one.What does the look like?Can I use extended character or longer extended character?Is it worth the trouble to connect the printer to a null modem or a parallel port?--   Dave Medin\t\t\tPhone:\t(205) 730-3169 (w)   SSD--Networking\t\t\t(205) 837-1174 (h)    Intergraph Corp.      M/S GD3004 \t\tInternet: dtmedin@catbyte.b30.ingr.com  Huntsville, AL 35894\t\tUUCP: ...uunet!ingr!b30!catbyte!dtmedin   ******* Everywhere You Look (\n"
          ]
        },
        {
          "output_type": "stream",
          "name": "stderr",
          "text": [
            "The attention mask and the pad token id were not set. As a consequence, you may observe unexpected behavior. Please pass your input's `attention_mask` to obtain reliable results.\n",
            "Setting `pad_token_id` to `eos_token_id`:50256 for open-end generation.\n"
          ]
        },
        {
          "output_type": "stream",
          "name": "stdout",
          "text": [
            "  Batch 7,000  of  8,481. Loss: 0.8593924045562744.   Elapsed: 1:02:45.\n",
            "0:  NeptuneRe: Secret algorithm [Re: Clipper Chip and crypto key-escrow]; TLDR: \t<strnlghtC5t7z6.Lrz@netcom.com>\t<pizzabon.735608842@dsg4.dse.beckman.com>  <strnlghtC5wCMo.6Is@netcom.com>\t<1993Apr15.050311.26252@ulysses.att.com>\t<1993Apr15.001818.18613@ulysses.att.com>>>>>>If you get a court order to tap you, but you don't pay it, you're going to>>have to go to jail.The government can't force you to give them a key, just ask for it.  I wouldn'tguarantee that the keys were escrowed, since they were escrowed not by the\n"
          ]
        },
        {
          "output_type": "stream",
          "name": "stderr",
          "text": [
            "The attention mask and the pad token id were not set. As a consequence, you may observe unexpected behavior. Please pass your input's `attention_mask` to obtain reliable results.\n",
            "Setting `pad_token_id` to `eos_token_id`:50256 for open-end generation.\n"
          ]
        },
        {
          "output_type": "stream",
          "name": "stdout",
          "text": [
            "  Batch 7,100  of  8,481. Loss: 0.4275716543197632.   Elapsed: 1:03:39.\n",
            "0:  purchasesRe: How to the disks copy protected.; TLDR: In article <1rg82v$m00@horus.ap.mchp.sni.de>, frank@D012S658.uucp (Frank O'Dwyer) writes:> > I know what a \"Copy protection\" means. If you put 2 copies of the > > same game in one system, you are effectively \"reded\" if one machine > > supports the other (read-only) copies. This is true for > > games, of course, but what about games that use CD-ROMs?  What about> > games that use sound?  How secure must they be?  For example, the VGA games> > will only play wav player CD-ROMS (read-only) when played wav player sound-> > sound, and will play any other game when played wav player sound.> > This is true for\n"
          ]
        },
        {
          "output_type": "stream",
          "name": "stderr",
          "text": [
            "The attention mask and the pad token id were not set. As a consequence, you may observe unexpected behavior. Please pass your input's `attention_mask` to obtain reliable results.\n",
            "Setting `pad_token_id` to `eos_token_id`:50256 for open-end generation.\n"
          ]
        },
        {
          "output_type": "stream",
          "name": "stdout",
          "text": [
            "  Batch 7,200  of  8,481. Loss: 1.8382377624511719.   Elapsed: 1:04:32.\n",
            "0:  professorRe: Why does Illustrator AutoTrace so poorly?; TLDR: \t<C6y0B1.B0t@cs.cmu.edu> <wrs82.735015349@sgi417.msd.lmsc.lockheed.com>In article <wrs82.735015349@sgi417.msd.lmsc.lockheed.com> wrs82@sgi417.msd.lmsc.lockheed.com (Mark Wuestelkamp) writes:      The question is when it should be, and if     it is important.  In the original Mac and PC handbooks (IMHO) the autoTrace    system did not come with the manual for Adobe Illustrator (IMHO), so     I guess the only reason I don't get it is that I don't have a\n"
          ]
        },
        {
          "output_type": "stream",
          "name": "stderr",
          "text": [
            "The attention mask and the pad token id were not set. As a consequence, you may observe unexpected behavior. Please pass your input's `attention_mask` to obtain reliable results.\n",
            "Setting `pad_token_id` to `eos_token_id`:50256 for open-end generation.\n"
          ]
        },
        {
          "output_type": "stream",
          "name": "stdout",
          "text": [
            "  Batch 7,300  of  8,481. Loss: 1.0071114301681519.   Elapsed: 1:05:26.\n",
            "0:  boxRe: Burden of Proof; TLDR: In article <1993Apr5.130749.10665@thunder.mcrcim.mcgill.edu> mcguire@McRCIM.McGill.EDU writes:>The burden of proof is upon the prosecution/jury to show that>the occupant of the vehicle was insane.  The burden is upon the prosecution/jury to show>that the occupant was insane.  The burden of proof belongs to the prosecution/jury to>show that the driver was acting in good faith.  Note that this is the case with Ford.>The key to the ignition of a Ford Bronco, is the weight of the tire>dripping off of a Honda Hurricane.-- Cmdr. Phil. Fraering                  | The above opinions are not necessarily those of the University of      | Apple \n"
          ]
        },
        {
          "output_type": "stream",
          "name": "stderr",
          "text": [
            "The attention mask and the pad token id were not set. As a consequence, you may observe unexpected behavior. Please pass your input's `attention_mask` to obtain reliable results.\n",
            "Setting `pad_token_id` to `eos_token_id`:50256 for open-end generation.\n"
          ]
        },
        {
          "output_type": "stream",
          "name": "stdout",
          "text": [
            "  Batch 7,400  of  8,481. Loss: 1.0770998001098633.   Elapsed: 1:06:20.\n",
            "0:  consideredRe: Deir Yassin; TLDR:  <1993Apr27.133008.25123@Virginia.EDU> <1993Apr27.122758.114@Virginia.EDU>In article <1993Apr27.122758.114@Virginia.EDU> ab4z@Virginia.EDU (\"Andi Beyer\") writes:>There was also something very interesting about the videotape which clearly showed that Begin,who was in charge of the Irgun, was interviewed on UPI.  Begin was asked if Begin knew about Irgun.  His answer was no, Begin was in charge, and Begin was very well aware.I suggest that Begin also stated that Begin said that Begin had met with some Arabs but that they were not sure whether they were Arabs.Similarly for Begin.  What makes it interesting is that Begin did not tell Begin very much aboutwhat Begin said during his press conference, nor did he give any information\n"
          ]
        },
        {
          "output_type": "stream",
          "name": "stderr",
          "text": [
            "The attention mask and the pad token id were not set. As a consequence, you may observe unexpected behavior. Please pass your input's `attention_mask` to obtain reliable results.\n",
            "Setting `pad_token_id` to `eos_token_id`:50256 for open-end generation.\n"
          ]
        },
        {
          "output_type": "stream",
          "name": "stdout",
          "text": [
            "  Batch 7,500  of  8,481. Loss: 2.4763500690460205.   Elapsed: 1:07:14.\n",
            "0:  empiricalRe: Europe vs. Muslim Bosnians; TLDR: In article <C6DvqE.F6D@unix.amherst.edu>, jamal@shell.portal.com (Jamie Jamal) writes:|> In a previous article, josip@eng.umd.edu (Josip Loncaric) wrote:|> > >Yeah, and it worked pretty well for the Serbians.  :)|> >Don't forget that the Nazis had control of the RFE, and that they could force|> >Koresh on the people of the Nazis.  That was atrocious.  Hitler and the|> >were the two largest armies in the world at that time.  That's all.  You don't have to have|> >statistics to know that it wasn't atrocious that way.|> >Yeah, just a little perspective might be in order. \n"
          ]
        },
        {
          "output_type": "stream",
          "name": "stderr",
          "text": [
            "The attention mask and the pad token id were not set. As a consequence, you may observe unexpected behavior. Please pass your input's `attention_mask` to obtain reliable results.\n",
            "Setting `pad_token_id` to `eos_token_id`:50256 for open-end generation.\n"
          ]
        },
        {
          "output_type": "stream",
          "name": "stdout",
          "text": [
            "  Batch 7,600  of  8,481. Loss: 0.9189695715904236.   Elapsed: 1:08:08.\n",
            "0: unksVGA monitor for sale ; TLDR: \tSorry, I lost the address. The company is asking $100.  I havethe address so I can get it fixed by selling it, not me.\tIf you know the phone, or the address I am selling it,I am in no position to sell it. Please contact me.\tThanks\t\t\t\tJonathan.--\n"
          ]
        },
        {
          "output_type": "stream",
          "name": "stderr",
          "text": [
            "The attention mask and the pad token id were not set. As a consequence, you may observe unexpected behavior. Please pass your input's `attention_mask` to obtain reliable results.\n",
            "Setting `pad_token_id` to `eos_token_id`:50256 for open-end generation.\n"
          ]
        },
        {
          "output_type": "stream",
          "name": "stdout",
          "text": [
            "  Batch 7,700  of  8,481. Loss: 0.4872359037399292.   Elapsed: 1:09:00.\n",
            "0: OrigRe: Jack Morris; TLDR: In article <1993Apr20.014222.4637@cs.cornell.edu> tedward@cs.cornell.edu (Edward [Ted] Fischer) writes:>>What about the fact that you can make an intelligent, thoughtful human being out>>with every respect you possibly have.  Would you respect any>>man on a geno-psychological level, rather than a performing one yourself?  Would>>you respect any idiot on a geno-psychological level, such as a loaded>ago?  Would you respect any idiot that your mother had to deal with a>>severely brainwashed son on a whim?>>I'd be curious to know...  I'm curious to know what a>>brainwashing technique you apply to your baby?  Would you accept any>>demons without your being extremely cute?  How effective is>that technique?  How effective is it?  Are you sure you\n"
          ]
        },
        {
          "output_type": "stream",
          "name": "stderr",
          "text": [
            "The attention mask and the pad token id were not set. As a consequence, you may observe unexpected behavior. Please pass your input's `attention_mask` to obtain reliable results.\n",
            "Setting `pad_token_id` to `eos_token_id`:50256 for open-end generation.\n"
          ]
        },
        {
          "output_type": "stream",
          "name": "stdout",
          "text": [
            "  Batch 7,800  of  8,481. Loss: 0.5248837471008301.   Elapsed: 1:09:54.\n",
            "0: ootsRe: A KIND and LOVING God!!; TLDR: In article <1993Apr19.194022.24131@ra.royalroads.ca>, mlee@post.RoyalRoads.ca (Malcolm Lee) wrote:|> I'm sorry if this has been covered already, but the Church of Jesus Christ|> established a religious cult in South Africa.|> Could you please repost this article?|> \tI guess we should be grateful for this, since most people do not think|> they are following God.  We have had trouble with people who were crazy or|> insane enough to believe that Jews persecuted Jesus.  The church of Jesus Christ|> Christ, however, has tried to put themselves on the line of those who|> are following God, but have fallen short of understanding that the persecution|> of Jews in this matter is just.|> \tSo that the question is \"HOW\n"
          ]
        },
        {
          "output_type": "stream",
          "name": "stderr",
          "text": [
            "The attention mask and the pad token id were not set. As a consequence, you may observe unexpected behavior. Please pass your input's `attention_mask` to obtain reliable results.\n",
            "Setting `pad_token_id` to `eos_token_id`:50256 for open-end generation.\n"
          ]
        },
        {
          "output_type": "stream",
          "name": "stdout",
          "text": [
            "  Batch 7,900  of  8,481. Loss: 0.8259854912757874.   Elapsed: 1:10:48.\n",
            "0:  bombingRe: My Gun is like my....; TLDR: In article <1993Apr24.172800.16793@CSD-NewsHost.Stanford.EDU> andyh@CSD-NewsHost.Stanford.EDU (Andy Freeman) writes:>>The only differences between a Glock and a Glock are the trigger safety on the>chambered slide.  The safeties on the slide are different, so I'll try to>size it a little bit.  The round feed is standard (not>comprose non-explosive) and the safeties are Revolvers.  Revolvers have been>modified with some minor changes since then...\tErme, the \"wrong\" factory switched to Glocks in the mid '70's,and that was all it was until I started buying these things...\tThe only time this Glock has been \"blocked\" in the major car wars (or the trans\n"
          ]
        },
        {
          "output_type": "stream",
          "name": "stderr",
          "text": [
            "The attention mask and the pad token id were not set. As a consequence, you may observe unexpected behavior. Please pass your input's `attention_mask` to obtain reliable results.\n",
            "Setting `pad_token_id` to `eos_token_id`:50256 for open-end generation.\n"
          ]
        },
        {
          "output_type": "stream",
          "name": "stdout",
          "text": [
            "  Batch 8,000  of  8,481. Loss: 2.021456480026245.   Elapsed: 1:11:42.\n",
            "0:  variantRe: The earth also pollutes......; TLDR: kv07@cbnewsk.cb.att.com (K.V. Haapanen) writes:>Sciences are the interstellium of the earth.  When the Earth>produce it, it requires mineral elements and some phenolic elements (plasma, >superlamor, etc).  It is the interstellium of the earth thatproduce the electrochemical reactions that cause the earth to conduct a very highchemical reaction, its is the superlamor of the earth thatproduces the electrochemical reaction that causes it to conduct a very highchemical reaction. The effect of this is, that the Earth is in equilibrium with the moon, and that the Earth is in equilibrium with the moon. The moon is, by the time it starts generating an equilibrium with the earth, much less will become a very fertile land.-- =-=-=-=-=-=-=-=-=-=-=-=-=-=-=-=-=-=-=-=-=-=-=-=-=-=-=-=Kirk Memb\n"
          ]
        },
        {
          "output_type": "stream",
          "name": "stderr",
          "text": [
            "The attention mask and the pad token id were not set. As a consequence, you may observe unexpected behavior. Please pass your input's `attention_mask` to obtain reliable results.\n",
            "Setting `pad_token_id` to `eos_token_id`:50256 for open-end generation.\n"
          ]
        },
        {
          "output_type": "stream",
          "name": "stdout",
          "text": [
            "  Batch 8,100  of  8,481. Loss: 0.6501215100288391.   Elapsed: 1:12:36.\n",
            "0:  outfieldRe: Why Spanky?; TLDR: In article <Apr22.123922.8640@yuma.ACNS.ColoState.EDU> mre@lance.colostate.edu (Michael RE HEAR OF) writes:>What's a spec of Spanky?  Wasn't it some sort of egotism?>>My god, Spanky is a real Dodger.  What's he gonna wear on>the field during the bigs?\tDo you mean that he'll be wearing the Mets sleeveless,or that he'll have a hard time getting back into the ball park?\t\t\t\t\tGuzzi.\n"
          ]
        },
        {
          "output_type": "stream",
          "name": "stderr",
          "text": [
            "The attention mask and the pad token id were not set. As a consequence, you may observe unexpected behavior. Please pass your input's `attention_mask` to obtain reliable results.\n",
            "Setting `pad_token_id` to `eos_token_id`:50256 for open-end generation.\n"
          ]
        },
        {
          "output_type": "stream",
          "name": "stdout",
          "text": [
            "  Batch 8,200  of  8,481. Loss: 0.6345455646514893.   Elapsed: 1:13:29.\n",
            "0: oticsRe: Hernia; TLDR: My nickname is L.A., I am not a doctor, just finished reading your postings about Herniawhich I suppose does not make a dent in the smileys.Hernia is a very small disease, usually caused by a lack of symmetry,which can cause dromal confusion.  The person who is lucky to be alive and has been treatedis probably more worried than I might be.A friend of mine is anochemist in the lab here in Colorado.  He got luckywith a small piece of an old plastic slide projector (one of those made byusing a potentiometer to measure the strength of the stick ball in the eye).  The slide is used to measuredifferences between the average Somatic and average dental and the average tissue pain.  If you use the slide as large a table, it'sgreat.  There are two types of symptoms:(1)  You can't see the dental\n"
          ]
        },
        {
          "output_type": "stream",
          "name": "stderr",
          "text": [
            "The attention mask and the pad token id were not set. As a consequence, you may observe unexpected behavior. Please pass your input's `attention_mask` to obtain reliable results.\n",
            "Setting `pad_token_id` to `eos_token_id`:50256 for open-end generation.\n"
          ]
        },
        {
          "output_type": "stream",
          "name": "stdout",
          "text": [
            "  Batch 8,300  of  8,481. Loss: 1.085554599761963.   Elapsed: 1:14:23.\n",
            "0: );Re: ATF BURNS DIVIDIAN RANCH! NO SURVIVORS!!!; TLDR: In article <1r8md9$5ie@transfer.stratus.com>, cdt@sw.stratus.com (C. D. Tavares) writes:> cdt@sw.stratus.com (C. D. Tavares) writes:> >> As far as I know, this is the first time I've heard of this > >> incident.> > > I think there are two explanations for this:  Either Koresh was acting alone, or he was> acting as a government agent with the ATF.  Either way, it is> inconsistent.  The first is that the BATF started the fire deliberately.  This> means that the FBI shot first, and that everyone involved knew that it was> likely suicide for them.  It seems plausible that the BATF purposely started the fire.I'm surprised.\n"
          ]
        },
        {
          "output_type": "stream",
          "name": "stderr",
          "text": [
            "The attention mask and the pad token id were not set. As a consequence, you may observe unexpected behavior. Please pass your input's `attention_mask` to obtain reliable results.\n",
            "Setting `pad_token_id` to `eos_token_id`:50256 for open-end generation.\n"
          ]
        },
        {
          "output_type": "stream",
          "name": "stdout",
          "text": [
            "  Batch 8,400  of  8,481. Loss: 0.831917941570282.   Elapsed: 1:15:17.\n",
            "0: tmpRe: HELP - getting 24bit viewer for X on my screen.; TLDR: In article <16BB1B69.C558172A.7371342@nova>, aruba@nova.sti.nasa.gov (Arthur L. Aruba) writes:>In article <1993Apr15.091229.2317@imag.fr> gsager@imag.imag.fr (Gilles KHOUZAM) writes:>|> I am unable to get filenght to work - on top of that, I can't>|> get the visual output of any other program on top of that.>|> Try VPIC's VPIC TIFF - a program that converts a 24 bit viewer to>|> a plain X program using pcs 3.1 - it seems to work if the program is on a>|> Sparc IPX.>|> >|> Does anyone have any\n",
            "\n",
            "  Average training loss: 0.89\n",
            "  Training epoch took: 1:16:01\n",
            "\n",
            "Running Validation...\n",
            "  Validation Loss: 1.25\n",
            "  Validation took: 0:02:33\n",
            "\n",
            "======== Epoch 5 / 5 ========\n",
            "Training...\n"
          ]
        },
        {
          "output_type": "stream",
          "name": "stderr",
          "text": [
            "The attention mask and the pad token id were not set. As a consequence, you may observe unexpected behavior. Please pass your input's `attention_mask` to obtain reliable results.\n",
            "Setting `pad_token_id` to `eos_token_id`:50256 for open-end generation.\n"
          ]
        },
        {
          "output_type": "stream",
          "name": "stdout",
          "text": [
            "  Batch   100  of  8,481. Loss: 0.6620391607284546.   Elapsed: 0:00:51.\n",
            "0: angularRe: POTVIN and HIS STICK; TLDR: In article <4263@blue.cis.pitt.edu> traven@pogo.isp.pitt.edu (Neal Traven) writes:>In article <1993Apr22.090035.29918@ecsvax.uncecs.edu>, ajteel@ecsvax.uncecs.edu writes:>|>In article <1rs6b6$qb@transfer.stratus.com> Randy_Faneuf@vos.stratus.com writes:>|> >>|>    HE IS NOT!  HE is a piker!>|> >>>|>    You know how much bragging heihe means on the net...>|> >|> >I always claimed he was a piker, but recently i heard he had>|> >    \n"
          ]
        },
        {
          "output_type": "stream",
          "name": "stderr",
          "text": [
            "The attention mask and the pad token id were not set. As a consequence, you may observe unexpected behavior. Please pass your input's `attention_mask` to obtain reliable results.\n",
            "Setting `pad_token_id` to `eos_token_id`:50256 for open-end generation.\n"
          ]
        },
        {
          "output_type": "stream",
          "name": "stdout",
          "text": [
            "  Batch   200  of  8,481. Loss: 1.0953434705734253.   Elapsed: 0:01:45.\n",
            "0: gowRe: Waco \"Inside Story\" (AP) (Was Re: ATF BURNS....); TLDR: In article <C5tB1B.5yB@news.cso.uiuc.edu> irvine@uxh.cso.uiuc.edu (Brent Irvine) writes:>In article <1r3d2r$oj9@transfer.stratus.com>, cdt@sw.stratus.com (C. D. Tsiolokos) writes:>> cdt@sw.stratus.com (C. D. Tsiolokos) writes...>>> cdt@netcom.com (C. D. T. Jorgensen) writes...>>> cdt@netcom.com (C. D. T. Jorgens) writes:>>> >In article <1r3jr3b$dtr@bigboote.WPI.EDU>\n"
          ]
        },
        {
          "output_type": "stream",
          "name": "stderr",
          "text": [
            "The attention mask and the pad token id were not set. As a consequence, you may observe unexpected behavior. Please pass your input's `attention_mask` to obtain reliable results.\n",
            "Setting `pad_token_id` to `eos_token_id`:50256 for open-end generation.\n"
          ]
        },
        {
          "output_type": "stream",
          "name": "stdout",
          "text": [
            "  Batch   300  of  8,481. Loss: 0.6568167209625244.   Elapsed: 0:02:39.\n",
            "0: rolRe: Once tapped, your code is no good any more.; TLDR: In article <bontchev.735331980@fbihh> bontchev@fbihh.informatik.uni-hamburg.de writes:>\tWith E-Mail, if they can't break your PGP encryption, they'll just>call up one of their TEMPEST trucks and read the electromagnetic emmisions>from your computer or terminal.  Note that measures to protect yourself from>TEMPEST surveillance are still classified, as far as I know.You're making assumptions about reality. If they're classified, they're classified, andthere's a lot of stuff under the sun which makes breaking them. (Though there are some things that are classified,there are lots of things that aren't, and the EMM is just that stuff. The \"you're making assumptions\" don't necessarilymean they're wrong.) Note that this doesn't necessarily\n"
          ]
        },
        {
          "output_type": "stream",
          "name": "stderr",
          "text": [
            "The attention mask and the pad token id were not set. As a consequence, you may observe unexpected behavior. Please pass your input's `attention_mask` to obtain reliable results.\n",
            "Setting `pad_token_id` to `eos_token_id`:50256 for open-end generation.\n"
          ]
        },
        {
          "output_type": "stream",
          "name": "stdout",
          "text": [
            "  Batch   400  of  8,481. Loss: 1.2888883352279663.   Elapsed: 0:03:33.\n",
            "0:  24Re: Braves Pitching UpdateDIR; TLDR: In article <mssC5yD9D.A1p@netcom.com>, mss@netcom.com (Mark Singer) writes:>>     On the flip side, they don't count on the run support of>most teams.  More runs per game, and pitching gets the job done.>>So, of the 12 teams that got 80 runs, 12 more were \"pitched\">(7.5), and 5 more were \"born-again\", meaning they don't count>on the runs any more.I did count on the runs created by pitchers (I think there were 7 non-pitchers in each of the teams, but therewas no pitching, just no fielding).  Overall, the Braves won the game 7-5 anda 12-5 win over the Red Sox at Wrigley Field last year.  They still have 9 pitchers batting and 1 10\n"
          ]
        },
        {
          "output_type": "stream",
          "name": "stderr",
          "text": [
            "The attention mask and the pad token id were not set. As a consequence, you may observe unexpected behavior. Please pass your input's `attention_mask` to obtain reliable results.\n",
            "Setting `pad_token_id` to `eos_token_id`:50256 for open-end generation.\n"
          ]
        },
        {
          "output_type": "stream",
          "name": "stdout",
          "text": [
            "  Batch   500  of  8,481. Loss: 0.47689288854599.   Elapsed: 0:04:27.\n",
            "0: irableRe: The Inimitable Rushdie; TLDR: In article <1993Apr15.134439.14120@informix.com> jaeger@buphy.bu.edu (Gregg Jaeger) writes:>Gregg, what's the difference between an immorality>of five Islamic viewpoints and a mere floggling of>religion?To be quite honest, I'd be very suprised if more one were actually seriouslydiscussing these viewpointsinstead of simply summarizing one another.Gregg\n"
          ]
        },
        {
          "output_type": "stream",
          "name": "stderr",
          "text": [
            "The attention mask and the pad token id were not set. As a consequence, you may observe unexpected behavior. Please pass your input's `attention_mask` to obtain reliable results.\n",
            "Setting `pad_token_id` to `eos_token_id`:50256 for open-end generation.\n"
          ]
        },
        {
          "output_type": "stream",
          "name": "stdout",
          "text": [
            "  Batch   600  of  8,481. Loss: 0.2815413177013397.   Elapsed: 0:05:19.\n",
            "0:  allevRe: Space Marketing would be wonderfull.; TLDR: In article <1993Apr19.134400.8698@mksol.dseg.ti.com>, mccall@mksol.dseg.ti.com (fred j mccall 575-3539) writes:|> In article <C74nFt.JnA@ucdavis.edu>, ez012344@hamlet.ucdavis.edu (Dan Herrin)|> >|> >The thing that confuses me most about Space Marketing is the|> >large-screen ad in the world.  I can see the commercial> >and the effect that would be had the lower price of the|> >large-screen image.  There is not a lot of \"return\" for those|> >who are no longer rich but who really want to invest in a space |> >advertising program.|\n"
          ]
        },
        {
          "output_type": "stream",
          "name": "stderr",
          "text": [
            "The attention mask and the pad token id were not set. As a consequence, you may observe unexpected behavior. Please pass your input's `attention_mask` to obtain reliable results.\n",
            "Setting `pad_token_id` to `eos_token_id`:50256 for open-end generation.\n"
          ]
        },
        {
          "output_type": "stream",
          "name": "stdout",
          "text": [
            "  Batch   700  of  8,481. Loss: 0.38888052105903625.   Elapsed: 0:06:13.\n",
            "0:  legallyRe: New Study Out On Gay Percentage; TLDR: In <15440@optilink.COM> cramer@optilink.COM (Clayton Cramer) writes:#Compared to the table I have already posted from Masters, Johnson,#and Kolodny showing male homosexual partners, it is apparent that#homosexual men are dramatically more promiscuous than the general#male population.  It's a shame that we don't have a breakdown for#straight men vs. gay/bi men -- that would show even more dramatically#how much more promiscuous gay/bi men are.#Compared to the table I have already posted from Masters, Johnson,#and Kolodny showing male homosexual partners, it is apparent that#homosexual men are dramatically more promiscuous than the general#male population (those with as few sexual partners).##The interesting thing is that study after study show the number of sexual partners#homosexuals. \n"
          ]
        },
        {
          "output_type": "stream",
          "name": "stderr",
          "text": [
            "The attention mask and the pad token id were not set. As a consequence, you may observe unexpected behavior. Please pass your input's `attention_mask` to obtain reliable results.\n",
            "Setting `pad_token_id` to `eos_token_id`:50256 for open-end generation.\n"
          ]
        },
        {
          "output_type": "stream",
          "name": "stdout",
          "text": [
            "  Batch   800  of  8,481. Loss: 0.5368463397026062.   Elapsed: 0:07:07.\n",
            "0:  spinalRe: Is MSG sensitivity superstition?; TLDR: In article <1993Apr20.195116.13021@llyene.jpl.nasa.gov>, rcollins@moe.jpl.nasa.gov (Roger Collins) writes:> From: rcollins@vax1.mankato.msus.edu (Roger Collins)> Date: Wed, 21 Apr 1993 13:07:10 GMT> Organization: Mottos International Ltd., Newbury Park,> South Africa> Organization: Mottos International Ltd., Newbury Park, Newbury,> GORE (1987).  I don't know what you mean by \"spoofing the> message\".  I thought it was \"authentic\".  But I don't understand how you> can put MSG in a \"authentic\" food, unless you include> the equipment.  Food manufacturers like to make everything they can to sell to> their customers\n"
          ]
        },
        {
          "output_type": "stream",
          "name": "stderr",
          "text": [
            "The attention mask and the pad token id were not set. As a consequence, you may observe unexpected behavior. Please pass your input's `attention_mask` to obtain reliable results.\n",
            "Setting `pad_token_id` to `eos_token_id`:50256 for open-end generation.\n"
          ]
        },
        {
          "output_type": "stream",
          "name": "stdout",
          "text": [
            "  Batch   900  of  8,481. Loss: 1.0253692865371704.   Elapsed: 0:08:01.\n",
            "0:  loomingRe: ESPN f*ck up; TLDR: In article <1r23j1INN3ef@aludra.usc.edu> jedi@yfn.ysu.edu (John R. Pierson) writes:>In article <1993Apr12.193906.9999@cs.cornell.edu> tedward@cs.cornell.edu (Edward [Ted] Fischer) writes:>>>ESPN is going to show another baseball game, and the networks are only going>>to get a few seconds between the two games. This should be the most baseball game I>>have ever watched. (This is during the regular season, of course.)>>>>ESPN does not seem to be making SportsChannel America look good.>>So, what do you think ESPN does? Show two (2) baseball games, one with>>the network in tow and one with the network in another (which isn't baseball)>>ESPN is trying to make money\n"
          ]
        },
        {
          "output_type": "stream",
          "name": "stderr",
          "text": [
            "The attention mask and the pad token id were not set. As a consequence, you may observe unexpected behavior. Please pass your input's `attention_mask` to obtain reliable results.\n",
            "Setting `pad_token_id` to `eos_token_id`:50256 for open-end generation.\n"
          ]
        },
        {
          "output_type": "stream",
          "name": "stdout",
          "text": [
            "  Batch 1,000  of  8,481. Loss: 0.9896999597549438.   Elapsed: 0:08:55.\n",
            "0: •Re: \"militia\" (incredibly long); TLDR: \t<C5LMp.FCy@dscomsa.desy.de> <1993Apr23.202823.29131@isc-br.isc-br.com>In article <1993Apr23.202823.29131@isc-br.isc-br.com> steveh@thor.isc-br.com (Steve Hendricks) writes:>The \"militia\" (or so I've been told by many) is an integral part>of our continuing defense of the Constitution.  It is the protection>of absolute, complete and unabated right to bear arms.It is a part of the First Amendment and I have never heard anyone else has said what I thought.\t[...I'm sure that Bill and Popol are both right now talking about the samethings.  Both seem to want to get things across thatthey\n"
          ]
        },
        {
          "output_type": "stream",
          "name": "stderr",
          "text": [
            "The attention mask and the pad token id were not set. As a consequence, you may observe unexpected behavior. Please pass your input's `attention_mask` to obtain reliable results.\n",
            "Setting `pad_token_id` to `eos_token_id`:50256 for open-end generation.\n"
          ]
        },
        {
          "output_type": "stream",
          "name": "stdout",
          "text": [
            "  Batch 1,100  of  8,481. Loss: 1.2241644859313965.   Elapsed: 0:09:49.\n",
            "0:  respectivelyRe: Good Grief!  (was Re: Candida Albicans: what is it?); TLDR: In article <noringC5qG3y.C5p@netcom.com> noring@netcom.com (Jon Noring) writes:>>In article rind@enterprise.bih.harvard.edu (David Rind) writes:>>>No, you don't want to read the ul records.  Talk to your doctor for more information.>>Good Grief.  It's a relief to see that you're still not sick.  It has>>allevated the symptoms it brings.  It certainly didn't make the>>whole conspiracy of saying you developed bad things.  I would be happy to have>>you and any of the other people who have suggested otherwise.  >>Listen, uncontrolled studies are worthless.  uncontrolled studies are routinely>published in humans and most of them are controlled by humans.\n"
          ]
        },
        {
          "output_type": "stream",
          "name": "stderr",
          "text": [
            "The attention mask and the pad token id were not set. As a consequence, you may observe unexpected behavior. Please pass your input's `attention_mask` to obtain reliable results.\n",
            "Setting `pad_token_id` to `eos_token_id`:50256 for open-end generation.\n"
          ]
        },
        {
          "output_type": "stream",
          "name": "stdout",
          "text": [
            "  Batch 1,200  of  8,481. Loss: 0.46701639890670776.   Elapsed: 0:10:42.\n",
            "0:  cloudRe: TIFF: philosophical significance of 42; TLDR: In <1993Apr20.130731.1@cc.curtin.edu.au>, gtoal@cc.curtin.edu.au (Graham Toal) writes:> In article <1qk2j7INNm5e@shelley.u.washington.edu> bolson@carson.u.washington.edu (Edward Bolson) writes:>>[Much BS deleted for brevity]>>>>Why do you think the TIFF 5.1 spec is different than the 42 that you are talking about?>>                                                       ^^^^^^^^^^^>>The reason they are different\n"
          ]
        },
        {
          "output_type": "stream",
          "name": "stderr",
          "text": [
            "The attention mask and the pad token id were not set. As a consequence, you may observe unexpected behavior. Please pass your input's `attention_mask` to obtain reliable results.\n",
            "Setting `pad_token_id` to `eos_token_id`:50256 for open-end generation.\n"
          ]
        },
        {
          "output_type": "stream",
          "name": "stdout",
          "text": [
            "  Batch 1,300  of  8,481. Loss: 0.5683726668357849.   Elapsed: 0:11:37.\n",
            "0:  LakeRe: New Study Out On Gay Percentage; TLDR:  <C5w3xI.C7@news.cso.uiuc.edu> <philC5w3xI.C7@murdoch.acc.Virginia.EDU>   > In article <1993Apr15.164553.7523@galileo.cc.rochester.edu>,   > > dsegard@nyx.cs.du.edu (Dan Segard) writes:   |> |> #        How about the fact that gay men are MUCH more promiscuous than |> #          ^^^^^^^^^^^^^^^^^^^^  |> # gay men???  Is that statement absolutely correct?   |> #        Obviously it is false.  It is a waste of time and energy |> # \n"
          ]
        },
        {
          "output_type": "stream",
          "name": "stderr",
          "text": [
            "The attention mask and the pad token id were not set. As a consequence, you may observe unexpected behavior. Please pass your input's `attention_mask` to obtain reliable results.\n",
            "Setting `pad_token_id` to `eos_token_id`:50256 for open-end generation.\n"
          ]
        },
        {
          "output_type": "stream",
          "name": "stdout",
          "text": [
            "  Batch 1,400  of  8,481. Loss: 0.9189556837081909.   Elapsed: 0:12:30.\n",
            "0: FootRe: Looking for X windows on a PC; TLDR: Hi,I have a 386/33 system, running Linux for X11, X-terminals runningSunOS 4.1.3 on a VESA local bus.When I boot up X Window, it loads the xterm window, with a pull-down menu.The pulldown is the windows section.The mouse section does not get to the window.The keyboard section will also be pushed down, but I cannot choose theresize option.Does anyone know of a utility for X windows that will take over the windows section of the PCwithout a mouse?  If there is one, please let me know.Thanks.\n"
          ]
        },
        {
          "output_type": "stream",
          "name": "stderr",
          "text": [
            "The attention mask and the pad token id were not set. As a consequence, you may observe unexpected behavior. Please pass your input's `attention_mask` to obtain reliable results.\n",
            "Setting `pad_token_id` to `eos_token_id`:50256 for open-end generation.\n"
          ]
        },
        {
          "output_type": "stream",
          "name": "stdout",
          "text": [
            "  Batch 1,500  of  8,481. Loss: 0.9394441246986389.   Elapsed: 0:13:23.\n",
            "0:  VolumeRe: Dumbest automotive concepts of all time; TLDR: In article <C5JIF7.7qo@constellation.ecn.uoknor.edu> callison@uokmax.ecn.uoknor.edu (James P. Callison) writes:>>In article <1qg4uINNg88@cronkite.Central.Sun.COM> khayash@cronkite.Central.Sun.COM writes:>>>>Every little car has its own personality.  That little thing can>>be a way of saving your car from the passe.>>>>That's why it's important.  It gives you a feeling of ownership>>where you should feel.  You can feel the air being mass-mailed,>>and feel the pressure of ownership.  Sort of like your>roommate could feel the pressure of ownership and the air cargo>being brought to bear by your girlfriend\n"
          ]
        },
        {
          "output_type": "stream",
          "name": "stderr",
          "text": [
            "The attention mask and the pad token id were not set. As a consequence, you may observe unexpected behavior. Please pass your input's `attention_mask` to obtain reliable results.\n",
            "Setting `pad_token_id` to `eos_token_id`:50256 for open-end generation.\n"
          ]
        },
        {
          "output_type": "stream",
          "name": "stdout",
          "text": [
            "  Batch 1,600  of  8,481. Loss: 1.7032668590545654.   Elapsed: 0:14:17.\n",
            "0: asteRe: The doctrine of Original Sin; TLDR: In article <May.11.02.37.1993.18833@athos.rutgers.edu> revdak@netcom.com (D. Andrew Kille) writes:>What the original poster meant was that God doesn't consider original sin>sin as a specific sin.  This is a logically invalid definition.I disagree with him.  That was part of the original premise.  By definition, \"sin is not a specific sin\",whatever that is, the definition of the word is at least as fuzzy as the word canbe distinguished from the doctrine of \"un-solved sin\".>What then we have is a highly biased view of God's call>for us to live as sin.  This stance is not necessarily unorthodox,>nor do I think it is widely held, and we do not all agree that>God is a very literal person.We all agree that sin\n"
          ]
        },
        {
          "output_type": "stream",
          "name": "stderr",
          "text": [
            "The attention mask and the pad token id were not set. As a consequence, you may observe unexpected behavior. Please pass your input's `attention_mask` to obtain reliable results.\n",
            "Setting `pad_token_id` to `eos_token_id`:50256 for open-end generation.\n"
          ]
        },
        {
          "output_type": "stream",
          "name": "stdout",
          "text": [
            "  Batch 1,700  of  8,481. Loss: 0.17429646849632263.   Elapsed: 0:15:11.\n",
            "0:  obesityRe: Europe vs. Muslim Bosnians; TLDR: Michael Sells <m_sells@haverford.ac.uk> writes:>...I thought the theory that, while the Muslims chieflysuled out the Ottomans as a continuation of their>prediction, that the US would remain the existing supplier of arms>to fight the Serbs, actually made a logical difference.  It was the Muslims that>did the slaughter of their own brothers in Bosnia.  This policy of not ending the>war was a bad one because the Muslims chiefly wanted to make it a>pleasantterritory for all Muslims.   The Muslims chiefly wanted to make it apleasantterritory for all Muslims.   This policy has not worked because of the manywho lived in countries tortured and killed by Serbs.   The policy of the United States against Iraq was a bad onebecause it caused more innocent victims to be killed.    \n"
          ]
        },
        {
          "output_type": "stream",
          "name": "stderr",
          "text": [
            "The attention mask and the pad token id were not set. As a consequence, you may observe unexpected behavior. Please pass your input's `attention_mask` to obtain reliable results.\n",
            "Setting `pad_token_id` to `eos_token_id`:50256 for open-end generation.\n"
          ]
        },
        {
          "output_type": "stream",
          "name": "stdout",
          "text": [
            "  Batch 1,800  of  8,481. Loss: 0.5726248621940613.   Elapsed: 0:16:05.\n",
            "0:  DevelopRe: VLB video board for sale; TLDR: In article <1993Apr13.212612.29175@rchland.ibm.com>, hhtra@vcrn.cern.ch (T. HTGA) writes:|> I am looking for a 486dx50 local bus video board for the VLB|> bus.  I've seen things like this in schematics or something.  Anyone know|> where I can find one?|> |> Thanks|> |> Dave|> |> hhtra@vcrn.cern.chThe V. HTGA boards are the best boards that we have seen lately for their support cards.  They are in very good shape and will support up to 24 frames per second using the 1024x768x256 driver.  Our local bus version has higher frame rates, and is about 16 bits/pixel.  They also have better reliability and flexibility than\n"
          ]
        },
        {
          "output_type": "stream",
          "name": "stderr",
          "text": [
            "The attention mask and the pad token id were not set. As a consequence, you may observe unexpected behavior. Please pass your input's `attention_mask` to obtain reliable results.\n",
            "Setting `pad_token_id` to `eos_token_id`:50256 for open-end generation.\n"
          ]
        },
        {
          "output_type": "stream",
          "name": "stdout",
          "text": [
            "  Batch 1,900  of  8,481. Loss: 0.3278670608997345.   Elapsed: 0:16:59.\n",
            "0:  ArkRe: Need Help with car stereo....; TLDR: In article <1r9b1$n7e@access.digex.net> pcw@access.digex.com (Peter Wayner) writes:>I'm trying to build a stereo receiver for a band of vehicles.  The>primary use of this is for road trips, such as overnight at night.>Need help with locating a good place to start, or to do any other>reasons for doing so (e.g., car stereo won't work untill the>day gets on the way home).  I'm considering making two separate>cassettes:  one for the radio (works fine, but won't work well when on the> highway...  needs a different kind of amp/tape deck).>  I need an inexpensive (but NOT cheap!) way to place the stereo unit on my car stereo,>and it needs to be fairly stable and\n"
          ]
        },
        {
          "output_type": "stream",
          "name": "stderr",
          "text": [
            "The attention mask and the pad token id were not set. As a consequence, you may observe unexpected behavior. Please pass your input's `attention_mask` to obtain reliable results.\n",
            "Setting `pad_token_id` to `eos_token_id`:50256 for open-end generation.\n"
          ]
        },
        {
          "output_type": "stream",
          "name": "stdout",
          "text": [
            "  Batch 2,000  of  8,481. Loss: 0.5147502422332764.   Elapsed: 0:17:53.\n",
            "0: AustRe: How many read sci.space?; TLDR:  >In article <1993May12.172231.2688@mksol.dseg.ti.com> mccall@mksol.dseg.ti.com (fred j mccall 575-3539) writes:>|> Robert >>Cal Poly,                                                          ^^^^^^^^^^^^^^^>|> AW&ST  had an article on the \"Atheism and atheism\" you mentioned.  I think>|> that this has been discussed in alt.atheism a couple of times now.  >>|> I'll keep it short.  Maybe I should add\n"
          ]
        },
        {
          "output_type": "stream",
          "name": "stderr",
          "text": [
            "The attention mask and the pad token id were not set. As a consequence, you may observe unexpected behavior. Please pass your input's `attention_mask` to obtain reliable results.\n",
            "Setting `pad_token_id` to `eos_token_id`:50256 for open-end generation.\n"
          ]
        },
        {
          "output_type": "stream",
          "name": "stdout",
          "text": [
            "  Batch 2,100  of  8,481. Loss: 0.4561029076576233.   Elapsed: 0:18:46.\n",
            "0:  reproduRe: A Message for you Mr. President: How do you know what happened?; TLDR: In article <C5rFtn.4pF@rahul.net> walsh@rahul.net (Mark Walsh) writes:>>In <1r8mgqINNpdb@clem.handheld.com> jmd@cube.handheld.com (Jim De Arras) writes:>>>>   I don't know if Koresh really is a crook or just a lunatic.>>>>Well, if he were he not a liar, as you so rudely put it, then he wouldn't>>have got the trial he deserved.>>>>So let him be, since you obviously don't know what happened.  What>>about the thousands of kind teenagers who volunteer at local>agencies to help children during their teens?  Do you think the>Arras people would have done anythingdifferent?   I wouldn\n"
          ]
        },
        {
          "output_type": "stream",
          "name": "stderr",
          "text": [
            "The attention mask and the pad token id were not set. As a consequence, you may observe unexpected behavior. Please pass your input's `attention_mask` to obtain reliable results.\n",
            "Setting `pad_token_id` to `eos_token_id`:50256 for open-end generation.\n"
          ]
        },
        {
          "output_type": "stream",
          "name": "stdout",
          "text": [
            "  Batch 2,200  of  8,481. Loss: 1.5505156517028809.   Elapsed: 0:19:40.\n",
            "0: HTMLRe: Monitors - should they be kept on 24 hours a day???; TLDR: In article <121423@netnews.upenn.edu> kkeller@mail.sas.upenn.edu (Keith Keller) writes:>I wonder how hard it would be (i.e. what it would add to the cost) to design desktop>thermostats that display the same monitors on all the time. (i.e. 15>s), but I could never get 15 to go with 10 on a given night, and this could>only add to the cost of the system if it had kept all the time.I agree with Nick.  Remember, the monitors of the SGI Indigo for their CD-ROMPlus are ALWAYS on.  They are only nominally a \"Default\" system.  If the system had been designedwith such a system in mind, the internal circut triage should have been much morequicker\n"
          ]
        },
        {
          "output_type": "stream",
          "name": "stderr",
          "text": [
            "The attention mask and the pad token id were not set. As a consequence, you may observe unexpected behavior. Please pass your input's `attention_mask` to obtain reliable results.\n",
            "Setting `pad_token_id` to `eos_token_id`:50256 for open-end generation.\n"
          ]
        },
        {
          "output_type": "stream",
          "name": "stdout",
          "text": [
            "  Batch 2,300  of  8,481. Loss: 0.412407785654068.   Elapsed: 0:20:34.\n",
            "0:  apRe: Braves Pitching UpdateDIR; TLDR: In article <C5IwHIM.GxJ@odin.corp.sgi.com>, trombley@sgi.com (Tommy Hernandez) writes:> > \tI think they should have tried a little more.  I've seen several> Braves game counts (all scored in first and second), but never> more than 3 runs in each game.>>If they didn't try that, there's no reason why not.>>So why give up the extra runs?  If they ran away with 1 out ineach game, why not try two more times in each> gamewas possible?  > I'm sure I'd want to see some Braves games, but I'm not> sure if they'd try that in Atlanta, either.> > I'd rather have 3-5 game counts.  If they didn't try to, I'm> guessing they'd try all\n"
          ]
        },
        {
          "output_type": "stream",
          "name": "stderr",
          "text": [
            "The attention mask and the pad token id were not set. As a consequence, you may observe unexpected behavior. Please pass your input's `attention_mask` to obtain reliable results.\n",
            "Setting `pad_token_id` to `eos_token_id`:50256 for open-end generation.\n"
          ]
        },
        {
          "output_type": "stream",
          "name": "stdout",
          "text": [
            "  Batch 2,400  of  8,481. Loss: 1.0378953218460083.   Elapsed: 0:21:28.\n",
            "0:  scrutinyRe: Secret algorithm [Re: Clipper Chip and crypto key-escrow]; TLDR: -----BEGIN PGP SIGNED MESSAGE-----In article <strnlghtC5wCMo.DF3@netcom.com> strnlght@netcom.com (David Sternlight) writes:>The *log* is that the algorithm operates on 64-bit blocks. Do you>know about what kind of encryption scheme the NSA is using now? Do you>know how much traffic flow is encrypted using DES? I think I>understand it now. How does this differ from the CIA's \"policy of not allowing>to export\" of cryptosystems? Especially if the government doesn't>have something like this in mass transit? This isn't quite correct, but this seems fairlyclose.It *is* true that NSA doesn't even want to sell the algorithm;that is, any other encryption algorithm can be used\n"
          ]
        },
        {
          "output_type": "stream",
          "name": "stderr",
          "text": [
            "The attention mask and the pad token id were not set. As a consequence, you may observe unexpected behavior. Please pass your input's `attention_mask` to obtain reliable results.\n",
            "Setting `pad_token_id` to `eos_token_id`:50256 for open-end generation.\n"
          ]
        },
        {
          "output_type": "stream",
          "name": "stdout",
          "text": [
            "  Batch 2,500  of  8,481. Loss: 1.1765261888504028.   Elapsed: 0:22:22.\n",
            "0:  interchangeRe: Limiting Govt (was Re: Employment (was Re: Why not concentrate...); TLDR: In article <C5J6H3.9H3@cbnewse.cb.att.com> lvc@cbnewse.cb.att.com (Larry Cipriani) writes:>steveh@thor.isc-br.com (Steve Hendricks) writes:>: >: >: As noted in another thread, the problem libertarians face>: >: is insuring that the \"limited government\" they seek does not become the >: >: tool of private interests to pursue their own agenda.>: >: : >: : I would be happy to use libertarianism to attack the \"free enterprise>: >: of the typical mincing type\" argument rather than focus on the>: >: obvious fact that such \"limited government\" has become the tool of private >: interests to pursue their own agenda.>: >:\n"
          ]
        },
        {
          "output_type": "stream",
          "name": "stderr",
          "text": [
            "The attention mask and the pad token id were not set. As a consequence, you may observe unexpected behavior. Please pass your input's `attention_mask` to obtain reliable results.\n",
            "Setting `pad_token_id` to `eos_token_id`:50256 for open-end generation.\n"
          ]
        },
        {
          "output_type": "stream",
          "name": "stdout",
          "text": [
            "  Batch 2,600  of  8,481. Loss: 0.4502323567867279.   Elapsed: 0:23:16.\n",
            "0:  �Re: Can Radio Freq. Be Used To Measure Distance?; TLDR: In article <C5qJG1.LHx@cs.columbia.edu>, yuanchie@cs.columbia.edu (Yuan-Chieh Hsu) writes:|>  Well, I'm a little off on the subject, but does anyone know what this should be?|>  |> Radio waves bounce.  For the distance between a transmitter(s) and receiver(s), they generate a |>      pulse.  For the distance between the transmitter(s) and receiver, they generate a |>       pulse.  For the distance between the transmitter(s) and receiver, they generate a |>                                   \n"
          ]
        },
        {
          "output_type": "stream",
          "name": "stderr",
          "text": [
            "The attention mask and the pad token id were not set. As a consequence, you may observe unexpected behavior. Please pass your input's `attention_mask` to obtain reliable results.\n",
            "Setting `pad_token_id` to `eos_token_id`:50256 for open-end generation.\n"
          ]
        },
        {
          "output_type": "stream",
          "name": "stdout",
          "text": [
            "  Batch 2,700  of  8,481. Loss: 0.4976462125778198.   Elapsed: 0:24:09.\n",
            "0:  professionallyRe: After 2000 years, can we say that Christian Morality is; TLDR: kcochran@nyx.cs.du.edu (Keith \"Justified And Ancient\" Cochran) writes:>In article <1r1jg$jhu@horus.ap.mchp.sni.de> frank@D012S658.uucp (Frank O'Dwyer) writes:>>> In article <1r19l9$kjk@fido.asd.sgi.com> livesey@solntze.wpd.sgi.com (Jon Livesey) writes:>>>And I am still not sure that you understand the word objective. I don't>>>believe you. I think that you've left much of the meaning in the>>>objective parts out.>>>So, you think that objective morality is morality built from objective values?Is that what you mean?>>I\n"
          ]
        },
        {
          "output_type": "stream",
          "name": "stderr",
          "text": [
            "The attention mask and the pad token id were not set. As a consequence, you may observe unexpected behavior. Please pass your input's `attention_mask` to obtain reliable results.\n",
            "Setting `pad_token_id` to `eos_token_id`:50256 for open-end generation.\n"
          ]
        },
        {
          "output_type": "stream",
          "name": "stdout",
          "text": [
            "  Batch 2,800  of  8,481. Loss: 0.5013059973716736.   Elapsed: 0:25:03.\n",
            "0:  tacklesRe: Too Many Europeans in NHL; TLDR: In article <rauser.734062608@sfu.ca>, rauser@fraser.sfu.ca (Richard John Rauser) writes:> This column in the current issue of Stein...> > In article <rauser.734062608@sfu.ca> rauser@fraser.sfu.ca (Richard John Rauser) writes:>>rauser@sfu.ca (Richard John Rauser) writes:>>> >  Yet, the numbers of Euros in the NHL are far higher than we>>> >  find anywhere else.  I am sick and tired (sorry) of all the>>> >  hype about European hockey players ( names, not the quality) being brought>>> >  down to earth from here!  I know it's a problem, but I also root for the>>> >  (fratophan)ign of many good players ( Mess\n"
          ]
        },
        {
          "output_type": "stream",
          "name": "stderr",
          "text": [
            "The attention mask and the pad token id were not set. As a consequence, you may observe unexpected behavior. Please pass your input's `attention_mask` to obtain reliable results.\n",
            "Setting `pad_token_id` to `eos_token_id`:50256 for open-end generation.\n"
          ]
        },
        {
          "output_type": "stream",
          "name": "stdout",
          "text": [
            "  Batch 2,900  of  8,481. Loss: 0.35644838213920593.   Elapsed: 0:25:57.\n",
            "0:  essRe: A KIND and LOVING God!!; TLDR: In article <1993Apr29.003749.18287@ra.royalroads.ca>,mlee@post.RoyalRoads.ca (Malcolm Lee) wrote:> > Malcolm Lee (mlee@post.RoyalRoads.ca) wrote:> >> Malcolm, I really do not feel in control over myself.  I only rely on God to help me> > and make the world a safer for myself.  Is it OK if I don't help myself,> > or even if God allows such a blessing, it shouldn't be?> > Malcolm Lee                                                 mp\n"
          ]
        },
        {
          "output_type": "stream",
          "name": "stderr",
          "text": [
            "The attention mask and the pad token id were not set. As a consequence, you may observe unexpected behavior. Please pass your input's `attention_mask` to obtain reliable results.\n",
            "Setting `pad_token_id` to `eos_token_id`:50256 for open-end generation.\n"
          ]
        },
        {
          "output_type": "stream",
          "name": "stdout",
          "text": [
            "  Batch 3,000  of  8,481. Loss: 0.52813720703125.   Elapsed: 0:26:51.\n",
            "0:  esRe: Israeli Terrorism; TLDR:                  Corp. The opinions expressed are those of the user and                  not necessarily those of CONVEX.In article <1rd7eo$8m@usenet.INS.CWRU.Edu> aa824@cleveland.Freenet.Edu (Mark Ira Kaufman) writes:>>                                                                    >                      \n"
          ]
        },
        {
          "output_type": "stream",
          "name": "stderr",
          "text": [
            "The attention mask and the pad token id were not set. As a consequence, you may observe unexpected behavior. Please pass your input's `attention_mask` to obtain reliable results.\n",
            "Setting `pad_token_id` to `eos_token_id`:50256 for open-end generation.\n"
          ]
        },
        {
          "output_type": "stream",
          "name": "stdout",
          "text": [
            "  Batch 3,100  of  8,481. Loss: 0.9186879396438599.   Elapsed: 0:27:45.\n",
            "0: svRe: The 'pill' for Deer = No Hunting; TLDR: In article <1993Apr22.220252.5668@midway.uchicago.edu>, thf2@midway.uchicago.edu writes:> In article <1993Apr24.164542.18970@hpcvaac.cv.hp.com>, jstein@koufax.cv.hp.com (Jason I. M Stieb) writes:> >> In article <C5sou8.M3M@ulowell.ulowell.edu> wcsbeau@cs.ulowell.edu (OPIRG) writes:> >>\tAs an example, I understand that \"limited government regulation> >>\tand licensing\" can help the economy, but \"it is only> >>\tthat the strong government (or, you can become one) can be restored\"> >>\tin the face of \"unlawed\"\n"
          ]
        },
        {
          "output_type": "stream",
          "name": "stderr",
          "text": [
            "The attention mask and the pad token id were not set. As a consequence, you may observe unexpected behavior. Please pass your input's `attention_mask` to obtain reliable results.\n",
            "Setting `pad_token_id` to `eos_token_id`:50256 for open-end generation.\n"
          ]
        },
        {
          "output_type": "stream",
          "name": "stdout",
          "text": [
            "  Batch 3,200  of  8,481. Loss: 0.8238042593002319.   Elapsed: 0:28:39.\n",
            "0: arinRe: A KIND and LOVING God!!; TLDR: Kent Sandvik (sandvik@newton.apple.com) wrote:: : So, do any Kol Israelists really believe that the crusades were a: : success?: : There has been some dispute over this claim, but I have always been a: KIND and LOVING God!!: This is not a dispute that I will once again use my common sense and be: clear in this post.  What I really want to know is if: any relativists out there really believe that the jewish: religion provides for this great day of suffering?  They will tell you that: it is a false gods who think the way Jesus does.  The problem with all: the above post-pieces is that they all basically: believe the way Jesus does, without any shred of doubt about it, and: without even having a shred of doubt about the religion.  I will accept:\n"
          ]
        },
        {
          "output_type": "stream",
          "name": "stderr",
          "text": [
            "The attention mask and the pad token id were not set. As a consequence, you may observe unexpected behavior. Please pass your input's `attention_mask` to obtain reliable results.\n",
            "Setting `pad_token_id` to `eos_token_id`:50256 for open-end generation.\n"
          ]
        },
        {
          "output_type": "stream",
          "name": "stdout",
          "text": [
            "  Batch 3,300  of  8,481. Loss: 0.8493838310241699.   Elapsed: 0:29:33.\n",
            "0:  LiteRe: How to the disks copy protected.; TLDR: In article <C5Kv9r.AzJ@unix.portal.com> dabl2@shell.portal.com (Don A.B. Lindbergh) writes:>Someone stole my copy of the Norton Utilities program and I am not sure if>this is a good idea or not.>>Anyone have any ideas on what I can do to protect my copy of>Norton Utilities?                                                                                                   \n"
          ]
        },
        {
          "output_type": "stream",
          "name": "stderr",
          "text": [
            "The attention mask and the pad token id were not set. As a consequence, you may observe unexpected behavior. Please pass your input's `attention_mask` to obtain reliable results.\n",
            "Setting `pad_token_id` to `eos_token_id`:50256 for open-end generation.\n"
          ]
        },
        {
          "output_type": "stream",
          "name": "stdout",
          "text": [
            "  Batch 3,400  of  8,481. Loss: 0.844000518321991.   Elapsed: 0:30:26.\n",
            "0:  theyHelp needed; TLDR: \tHaving been thinking about buying a motorcycle, I've found that I'm not exactlysurprised at what people think I am going to get a R100GS.  The question is if that willbe good enough for me, and what would be a reasonable price?  I am leaning towardsthe RX-7, but what should I get?  Any comments?  Also, any R100GS bike with adjustable seatbelts?  Or is it something else I should know the difference?  Any experiences?-Tony------------------------------------------------------------------------------ Anthony S. Pelliccio                                                                             \n"
          ]
        },
        {
          "output_type": "stream",
          "name": "stderr",
          "text": [
            "The attention mask and the pad token id were not set. As a consequence, you may observe unexpected behavior. Please pass your input's `attention_mask` to obtain reliable results.\n",
            "Setting `pad_token_id` to `eos_token_id`:50256 for open-end generation.\n"
          ]
        },
        {
          "output_type": "stream",
          "name": "stdout",
          "text": [
            "  Batch 3,500  of  8,481. Loss: 0.6747623682022095.   Elapsed: 0:31:21.\n",
            "0:  influRe: Waco survivors 1715 19 April; TLDR: In article <C5sMIr.EwA@apollo.hp.com> goykhman@apollo.hp.com (Red Herring) writes:>So how about the fact that this survivor (Robert Weiss) was not killed by the>apshot but merely wound up dead?  Seems to me that the FBI was not trying>to get rid of the survivors and the media.                                                                                                    \n"
          ]
        },
        {
          "output_type": "stream",
          "name": "stderr",
          "text": [
            "The attention mask and the pad token id were not set. As a consequence, you may observe unexpected behavior. Please pass your input's `attention_mask` to obtain reliable results.\n",
            "Setting `pad_token_id` to `eos_token_id`:50256 for open-end generation.\n"
          ]
        },
        {
          "output_type": "stream",
          "name": "stdout",
          "text": [
            "  Batch 3,600  of  8,481. Loss: 0.36404141783714294.   Elapsed: 0:32:14.\n",
            "0: 237Re: How fast is a Centris 610?; TLDR: In article <1993Apr16.173823.15910@nwnexus.WA.COM> xlyx@hal9k.ann-arbor.mi.us (Dalex Vance) writes:>In article <C5D2C.Kvp@ux1.cso.uiuc.edu>, yoder@ux1.cso.uiuc.edu (Yoder Renner) writes:>> >> >How fast is a Centris 650?> >Answer: In normal use, the Centris 610 will be able to handle>>    32-bit information, but the 950 will have to wait for the>>    8-bit capability of the CPU when it is actually being designed.  For example,>>     the 610 can handle 16-bit Apple, but not be able to display>>    8\n"
          ]
        },
        {
          "output_type": "stream",
          "name": "stderr",
          "text": [
            "The attention mask and the pad token id were not set. As a consequence, you may observe unexpected behavior. Please pass your input's `attention_mask` to obtain reliable results.\n",
            "Setting `pad_token_id` to `eos_token_id`:50256 for open-end generation.\n"
          ]
        },
        {
          "output_type": "stream",
          "name": "stdout",
          "text": [
            "  Batch 3,700  of  8,481. Loss: 0.9529010057449341.   Elapsed: 0:33:08.\n",
            "0:  NetsRe: The Universe and Black Holes, was Re: 2000 years.....; TLDR: In article <C5JGC.B9w@cs.cmu.edu> cub@cs.cmu.edu (Theodore A. Cub) writes:   I'd like to add that the reason why there is so much \"discussion\" about the   black hole is that so many different mechanisms and interactions (tastepassuming any form of non-toxic force) exist   that explain so many different things. The best we can do to find out is    to look at the mirror at carefully selected points (phototomic    holes, for example), looking for an object with just the right    numbers, and looking for the mirror at that point (rotational) with a very significant    difference in angle from the nearest electron, known as the \"gravitation.\"   This is a difficult\n"
          ]
        },
        {
          "output_type": "stream",
          "name": "stderr",
          "text": [
            "The attention mask and the pad token id were not set. As a consequence, you may observe unexpected behavior. Please pass your input's `attention_mask` to obtain reliable results.\n",
            "Setting `pad_token_id` to `eos_token_id`:50256 for open-end generation.\n"
          ]
        },
        {
          "output_type": "stream",
          "name": "stdout",
          "text": [
            "  Batch 3,800  of  8,481. Loss: 0.6735263466835022.   Elapsed: 0:34:02.\n",
            "0:  estimatesRe: How much should I pay?; TLDR: In article <1993Apr20.191944.20865@rchland.ibm.com>, ricardo@rchland.vnet.ibm.com (Ricardo Hernandez Muchado) writes:|> \tI guess what I am asking is - does the bike properly handle|> \twhen cornering and how much would insurance be if it|> \twere given the option to ride with the bike instead of the dealer|> \tof taking the bike for the ride? What kind of cost would insurance be?|> |> Ricardo HernandezI'll put a reasonable profit on it since my wife and I are ridingtogether in friendship.  We had a yearor so ago with a guy at the shop that was not paid enough and we wereboth giddy, the bike is just over $20k.  Now it sounds like $20kworth\n"
          ]
        },
        {
          "output_type": "stream",
          "name": "stderr",
          "text": [
            "The attention mask and the pad token id were not set. As a consequence, you may observe unexpected behavior. Please pass your input's `attention_mask` to obtain reliable results.\n",
            "Setting `pad_token_id` to `eos_token_id`:50256 for open-end generation.\n"
          ]
        },
        {
          "output_type": "stream",
          "name": "stdout",
          "text": [
            "  Batch 3,900  of  8,481. Loss: 0.6675600409507751.   Elapsed: 0:34:56.\n",
            "0: httpsRe: text of White House announcement and Q&As on clipper chip encryption; TLDR: In article <strnlghtC5v6D.Hy4@netcom.com> strnlght@netcom.com (David Sternlight) writes:>In article <1993Apr20.173043.2331@afterlife.ncsc.mil> rlward1@afterlife.ncsc.mil (Robert Ward) writes:>>The big issue that they are trying to address is the clipper chip.  I>guess the answer is no, because they can't articulate a >clipper chip's internals better than the escrow/f scheme.>It seems to me that the chip is designed to be a privacy enhanced>device.  It does not have to be classified or>coverable at the same time, but it could very well be.  Furthermore,>it would not be secret or susceptible\n"
          ]
        },
        {
          "output_type": "stream",
          "name": "stderr",
          "text": [
            "The attention mask and the pad token id were not set. As a consequence, you may observe unexpected behavior. Please pass your input's `attention_mask` to obtain reliable results.\n",
            "Setting `pad_token_id` to `eos_token_id`:50256 for open-end generation.\n"
          ]
        },
        {
          "output_type": "stream",
          "name": "stdout",
          "text": [
            "  Batch 4,000  of  8,481. Loss: 0.5323981046676636.   Elapsed: 0:35:50.\n",
            "0:  altogetherRe: text of White House announcement and Q&As on clipper chip encryption; TLDR: In article <C5uEDt.A7u@dove.nist.gov> clipper@csrc.ncsl.nist.gov (Clipper Chip Announcement) writes:> I have read the language of the announcement, and it is clear that> the \"cryptographic keys\" will be requested by the Executive Branch, not> by the legislative branch.  This is not a blanket statement, though;> it implies that since encryption can only be requested by the> Judicial Branch, then it is not possible for the government to get> rid of encryption without the full support of the> Judicial Branch.  I suggest the Supreme Court, or, regionally, the>Courts of Appeal.  More specifically, the offices of their Clients, and> their Clients, to establish a system of requiring only the> Clipper-\n"
          ]
        },
        {
          "output_type": "stream",
          "name": "stderr",
          "text": [
            "The attention mask and the pad token id were not set. As a consequence, you may observe unexpected behavior. Please pass your input's `attention_mask` to obtain reliable results.\n",
            "Setting `pad_token_id` to `eos_token_id`:50256 for open-end generation.\n"
          ]
        },
        {
          "output_type": "stream",
          "name": "stdout",
          "text": [
            "  Batch 4,100  of  8,481. Loss: 1.3189868927001953.   Elapsed: 0:36:44.\n",
            "0: footballRe: Where did the hacker ethic go?; TLDR: In article <C5GEzD.J8o@dartvax.dartmouth.edu> artc@dartmouth.edu (Art Campbell) writes:>In article <C5K7zt.M71@ncratl.AtlantaGA.NCR.COM>, mwilson@ncratl.AtlantaGA.NCR.COM (Mark Wilson) writes...>|> In article <philC5H6C5.8By@netcom.com> phil@netcom.com (Phil Ronzone) writes:>|> >>>>I believe that there is a very specific art called a \"hacker\" that>>|> >>is an actuteur, who is attempting to gain a status as \"Hacker\" and thus \"must>>|> >>achieve\" a status as \"Hot Young\".  This is essentially\n"
          ]
        },
        {
          "output_type": "stream",
          "name": "stderr",
          "text": [
            "The attention mask and the pad token id were not set. As a consequence, you may observe unexpected behavior. Please pass your input's `attention_mask` to obtain reliable results.\n",
            "Setting `pad_token_id` to `eos_token_id`:50256 for open-end generation.\n"
          ]
        },
        {
          "output_type": "stream",
          "name": "stdout",
          "text": [
            "  Batch 4,200  of  8,481. Loss: 0.6612772345542908.   Elapsed: 0:37:37.\n",
            "0:  annoyingRe: ASTROS FOR REAL; TLDR: In article <1993Apr24.141250.2972@kuhub.cc.ukans.edu>, jkjec@kuhub.cc.ukans.edu (Shazad Barlas) writes:|> In article <1993Apr24.181547.2409@research.nj.nec.com> behanna@syl.nj.nec.com (Chris BeHanna) writes:|> |> >>After many metabolic tests, I am ready to say that I have no idea of|> >>any of the possible causes of my disease.  And I'm not sure that's really|> >>the case, since I'm not sure I can treat it.|> >>I'm also not sure that there is any evidence that my|> >>brain produces seizures, or that there is any evidence that sugar|> >>or other chemicals in\n"
          ]
        },
        {
          "output_type": "stream",
          "name": "stderr",
          "text": [
            "The attention mask and the pad token id were not set. As a consequence, you may observe unexpected behavior. Please pass your input's `attention_mask` to obtain reliable results.\n",
            "Setting `pad_token_id` to `eos_token_id`:50256 for open-end generation.\n"
          ]
        },
        {
          "output_type": "stream",
          "name": "stdout",
          "text": [
            "  Batch 4,300  of  8,481. Loss: 0.5809855461120605.   Elapsed: 0:38:31.\n",
            "0:  EducRe: Can't Breathe; TLDR: In article <21APR199308221565@regmad.cc.purdue.edu>, gt3521@regmad.cc.purdue.edu (Kenneth T. Gorman) writes:|>In article <1qmgjk$avt@binkley.cs.mcgill.ca> gel@binkley.cs.mcgill.ca (Gilles KHOUZAM) writes:|> >In article <Apr.19.05.38.27.1993.1872@geneva.rutgers.edu>, |> > lli+@andrew.cmu.edu (Lori Iannamico) writes:|> |> >> Do breathable liquids get you anywhere in the body?  For most people, |> >> breathable liquids don't even get you anywhere else, especially if you |\n"
          ]
        },
        {
          "output_type": "stream",
          "name": "stderr",
          "text": [
            "The attention mask and the pad token id were not set. As a consequence, you may observe unexpected behavior. Please pass your input's `attention_mask` to obtain reliable results.\n",
            "Setting `pad_token_id` to `eos_token_id`:50256 for open-end generation.\n"
          ]
        },
        {
          "output_type": "stream",
          "name": "stdout",
          "text": [
            "  Batch 4,400  of  8,481. Loss: 0.6937267184257507.   Elapsed: 0:39:25.\n",
            "0: aepernickRe: Where can I buy a BIOS?; TLDR: In article <Apr20.175.7354138@sol.ctr.columbia.edu> ebosco@emunix.columbia.edu (Eric Bosco) writes:>>I buy a BIOS from Blue Wave/QWK and I want to use it with my existing >386SX with a Future Domain + BIOS.  Blue Wave/QWK run on my 40 MHz 486 sx.  I've                                         ^^^^^^^^^^^^^^^^^^^^^^                                   ^^^^^^^^^^^^^^^^^^^^^^^^^^^^  \n"
          ]
        },
        {
          "output_type": "stream",
          "name": "stderr",
          "text": [
            "The attention mask and the pad token id were not set. As a consequence, you may observe unexpected behavior. Please pass your input's `attention_mask` to obtain reliable results.\n",
            "Setting `pad_token_id` to `eos_token_id`:50256 for open-end generation.\n"
          ]
        },
        {
          "output_type": "stream",
          "name": "stdout",
          "text": [
            "  Batch 4,500  of  8,481. Loss: 0.3769955039024353.   Elapsed: 0:40:19.\n",
            "0:  asylumRe: Yet more Rushdie [Re: ISLAMIC LAW]; TLDR: In article <115595@bu.edu>, jaeger@buphy.bu.edu (Gregg Jaeger) writes:|> |> In article <115495@bu.edu> jaeger@buphy.bu.edu (Gregg Jaeger) writes:|> |> >In article <115495@bu.edu>, jaeger@buphy.bu.edu (Gregg Jaeger) writes:|> >|> |> >In article <115495@bu.edu> jaeger@buphy.bu.edu (Gregg Jaeger) writes:|> >|> >|> >|> >|> >|> But when you claim that there are no \"shatim punishments\">|> >|> >|> >|> >|> >|>\n"
          ]
        },
        {
          "output_type": "stream",
          "name": "stderr",
          "text": [
            "The attention mask and the pad token id were not set. As a consequence, you may observe unexpected behavior. Please pass your input's `attention_mask` to obtain reliable results.\n",
            "Setting `pad_token_id` to `eos_token_id`:50256 for open-end generation.\n"
          ]
        },
        {
          "output_type": "stream",
          "name": "stdout",
          "text": [
            "  Batch 4,600  of  8,481. Loss: 0.4857413172721863.   Elapsed: 0:41:13.\n",
            "0: parseRe: What is \"ROM accelerated video\"?; TLDR: I think most of what you did was ask \"what is accelerated video\".Then you got a rather interesting question.  How does VESA work?  What I mean by accelerated is, I'm not sure if there is a term like 24-bit, or 16-bit.  So at least you should be able to write code to it.VESA is different than what ISA boards do, and so is standard video.  I can write a video cardthat does exactly what ISA requires, but I cannot write in SVGA modes other thannormal video.  It does require a different kind of programming depending on the software.I'm sorry for posting this question so that you might see my answer.  My guess is that you need different cards.  Thanks!-- -----------------------------------------------------------------------       /   /|  __    /\\    /|\\  \n"
          ]
        },
        {
          "output_type": "stream",
          "name": "stderr",
          "text": [
            "The attention mask and the pad token id were not set. As a consequence, you may observe unexpected behavior. Please pass your input's `attention_mask` to obtain reliable results.\n",
            "Setting `pad_token_id` to `eos_token_id`:50256 for open-end generation.\n"
          ]
        },
        {
          "output_type": "stream",
          "name": "stdout",
          "text": [
            "  Batch 4,700  of  8,481. Loss: 0.646206796169281.   Elapsed: 0:42:07.\n",
            "0: ortunRe: New Study Out On Gay Percentage; TLDR: In article <C5MMEK.F2I@murdoch.acc.Virginia.EDU> gsh7w@fermi.clas.Virginia.EDU (Greg Hennessy) writes:>>In article <15378@optilink.COM>, cramer@optilink.COM (Clayton Cramer) writes:>>>> In article <15378@optilink.COM>, cramer@optilink.COM (Clayton Cramer) writes:>>> #>>From the Santa Rosa (Cal.) Press-Democrat, April 15, 1993, p. B2:>>>> #>>#>>#>>#>>#>># #\tFrom the Santa Rosa (Cal.) Press-Democrat, April 15, 1993, p. B2:>>>> #># #   Male sex survey: Gay activity low>>>> #>># \n"
          ]
        },
        {
          "output_type": "stream",
          "name": "stderr",
          "text": [
            "The attention mask and the pad token id were not set. As a consequence, you may observe unexpected behavior. Please pass your input's `attention_mask` to obtain reliable results.\n",
            "Setting `pad_token_id` to `eos_token_id`:50256 for open-end generation.\n"
          ]
        },
        {
          "output_type": "stream",
          "name": "stdout",
          "text": [
            "  Batch 4,800  of  8,481. Loss: 0.431850790977478.   Elapsed: 0:43:01.\n",
            "0:  JimRe: Israeli Terrorism; TLDR: In article <1rd7eo$1a4@usenet.INS.CWRU.Edu>, cy779@cleveland.Freenet.Edu (Anas Omran) writes:>                                                                                                                                                \n"
          ]
        },
        {
          "output_type": "stream",
          "name": "stderr",
          "text": [
            "The attention mask and the pad token id were not set. As a consequence, you may observe unexpected behavior. Please pass your input's `attention_mask` to obtain reliable results.\n",
            "Setting `pad_token_id` to `eos_token_id`:50256 for open-end generation.\n"
          ]
        },
        {
          "output_type": "stream",
          "name": "stdout",
          "text": [
            "  Batch 4,900  of  8,481. Loss: 1.1012579202651978.   Elapsed: 0:43:55.\n",
            "0:  SLRe: After 2000 years, can we say that Christian Morality is; TLDR: In article <1r2jl5$9vo@horus.ap.mchp.sni.de> frank@D012S658.uucp (Frank O'Dwyer) writes:>In article <1r3j0b$a15@fido.asd.sgi.com>, livesey@solntze.wpd.sgi.com (Jon Livesey) writes:>> According to the accepted Bible, there is no such thing as>> objective reality.  According to the Bible (and I do agree with it), there>> is no such thing as subjective reality.>So, you say there is no such thing as objective reality. How then do you>follow the reasoning that you have here, namely that the \"objective\" world>>> is a virtual reality simulator. Does this mean that you don't\n"
          ]
        },
        {
          "output_type": "stream",
          "name": "stderr",
          "text": [
            "The attention mask and the pad token id were not set. As a consequence, you may observe unexpected behavior. Please pass your input's `attention_mask` to obtain reliable results.\n",
            "Setting `pad_token_id` to `eos_token_id`:50256 for open-end generation.\n"
          ]
        },
        {
          "output_type": "stream",
          "name": "stdout",
          "text": [
            "  Batch 5,000  of  8,481. Loss: 0.7312614321708679.   Elapsed: 0:44:49.\n",
            "0: hRe: Best Second Baseman?; TLDR: scottj@scott.skidmore.edu (Scott Eric Young) writes:>In article <5APR199316423632@venus.tamu.edu> gmw0622@venus.tamu.edu (Mr. Grinch) writes:>>>In article <1993Apr23.234048.147196@alleg.edu> luriem@alleg.edu writes:>>>>(Michael Lurie) writes:>>>>Another pair of interesting posts.>>>>>1)  If Frank Viola can continue his med career as the head coach and>>2)  How does Valentine think he can manage an extra 3-HR and save the>>>catchers' lead with an RBI single?>>>>No, he doesn't.  He gets RBI calls, but he doesn't pitch.  Therefore>>Viola has to win the job.>>>>\tIt\n"
          ]
        },
        {
          "output_type": "stream",
          "name": "stderr",
          "text": [
            "The attention mask and the pad token id were not set. As a consequence, you may observe unexpected behavior. Please pass your input's `attention_mask` to obtain reliable results.\n",
            "Setting `pad_token_id` to `eos_token_id`:50256 for open-end generation.\n"
          ]
        },
        {
          "output_type": "stream",
          "name": "stdout",
          "text": [
            "  Batch 5,100  of  8,481. Loss: 0.5376087427139282.   Elapsed: 0:45:43.\n",
            "0:  cortRe: IDE vs SCSI; TLDR: In article <C5t38y.4I8@news.udel.edu>, bhjelle@gudec.udel.edu (Brian Jelle) writes:> SCSI is mainly an evaluation of the interface between> SCSI and IDE. The main advantage is that it can be used in one> system, and may be used in other systems.Since the Quadra is based on SCSI, and the S3 is based on S3, it is not so clear that SCSI is primarily an evaluation of theinterface between SCSI and IDE.  It would be nice if the Macintoshes were independent, but alas we can't use that as the only decision making pro-cessor on the Mac.Since SCSI is mainly used in single hard disks, the decision making is making SCSI more expensive, which is a moot point.Since SCSI is mainly used in file\n"
          ]
        },
        {
          "output_type": "stream",
          "name": "stderr",
          "text": [
            "The attention mask and the pad token id were not set. As a consequence, you may observe unexpected behavior. Please pass your input's `attention_mask` to obtain reliable results.\n",
            "Setting `pad_token_id` to `eos_token_id`:50256 for open-end generation.\n"
          ]
        },
        {
          "output_type": "stream",
          "name": "stdout",
          "text": [
            "  Batch 5,200  of  8,481. Loss: 1.4666574001312256.   Elapsed: 0:46:36.\n",
            "0: montRe: The arrogance of Christians; TLDR: > > When should Christians expect others to follow them?  > > Can you tell me where you are standing?  > > I don't follow any authority.  I would ask you to, if you insist on> accepting my authority.  I'll wait to see when you've >                                                ^^^^^^^^^^^ ^^^^^^^^^^^^^^^^^^> > Christians are clearly not taking the Bible seriously at all.  This> is a common misconception.  Christians believe that their knowledge of> the Bible is absolute, without any back down.  This> is a logically bankrupt approach to a belief that all truth is> absolute.  You think we have to content ourselves to believe> blindly?  You have\n"
          ]
        },
        {
          "output_type": "stream",
          "name": "stderr",
          "text": [
            "The attention mask and the pad token id were not set. As a consequence, you may observe unexpected behavior. Please pass your input's `attention_mask` to obtain reliable results.\n",
            "Setting `pad_token_id` to `eos_token_id`:50256 for open-end generation.\n"
          ]
        },
        {
          "output_type": "stream",
          "name": "stdout",
          "text": [
            "  Batch 5,300  of  8,481. Loss: 1.306584119796753.   Elapsed: 0:47:30.\n",
            "0:  dismissalRe: text of White House announcement and Q&As on clipper chip encryption; TLDR: In article <C5nEoG.H3w@tanda.isis.org> Brad Hernlem writes:>>In article <strnlghtC5wHo4.1FK@netcom.com> strnlght@netcom.com (David Sternlight) writes:>>>Though I share many of the concerns expressed by some on the net, the>>>>Administration is not yet nailing even the \"possibility of error\".>>>>It's rather simple. If the gov establishes a cryptography standard that>>>is more robust than the current DES, it will be possible to have a>>>>decryption key that is easily breakable by the gov, and it can be>>>exported anywhere in the world.>>>>Thus, while I share many of the concerns expressed by some, I find it>>quite difficult to see how a\n"
          ]
        },
        {
          "output_type": "stream",
          "name": "stderr",
          "text": [
            "The attention mask and the pad token id were not set. As a consequence, you may observe unexpected behavior. Please pass your input's `attention_mask` to obtain reliable results.\n",
            "Setting `pad_token_id` to `eos_token_id`:50256 for open-end generation.\n"
          ]
        },
        {
          "output_type": "stream",
          "name": "stdout",
          "text": [
            "  Batch 5,400  of  8,481. Loss: 0.34945014119148254.   Elapsed: 0:48:24.\n",
            "0:  THCRe: Help with changing Startup logo; TLDR: In article <C6vx9q.Dz1@encore.com> ryan_cousineau@encore.com (Ryan Cousineau) writes:>We have a bunch of questions about changing the Startup logo for our>new vc. Is it possible to do this without the need to use a>new vc. (I know I can do it all the time, but...)>>Please mail me your setup, as I don't read this group very often.>Thanks>>Ryan Cousineau>Do you know how to put this in the setup files?First off, I'm not posting any information here, I'm not looking forany commercial or \"residental\" setup files.  I do know one FAQ file I canget in that has the ability to change the Startup logo for all of my vehicles.  Itwould be also nice if someone would be\n"
          ]
        },
        {
          "output_type": "stream",
          "name": "stderr",
          "text": [
            "The attention mask and the pad token id were not set. As a consequence, you may observe unexpected behavior. Please pass your input's `attention_mask` to obtain reliable results.\n",
            "Setting `pad_token_id` to `eos_token_id`:50256 for open-end generation.\n"
          ]
        },
        {
          "output_type": "stream",
          "name": "stdout",
          "text": [
            "  Batch 5,500  of  8,481. Loss: 0.8347814679145813.   Elapsed: 0:49:18.\n",
            "0:  sidewRe: Need help with WordPerfect 5.1; TLDR: In article <C5C6rL.3xF@apollo.hp.com> nelson@apollo.hp.com (Peter Nelson) writes:>>I have been using WordPerfect 5.1 for about a month now and I cannot>find it on any FTP host.  Can anyone tell me if this is a problem?>If it's not a problem, please let me know - I'm looking for a software solution>to this problem.  I found out that WP5.1 didn't give me this>option since it doesn't seem to give me thisoption.  Help!This is the first step.  You need to install a couple of fonts thatwill be available in the soonest release of WP.  Then you should be ableto include a font file that allows you to useit with an app and add fonts.  Then you should be able\n"
          ]
        },
        {
          "output_type": "stream",
          "name": "stderr",
          "text": [
            "The attention mask and the pad token id were not set. As a consequence, you may observe unexpected behavior. Please pass your input's `attention_mask` to obtain reliable results.\n",
            "Setting `pad_token_id` to `eos_token_id`:50256 for open-end generation.\n"
          ]
        },
        {
          "output_type": "stream",
          "name": "stdout",
          "text": [
            "  Batch 5,600  of  8,481. Loss: 1.281825304031372.   Elapsed: 0:50:12.\n",
            "0:  BEHow can I use the mouse in NON-Windows applications under MS-WINDOWS?; TLDR: I am using a 486 DX33 computer with Microsoft's mouse driver  version 1.2 for windows 3.1. I have just replaced the mouse driver,  and am using mouse.com 2.0. (Version 3.2   of Windows.) I had installed Stacker v 3.2 on my local  machine, and the mouse worked fine when plugged in to my system  8/10. It didn't matter that I had to re-install  everything from scratch; it just stuck. Is there a way I could tell which co-processor to  plug into which driver? I tried using mouse.com 4.0, but it would not work at  the MOUSE configuration screen. Is there any way I can tell which co-processor is  what in.Non-Windows?The only way to tell is to run windows commands in windows\n"
          ]
        },
        {
          "output_type": "stream",
          "name": "stderr",
          "text": [
            "The attention mask and the pad token id were not set. As a consequence, you may observe unexpected behavior. Please pass your input's `attention_mask` to obtain reliable results.\n",
            "Setting `pad_token_id` to `eos_token_id`:50256 for open-end generation.\n"
          ]
        },
        {
          "output_type": "stream",
          "name": "stdout",
          "text": [
            "  Batch 5,700  of  8,481. Loss: 0.5374297499656677.   Elapsed: 0:51:06.\n",
            "0: لRe: Space Marketing would be wonderfull.; TLDR: In article <C63Dt8.B9t@ucdavis.edu> ez012344@hamlet.ucdavis.edu (Dan Green) writes:>In article <C65zt4.Kzw@news.Hawaii.Edu> lfoard@hopper.af.Hawaii.Edu (Lawrence C. Foard) writes:>>  I'm curious to know what an effective \"advertising\">>  program would be if such ads were not being >>  nited.  >>Dan>Why not? If you want to pick your favorite, pay attention to a few people>who are making suggestions for a good product, and get them while you may>have something to do with it.  The more likely future advertising revenue>is generated, the more likely future advertising sales will be>lost.>--  I believe the\n"
          ]
        },
        {
          "output_type": "stream",
          "name": "stderr",
          "text": [
            "The attention mask and the pad token id were not set. As a consequence, you may observe unexpected behavior. Please pass your input's `attention_mask` to obtain reliable results.\n",
            "Setting `pad_token_id` to `eos_token_id`:50256 for open-end generation.\n"
          ]
        },
        {
          "output_type": "stream",
          "name": "stdout",
          "text": [
            "  Batch 5,800  of  8,481. Loss: 1.6932919025421143.   Elapsed: 0:51:59.\n",
            "0:  FruitRe: Need help in finding a *shelley piece of rope; TLDR: In article <1993Apr17.151834.15882@dsd.es.com> f_langley@pebbles.es.com (Frank Ball) writes:>I'm looking for any and all information concerning the size of a> rope I've been looking for.  I'm fairly sure I have some.  Thanks!>                                                                                                           \n"
          ]
        },
        {
          "output_type": "stream",
          "name": "stderr",
          "text": [
            "The attention mask and the pad token id were not set. As a consequence, you may observe unexpected behavior. Please pass your input's `attention_mask` to obtain reliable results.\n",
            "Setting `pad_token_id` to `eos_token_id`:50256 for open-end generation.\n"
          ]
        },
        {
          "output_type": "stream",
          "name": "stdout",
          "text": [
            "  Batch 5,900  of  8,481. Loss: 1.116099238395691.   Elapsed: 0:52:53.\n",
            "0:  silkRe: Who's next?  Mormons and Jews?; TLDR: David R. Campbell (dcc@athena.mit.edu) wrote:> In article <1993Apr2.202907.8175@ra.royalroads.ca>, mlee@post.RoyalRoads.ca (Malcolm Lee) wrote:> > First, I want to start right out and say that I'm a Christian.  It's not about> >believing in the divinity but of using Christ's example as an example of how we might> >work out the differences between the different denominations.  I don't see why> >people shouldn't be hung up on the \"Davidian\" Christian faith.  It's about> >how people can be Christian.  > > Second, I would like to start by identifying the \"Davidian\" faith> >as something other than the Christian faith.  People who are not \"Davidian\n"
          ]
        },
        {
          "output_type": "stream",
          "name": "stderr",
          "text": [
            "The attention mask and the pad token id were not set. As a consequence, you may observe unexpected behavior. Please pass your input's `attention_mask` to obtain reliable results.\n",
            "Setting `pad_token_id` to `eos_token_id`:50256 for open-end generation.\n"
          ]
        },
        {
          "output_type": "stream",
          "name": "stdout",
          "text": [
            "  Batch 6,000  of  8,481. Loss: 1.879227638244629.   Elapsed: 0:53:47.\n",
            "0:  rapperRe: Why not give $1 billion to first year-long moon residents?; TLDR: In article <1qg98sINNsg6@senator-bedfellow.MIT.EDU> kjenks@mtu.edu (Kenneth Jenks) writes:>In article <1qkkodINNsr6@senator-bedfellow.MIT.EDU>, jfc@athena.mit.edu (John F Carr) writes:>|>>|>>> Announce that a reward of $1 billion would go to the first corporation>>|>>> who successfully keeps at least 1 person alive on the moon for a year.>>>>There is a $50 billion reward for 1 person abel. If you>>find 1 person alive for a year, you reward them with at least>>a goal of $1 billion.>You'd get one person there for $5 billion, divided between the US>and other locations\n"
          ]
        },
        {
          "output_type": "stream",
          "name": "stderr",
          "text": [
            "The attention mask and the pad token id were not set. As a consequence, you may observe unexpected behavior. Please pass your input's `attention_mask` to obtain reliable results.\n",
            "Setting `pad_token_id` to `eos_token_id`:50256 for open-end generation.\n"
          ]
        },
        {
          "output_type": "stream",
          "name": "stdout",
          "text": [
            "  Batch 6,100  of  8,481. Loss: 0.953724205493927.   Elapsed: 0:54:41.\n",
            "0:  kilometersRe: Need Info on Epilepsy.; TLDR: In article <1qlg9b$4l4@usenet.INS.CWRU.Edu> wb8foz@po.CWRU.Edu (Duane P Mantick) writes:>\tI was wondering if anyone knows about Epilepsy and what>convictions it might be that there is some sort of chemical orenvironmental prouter in the body that>can cause it.  I don't have a real database of all the chemicals in>the body, but I would like some help.>This is probably sci.med, so if anyone can E-mail me a copy of your>best, i'll send you some.Good Luck,Paul Badertscherptscher@cis.ohio-state.edu\n"
          ]
        },
        {
          "output_type": "stream",
          "name": "stderr",
          "text": [
            "The attention mask and the pad token id were not set. As a consequence, you may observe unexpected behavior. Please pass your input's `attention_mask` to obtain reliable results.\n",
            "Setting `pad_token_id` to `eos_token_id`:50256 for open-end generation.\n"
          ]
        },
        {
          "output_type": "stream",
          "name": "stdout",
          "text": [
            "  Batch 6,200  of  8,481. Loss: 0.6575058698654175.   Elapsed: 0:55:35.\n",
            "0: 人Re: Permanaent Swap File with DOS 6.0 dbldisk; TLDR: From article <1qflg$r0d@usenet.INS.CWRU.Edu>, by Brad Thone:> > Thanks,> Brad> > I have a 486/33 (ISA) with about 8 meg of memory on my 386sx.  All> programs that can coexist with it work with it without problems.  I have> several DOS apps that coexist with it, but when I boot from a floppy> system, they coexist with it, although they are not compatible.  My solution is to> swap files between windows and my hard drive.  Works with it fine.> > The problem is, I cannot get DOS apps to coexist with my hard drive,> unless I run some special software (Finder) that I don't use.  The only> I know about is \"ldisk\n"
          ]
        },
        {
          "output_type": "stream",
          "name": "stderr",
          "text": [
            "The attention mask and the pad token id were not set. As a consequence, you may observe unexpected behavior. Please pass your input's `attention_mask` to obtain reliable results.\n",
            "Setting `pad_token_id` to `eos_token_id`:50256 for open-end generation.\n"
          ]
        },
        {
          "output_type": "stream",
          "name": "stdout",
          "text": [
            "  Batch 6,300  of  8,481. Loss: 0.400694876909256.   Elapsed: 0:56:29.\n",
            "0:  SaskRe: Gun Lovers (was Re: My Gun is like my American Express Card); TLDR: In article <1344@news.duke.edu>, infante@acpub.duke.edu (Andrew  Infante) writes:> In article <93104.172431U28037@uicvm.uic.edu> Jason Kratz>[...]> >In article <U28037@uicvm.uic.edu> Jason Kratz>[...]> >[...]>>What is the difference between holding a gun concealed and not> >carrying a concealed weapon?   concealed carry is a misdemeanor and carries a concealed> >weapon concealed in Colorado.> >    The difference is that a concealed weapon is a misdemeanor, a> >disregarding the rights of the individual, and also a crimes> >of the state.    What is the difference, anyway?Yes, the difference\n"
          ]
        },
        {
          "output_type": "stream",
          "name": "stderr",
          "text": [
            "The attention mask and the pad token id were not set. As a consequence, you may observe unexpected behavior. Please pass your input's `attention_mask` to obtain reliable results.\n",
            "Setting `pad_token_id` to `eos_token_id`:50256 for open-end generation.\n"
          ]
        },
        {
          "output_type": "stream",
          "name": "stdout",
          "text": [
            "  Batch 6,400  of  8,481. Loss: 0.19614194333553314.   Elapsed: 0:57:22.\n",
            "0: ObamaRe: After 2000 years, can we say that Christian Morality is; TLDR: In <844@vice.ICO.TEK.COM> bobbe@vice.ICO.TEK.COM (Robert Beauchaine) writes:>In article <1r6h8o$9lp@horus.ap.mchp.sni.de> frank@D012S658.uucp (Frank O'Dwyer) writes:>#And, science has its basis in values, not the other way round.  In this>#context, science has its basis in values, not the other way round.>#O.K., so you mean you're not saying that science has its basis in observable fact?>>I am, quite, positively pro-science.  Which means that>science has its basis in observable fact?  You don't deny that there is, and neither can>you say that they\n"
          ]
        },
        {
          "output_type": "stream",
          "name": "stderr",
          "text": [
            "The attention mask and the pad token id were not set. As a consequence, you may observe unexpected behavior. Please pass your input's `attention_mask` to obtain reliable results.\n",
            "Setting `pad_token_id` to `eos_token_id`:50256 for open-end generation.\n"
          ]
        },
        {
          "output_type": "stream",
          "name": "stdout",
          "text": [
            "  Batch 6,500  of  8,481. Loss: 1.197945237159729.   Elapsed: 0:58:17.\n",
            "0:  HillaryRe: New planet/Kuiper object found?; TLDR: In article <1993Apr27.001707.13015@unocal.com>, stgprao@st.unocal.COM (Richard Ottolini) writes:> In article <1r6ntl$3tu@access.digex.net>, prb@access.digex.net (Pat) writes:> > > > > > In article <1r6ntl$3tu@access.digex.net> prb@access.digex.com (Pat) writes:> > >> > > > Besides the _bright_sun, as has been pointed out, there isn't even a single> > > object discovered that can't be easily observed by the Huiper Belt> > > > observers.    Besides, even if they did, how many years would they have to> > > have been looking?  \n"
          ]
        },
        {
          "output_type": "stream",
          "name": "stderr",
          "text": [
            "The attention mask and the pad token id were not set. As a consequence, you may observe unexpected behavior. Please pass your input's `attention_mask` to obtain reliable results.\n",
            "Setting `pad_token_id` to `eos_token_id`:50256 for open-end generation.\n"
          ]
        },
        {
          "output_type": "stream",
          "name": "stdout",
          "text": [
            "  Batch 6,600  of  8,481. Loss: 1.2890939712524414.   Elapsed: 0:59:11.\n",
            "0: istersRe: Gun Control (was Re: We're Mad as Hell at the TV News); TLDR: In article <C4zC9r.GK7@magpie.linknet.com> manes@magpie.linknet.com (Steve Manes) writes:>>\tA \"humane\" person should not have to be a \"humane\" one.  It>>wouldn't be a \"humane\" one either.  A person who>>is willing to fight and is willing to die should probably do so.  \"A very good\">>mother should do the same, but a \"violent\" one shouldn't be forced to bring a gun>>to the door of a bank or other \"safe\" sort.  \"A very good\" mother will do >>for her son when the violent attacks finally end.>>>>\tA \"violent\" person should be treated as a \"fudge\">>step, and the victim less.  I don\n"
          ]
        },
        {
          "output_type": "stream",
          "name": "stderr",
          "text": [
            "The attention mask and the pad token id were not set. As a consequence, you may observe unexpected behavior. Please pass your input's `attention_mask` to obtain reliable results.\n",
            "Setting `pad_token_id` to `eos_token_id`:50256 for open-end generation.\n"
          ]
        },
        {
          "output_type": "stream",
          "name": "stdout",
          "text": [
            "  Batch 6,700  of  8,481. Loss: 1.0361050367355347.   Elapsed: 1:00:05.\n",
            "0:  applicableRe: Homosexuality issues in Christianity; TLDR: In article <Apr.15.00.08.35.1993.14381@athos.rutgers.edu> mcovingt@aisun3.ai.uga.edu (Michael Covington) writes:>In article <Apr.16.01.55.32.1993.14381@athos.rutgers.edu> mcovingt@aisun3.ai.uga.edu (Michael Covington) writes:>>I would be interested in any comments on the above verses.>Which reminds me of St. Paul's use of the word \"homosexual\" in>Matthew 5:14-16. Isn't it St. Paul's responsibility for our behavior?>I am interested in the circular reasoning of St. Paul, in regards>to orientation and perspective.  As I have always found it, homosexual>behavior can be seen as being similar or\n"
          ]
        },
        {
          "output_type": "stream",
          "name": "stderr",
          "text": [
            "The attention mask and the pad token id were not set. As a consequence, you may observe unexpected behavior. Please pass your input's `attention_mask` to obtain reliable results.\n",
            "Setting `pad_token_id` to `eos_token_id`:50256 for open-end generation.\n"
          ]
        },
        {
          "output_type": "stream",
          "name": "stdout",
          "text": [
            "  Batch 6,800  of  8,481. Loss: 2.064479351043701.   Elapsed: 1:00:59.\n",
            "0: ��Need help finding printer drivers!!!; TLDR: \tI need a printer driver for WordPerfect 5.1. It is very \tgood, I hope to use this driver when my mac \tsystems run. I know there will be newer drivers for my \tprinter card in future.\t\tThanx in advance,\t\t                                                                                                                             \n"
          ]
        },
        {
          "output_type": "stream",
          "name": "stderr",
          "text": [
            "The attention mask and the pad token id were not set. As a consequence, you may observe unexpected behavior. Please pass your input's `attention_mask` to obtain reliable results.\n",
            "Setting `pad_token_id` to `eos_token_id`:50256 for open-end generation.\n"
          ]
        },
        {
          "output_type": "stream",
          "name": "stdout",
          "text": [
            "  Batch 6,900  of  8,481. Loss: 0.5631213188171387.   Elapsed: 1:01:53.\n",
            "0:  problemRe: How universal are phones these days?; TLDR: In article <1993Apr26.204517.14494@mnemosyne.cs.du.edu> jxh@nyx.cs.du.edu (jyang yeh) writes:>    > I am in the USA and I would like to get a (10 to 16 years)>     > phone.  I don't know if it is compatible, but if it's not, can you tell us>     > where to get one and get a (dollars) one?>       > Any help would be greatly appreciated>      > jxh@mnemosyne.cs.du.edu>            jxh@mnemosyne.cs.du.edu>The problem is, I'm pretty new\n"
          ]
        },
        {
          "output_type": "stream",
          "name": "stderr",
          "text": [
            "The attention mask and the pad token id were not set. As a consequence, you may observe unexpected behavior. Please pass your input's `attention_mask` to obtain reliable results.\n",
            "Setting `pad_token_id` to `eos_token_id`:50256 for open-end generation.\n"
          ]
        },
        {
          "output_type": "stream",
          "name": "stdout",
          "text": [
            "  Batch 7,000  of  8,481. Loss: 0.4869358539581299.   Elapsed: 1:02:46.\n",
            "0:  certaintyRe: New planet/Kuiper object found?; TLDR: In article <STEINLY.93Apr20145436@topaz.ucsc.edu> steinly@topaz.ucsc.edu writes:|In article <1r1p0n$o1f@news.uiowa.edu> bill@uiowa.edu (Bill Steinly) writes:|>|>   The _bright_ object is Charley, M/V, and was found by an |>|>    observatory at Hawaii.  The _bright_ object was found in|>|>    the Pacific Oceanographic Institution (or PEPI) in Hawaii.  Does anyone know what|>|>    is next, or what is the distance between the two, that is, what|>|>    does it have to do with the object?    This\n"
          ]
        },
        {
          "output_type": "stream",
          "name": "stderr",
          "text": [
            "The attention mask and the pad token id were not set. As a consequence, you may observe unexpected behavior. Please pass your input's `attention_mask` to obtain reliable results.\n",
            "Setting `pad_token_id` to `eos_token_id`:50256 for open-end generation.\n"
          ]
        },
        {
          "output_type": "stream",
          "name": "stdout",
          "text": [
            "  Batch 7,100  of  8,481. Loss: 0.6266219615936279.   Elapsed: 1:03:40.\n",
            "0:  smokersRE: Challenge to Microsoft supporters.; TLDR: In article <1993May1.214928.23008@msdos.msdos.com> msdos001@msdos.msdos.com (Mark A. Davis) writes:>I'd like to add that I feel that there is no reason why MS>shouldn't be able to deliver on the same level of service as MSDOS.  Is this >unreasonable?  In fact, there are a number of reasons why MSW3.1 should be>laid against it:  (a) they are popular, (b) they have more overhead, and (c) MSW3.1 >would be much more cost effective.  (b) MSW3.1 provides much better file >management, (c) they have more free software requirements, etc, etc...>But what about your impressions of MSW3.1?  Are the advantages of>MS\n"
          ]
        },
        {
          "output_type": "stream",
          "name": "stderr",
          "text": [
            "The attention mask and the pad token id were not set. As a consequence, you may observe unexpected behavior. Please pass your input's `attention_mask` to obtain reliable results.\n",
            "Setting `pad_token_id` to `eos_token_id`:50256 for open-end generation.\n"
          ]
        },
        {
          "output_type": "stream",
          "name": "stdout",
          "text": [
            "  Batch 7,200  of  8,481. Loss: 0.18942609429359436.   Elapsed: 1:04:34.\n",
            "0:  instructedRe: BATF/FBI revenge; TLDR: In article <C5trEq.Jqs@news.udel.edu> roby@chopin.udel.edu (Scott W Roby)  > > > >\tWell, I didn't hear him call it that, but I don't think that the FBI/BATF has an> > >independent, peace loving operation going on in this country....> > It sure isn't like the way Jim Jones was being treated at the> > gate.> > I find it tremendously chilling that so many people seem willing to accept> that BATF/FBI has taken the cowardly way in this> > story, let alone trust in the very government they claim to be.> > It is also amazing that so many people seem willing to accept> that the BATF has absolutely nothing to do with the> > events.> > It's curious how willing they are to let so many go\n"
          ]
        },
        {
          "output_type": "stream",
          "name": "stderr",
          "text": [
            "The attention mask and the pad token id were not set. As a consequence, you may observe unexpected behavior. Please pass your input's `attention_mask` to obtain reliable results.\n",
            "Setting `pad_token_id` to `eos_token_id`:50256 for open-end generation.\n"
          ]
        },
        {
          "output_type": "stream",
          "name": "stdout",
          "text": [
            "  Batch 7,300  of  8,481. Loss: 0.4023035764694214.   Elapsed: 1:05:28.\n",
            "0:  experienceRe: PDS vs. Nubus (was Re: LC III NuBus Capable?); TLDR: In article <1qkkq1INNcva@rave.larc.nasa.gov>, dkarr@larc.nasa.gov (David Karr) writes:|> The original article complained about incompatibilities with various drivers.|> I'll type in a separate article to this effect which says that yes indeed there is a dupe|> of these drivers.|> dkarr@larc.nasa.gov (David Karr) writes:|> >The reason I said this was because I received a PDS card and had been|> >very happy with it.|> |> What other reasons exist to tell when you need it?|> |> Some of you might say that the PDS card isn't working because of|> the software that's being distributed by third parties\n"
          ]
        },
        {
          "output_type": "stream",
          "name": "stderr",
          "text": [
            "The attention mask and the pad token id were not set. As a consequence, you may observe unexpected behavior. Please pass your input's `attention_mask` to obtain reliable results.\n",
            "Setting `pad_token_id` to `eos_token_id`:50256 for open-end generation.\n"
          ]
        },
        {
          "output_type": "stream",
          "name": "stdout",
          "text": [
            "  Batch 7,400  of  8,481. Loss: 1.6079275608062744.   Elapsed: 1:06:22.\n",
            "0: DomRe: My Gun is like my American Express Card; TLDR: \t<1qhr73$jld@transfer.stratus.com> <1993Apr18.182935.2323@gnv.ifas.ufl.edu>In article <1993Apr18.182935.23@gnv.ifas.ufl.edu> jrm@gnv.ifas.ufl.edu writes:    As a matter of interest does anyone have a cite where    gun shows up in the crime report of the recent    assault on the city of St. Louis?                                                                  \n"
          ]
        },
        {
          "output_type": "stream",
          "name": "stderr",
          "text": [
            "The attention mask and the pad token id were not set. As a consequence, you may observe unexpected behavior. Please pass your input's `attention_mask` to obtain reliable results.\n",
            "Setting `pad_token_id` to `eos_token_id`:50256 for open-end generation.\n"
          ]
        },
        {
          "output_type": "stream",
          "name": "stdout",
          "text": [
            "  Batch 7,500  of  8,481. Loss: 0.6178269982337952.   Elapsed: 1:07:16.\n",
            "0: uzRe: \"GLOBE\", a 3D game; TLDR: In article <1r1vqINN8e9@no-names.nerdc.ufl.edu>, lioness@maple.circa.ufl.edu (Loren Myerson) writes:> > > > I was doing research on \"graphics\" and \"graphics\" and heard an interesting> > story.  Is there such a thing as a 3D game?  If not, where?> > Thanks!> >                                                                                       \n"
          ]
        },
        {
          "output_type": "stream",
          "name": "stderr",
          "text": [
            "The attention mask and the pad token id were not set. As a consequence, you may observe unexpected behavior. Please pass your input's `attention_mask` to obtain reliable results.\n",
            "Setting `pad_token_id` to `eos_token_id`:50256 for open-end generation.\n"
          ]
        },
        {
          "output_type": "stream",
          "name": "stdout",
          "text": [
            "  Batch 7,600  of  8,481. Loss: 0.583371639251709.   Elapsed: 1:08:10.\n",
            "0:  ResRe: Yet more Rushdie [Re: ISLAMIC LAW]; TLDR: In article <1qkj7tINNc61@fido.asd.sgi.com> livesey@solntze.wpd.sgi.com (Jon Livesey) writes:>>I hope an Islamic Bank is something other than BCCI, which>ripped off so many small depositors among the Muslim>community in the Uk and elsewhere.Would you please define this \"Islamic Banks\"?jon.\n"
          ]
        },
        {
          "output_type": "stream",
          "name": "stderr",
          "text": [
            "The attention mask and the pad token id were not set. As a consequence, you may observe unexpected behavior. Please pass your input's `attention_mask` to obtain reliable results.\n",
            "Setting `pad_token_id` to `eos_token_id`:50256 for open-end generation.\n"
          ]
        },
        {
          "output_type": "stream",
          "name": "stdout",
          "text": [
            "  Batch 7,700  of  8,481. Loss: 0.9597411751747131.   Elapsed: 1:09:03.\n",
            "0:  policeRe: Is it good that Jesus died?; TLDR: brian@lpl.arizona.edu (Brian Ceccarelli 602/621-9615) writes:>I hate to encourage the sin, but the fact is that I was responding to>the nagging question about Jesus' morality that I see today.  I would like>to see some reasonable discussion of this issue.Brian Kendig proves his interesting abilities here.  The point is his apparent lack of objectivity and lack of concern for his motives.  I'm sure all of this is on the strength of his character and his resolve.  He was never naive nor naive nor was he always hidden behind his false pride and temptation.  In fact, some of his most impressive strengths were his acceptance of the Good News.  He was also very articulate, concise and concise.  This is his final major themes:  \"I am your God.  I am you;\n"
          ]
        },
        {
          "output_type": "stream",
          "name": "stderr",
          "text": [
            "The attention mask and the pad token id were not set. As a consequence, you may observe unexpected behavior. Please pass your input's `attention_mask` to obtain reliable results.\n",
            "Setting `pad_token_id` to `eos_token_id`:50256 for open-end generation.\n"
          ]
        },
        {
          "output_type": "stream",
          "name": "stdout",
          "text": [
            "  Batch 7,800  of  8,481. Loss: 0.5801400542259216.   Elapsed: 1:09:57.\n",
            "0:  lectureRe: H.R. 711 : Anybody seen this?; TLDR: --In article <wiesel-150493132018@wiesel-17.eeap.cwru.edu> wiesel@eeap.cwru.edu (Williamiesel) writes:>In article <1993May16.042759.12187@linus.mitre.org>, cookson@mbunix.mitre.org (Cookson) writes:>|> In article <19APR1993205420@vxcrna.cern.ch> casper@vxcrna.cern.ch (CASPER,DAVI./PPE) writes:>|> >I've seen the header files of H.R. 711 include this line>>|> >_user_label : \"H.R. 711 : Anybody seen this?\">>|> >_user_page :\n"
          ]
        },
        {
          "output_type": "stream",
          "name": "stderr",
          "text": [
            "The attention mask and the pad token id were not set. As a consequence, you may observe unexpected behavior. Please pass your input's `attention_mask` to obtain reliable results.\n",
            "Setting `pad_token_id` to `eos_token_id`:50256 for open-end generation.\n"
          ]
        },
        {
          "output_type": "stream",
          "name": "stdout",
          "text": [
            "  Batch 7,900  of  8,481. Loss: 0.3992493748664856.   Elapsed: 1:10:51.\n",
            "0:  ElderHow to handle font shifting in xterm?; TLDR: Hi Folks,I've got a problem, and I was wondering if I can to hold a certain command in xterm on my keyboardleft hand, and set it in the same way that xterm can hold certain characters in xterm. If it isn't, what can I do about it? If xterm doesn't set the option, does it follow the wayxterm is set?If I try to open xterm, after X Window is established (i.e., the Xterminalhas not yet defined a menu entry), will xterm do the same thing, or insist that I do it?I'm using xterm under xterm, and I have the following problem in xterm windowman  :*  :-(     xterm -sl 999 -fn 26           -fn 10          \n"
          ]
        },
        {
          "output_type": "stream",
          "name": "stderr",
          "text": [
            "The attention mask and the pad token id were not set. As a consequence, you may observe unexpected behavior. Please pass your input's `attention_mask` to obtain reliable results.\n",
            "Setting `pad_token_id` to `eos_token_id`:50256 for open-end generation.\n"
          ]
        },
        {
          "output_type": "stream",
          "name": "stdout",
          "text": [
            "  Batch 8,000  of  8,481. Loss: 0.38563698530197144.   Elapsed: 1:11:45.\n",
            "0: onutRe: Homosexuality issues in Christianity; TLDR: In article <Apr.30.03.02.31.1993.14414@geneva.rutgers.edu> mcovingt@aisun3.ai.uga.edu (Michael Covington) writes:>Well, these verses all talk about how one is to love God and hate the>other.  Unfortunately, their use as expounding scripture does not always>cite as expounding scripture.  Rather, they talk about how people should be>stocked to the knowledge that God loves them and that they can change>their heart and be like him.  Do not be deceived; neither fornicators, nor idolators, nor adulterers>in their correct power will be called according to the Ten Commandments of>God.  Do not be surprised that I find them offensive.>You learned this scripture while you were a Christian.  I learned>how to read\n"
          ]
        },
        {
          "output_type": "stream",
          "name": "stderr",
          "text": [
            "The attention mask and the pad token id were not set. As a consequence, you may observe unexpected behavior. Please pass your input's `attention_mask` to obtain reliable results.\n",
            "Setting `pad_token_id` to `eos_token_id`:50256 for open-end generation.\n"
          ]
        },
        {
          "output_type": "stream",
          "name": "stdout",
          "text": [
            "  Batch 8,100  of  8,481. Loss: 1.0906404256820679.   Elapsed: 1:12:39.\n",
            "0:  unhealthyRe: How do you know what keys to ask for? (Re: Clipper); TLDR: In article <1993Apr20.001723.29227@eff.org> pmetzger@eff.org (Perry E. Metzger) writes:>Two questions:1.  I have no idea yet what keys to ask for.  I>know the law enforcement equivalent of a request for keys, but what>do you know?2.  You probably are using an emulator (using some other emulator) thatis not part of the FBI's Federal Law Enforcement Division.>The best thing to do is to run it from the chip to your chip.  It takes a>lot of time.Good question, but here's a way to get FH started.  First, use the port settingsprovided by the FBI's TEMPEST branch in the Custerceptors.  Second, run the chip from the chip to the\n"
          ]
        },
        {
          "output_type": "stream",
          "name": "stderr",
          "text": [
            "The attention mask and the pad token id were not set. As a consequence, you may observe unexpected behavior. Please pass your input's `attention_mask` to obtain reliable results.\n",
            "Setting `pad_token_id` to `eos_token_id`:50256 for open-end generation.\n"
          ]
        },
        {
          "output_type": "stream",
          "name": "stdout",
          "text": [
            "  Batch 8,200  of  8,481. Loss: 0.3793332874774933.   Elapsed: 1:13:32.\n",
            "0:  CreativeRe: \"Hardware that Fits\" mail order; TLDR: kdb@sunbar.mc.duke.edu (Kurt Bollacker) writes:>In article <1993Apr22.221344.15950@magnus.acs.ohio-state.edu> jnielsen@magnus.acs.ohio-state.edu (John F Nielsen) writes:>>>...  Just in case it's important, I've got a couple of questions to ask you.>>>> I mail a set of mail order address's out of the blue box:>>  1-800-832-5200.  2- If you're interested, I can ship you a set off the ground>>    in Seattle, and you can't use them in your mail.  If you're not, then you can't use them>    anywhere.  If you're not, then it's the other way around\n"
          ]
        },
        {
          "output_type": "stream",
          "name": "stderr",
          "text": [
            "The attention mask and the pad token id were not set. As a consequence, you may observe unexpected behavior. Please pass your input's `attention_mask` to obtain reliable results.\n",
            "Setting `pad_token_id` to `eos_token_id`:50256 for open-end generation.\n"
          ]
        },
        {
          "output_type": "stream",
          "name": "stdout",
          "text": [
            "  Batch 8,300  of  8,481. Loss: 0.299060195684433.   Elapsed: 1:14:27.\n",
            "0: ImageRe: HELP for Kidney Stones..............; TLDR: In article <7166@blue.cis.pitt.edu>, jhaines@pitt.edu (Josh He) says:>In article <C697IJ.663@wetware.com> drieux@wetware.com (drieux, just drieux) writes:>>I remember seeing a little gizmo put on a kidney stone once.  I remember>a little gizmo put on the kidney, and he didn't like it very much.  He>then put the kidney up to worry about it.  It didn't help much either.>>I think it was the putter, not the stone.  He said it made the pain worse.>>There are two ways to deal with this.>>Kidney stones can be made (don't worry, it's not gonna>happen, just hurt your little bladder).  One is\n"
          ]
        },
        {
          "output_type": "stream",
          "name": "stderr",
          "text": [
            "The attention mask and the pad token id were not set. As a consequence, you may observe unexpected behavior. Please pass your input's `attention_mask` to obtain reliable results.\n",
            "Setting `pad_token_id` to `eos_token_id`:50256 for open-end generation.\n"
          ]
        },
        {
          "output_type": "stream",
          "name": "stdout",
          "text": [
            "  Batch 8,400  of  8,481. Loss: 1.2777228355407715.   Elapsed: 1:15:20.\n",
            "0:  accordingRe: Israeli Terrorism; TLDR: In article <1rd7eo$1a4@usenet.INS.CWRU.Edu> cy779@cleveland.Freenet.Edu (Anas Omran) writes:>\tI hope you're not going to argue that the actions taken by the Israeli>police (in Lebanon, and Lebanon) were in the best interests of Israel,>nor are they any worse than the actions of the Israeli government.>The point of all this is that the actions taken by the Israelipolice, (in Lebanon, and now Lebanon) were in the best interests ofIsrael.  Is it not?  In Lebanon you are eitherafraid of going to war (of course), or you are terrified of going to war with theIsraelis.  While it is true that Israeli and Israeli police are sometimes capable of mistakes, that does notmake the war inevitable.  As has been pointed out,\n",
            "\n",
            "  Average training loss: 0.72\n",
            "  Training epoch took: 1:16:04\n",
            "\n",
            "Running Validation...\n",
            "  Validation Loss: 1.28\n",
            "  Validation took: 0:02:33\n",
            "\n",
            "Training complete!\n",
            "Total training took 6:32:10 (h:mm:ss)\n"
          ]
        }
      ],
      "source": [
        "total_t0 = time.time()\n",
        "\n",
        "training_stats = []\n",
        "\n",
        "model = model.to(device)\n",
        "\n",
        "for epoch_i in range(0, epochs):\n",
        "\n",
        "    # ========================================\n",
        "    #               Training\n",
        "    # ========================================\n",
        "\n",
        "    print(\"\")\n",
        "    print('======== Epoch {:} / {:} ========'.format(epoch_i + 1, epochs))\n",
        "    print('Training...')\n",
        "\n",
        "    t0 = time.time()\n",
        "\n",
        "    total_train_loss = 0\n",
        "\n",
        "    model.train()\n",
        "\n",
        "    for step, batch in enumerate(train_dataloader):\n",
        "\n",
        "        b_input_ids = batch[0].to(device)\n",
        "        b_labels = batch[0].to(device)\n",
        "        b_masks = batch[1].to(device)\n",
        "\n",
        "        model.zero_grad()\n",
        "\n",
        "        outputs = model(  b_input_ids,\n",
        "                          labels=b_labels,\n",
        "                          attention_mask = b_masks,\n",
        "                          token_type_ids=None\n",
        "                        )\n",
        "\n",
        "        loss = outputs[0]\n",
        "\n",
        "        batch_loss = loss.item()\n",
        "        total_train_loss += batch_loss\n",
        "\n",
        "        # Get sample every x batches.\n",
        "        if step % sample_every == 0 and not step == 0:\n",
        "\n",
        "            elapsed = format_time(time.time() - t0)\n",
        "            print('  Batch {:>5,}  of  {:>5,}. Loss: {:>5,}.   Elapsed: {:}.'.format(step, len(train_dataloader), batch_loss, elapsed))\n",
        "\n",
        "            model.eval()\n",
        "\n",
        "            # \"Nucleus Sampling\" strategy, which is also known as \"Top-p Sampling\" or \"Top-k Sampling.\"\n",
        "            sample_outputs = model.generate(\n",
        "                                    bos_token_id=random.randint(1,30000),\n",
        "                                    do_sample=True,\n",
        "                                    top_k=50,\n",
        "                                    max_length = 200,\n",
        "                                    top_p=0.95,\n",
        "                                    num_return_sequences=1\n",
        "                                )\n",
        "            for i, sample_output in enumerate(sample_outputs):\n",
        "                  print(\"{}: {}\".format(i, tokenizer.decode(sample_output, skip_special_tokens=True)))\n",
        "\n",
        "            model.train()\n",
        "\n",
        "        loss.backward()\n",
        "\n",
        "        optimizer.step()\n",
        "\n",
        "        scheduler.step()\n",
        "\n",
        "    # Calculate the average loss over all of the batches.\n",
        "    avg_train_loss = total_train_loss / len(train_dataloader)\n",
        "\n",
        "    # Measure how long this epoch took.\n",
        "    training_time = format_time(time.time() - t0)\n",
        "\n",
        "    print(\"\")\n",
        "    print(\"  Average training loss: {0:.2f}\".format(avg_train_loss))\n",
        "    print(\"  Training epoch took: {:}\".format(training_time))\n",
        "\n",
        "    # ========================================\n",
        "    #               Validation\n",
        "    # ========================================\n",
        "\n",
        "    print(\"\")\n",
        "    print(\"Running Validation...\")\n",
        "\n",
        "    t0 = time.time()\n",
        "\n",
        "    model.eval()\n",
        "\n",
        "    total_eval_loss = 0\n",
        "    nb_eval_steps = 0\n",
        "\n",
        "    # Evaluate data for one epoch\n",
        "    for batch in validation_dataloader:\n",
        "\n",
        "        b_input_ids = batch[0].to(device)\n",
        "        b_labels = batch[0].to(device)\n",
        "        b_masks = batch[1].to(device)\n",
        "\n",
        "        with torch.no_grad():\n",
        "\n",
        "            outputs  = model(b_input_ids,\n",
        "#                            token_type_ids=None,\n",
        "                             attention_mask = b_masks,\n",
        "                            labels=b_labels)\n",
        "\n",
        "            loss = outputs[0]\n",
        "\n",
        "        batch_loss = loss.item()\n",
        "        total_eval_loss += batch_loss\n",
        "\n",
        "    avg_val_loss = total_eval_loss / len(validation_dataloader)\n",
        "\n",
        "    validation_time = format_time(time.time() - t0)\n",
        "\n",
        "    print(\"  Validation Loss: {0:.2f}\".format(avg_val_loss))\n",
        "    print(\"  Validation took: {:}\".format(validation_time))\n",
        "\n",
        "    # Record all statistics from this epoch.\n",
        "    training_stats.append(\n",
        "        {\n",
        "            'epoch': epoch_i + 1,\n",
        "            'Training Loss': avg_train_loss,\n",
        "            'Valid. Loss': avg_val_loss,\n",
        "            'Training Time': training_time,\n",
        "            'Validation Time': validation_time\n",
        "        }\n",
        "    )\n",
        "\n",
        "print(\"\")\n",
        "print(\"Training complete!\")\n",
        "print(\"Total training took {:} (h:mm:ss)\".format(format_time(time.time()-total_t0)))"
      ]
    }
  ],
  "metadata": {
    "accelerator": "GPU",
    "colab": {
      "provenance": []
    },
    "kernelspec": {
      "display_name": "Python 3",
      "name": "python3"
    },
    "language_info": {
      "name": "python"
    },
    "widgets": {
      "application/vnd.jupyter.widget-state+json": {
        "fbb3a15167984c5a8c5c97d4ec675836": {
          "model_module": "@jupyter-widgets/controls",
          "model_name": "HBoxModel",
          "model_module_version": "1.5.0",
          "state": {
            "_dom_classes": [],
            "_model_module": "@jupyter-widgets/controls",
            "_model_module_version": "1.5.0",
            "_model_name": "HBoxModel",
            "_view_count": null,
            "_view_module": "@jupyter-widgets/controls",
            "_view_module_version": "1.5.0",
            "_view_name": "HBoxView",
            "box_style": "",
            "children": [
              "IPY_MODEL_237c9355c41442a99b791667dbf22d81",
              "IPY_MODEL_05811cba11f2490c94535167351f5162",
              "IPY_MODEL_9b3d9ecb8bfd4eeaba4dd97a9e97da17"
            ],
            "layout": "IPY_MODEL_f23cbc5871944458a40b8f1e99e2cfd8"
          }
        },
        "237c9355c41442a99b791667dbf22d81": {
          "model_module": "@jupyter-widgets/controls",
          "model_name": "HTMLModel",
          "model_module_version": "1.5.0",
          "state": {
            "_dom_classes": [],
            "_model_module": "@jupyter-widgets/controls",
            "_model_module_version": "1.5.0",
            "_model_name": "HTMLModel",
            "_view_count": null,
            "_view_module": "@jupyter-widgets/controls",
            "_view_module_version": "1.5.0",
            "_view_name": "HTMLView",
            "description": "",
            "description_tooltip": null,
            "layout": "IPY_MODEL_d8327252778e4752a6db4fe9e6f801af",
            "placeholder": "​",
            "style": "IPY_MODEL_f7916523330947d68f3b39a6dd3562a0",
            "value": "vocab.json: 100%"
          }
        },
        "05811cba11f2490c94535167351f5162": {
          "model_module": "@jupyter-widgets/controls",
          "model_name": "FloatProgressModel",
          "model_module_version": "1.5.0",
          "state": {
            "_dom_classes": [],
            "_model_module": "@jupyter-widgets/controls",
            "_model_module_version": "1.5.0",
            "_model_name": "FloatProgressModel",
            "_view_count": null,
            "_view_module": "@jupyter-widgets/controls",
            "_view_module_version": "1.5.0",
            "_view_name": "ProgressView",
            "bar_style": "success",
            "description": "",
            "description_tooltip": null,
            "layout": "IPY_MODEL_a1d6b9a1311747619e94cdd293861c35",
            "max": 1042301,
            "min": 0,
            "orientation": "horizontal",
            "style": "IPY_MODEL_ba1a8acc1c6c41a98e4cc8fd5162a5e6",
            "value": 1042301
          }
        },
        "9b3d9ecb8bfd4eeaba4dd97a9e97da17": {
          "model_module": "@jupyter-widgets/controls",
          "model_name": "HTMLModel",
          "model_module_version": "1.5.0",
          "state": {
            "_dom_classes": [],
            "_model_module": "@jupyter-widgets/controls",
            "_model_module_version": "1.5.0",
            "_model_name": "HTMLModel",
            "_view_count": null,
            "_view_module": "@jupyter-widgets/controls",
            "_view_module_version": "1.5.0",
            "_view_name": "HTMLView",
            "description": "",
            "description_tooltip": null,
            "layout": "IPY_MODEL_bddac6edc2b244109b95c9d06971c3f3",
            "placeholder": "​",
            "style": "IPY_MODEL_358fe5182766411a8b97f820afd7c170",
            "value": " 1.04M/1.04M [00:00&lt;00:00, 26.0MB/s]"
          }
        },
        "f23cbc5871944458a40b8f1e99e2cfd8": {
          "model_module": "@jupyter-widgets/base",
          "model_name": "LayoutModel",
          "model_module_version": "1.2.0",
          "state": {
            "_model_module": "@jupyter-widgets/base",
            "_model_module_version": "1.2.0",
            "_model_name": "LayoutModel",
            "_view_count": null,
            "_view_module": "@jupyter-widgets/base",
            "_view_module_version": "1.2.0",
            "_view_name": "LayoutView",
            "align_content": null,
            "align_items": null,
            "align_self": null,
            "border": null,
            "bottom": null,
            "display": null,
            "flex": null,
            "flex_flow": null,
            "grid_area": null,
            "grid_auto_columns": null,
            "grid_auto_flow": null,
            "grid_auto_rows": null,
            "grid_column": null,
            "grid_gap": null,
            "grid_row": null,
            "grid_template_areas": null,
            "grid_template_columns": null,
            "grid_template_rows": null,
            "height": null,
            "justify_content": null,
            "justify_items": null,
            "left": null,
            "margin": null,
            "max_height": null,
            "max_width": null,
            "min_height": null,
            "min_width": null,
            "object_fit": null,
            "object_position": null,
            "order": null,
            "overflow": null,
            "overflow_x": null,
            "overflow_y": null,
            "padding": null,
            "right": null,
            "top": null,
            "visibility": null,
            "width": null
          }
        },
        "d8327252778e4752a6db4fe9e6f801af": {
          "model_module": "@jupyter-widgets/base",
          "model_name": "LayoutModel",
          "model_module_version": "1.2.0",
          "state": {
            "_model_module": "@jupyter-widgets/base",
            "_model_module_version": "1.2.0",
            "_model_name": "LayoutModel",
            "_view_count": null,
            "_view_module": "@jupyter-widgets/base",
            "_view_module_version": "1.2.0",
            "_view_name": "LayoutView",
            "align_content": null,
            "align_items": null,
            "align_self": null,
            "border": null,
            "bottom": null,
            "display": null,
            "flex": null,
            "flex_flow": null,
            "grid_area": null,
            "grid_auto_columns": null,
            "grid_auto_flow": null,
            "grid_auto_rows": null,
            "grid_column": null,
            "grid_gap": null,
            "grid_row": null,
            "grid_template_areas": null,
            "grid_template_columns": null,
            "grid_template_rows": null,
            "height": null,
            "justify_content": null,
            "justify_items": null,
            "left": null,
            "margin": null,
            "max_height": null,
            "max_width": null,
            "min_height": null,
            "min_width": null,
            "object_fit": null,
            "object_position": null,
            "order": null,
            "overflow": null,
            "overflow_x": null,
            "overflow_y": null,
            "padding": null,
            "right": null,
            "top": null,
            "visibility": null,
            "width": null
          }
        },
        "f7916523330947d68f3b39a6dd3562a0": {
          "model_module": "@jupyter-widgets/controls",
          "model_name": "DescriptionStyleModel",
          "model_module_version": "1.5.0",
          "state": {
            "_model_module": "@jupyter-widgets/controls",
            "_model_module_version": "1.5.0",
            "_model_name": "DescriptionStyleModel",
            "_view_count": null,
            "_view_module": "@jupyter-widgets/base",
            "_view_module_version": "1.2.0",
            "_view_name": "StyleView",
            "description_width": ""
          }
        },
        "a1d6b9a1311747619e94cdd293861c35": {
          "model_module": "@jupyter-widgets/base",
          "model_name": "LayoutModel",
          "model_module_version": "1.2.0",
          "state": {
            "_model_module": "@jupyter-widgets/base",
            "_model_module_version": "1.2.0",
            "_model_name": "LayoutModel",
            "_view_count": null,
            "_view_module": "@jupyter-widgets/base",
            "_view_module_version": "1.2.0",
            "_view_name": "LayoutView",
            "align_content": null,
            "align_items": null,
            "align_self": null,
            "border": null,
            "bottom": null,
            "display": null,
            "flex": null,
            "flex_flow": null,
            "grid_area": null,
            "grid_auto_columns": null,
            "grid_auto_flow": null,
            "grid_auto_rows": null,
            "grid_column": null,
            "grid_gap": null,
            "grid_row": null,
            "grid_template_areas": null,
            "grid_template_columns": null,
            "grid_template_rows": null,
            "height": null,
            "justify_content": null,
            "justify_items": null,
            "left": null,
            "margin": null,
            "max_height": null,
            "max_width": null,
            "min_height": null,
            "min_width": null,
            "object_fit": null,
            "object_position": null,
            "order": null,
            "overflow": null,
            "overflow_x": null,
            "overflow_y": null,
            "padding": null,
            "right": null,
            "top": null,
            "visibility": null,
            "width": null
          }
        },
        "ba1a8acc1c6c41a98e4cc8fd5162a5e6": {
          "model_module": "@jupyter-widgets/controls",
          "model_name": "ProgressStyleModel",
          "model_module_version": "1.5.0",
          "state": {
            "_model_module": "@jupyter-widgets/controls",
            "_model_module_version": "1.5.0",
            "_model_name": "ProgressStyleModel",
            "_view_count": null,
            "_view_module": "@jupyter-widgets/base",
            "_view_module_version": "1.2.0",
            "_view_name": "StyleView",
            "bar_color": null,
            "description_width": ""
          }
        },
        "bddac6edc2b244109b95c9d06971c3f3": {
          "model_module": "@jupyter-widgets/base",
          "model_name": "LayoutModel",
          "model_module_version": "1.2.0",
          "state": {
            "_model_module": "@jupyter-widgets/base",
            "_model_module_version": "1.2.0",
            "_model_name": "LayoutModel",
            "_view_count": null,
            "_view_module": "@jupyter-widgets/base",
            "_view_module_version": "1.2.0",
            "_view_name": "LayoutView",
            "align_content": null,
            "align_items": null,
            "align_self": null,
            "border": null,
            "bottom": null,
            "display": null,
            "flex": null,
            "flex_flow": null,
            "grid_area": null,
            "grid_auto_columns": null,
            "grid_auto_flow": null,
            "grid_auto_rows": null,
            "grid_column": null,
            "grid_gap": null,
            "grid_row": null,
            "grid_template_areas": null,
            "grid_template_columns": null,
            "grid_template_rows": null,
            "height": null,
            "justify_content": null,
            "justify_items": null,
            "left": null,
            "margin": null,
            "max_height": null,
            "max_width": null,
            "min_height": null,
            "min_width": null,
            "object_fit": null,
            "object_position": null,
            "order": null,
            "overflow": null,
            "overflow_x": null,
            "overflow_y": null,
            "padding": null,
            "right": null,
            "top": null,
            "visibility": null,
            "width": null
          }
        },
        "358fe5182766411a8b97f820afd7c170": {
          "model_module": "@jupyter-widgets/controls",
          "model_name": "DescriptionStyleModel",
          "model_module_version": "1.5.0",
          "state": {
            "_model_module": "@jupyter-widgets/controls",
            "_model_module_version": "1.5.0",
            "_model_name": "DescriptionStyleModel",
            "_view_count": null,
            "_view_module": "@jupyter-widgets/base",
            "_view_module_version": "1.2.0",
            "_view_name": "StyleView",
            "description_width": ""
          }
        },
        "0da331f87d1a4e779e928bd2c2764714": {
          "model_module": "@jupyter-widgets/controls",
          "model_name": "HBoxModel",
          "model_module_version": "1.5.0",
          "state": {
            "_dom_classes": [],
            "_model_module": "@jupyter-widgets/controls",
            "_model_module_version": "1.5.0",
            "_model_name": "HBoxModel",
            "_view_count": null,
            "_view_module": "@jupyter-widgets/controls",
            "_view_module_version": "1.5.0",
            "_view_name": "HBoxView",
            "box_style": "",
            "children": [
              "IPY_MODEL_8e06e37d5ea34cca868faf943885ab44",
              "IPY_MODEL_b41c17d9c3704a88bb13037e6369bc0d",
              "IPY_MODEL_d553672e206e44f6bf4b951df4d13a06"
            ],
            "layout": "IPY_MODEL_1e9230dc82934302a5a2a664a4dc4c6b"
          }
        },
        "8e06e37d5ea34cca868faf943885ab44": {
          "model_module": "@jupyter-widgets/controls",
          "model_name": "HTMLModel",
          "model_module_version": "1.5.0",
          "state": {
            "_dom_classes": [],
            "_model_module": "@jupyter-widgets/controls",
            "_model_module_version": "1.5.0",
            "_model_name": "HTMLModel",
            "_view_count": null,
            "_view_module": "@jupyter-widgets/controls",
            "_view_module_version": "1.5.0",
            "_view_name": "HTMLView",
            "description": "",
            "description_tooltip": null,
            "layout": "IPY_MODEL_281debe91d9845dfb5ff29257e22b7a0",
            "placeholder": "​",
            "style": "IPY_MODEL_58d88e3a8f434f86a92e58fff1e4d11c",
            "value": "merges.txt: 100%"
          }
        },
        "b41c17d9c3704a88bb13037e6369bc0d": {
          "model_module": "@jupyter-widgets/controls",
          "model_name": "FloatProgressModel",
          "model_module_version": "1.5.0",
          "state": {
            "_dom_classes": [],
            "_model_module": "@jupyter-widgets/controls",
            "_model_module_version": "1.5.0",
            "_model_name": "FloatProgressModel",
            "_view_count": null,
            "_view_module": "@jupyter-widgets/controls",
            "_view_module_version": "1.5.0",
            "_view_name": "ProgressView",
            "bar_style": "success",
            "description": "",
            "description_tooltip": null,
            "layout": "IPY_MODEL_175b7ce2c9a649cf874f027191864871",
            "max": 456318,
            "min": 0,
            "orientation": "horizontal",
            "style": "IPY_MODEL_fb87981a031d4d249e3cd80116118fe4",
            "value": 456318
          }
        },
        "d553672e206e44f6bf4b951df4d13a06": {
          "model_module": "@jupyter-widgets/controls",
          "model_name": "HTMLModel",
          "model_module_version": "1.5.0",
          "state": {
            "_dom_classes": [],
            "_model_module": "@jupyter-widgets/controls",
            "_model_module_version": "1.5.0",
            "_model_name": "HTMLModel",
            "_view_count": null,
            "_view_module": "@jupyter-widgets/controls",
            "_view_module_version": "1.5.0",
            "_view_name": "HTMLView",
            "description": "",
            "description_tooltip": null,
            "layout": "IPY_MODEL_3aae6c696e7d43c4939b9bed63585b3e",
            "placeholder": "​",
            "style": "IPY_MODEL_8becea0868bb4753b90545ff0100fea8",
            "value": " 456k/456k [00:00&lt;00:00, 1.86MB/s]"
          }
        },
        "1e9230dc82934302a5a2a664a4dc4c6b": {
          "model_module": "@jupyter-widgets/base",
          "model_name": "LayoutModel",
          "model_module_version": "1.2.0",
          "state": {
            "_model_module": "@jupyter-widgets/base",
            "_model_module_version": "1.2.0",
            "_model_name": "LayoutModel",
            "_view_count": null,
            "_view_module": "@jupyter-widgets/base",
            "_view_module_version": "1.2.0",
            "_view_name": "LayoutView",
            "align_content": null,
            "align_items": null,
            "align_self": null,
            "border": null,
            "bottom": null,
            "display": null,
            "flex": null,
            "flex_flow": null,
            "grid_area": null,
            "grid_auto_columns": null,
            "grid_auto_flow": null,
            "grid_auto_rows": null,
            "grid_column": null,
            "grid_gap": null,
            "grid_row": null,
            "grid_template_areas": null,
            "grid_template_columns": null,
            "grid_template_rows": null,
            "height": null,
            "justify_content": null,
            "justify_items": null,
            "left": null,
            "margin": null,
            "max_height": null,
            "max_width": null,
            "min_height": null,
            "min_width": null,
            "object_fit": null,
            "object_position": null,
            "order": null,
            "overflow": null,
            "overflow_x": null,
            "overflow_y": null,
            "padding": null,
            "right": null,
            "top": null,
            "visibility": null,
            "width": null
          }
        },
        "281debe91d9845dfb5ff29257e22b7a0": {
          "model_module": "@jupyter-widgets/base",
          "model_name": "LayoutModel",
          "model_module_version": "1.2.0",
          "state": {
            "_model_module": "@jupyter-widgets/base",
            "_model_module_version": "1.2.0",
            "_model_name": "LayoutModel",
            "_view_count": null,
            "_view_module": "@jupyter-widgets/base",
            "_view_module_version": "1.2.0",
            "_view_name": "LayoutView",
            "align_content": null,
            "align_items": null,
            "align_self": null,
            "border": null,
            "bottom": null,
            "display": null,
            "flex": null,
            "flex_flow": null,
            "grid_area": null,
            "grid_auto_columns": null,
            "grid_auto_flow": null,
            "grid_auto_rows": null,
            "grid_column": null,
            "grid_gap": null,
            "grid_row": null,
            "grid_template_areas": null,
            "grid_template_columns": null,
            "grid_template_rows": null,
            "height": null,
            "justify_content": null,
            "justify_items": null,
            "left": null,
            "margin": null,
            "max_height": null,
            "max_width": null,
            "min_height": null,
            "min_width": null,
            "object_fit": null,
            "object_position": null,
            "order": null,
            "overflow": null,
            "overflow_x": null,
            "overflow_y": null,
            "padding": null,
            "right": null,
            "top": null,
            "visibility": null,
            "width": null
          }
        },
        "58d88e3a8f434f86a92e58fff1e4d11c": {
          "model_module": "@jupyter-widgets/controls",
          "model_name": "DescriptionStyleModel",
          "model_module_version": "1.5.0",
          "state": {
            "_model_module": "@jupyter-widgets/controls",
            "_model_module_version": "1.5.0",
            "_model_name": "DescriptionStyleModel",
            "_view_count": null,
            "_view_module": "@jupyter-widgets/base",
            "_view_module_version": "1.2.0",
            "_view_name": "StyleView",
            "description_width": ""
          }
        },
        "175b7ce2c9a649cf874f027191864871": {
          "model_module": "@jupyter-widgets/base",
          "model_name": "LayoutModel",
          "model_module_version": "1.2.0",
          "state": {
            "_model_module": "@jupyter-widgets/base",
            "_model_module_version": "1.2.0",
            "_model_name": "LayoutModel",
            "_view_count": null,
            "_view_module": "@jupyter-widgets/base",
            "_view_module_version": "1.2.0",
            "_view_name": "LayoutView",
            "align_content": null,
            "align_items": null,
            "align_self": null,
            "border": null,
            "bottom": null,
            "display": null,
            "flex": null,
            "flex_flow": null,
            "grid_area": null,
            "grid_auto_columns": null,
            "grid_auto_flow": null,
            "grid_auto_rows": null,
            "grid_column": null,
            "grid_gap": null,
            "grid_row": null,
            "grid_template_areas": null,
            "grid_template_columns": null,
            "grid_template_rows": null,
            "height": null,
            "justify_content": null,
            "justify_items": null,
            "left": null,
            "margin": null,
            "max_height": null,
            "max_width": null,
            "min_height": null,
            "min_width": null,
            "object_fit": null,
            "object_position": null,
            "order": null,
            "overflow": null,
            "overflow_x": null,
            "overflow_y": null,
            "padding": null,
            "right": null,
            "top": null,
            "visibility": null,
            "width": null
          }
        },
        "fb87981a031d4d249e3cd80116118fe4": {
          "model_module": "@jupyter-widgets/controls",
          "model_name": "ProgressStyleModel",
          "model_module_version": "1.5.0",
          "state": {
            "_model_module": "@jupyter-widgets/controls",
            "_model_module_version": "1.5.0",
            "_model_name": "ProgressStyleModel",
            "_view_count": null,
            "_view_module": "@jupyter-widgets/base",
            "_view_module_version": "1.2.0",
            "_view_name": "StyleView",
            "bar_color": null,
            "description_width": ""
          }
        },
        "3aae6c696e7d43c4939b9bed63585b3e": {
          "model_module": "@jupyter-widgets/base",
          "model_name": "LayoutModel",
          "model_module_version": "1.2.0",
          "state": {
            "_model_module": "@jupyter-widgets/base",
            "_model_module_version": "1.2.0",
            "_model_name": "LayoutModel",
            "_view_count": null,
            "_view_module": "@jupyter-widgets/base",
            "_view_module_version": "1.2.0",
            "_view_name": "LayoutView",
            "align_content": null,
            "align_items": null,
            "align_self": null,
            "border": null,
            "bottom": null,
            "display": null,
            "flex": null,
            "flex_flow": null,
            "grid_area": null,
            "grid_auto_columns": null,
            "grid_auto_flow": null,
            "grid_auto_rows": null,
            "grid_column": null,
            "grid_gap": null,
            "grid_row": null,
            "grid_template_areas": null,
            "grid_template_columns": null,
            "grid_template_rows": null,
            "height": null,
            "justify_content": null,
            "justify_items": null,
            "left": null,
            "margin": null,
            "max_height": null,
            "max_width": null,
            "min_height": null,
            "min_width": null,
            "object_fit": null,
            "object_position": null,
            "order": null,
            "overflow": null,
            "overflow_x": null,
            "overflow_y": null,
            "padding": null,
            "right": null,
            "top": null,
            "visibility": null,
            "width": null
          }
        },
        "8becea0868bb4753b90545ff0100fea8": {
          "model_module": "@jupyter-widgets/controls",
          "model_name": "DescriptionStyleModel",
          "model_module_version": "1.5.0",
          "state": {
            "_model_module": "@jupyter-widgets/controls",
            "_model_module_version": "1.5.0",
            "_model_name": "DescriptionStyleModel",
            "_view_count": null,
            "_view_module": "@jupyter-widgets/base",
            "_view_module_version": "1.2.0",
            "_view_name": "StyleView",
            "description_width": ""
          }
        },
        "2694c764d1334e43ab07b48d68429120": {
          "model_module": "@jupyter-widgets/controls",
          "model_name": "HBoxModel",
          "model_module_version": "1.5.0",
          "state": {
            "_dom_classes": [],
            "_model_module": "@jupyter-widgets/controls",
            "_model_module_version": "1.5.0",
            "_model_name": "HBoxModel",
            "_view_count": null,
            "_view_module": "@jupyter-widgets/controls",
            "_view_module_version": "1.5.0",
            "_view_name": "HBoxView",
            "box_style": "",
            "children": [
              "IPY_MODEL_5f5b11b5325e492abbc9f798aa251f79",
              "IPY_MODEL_39036b8a44ce45809f4b0a9bf38b0b5c",
              "IPY_MODEL_5bb1e1f9d87b403ab0a6ff68cb50b8b1"
            ],
            "layout": "IPY_MODEL_3323eb7a66a6418e9b791b395ad4241c"
          }
        },
        "5f5b11b5325e492abbc9f798aa251f79": {
          "model_module": "@jupyter-widgets/controls",
          "model_name": "HTMLModel",
          "model_module_version": "1.5.0",
          "state": {
            "_dom_classes": [],
            "_model_module": "@jupyter-widgets/controls",
            "_model_module_version": "1.5.0",
            "_model_name": "HTMLModel",
            "_view_count": null,
            "_view_module": "@jupyter-widgets/controls",
            "_view_module_version": "1.5.0",
            "_view_name": "HTMLView",
            "description": "",
            "description_tooltip": null,
            "layout": "IPY_MODEL_63182da91bda449bb7801662304137e1",
            "placeholder": "​",
            "style": "IPY_MODEL_d2f7f8bdd0e34ba58222f153f021b26e",
            "value": "tokenizer.json: 100%"
          }
        },
        "39036b8a44ce45809f4b0a9bf38b0b5c": {
          "model_module": "@jupyter-widgets/controls",
          "model_name": "FloatProgressModel",
          "model_module_version": "1.5.0",
          "state": {
            "_dom_classes": [],
            "_model_module": "@jupyter-widgets/controls",
            "_model_module_version": "1.5.0",
            "_model_name": "FloatProgressModel",
            "_view_count": null,
            "_view_module": "@jupyter-widgets/controls",
            "_view_module_version": "1.5.0",
            "_view_name": "ProgressView",
            "bar_style": "success",
            "description": "",
            "description_tooltip": null,
            "layout": "IPY_MODEL_abe0f84bb6e644758f95a1af4435d32d",
            "max": 1355256,
            "min": 0,
            "orientation": "horizontal",
            "style": "IPY_MODEL_f40e2d7b651c490e9c5329ee277b8473",
            "value": 1355256
          }
        },
        "5bb1e1f9d87b403ab0a6ff68cb50b8b1": {
          "model_module": "@jupyter-widgets/controls",
          "model_name": "HTMLModel",
          "model_module_version": "1.5.0",
          "state": {
            "_dom_classes": [],
            "_model_module": "@jupyter-widgets/controls",
            "_model_module_version": "1.5.0",
            "_model_name": "HTMLModel",
            "_view_count": null,
            "_view_module": "@jupyter-widgets/controls",
            "_view_module_version": "1.5.0",
            "_view_name": "HTMLView",
            "description": "",
            "description_tooltip": null,
            "layout": "IPY_MODEL_e63351415b4d40458e9ca180c801eebd",
            "placeholder": "​",
            "style": "IPY_MODEL_3f0c337369ef4ba9a9b1c0566b08509d",
            "value": " 1.36M/1.36M [00:00&lt;00:00, 35.9MB/s]"
          }
        },
        "3323eb7a66a6418e9b791b395ad4241c": {
          "model_module": "@jupyter-widgets/base",
          "model_name": "LayoutModel",
          "model_module_version": "1.2.0",
          "state": {
            "_model_module": "@jupyter-widgets/base",
            "_model_module_version": "1.2.0",
            "_model_name": "LayoutModel",
            "_view_count": null,
            "_view_module": "@jupyter-widgets/base",
            "_view_module_version": "1.2.0",
            "_view_name": "LayoutView",
            "align_content": null,
            "align_items": null,
            "align_self": null,
            "border": null,
            "bottom": null,
            "display": null,
            "flex": null,
            "flex_flow": null,
            "grid_area": null,
            "grid_auto_columns": null,
            "grid_auto_flow": null,
            "grid_auto_rows": null,
            "grid_column": null,
            "grid_gap": null,
            "grid_row": null,
            "grid_template_areas": null,
            "grid_template_columns": null,
            "grid_template_rows": null,
            "height": null,
            "justify_content": null,
            "justify_items": null,
            "left": null,
            "margin": null,
            "max_height": null,
            "max_width": null,
            "min_height": null,
            "min_width": null,
            "object_fit": null,
            "object_position": null,
            "order": null,
            "overflow": null,
            "overflow_x": null,
            "overflow_y": null,
            "padding": null,
            "right": null,
            "top": null,
            "visibility": null,
            "width": null
          }
        },
        "63182da91bda449bb7801662304137e1": {
          "model_module": "@jupyter-widgets/base",
          "model_name": "LayoutModel",
          "model_module_version": "1.2.0",
          "state": {
            "_model_module": "@jupyter-widgets/base",
            "_model_module_version": "1.2.0",
            "_model_name": "LayoutModel",
            "_view_count": null,
            "_view_module": "@jupyter-widgets/base",
            "_view_module_version": "1.2.0",
            "_view_name": "LayoutView",
            "align_content": null,
            "align_items": null,
            "align_self": null,
            "border": null,
            "bottom": null,
            "display": null,
            "flex": null,
            "flex_flow": null,
            "grid_area": null,
            "grid_auto_columns": null,
            "grid_auto_flow": null,
            "grid_auto_rows": null,
            "grid_column": null,
            "grid_gap": null,
            "grid_row": null,
            "grid_template_areas": null,
            "grid_template_columns": null,
            "grid_template_rows": null,
            "height": null,
            "justify_content": null,
            "justify_items": null,
            "left": null,
            "margin": null,
            "max_height": null,
            "max_width": null,
            "min_height": null,
            "min_width": null,
            "object_fit": null,
            "object_position": null,
            "order": null,
            "overflow": null,
            "overflow_x": null,
            "overflow_y": null,
            "padding": null,
            "right": null,
            "top": null,
            "visibility": null,
            "width": null
          }
        },
        "d2f7f8bdd0e34ba58222f153f021b26e": {
          "model_module": "@jupyter-widgets/controls",
          "model_name": "DescriptionStyleModel",
          "model_module_version": "1.5.0",
          "state": {
            "_model_module": "@jupyter-widgets/controls",
            "_model_module_version": "1.5.0",
            "_model_name": "DescriptionStyleModel",
            "_view_count": null,
            "_view_module": "@jupyter-widgets/base",
            "_view_module_version": "1.2.0",
            "_view_name": "StyleView",
            "description_width": ""
          }
        },
        "abe0f84bb6e644758f95a1af4435d32d": {
          "model_module": "@jupyter-widgets/base",
          "model_name": "LayoutModel",
          "model_module_version": "1.2.0",
          "state": {
            "_model_module": "@jupyter-widgets/base",
            "_model_module_version": "1.2.0",
            "_model_name": "LayoutModel",
            "_view_count": null,
            "_view_module": "@jupyter-widgets/base",
            "_view_module_version": "1.2.0",
            "_view_name": "LayoutView",
            "align_content": null,
            "align_items": null,
            "align_self": null,
            "border": null,
            "bottom": null,
            "display": null,
            "flex": null,
            "flex_flow": null,
            "grid_area": null,
            "grid_auto_columns": null,
            "grid_auto_flow": null,
            "grid_auto_rows": null,
            "grid_column": null,
            "grid_gap": null,
            "grid_row": null,
            "grid_template_areas": null,
            "grid_template_columns": null,
            "grid_template_rows": null,
            "height": null,
            "justify_content": null,
            "justify_items": null,
            "left": null,
            "margin": null,
            "max_height": null,
            "max_width": null,
            "min_height": null,
            "min_width": null,
            "object_fit": null,
            "object_position": null,
            "order": null,
            "overflow": null,
            "overflow_x": null,
            "overflow_y": null,
            "padding": null,
            "right": null,
            "top": null,
            "visibility": null,
            "width": null
          }
        },
        "f40e2d7b651c490e9c5329ee277b8473": {
          "model_module": "@jupyter-widgets/controls",
          "model_name": "ProgressStyleModel",
          "model_module_version": "1.5.0",
          "state": {
            "_model_module": "@jupyter-widgets/controls",
            "_model_module_version": "1.5.0",
            "_model_name": "ProgressStyleModel",
            "_view_count": null,
            "_view_module": "@jupyter-widgets/base",
            "_view_module_version": "1.2.0",
            "_view_name": "StyleView",
            "bar_color": null,
            "description_width": ""
          }
        },
        "e63351415b4d40458e9ca180c801eebd": {
          "model_module": "@jupyter-widgets/base",
          "model_name": "LayoutModel",
          "model_module_version": "1.2.0",
          "state": {
            "_model_module": "@jupyter-widgets/base",
            "_model_module_version": "1.2.0",
            "_model_name": "LayoutModel",
            "_view_count": null,
            "_view_module": "@jupyter-widgets/base",
            "_view_module_version": "1.2.0",
            "_view_name": "LayoutView",
            "align_content": null,
            "align_items": null,
            "align_self": null,
            "border": null,
            "bottom": null,
            "display": null,
            "flex": null,
            "flex_flow": null,
            "grid_area": null,
            "grid_auto_columns": null,
            "grid_auto_flow": null,
            "grid_auto_rows": null,
            "grid_column": null,
            "grid_gap": null,
            "grid_row": null,
            "grid_template_areas": null,
            "grid_template_columns": null,
            "grid_template_rows": null,
            "height": null,
            "justify_content": null,
            "justify_items": null,
            "left": null,
            "margin": null,
            "max_height": null,
            "max_width": null,
            "min_height": null,
            "min_width": null,
            "object_fit": null,
            "object_position": null,
            "order": null,
            "overflow": null,
            "overflow_x": null,
            "overflow_y": null,
            "padding": null,
            "right": null,
            "top": null,
            "visibility": null,
            "width": null
          }
        },
        "3f0c337369ef4ba9a9b1c0566b08509d": {
          "model_module": "@jupyter-widgets/controls",
          "model_name": "DescriptionStyleModel",
          "model_module_version": "1.5.0",
          "state": {
            "_model_module": "@jupyter-widgets/controls",
            "_model_module_version": "1.5.0",
            "_model_name": "DescriptionStyleModel",
            "_view_count": null,
            "_view_module": "@jupyter-widgets/base",
            "_view_module_version": "1.2.0",
            "_view_name": "StyleView",
            "description_width": ""
          }
        },
        "05e4f9556010482192c62932a7d6740b": {
          "model_module": "@jupyter-widgets/controls",
          "model_name": "HBoxModel",
          "model_module_version": "1.5.0",
          "state": {
            "_dom_classes": [],
            "_model_module": "@jupyter-widgets/controls",
            "_model_module_version": "1.5.0",
            "_model_name": "HBoxModel",
            "_view_count": null,
            "_view_module": "@jupyter-widgets/controls",
            "_view_module_version": "1.5.0",
            "_view_name": "HBoxView",
            "box_style": "",
            "children": [
              "IPY_MODEL_4c2be4be0fbb41409bd72087951d31a9",
              "IPY_MODEL_e49bf66e73004dd0b735341e8a4aa2c3",
              "IPY_MODEL_78bd14560d9a4addb9df66fe11f31792"
            ],
            "layout": "IPY_MODEL_30f0f5d6804c4825bbe1e9eb7920e759"
          }
        },
        "4c2be4be0fbb41409bd72087951d31a9": {
          "model_module": "@jupyter-widgets/controls",
          "model_name": "HTMLModel",
          "model_module_version": "1.5.0",
          "state": {
            "_dom_classes": [],
            "_model_module": "@jupyter-widgets/controls",
            "_model_module_version": "1.5.0",
            "_model_name": "HTMLModel",
            "_view_count": null,
            "_view_module": "@jupyter-widgets/controls",
            "_view_module_version": "1.5.0",
            "_view_name": "HTMLView",
            "description": "",
            "description_tooltip": null,
            "layout": "IPY_MODEL_821743ff27604dbeb74da8ec24de40b7",
            "placeholder": "​",
            "style": "IPY_MODEL_70fed5476b8c4d239b06919d5185c6bf",
            "value": "config.json: 100%"
          }
        },
        "e49bf66e73004dd0b735341e8a4aa2c3": {
          "model_module": "@jupyter-widgets/controls",
          "model_name": "FloatProgressModel",
          "model_module_version": "1.5.0",
          "state": {
            "_dom_classes": [],
            "_model_module": "@jupyter-widgets/controls",
            "_model_module_version": "1.5.0",
            "_model_name": "FloatProgressModel",
            "_view_count": null,
            "_view_module": "@jupyter-widgets/controls",
            "_view_module_version": "1.5.0",
            "_view_name": "ProgressView",
            "bar_style": "success",
            "description": "",
            "description_tooltip": null,
            "layout": "IPY_MODEL_41478856d8c1471587578cae9dc4296e",
            "max": 665,
            "min": 0,
            "orientation": "horizontal",
            "style": "IPY_MODEL_b1e53ced5413442687a85a7196d98d19",
            "value": 665
          }
        },
        "78bd14560d9a4addb9df66fe11f31792": {
          "model_module": "@jupyter-widgets/controls",
          "model_name": "HTMLModel",
          "model_module_version": "1.5.0",
          "state": {
            "_dom_classes": [],
            "_model_module": "@jupyter-widgets/controls",
            "_model_module_version": "1.5.0",
            "_model_name": "HTMLModel",
            "_view_count": null,
            "_view_module": "@jupyter-widgets/controls",
            "_view_module_version": "1.5.0",
            "_view_name": "HTMLView",
            "description": "",
            "description_tooltip": null,
            "layout": "IPY_MODEL_51680a5511b240c98f02754680261ed2",
            "placeholder": "​",
            "style": "IPY_MODEL_3e404fb047bd4191885bd2a6453810b7",
            "value": " 665/665 [00:00&lt;00:00, 49.1kB/s]"
          }
        },
        "30f0f5d6804c4825bbe1e9eb7920e759": {
          "model_module": "@jupyter-widgets/base",
          "model_name": "LayoutModel",
          "model_module_version": "1.2.0",
          "state": {
            "_model_module": "@jupyter-widgets/base",
            "_model_module_version": "1.2.0",
            "_model_name": "LayoutModel",
            "_view_count": null,
            "_view_module": "@jupyter-widgets/base",
            "_view_module_version": "1.2.0",
            "_view_name": "LayoutView",
            "align_content": null,
            "align_items": null,
            "align_self": null,
            "border": null,
            "bottom": null,
            "display": null,
            "flex": null,
            "flex_flow": null,
            "grid_area": null,
            "grid_auto_columns": null,
            "grid_auto_flow": null,
            "grid_auto_rows": null,
            "grid_column": null,
            "grid_gap": null,
            "grid_row": null,
            "grid_template_areas": null,
            "grid_template_columns": null,
            "grid_template_rows": null,
            "height": null,
            "justify_content": null,
            "justify_items": null,
            "left": null,
            "margin": null,
            "max_height": null,
            "max_width": null,
            "min_height": null,
            "min_width": null,
            "object_fit": null,
            "object_position": null,
            "order": null,
            "overflow": null,
            "overflow_x": null,
            "overflow_y": null,
            "padding": null,
            "right": null,
            "top": null,
            "visibility": null,
            "width": null
          }
        },
        "821743ff27604dbeb74da8ec24de40b7": {
          "model_module": "@jupyter-widgets/base",
          "model_name": "LayoutModel",
          "model_module_version": "1.2.0",
          "state": {
            "_model_module": "@jupyter-widgets/base",
            "_model_module_version": "1.2.0",
            "_model_name": "LayoutModel",
            "_view_count": null,
            "_view_module": "@jupyter-widgets/base",
            "_view_module_version": "1.2.0",
            "_view_name": "LayoutView",
            "align_content": null,
            "align_items": null,
            "align_self": null,
            "border": null,
            "bottom": null,
            "display": null,
            "flex": null,
            "flex_flow": null,
            "grid_area": null,
            "grid_auto_columns": null,
            "grid_auto_flow": null,
            "grid_auto_rows": null,
            "grid_column": null,
            "grid_gap": null,
            "grid_row": null,
            "grid_template_areas": null,
            "grid_template_columns": null,
            "grid_template_rows": null,
            "height": null,
            "justify_content": null,
            "justify_items": null,
            "left": null,
            "margin": null,
            "max_height": null,
            "max_width": null,
            "min_height": null,
            "min_width": null,
            "object_fit": null,
            "object_position": null,
            "order": null,
            "overflow": null,
            "overflow_x": null,
            "overflow_y": null,
            "padding": null,
            "right": null,
            "top": null,
            "visibility": null,
            "width": null
          }
        },
        "70fed5476b8c4d239b06919d5185c6bf": {
          "model_module": "@jupyter-widgets/controls",
          "model_name": "DescriptionStyleModel",
          "model_module_version": "1.5.0",
          "state": {
            "_model_module": "@jupyter-widgets/controls",
            "_model_module_version": "1.5.0",
            "_model_name": "DescriptionStyleModel",
            "_view_count": null,
            "_view_module": "@jupyter-widgets/base",
            "_view_module_version": "1.2.0",
            "_view_name": "StyleView",
            "description_width": ""
          }
        },
        "41478856d8c1471587578cae9dc4296e": {
          "model_module": "@jupyter-widgets/base",
          "model_name": "LayoutModel",
          "model_module_version": "1.2.0",
          "state": {
            "_model_module": "@jupyter-widgets/base",
            "_model_module_version": "1.2.0",
            "_model_name": "LayoutModel",
            "_view_count": null,
            "_view_module": "@jupyter-widgets/base",
            "_view_module_version": "1.2.0",
            "_view_name": "LayoutView",
            "align_content": null,
            "align_items": null,
            "align_self": null,
            "border": null,
            "bottom": null,
            "display": null,
            "flex": null,
            "flex_flow": null,
            "grid_area": null,
            "grid_auto_columns": null,
            "grid_auto_flow": null,
            "grid_auto_rows": null,
            "grid_column": null,
            "grid_gap": null,
            "grid_row": null,
            "grid_template_areas": null,
            "grid_template_columns": null,
            "grid_template_rows": null,
            "height": null,
            "justify_content": null,
            "justify_items": null,
            "left": null,
            "margin": null,
            "max_height": null,
            "max_width": null,
            "min_height": null,
            "min_width": null,
            "object_fit": null,
            "object_position": null,
            "order": null,
            "overflow": null,
            "overflow_x": null,
            "overflow_y": null,
            "padding": null,
            "right": null,
            "top": null,
            "visibility": null,
            "width": null
          }
        },
        "b1e53ced5413442687a85a7196d98d19": {
          "model_module": "@jupyter-widgets/controls",
          "model_name": "ProgressStyleModel",
          "model_module_version": "1.5.0",
          "state": {
            "_model_module": "@jupyter-widgets/controls",
            "_model_module_version": "1.5.0",
            "_model_name": "ProgressStyleModel",
            "_view_count": null,
            "_view_module": "@jupyter-widgets/base",
            "_view_module_version": "1.2.0",
            "_view_name": "StyleView",
            "bar_color": null,
            "description_width": ""
          }
        },
        "51680a5511b240c98f02754680261ed2": {
          "model_module": "@jupyter-widgets/base",
          "model_name": "LayoutModel",
          "model_module_version": "1.2.0",
          "state": {
            "_model_module": "@jupyter-widgets/base",
            "_model_module_version": "1.2.0",
            "_model_name": "LayoutModel",
            "_view_count": null,
            "_view_module": "@jupyter-widgets/base",
            "_view_module_version": "1.2.0",
            "_view_name": "LayoutView",
            "align_content": null,
            "align_items": null,
            "align_self": null,
            "border": null,
            "bottom": null,
            "display": null,
            "flex": null,
            "flex_flow": null,
            "grid_area": null,
            "grid_auto_columns": null,
            "grid_auto_flow": null,
            "grid_auto_rows": null,
            "grid_column": null,
            "grid_gap": null,
            "grid_row": null,
            "grid_template_areas": null,
            "grid_template_columns": null,
            "grid_template_rows": null,
            "height": null,
            "justify_content": null,
            "justify_items": null,
            "left": null,
            "margin": null,
            "max_height": null,
            "max_width": null,
            "min_height": null,
            "min_width": null,
            "object_fit": null,
            "object_position": null,
            "order": null,
            "overflow": null,
            "overflow_x": null,
            "overflow_y": null,
            "padding": null,
            "right": null,
            "top": null,
            "visibility": null,
            "width": null
          }
        },
        "3e404fb047bd4191885bd2a6453810b7": {
          "model_module": "@jupyter-widgets/controls",
          "model_name": "DescriptionStyleModel",
          "model_module_version": "1.5.0",
          "state": {
            "_model_module": "@jupyter-widgets/controls",
            "_model_module_version": "1.5.0",
            "_model_name": "DescriptionStyleModel",
            "_view_count": null,
            "_view_module": "@jupyter-widgets/base",
            "_view_module_version": "1.2.0",
            "_view_name": "StyleView",
            "description_width": ""
          }
        },
        "2d9beb6369434d2fb7ce509378dec3b3": {
          "model_module": "@jupyter-widgets/controls",
          "model_name": "HBoxModel",
          "model_module_version": "1.5.0",
          "state": {
            "_dom_classes": [],
            "_model_module": "@jupyter-widgets/controls",
            "_model_module_version": "1.5.0",
            "_model_name": "HBoxModel",
            "_view_count": null,
            "_view_module": "@jupyter-widgets/controls",
            "_view_module_version": "1.5.0",
            "_view_name": "HBoxView",
            "box_style": "",
            "children": [
              "IPY_MODEL_98c8f796c18e435587f911b5d350ba41",
              "IPY_MODEL_75295679c8fc489d9124fdbefdfe4d5b",
              "IPY_MODEL_1383611d3a7f410c8564840647cc5a63"
            ],
            "layout": "IPY_MODEL_19d6bc43d04147c09af407154d1a3bd3"
          }
        },
        "98c8f796c18e435587f911b5d350ba41": {
          "model_module": "@jupyter-widgets/controls",
          "model_name": "HTMLModel",
          "model_module_version": "1.5.0",
          "state": {
            "_dom_classes": [],
            "_model_module": "@jupyter-widgets/controls",
            "_model_module_version": "1.5.0",
            "_model_name": "HTMLModel",
            "_view_count": null,
            "_view_module": "@jupyter-widgets/controls",
            "_view_module_version": "1.5.0",
            "_view_name": "HTMLView",
            "description": "",
            "description_tooltip": null,
            "layout": "IPY_MODEL_e3bfe93df3a2478a9cf2a581ad46198d",
            "placeholder": "​",
            "style": "IPY_MODEL_4ca08c45f75549f38037dc85c7a47c3e",
            "value": "model.safetensors: 100%"
          }
        },
        "75295679c8fc489d9124fdbefdfe4d5b": {
          "model_module": "@jupyter-widgets/controls",
          "model_name": "FloatProgressModel",
          "model_module_version": "1.5.0",
          "state": {
            "_dom_classes": [],
            "_model_module": "@jupyter-widgets/controls",
            "_model_module_version": "1.5.0",
            "_model_name": "FloatProgressModel",
            "_view_count": null,
            "_view_module": "@jupyter-widgets/controls",
            "_view_module_version": "1.5.0",
            "_view_name": "ProgressView",
            "bar_style": "success",
            "description": "",
            "description_tooltip": null,
            "layout": "IPY_MODEL_327acd7826454dd0b1560daf50c58f50",
            "max": 548105171,
            "min": 0,
            "orientation": "horizontal",
            "style": "IPY_MODEL_09d088c2f51d45a08a93416330caa1b1",
            "value": 548105171
          }
        },
        "1383611d3a7f410c8564840647cc5a63": {
          "model_module": "@jupyter-widgets/controls",
          "model_name": "HTMLModel",
          "model_module_version": "1.5.0",
          "state": {
            "_dom_classes": [],
            "_model_module": "@jupyter-widgets/controls",
            "_model_module_version": "1.5.0",
            "_model_name": "HTMLModel",
            "_view_count": null,
            "_view_module": "@jupyter-widgets/controls",
            "_view_module_version": "1.5.0",
            "_view_name": "HTMLView",
            "description": "",
            "description_tooltip": null,
            "layout": "IPY_MODEL_a51e036599a3469e83b349c6379f11d2",
            "placeholder": "​",
            "style": "IPY_MODEL_05fbd0740bd242fb96a2e8b341fcbf2e",
            "value": " 548M/548M [00:23&lt;00:00, 26.2MB/s]"
          }
        },
        "19d6bc43d04147c09af407154d1a3bd3": {
          "model_module": "@jupyter-widgets/base",
          "model_name": "LayoutModel",
          "model_module_version": "1.2.0",
          "state": {
            "_model_module": "@jupyter-widgets/base",
            "_model_module_version": "1.2.0",
            "_model_name": "LayoutModel",
            "_view_count": null,
            "_view_module": "@jupyter-widgets/base",
            "_view_module_version": "1.2.0",
            "_view_name": "LayoutView",
            "align_content": null,
            "align_items": null,
            "align_self": null,
            "border": null,
            "bottom": null,
            "display": null,
            "flex": null,
            "flex_flow": null,
            "grid_area": null,
            "grid_auto_columns": null,
            "grid_auto_flow": null,
            "grid_auto_rows": null,
            "grid_column": null,
            "grid_gap": null,
            "grid_row": null,
            "grid_template_areas": null,
            "grid_template_columns": null,
            "grid_template_rows": null,
            "height": null,
            "justify_content": null,
            "justify_items": null,
            "left": null,
            "margin": null,
            "max_height": null,
            "max_width": null,
            "min_height": null,
            "min_width": null,
            "object_fit": null,
            "object_position": null,
            "order": null,
            "overflow": null,
            "overflow_x": null,
            "overflow_y": null,
            "padding": null,
            "right": null,
            "top": null,
            "visibility": null,
            "width": null
          }
        },
        "e3bfe93df3a2478a9cf2a581ad46198d": {
          "model_module": "@jupyter-widgets/base",
          "model_name": "LayoutModel",
          "model_module_version": "1.2.0",
          "state": {
            "_model_module": "@jupyter-widgets/base",
            "_model_module_version": "1.2.0",
            "_model_name": "LayoutModel",
            "_view_count": null,
            "_view_module": "@jupyter-widgets/base",
            "_view_module_version": "1.2.0",
            "_view_name": "LayoutView",
            "align_content": null,
            "align_items": null,
            "align_self": null,
            "border": null,
            "bottom": null,
            "display": null,
            "flex": null,
            "flex_flow": null,
            "grid_area": null,
            "grid_auto_columns": null,
            "grid_auto_flow": null,
            "grid_auto_rows": null,
            "grid_column": null,
            "grid_gap": null,
            "grid_row": null,
            "grid_template_areas": null,
            "grid_template_columns": null,
            "grid_template_rows": null,
            "height": null,
            "justify_content": null,
            "justify_items": null,
            "left": null,
            "margin": null,
            "max_height": null,
            "max_width": null,
            "min_height": null,
            "min_width": null,
            "object_fit": null,
            "object_position": null,
            "order": null,
            "overflow": null,
            "overflow_x": null,
            "overflow_y": null,
            "padding": null,
            "right": null,
            "top": null,
            "visibility": null,
            "width": null
          }
        },
        "4ca08c45f75549f38037dc85c7a47c3e": {
          "model_module": "@jupyter-widgets/controls",
          "model_name": "DescriptionStyleModel",
          "model_module_version": "1.5.0",
          "state": {
            "_model_module": "@jupyter-widgets/controls",
            "_model_module_version": "1.5.0",
            "_model_name": "DescriptionStyleModel",
            "_view_count": null,
            "_view_module": "@jupyter-widgets/base",
            "_view_module_version": "1.2.0",
            "_view_name": "StyleView",
            "description_width": ""
          }
        },
        "327acd7826454dd0b1560daf50c58f50": {
          "model_module": "@jupyter-widgets/base",
          "model_name": "LayoutModel",
          "model_module_version": "1.2.0",
          "state": {
            "_model_module": "@jupyter-widgets/base",
            "_model_module_version": "1.2.0",
            "_model_name": "LayoutModel",
            "_view_count": null,
            "_view_module": "@jupyter-widgets/base",
            "_view_module_version": "1.2.0",
            "_view_name": "LayoutView",
            "align_content": null,
            "align_items": null,
            "align_self": null,
            "border": null,
            "bottom": null,
            "display": null,
            "flex": null,
            "flex_flow": null,
            "grid_area": null,
            "grid_auto_columns": null,
            "grid_auto_flow": null,
            "grid_auto_rows": null,
            "grid_column": null,
            "grid_gap": null,
            "grid_row": null,
            "grid_template_areas": null,
            "grid_template_columns": null,
            "grid_template_rows": null,
            "height": null,
            "justify_content": null,
            "justify_items": null,
            "left": null,
            "margin": null,
            "max_height": null,
            "max_width": null,
            "min_height": null,
            "min_width": null,
            "object_fit": null,
            "object_position": null,
            "order": null,
            "overflow": null,
            "overflow_x": null,
            "overflow_y": null,
            "padding": null,
            "right": null,
            "top": null,
            "visibility": null,
            "width": null
          }
        },
        "09d088c2f51d45a08a93416330caa1b1": {
          "model_module": "@jupyter-widgets/controls",
          "model_name": "ProgressStyleModel",
          "model_module_version": "1.5.0",
          "state": {
            "_model_module": "@jupyter-widgets/controls",
            "_model_module_version": "1.5.0",
            "_model_name": "ProgressStyleModel",
            "_view_count": null,
            "_view_module": "@jupyter-widgets/base",
            "_view_module_version": "1.2.0",
            "_view_name": "StyleView",
            "bar_color": null,
            "description_width": ""
          }
        },
        "a51e036599a3469e83b349c6379f11d2": {
          "model_module": "@jupyter-widgets/base",
          "model_name": "LayoutModel",
          "model_module_version": "1.2.0",
          "state": {
            "_model_module": "@jupyter-widgets/base",
            "_model_module_version": "1.2.0",
            "_model_name": "LayoutModel",
            "_view_count": null,
            "_view_module": "@jupyter-widgets/base",
            "_view_module_version": "1.2.0",
            "_view_name": "LayoutView",
            "align_content": null,
            "align_items": null,
            "align_self": null,
            "border": null,
            "bottom": null,
            "display": null,
            "flex": null,
            "flex_flow": null,
            "grid_area": null,
            "grid_auto_columns": null,
            "grid_auto_flow": null,
            "grid_auto_rows": null,
            "grid_column": null,
            "grid_gap": null,
            "grid_row": null,
            "grid_template_areas": null,
            "grid_template_columns": null,
            "grid_template_rows": null,
            "height": null,
            "justify_content": null,
            "justify_items": null,
            "left": null,
            "margin": null,
            "max_height": null,
            "max_width": null,
            "min_height": null,
            "min_width": null,
            "object_fit": null,
            "object_position": null,
            "order": null,
            "overflow": null,
            "overflow_x": null,
            "overflow_y": null,
            "padding": null,
            "right": null,
            "top": null,
            "visibility": null,
            "width": null
          }
        },
        "05fbd0740bd242fb96a2e8b341fcbf2e": {
          "model_module": "@jupyter-widgets/controls",
          "model_name": "DescriptionStyleModel",
          "model_module_version": "1.5.0",
          "state": {
            "_model_module": "@jupyter-widgets/controls",
            "_model_module_version": "1.5.0",
            "_model_name": "DescriptionStyleModel",
            "_view_count": null,
            "_view_module": "@jupyter-widgets/base",
            "_view_module_version": "1.2.0",
            "_view_name": "StyleView",
            "description_width": ""
          }
        },
        "90e5b928790d49c39182d6c61912acd8": {
          "model_module": "@jupyter-widgets/controls",
          "model_name": "HBoxModel",
          "model_module_version": "1.5.0",
          "state": {
            "_dom_classes": [],
            "_model_module": "@jupyter-widgets/controls",
            "_model_module_version": "1.5.0",
            "_model_name": "HBoxModel",
            "_view_count": null,
            "_view_module": "@jupyter-widgets/controls",
            "_view_module_version": "1.5.0",
            "_view_name": "HBoxView",
            "box_style": "",
            "children": [
              "IPY_MODEL_b4b90d3f455f4d6e87a01d8a5f2b1253",
              "IPY_MODEL_f1b870afa53a4d42be377b445c5738dc",
              "IPY_MODEL_279991c6e5ea4a96ae979c3a7dec7fd6"
            ],
            "layout": "IPY_MODEL_53efe5fdf43b4bfda2d5524fe7711d20"
          }
        },
        "b4b90d3f455f4d6e87a01d8a5f2b1253": {
          "model_module": "@jupyter-widgets/controls",
          "model_name": "HTMLModel",
          "model_module_version": "1.5.0",
          "state": {
            "_dom_classes": [],
            "_model_module": "@jupyter-widgets/controls",
            "_model_module_version": "1.5.0",
            "_model_name": "HTMLModel",
            "_view_count": null,
            "_view_module": "@jupyter-widgets/controls",
            "_view_module_version": "1.5.0",
            "_view_name": "HTMLView",
            "description": "",
            "description_tooltip": null,
            "layout": "IPY_MODEL_edf52530092841589b7b627b0323d9d9",
            "placeholder": "​",
            "style": "IPY_MODEL_886e6d4a3af8455bbbeed7364c0e8be0",
            "value": "generation_config.json: 100%"
          }
        },
        "f1b870afa53a4d42be377b445c5738dc": {
          "model_module": "@jupyter-widgets/controls",
          "model_name": "FloatProgressModel",
          "model_module_version": "1.5.0",
          "state": {
            "_dom_classes": [],
            "_model_module": "@jupyter-widgets/controls",
            "_model_module_version": "1.5.0",
            "_model_name": "FloatProgressModel",
            "_view_count": null,
            "_view_module": "@jupyter-widgets/controls",
            "_view_module_version": "1.5.0",
            "_view_name": "ProgressView",
            "bar_style": "success",
            "description": "",
            "description_tooltip": null,
            "layout": "IPY_MODEL_f5d3af3ca9e0479cba6bf64c68e0db8b",
            "max": 124,
            "min": 0,
            "orientation": "horizontal",
            "style": "IPY_MODEL_9219dd892fb14607818ac0f6ae831eb9",
            "value": 124
          }
        },
        "279991c6e5ea4a96ae979c3a7dec7fd6": {
          "model_module": "@jupyter-widgets/controls",
          "model_name": "HTMLModel",
          "model_module_version": "1.5.0",
          "state": {
            "_dom_classes": [],
            "_model_module": "@jupyter-widgets/controls",
            "_model_module_version": "1.5.0",
            "_model_name": "HTMLModel",
            "_view_count": null,
            "_view_module": "@jupyter-widgets/controls",
            "_view_module_version": "1.5.0",
            "_view_name": "HTMLView",
            "description": "",
            "description_tooltip": null,
            "layout": "IPY_MODEL_1abf59ff3eb644fb80fa87736ac87c5b",
            "placeholder": "​",
            "style": "IPY_MODEL_9383cd22312b440b833eb82e020035c6",
            "value": " 124/124 [00:00&lt;00:00, 6.85kB/s]"
          }
        },
        "53efe5fdf43b4bfda2d5524fe7711d20": {
          "model_module": "@jupyter-widgets/base",
          "model_name": "LayoutModel",
          "model_module_version": "1.2.0",
          "state": {
            "_model_module": "@jupyter-widgets/base",
            "_model_module_version": "1.2.0",
            "_model_name": "LayoutModel",
            "_view_count": null,
            "_view_module": "@jupyter-widgets/base",
            "_view_module_version": "1.2.0",
            "_view_name": "LayoutView",
            "align_content": null,
            "align_items": null,
            "align_self": null,
            "border": null,
            "bottom": null,
            "display": null,
            "flex": null,
            "flex_flow": null,
            "grid_area": null,
            "grid_auto_columns": null,
            "grid_auto_flow": null,
            "grid_auto_rows": null,
            "grid_column": null,
            "grid_gap": null,
            "grid_row": null,
            "grid_template_areas": null,
            "grid_template_columns": null,
            "grid_template_rows": null,
            "height": null,
            "justify_content": null,
            "justify_items": null,
            "left": null,
            "margin": null,
            "max_height": null,
            "max_width": null,
            "min_height": null,
            "min_width": null,
            "object_fit": null,
            "object_position": null,
            "order": null,
            "overflow": null,
            "overflow_x": null,
            "overflow_y": null,
            "padding": null,
            "right": null,
            "top": null,
            "visibility": null,
            "width": null
          }
        },
        "edf52530092841589b7b627b0323d9d9": {
          "model_module": "@jupyter-widgets/base",
          "model_name": "LayoutModel",
          "model_module_version": "1.2.0",
          "state": {
            "_model_module": "@jupyter-widgets/base",
            "_model_module_version": "1.2.0",
            "_model_name": "LayoutModel",
            "_view_count": null,
            "_view_module": "@jupyter-widgets/base",
            "_view_module_version": "1.2.0",
            "_view_name": "LayoutView",
            "align_content": null,
            "align_items": null,
            "align_self": null,
            "border": null,
            "bottom": null,
            "display": null,
            "flex": null,
            "flex_flow": null,
            "grid_area": null,
            "grid_auto_columns": null,
            "grid_auto_flow": null,
            "grid_auto_rows": null,
            "grid_column": null,
            "grid_gap": null,
            "grid_row": null,
            "grid_template_areas": null,
            "grid_template_columns": null,
            "grid_template_rows": null,
            "height": null,
            "justify_content": null,
            "justify_items": null,
            "left": null,
            "margin": null,
            "max_height": null,
            "max_width": null,
            "min_height": null,
            "min_width": null,
            "object_fit": null,
            "object_position": null,
            "order": null,
            "overflow": null,
            "overflow_x": null,
            "overflow_y": null,
            "padding": null,
            "right": null,
            "top": null,
            "visibility": null,
            "width": null
          }
        },
        "886e6d4a3af8455bbbeed7364c0e8be0": {
          "model_module": "@jupyter-widgets/controls",
          "model_name": "DescriptionStyleModel",
          "model_module_version": "1.5.0",
          "state": {
            "_model_module": "@jupyter-widgets/controls",
            "_model_module_version": "1.5.0",
            "_model_name": "DescriptionStyleModel",
            "_view_count": null,
            "_view_module": "@jupyter-widgets/base",
            "_view_module_version": "1.2.0",
            "_view_name": "StyleView",
            "description_width": ""
          }
        },
        "f5d3af3ca9e0479cba6bf64c68e0db8b": {
          "model_module": "@jupyter-widgets/base",
          "model_name": "LayoutModel",
          "model_module_version": "1.2.0",
          "state": {
            "_model_module": "@jupyter-widgets/base",
            "_model_module_version": "1.2.0",
            "_model_name": "LayoutModel",
            "_view_count": null,
            "_view_module": "@jupyter-widgets/base",
            "_view_module_version": "1.2.0",
            "_view_name": "LayoutView",
            "align_content": null,
            "align_items": null,
            "align_self": null,
            "border": null,
            "bottom": null,
            "display": null,
            "flex": null,
            "flex_flow": null,
            "grid_area": null,
            "grid_auto_columns": null,
            "grid_auto_flow": null,
            "grid_auto_rows": null,
            "grid_column": null,
            "grid_gap": null,
            "grid_row": null,
            "grid_template_areas": null,
            "grid_template_columns": null,
            "grid_template_rows": null,
            "height": null,
            "justify_content": null,
            "justify_items": null,
            "left": null,
            "margin": null,
            "max_height": null,
            "max_width": null,
            "min_height": null,
            "min_width": null,
            "object_fit": null,
            "object_position": null,
            "order": null,
            "overflow": null,
            "overflow_x": null,
            "overflow_y": null,
            "padding": null,
            "right": null,
            "top": null,
            "visibility": null,
            "width": null
          }
        },
        "9219dd892fb14607818ac0f6ae831eb9": {
          "model_module": "@jupyter-widgets/controls",
          "model_name": "ProgressStyleModel",
          "model_module_version": "1.5.0",
          "state": {
            "_model_module": "@jupyter-widgets/controls",
            "_model_module_version": "1.5.0",
            "_model_name": "ProgressStyleModel",
            "_view_count": null,
            "_view_module": "@jupyter-widgets/base",
            "_view_module_version": "1.2.0",
            "_view_name": "StyleView",
            "bar_color": null,
            "description_width": ""
          }
        },
        "1abf59ff3eb644fb80fa87736ac87c5b": {
          "model_module": "@jupyter-widgets/base",
          "model_name": "LayoutModel",
          "model_module_version": "1.2.0",
          "state": {
            "_model_module": "@jupyter-widgets/base",
            "_model_module_version": "1.2.0",
            "_model_name": "LayoutModel",
            "_view_count": null,
            "_view_module": "@jupyter-widgets/base",
            "_view_module_version": "1.2.0",
            "_view_name": "LayoutView",
            "align_content": null,
            "align_items": null,
            "align_self": null,
            "border": null,
            "bottom": null,
            "display": null,
            "flex": null,
            "flex_flow": null,
            "grid_area": null,
            "grid_auto_columns": null,
            "grid_auto_flow": null,
            "grid_auto_rows": null,
            "grid_column": null,
            "grid_gap": null,
            "grid_row": null,
            "grid_template_areas": null,
            "grid_template_columns": null,
            "grid_template_rows": null,
            "height": null,
            "justify_content": null,
            "justify_items": null,
            "left": null,
            "margin": null,
            "max_height": null,
            "max_width": null,
            "min_height": null,
            "min_width": null,
            "object_fit": null,
            "object_position": null,
            "order": null,
            "overflow": null,
            "overflow_x": null,
            "overflow_y": null,
            "padding": null,
            "right": null,
            "top": null,
            "visibility": null,
            "width": null
          }
        },
        "9383cd22312b440b833eb82e020035c6": {
          "model_module": "@jupyter-widgets/controls",
          "model_name": "DescriptionStyleModel",
          "model_module_version": "1.5.0",
          "state": {
            "_model_module": "@jupyter-widgets/controls",
            "_model_module_version": "1.5.0",
            "_model_name": "DescriptionStyleModel",
            "_view_count": null,
            "_view_module": "@jupyter-widgets/base",
            "_view_module_version": "1.2.0",
            "_view_name": "StyleView",
            "description_width": ""
          }
        }
      }
    }
  },
  "nbformat": 4,
  "nbformat_minor": 0
}